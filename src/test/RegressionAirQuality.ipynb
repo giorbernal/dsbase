{
 "cells": [
  {
   "cell_type": "markdown",
   "metadata": {},
   "source": [
    "# Regression: Testing Predictive Models for Air Quality"
   ]
  },
  {
   "cell_type": "code",
   "execution_count": 1,
   "metadata": {
    "collapsed": true
   },
   "outputs": [],
   "source": [
    "import sys\n",
    "import numpy as np\n",
    "import pandas as pd\n",
    "import matplotlib.pyplot as plt\n",
    "%matplotlib inline"
   ]
  },
  {
   "cell_type": "code",
   "execution_count": 2,
   "metadata": {
    "collapsed": true
   },
   "outputs": [],
   "source": [
    "sys.path.append('../main')"
   ]
  },
  {
   "cell_type": "code",
   "execution_count": 3,
   "metadata": {
    "collapsed": true
   },
   "outputs": [],
   "source": [
    "from sklearn.model_selection import train_test_split\n",
    "from ModelDSBase import ModelDSBaseWrapper"
   ]
  },
  {
   "cell_type": "code",
   "execution_count": 4,
   "metadata": {
    "collapsed": true
   },
   "outputs": [],
   "source": [
    "df = pd.read_csv('../../datasets/clean_airQuality.csv')"
   ]
  },
  {
   "cell_type": "code",
   "execution_count": 5,
   "metadata": {
    "collapsed": true
   },
   "outputs": [],
   "source": [
    "X = df.drop(['Unnamed: 0','timestamp','month','seasson','C6H6(GT)','PT08.S4(NO2)'], axis=1).values\n",
    "y = df['PT08.S4(NO2)'].values"
   ]
  },
  {
   "cell_type": "markdown",
   "metadata": {},
   "source": [
    "## Linear Regression"
   ]
  },
  {
   "cell_type": "code",
   "execution_count": 6,
   "metadata": {
    "collapsed": true
   },
   "outputs": [],
   "source": [
    "from LinealRegressionDSBase import LinealRegressionDSBaseModel\n",
    "from LinealRegressionDSBase import LinealRegressionDSBaseParamsToMap"
   ]
  },
  {
   "cell_type": "code",
   "execution_count": 7,
   "metadata": {},
   "outputs": [
    {
     "name": "stdout",
     "output_type": "stream",
     "text": [
      "X size:(6503, 10)\n",
      "y size:(6503,)\n",
      "initiating model LR0. LinearRegression\n",
      "initiating model LR1. LinearRegression\n",
      "initiating model LR2. LinearRegression\n",
      "initiating model LR3. LinearRegression\n",
      "initiating model LR4. LinearRegression\n",
      "initiating model LR5. LinearRegression\n",
      "initiating model LR6. LinearRegression\n",
      "initiating model LR7. LinearRegression\n",
      "initiating model LR8. LinearRegression\n",
      "initiating model LR9. LinearRegression\n",
      "initiating model LR10. LinearRegression\n",
      "initiating model LR11. LinearRegression\n",
      "initiating model LR12. LinearRegression\n",
      "initiating model LR13. LinearRegression\n",
      "initiating model LR14. LinearRegression\n",
      "initiating model LR15. LinearRegression\n",
      "initiating model LR16. LinearRegression\n"
     ]
    }
   ],
   "source": [
    "params = LinealRegressionDSBaseParamsToMap()\n",
    "lr = ModelDSBaseWrapper('LR',X,y,[20,25,30,35,40,45,50,55,60,65,70,75,80,85,90,95,100],0.3,LinealRegressionDSBaseModel,params,splitter=train_test_split)"
   ]
  },
  {
   "cell_type": "code",
   "execution_count": 8,
   "metadata": {},
   "outputs": [
    {
     "name": "stdout",
     "output_type": "stream",
     "text": [
      "training model LR0. LinearRegression\n",
      "training model LR1. LinearRegression\n",
      "training model LR2. LinearRegression\n",
      "training model LR3. LinearRegression\n",
      "training model LR4. LinearRegression\n",
      "training model LR5. LinearRegression\n",
      "training model LR6. LinearRegression\n",
      "training model LR7. LinearRegression\n",
      "training model LR8. LinearRegression\n",
      "training model LR9. LinearRegression\n",
      "training model LR10. LinearRegression\n",
      "training model LR11. LinearRegression\n",
      "training model LR12. LinearRegression\n",
      "training model LR13. LinearRegression\n",
      "training model LR14. LinearRegression\n",
      "training model LR15. LinearRegression\n",
      "training model LR16. LinearRegression\n"
     ]
    }
   ],
   "source": [
    "lr.train()"
   ]
  },
  {
   "cell_type": "code",
   "execution_count": 9,
   "metadata": {
    "collapsed": true
   },
   "outputs": [],
   "source": [
    "lc1 = lr.getLearningCurves()"
   ]
  },
  {
   "cell_type": "code",
   "execution_count": 10,
   "metadata": {},
   "outputs": [
    {
     "data": {
      "text/plain": [
       "[<matplotlib.lines.Line2D at 0x1a0a5dbd30>,\n",
       " <matplotlib.lines.Line2D at 0x1a0a5e9240>]"
      ]
     },
     "execution_count": 10,
     "metadata": {},
     "output_type": "execute_result"
    },
    {
     "data": {
      "image/png": "[encoded data removed]",
      "text/plain": [
       "<matplotlib.figure.Figure at 0x1a0afd3048>"
      ]
     },
     "metadata": {},
     "output_type": "display_data"
    }
   ],
   "source": [
    "plt.plot(lc1[0,:],'b',lc1[1,:],'r')"
   ]
  },
  {
   "cell_type": "code",
   "execution_count": 11,
   "metadata": {},
   "outputs": [
    {
     "data": {
      "text/plain": [
       "0.95571828653804047"
      ]
     },
     "execution_count": 11,
     "metadata": {},
     "output_type": "execute_result"
    }
   ],
   "source": [
    "lr.getScore()"
   ]
  },
  {
   "cell_type": "code",
   "execution_count": 12,
   "metadata": {},
   "outputs": [
    {
     "name": "stdout",
     "output_type": "stream",
     "text": [
      "saving model: model_persistance/LinearRegression_LR16.sav\n"
     ]
    }
   ],
   "source": [
    "lr.save()"
   ]
  },
  {
   "cell_type": "code",
   "execution_count": 13,
   "metadata": {},
   "outputs": [],
   "source": [
    "lr.close()"
   ]
  },
  {
   "cell_type": "code",
   "execution_count": 14,
   "metadata": {},
   "outputs": [
    {
     "name": "stdout",
     "output_type": "stream",
     "text": [
      "initiating empty model LR16. LinearRegression\n"
     ]
    }
   ],
   "source": [
    "recoveredLrm = LinealRegressionDSBaseModel('LR16',None,None,None,None,None,None)"
   ]
  },
  {
   "cell_type": "code",
   "execution_count": 15,
   "metadata": {},
   "outputs": [
    {
     "name": "stdout",
     "output_type": "stream",
     "text": [
      "loading model: model_persistance/LinearRegression_LR16.sav\n"
     ]
    }
   ],
   "source": [
    "recoveredLrm.load()"
   ]
  },
  {
   "cell_type": "code",
   "execution_count": 16,
   "metadata": {},
   "outputs": [
    {
     "name": "stdout",
     "output_type": "stream",
     "text": [
      "predicting model LR16. LinearRegression\n"
     ]
    },
    {
     "data": {
      "text/plain": [
       "array([ 1634.11951188,  1701.07139373])"
      ]
     },
     "execution_count": 16,
     "metadata": {},
     "output_type": "execute_result"
    }
   ],
   "source": [
    "recoveredLrm.predict(X[1000:1002,:])"
   ]
  },
  {
   "cell_type": "code",
   "execution_count": 17,
   "metadata": {},
   "outputs": [
    {
     "data": {
      "text/plain": [
       "array([ 1748.,  1797.])"
      ]
     },
     "execution_count": 17,
     "metadata": {},
     "output_type": "execute_result"
    }
   ],
   "source": [
    "y[1000:1002]"
   ]
  },
  {
   "cell_type": "code",
   "execution_count": 18,
   "metadata": {
    "collapsed": true
   },
   "outputs": [],
   "source": [
    "recoveredLrm.close()"
   ]
  },
  {
   "cell_type": "markdown",
   "metadata": {
    "collapsed": true
   },
   "source": [
    "## Randon Forest Regression"
   ]
  },
  {
   "cell_type": "code",
   "execution_count": 19,
   "metadata": {
    "collapsed": true
   },
   "outputs": [],
   "source": [
    "from RandomForestRegressionDSBase import RandomForestRegressionDSBaseModel\n",
    "from RandomForestRegressionDSBase import RandomForestRegressionDSBaseParamsToMap"
   ]
  },
  {
   "cell_type": "code",
   "execution_count": 20,
   "metadata": {},
   "outputs": [
    {
     "name": "stdout",
     "output_type": "stream",
     "text": [
      "X size:(6503, 10)\n",
      "y size:(6503,)\n",
      "initiating model RFR0. RandomForestRegressor\n",
      "initiating model RFR1. RandomForestRegressor\n",
      "initiating model RFR2. RandomForestRegressor\n",
      "initiating model RFR3. RandomForestRegressor\n",
      "initiating model RFR4. RandomForestRegressor\n",
      "initiating model RFR5. RandomForestRegressor\n",
      "initiating model RFR6. RandomForestRegressor\n",
      "initiating model RFR7. RandomForestRegressor\n",
      "initiating model RFR8. RandomForestRegressor\n",
      "initiating model RFR9. RandomForestRegressor\n",
      "initiating model RFR10. RandomForestRegressor\n",
      "initiating model RFR11. RandomForestRegressor\n",
      "initiating model RFR12. RandomForestRegressor\n",
      "initiating model RFR13. RandomForestRegressor\n",
      "initiating model RFR14. RandomForestRegressor\n",
      "initiating model RFR15. RandomForestRegressor\n",
      "initiating model RFR16. RandomForestRegressor\n"
     ]
    }
   ],
   "source": [
    "params = RandomForestRegressionDSBaseParamsToMap(max_depth=10, n_estimators=100)\n",
    "rfr = ModelDSBaseWrapper('RFR',X,y,[20,25,30,35,40,45,50,55,60,65,70,75,80,85,90,95,100],0.3,RandomForestRegressionDSBaseModel,params,splitter=train_test_split)"
   ]
  },
  {
   "cell_type": "code",
   "execution_count": 21,
   "metadata": {},
   "outputs": [
    {
     "name": "stdout",
     "output_type": "stream",
     "text": [
      "training model RFR0. RandomForestRegressor\n",
      "training model RFR1. RandomForestRegressor\n",
      "training model RFR2. RandomForestRegressor\n",
      "training model RFR3. RandomForestRegressor\n",
      "training model RFR4. RandomForestRegressor\n",
      "training model RFR5. RandomForestRegressor\n",
      "training model RFR6. RandomForestRegressor\n",
      "training model RFR7. RandomForestRegressor\n",
      "training model RFR8. RandomForestRegressor\n",
      "training model RFR9. RandomForestRegressor\n",
      "training model RFR10. RandomForestRegressor\n",
      "training model RFR11. RandomForestRegressor\n",
      "training model RFR12. RandomForestRegressor\n",
      "training model RFR13. RandomForestRegressor\n",
      "training model RFR14. RandomForestRegressor\n",
      "training model RFR15. RandomForestRegressor\n",
      "training model RFR16. RandomForestRegressor\n"
     ]
    }
   ],
   "source": [
    "rfr.train()"
   ]
  },
  {
   "cell_type": "code",
   "execution_count": 22,
   "metadata": {
    "collapsed": true
   },
   "outputs": [],
   "source": [
    "lc2 = rfr.getLearningCurves()"
   ]
  },
  {
   "cell_type": "code",
   "execution_count": 23,
   "metadata": {},
   "outputs": [
    {
     "data": {
      "text/plain": [
       "[<matplotlib.lines.Line2D at 0x1a1757e630>,\n",
       " <matplotlib.lines.Line2D at 0x1a1757eac8>]"
      ]
     },
     "execution_count": 23,
     "metadata": {},
     "output_type": "execute_result"
    },
    {
     "data": {
      "image/png": "[encoded data removed]",
      "text/plain": [
       "<matplotlib.figure.Figure at 0x1a1747b588>"
      ]
     },
     "metadata": {},
     "output_type": "display_data"
    }
   ],
   "source": [
    "plt.plot(lc2[0,:],'b',lc2[1,:],'r')"
   ]
  },
  {
   "cell_type": "code",
   "execution_count": 24,
   "metadata": {},
   "outputs": [
    {
     "data": {
      "text/plain": [
       "0.97410537538765318"
      ]
     },
     "execution_count": 24,
     "metadata": {},
     "output_type": "execute_result"
    }
   ],
   "source": [
    "rfr.getScore()"
   ]
  },
  {
   "cell_type": "code",
   "execution_count": 25,
   "metadata": {},
   "outputs": [
    {
     "name": "stdout",
     "output_type": "stream",
     "text": [
      "saving model: model_persistance/RandomForestRegressor_RFR16.sav\n"
     ]
    }
   ],
   "source": [
    "rfr.save()"
   ]
  },
  {
   "cell_type": "code",
   "execution_count": 26,
   "metadata": {
    "collapsed": true
   },
   "outputs": [],
   "source": [
    "rfr.close()"
   ]
  },
  {
   "cell_type": "code",
   "execution_count": 27,
   "metadata": {},
   "outputs": [
    {
     "name": "stdout",
     "output_type": "stream",
     "text": [
      "initiating empty model RFR16. RandomForestRegressor\n"
     ]
    }
   ],
   "source": [
    "recoveredRfm = RandomForestRegressionDSBaseModel('RFR16',None,None,None,None,None,None)"
   ]
  },
  {
   "cell_type": "code",
   "execution_count": 28,
   "metadata": {},
   "outputs": [
    {
     "name": "stdout",
     "output_type": "stream",
     "text": [
      "loading model: model_persistance/RandomForestRegressor_RFR16.sav\n"
     ]
    }
   ],
   "source": [
    "recoveredRfm.load()"
   ]
  },
  {
   "cell_type": "code",
   "execution_count": 29,
   "metadata": {},
   "outputs": [
    {
     "name": "stdout",
     "output_type": "stream",
     "text": [
      "predicting model RFR16. RandomForestRegressor\n"
     ]
    },
    {
     "data": {
      "text/plain": [
       "array([ 1711.74106647,  1746.28424501])"
      ]
     },
     "execution_count": 29,
     "metadata": {},
     "output_type": "execute_result"
    }
   ],
   "source": [
    "recoveredRfm.predict(X[1000:1002,:])"
   ]
  },
  {
   "cell_type": "code",
   "execution_count": 30,
   "metadata": {},
   "outputs": [
    {
     "data": {
      "text/plain": [
       "array([ 1748.,  1797.])"
      ]
     },
     "execution_count": 30,
     "metadata": {},
     "output_type": "execute_result"
    }
   ],
   "source": [
    "y[1000:1002]"
   ]
  },
  {
   "cell_type": "code",
   "execution_count": 31,
   "metadata": {
    "collapsed": true
   },
   "outputs": [],
   "source": [
    "recoveredRfm.close()"
   ]
  },
  {
   "cell_type": "markdown",
   "metadata": {
    "collapsed": true
   },
   "source": [
    "# Gradient Boosting Regression"
   ]
  },
  {
   "cell_type": "code",
   "execution_count": 32,
   "metadata": {
    "collapsed": true
   },
   "outputs": [],
   "source": [
    "from GradientBoostingRegressionDSBase import GradientBoostingRegressionDSBaseModel\n",
    "from GradientBoostingRegressionDSBase import GradientBoostingRegressionDSBaseParamsToMap"
   ]
  },
  {
   "cell_type": "code",
   "execution_count": 33,
   "metadata": {},
   "outputs": [
    {
     "name": "stdout",
     "output_type": "stream",
     "text": [
      "X size:(6503, 10)\n",
      "y size:(6503,)\n",
      "initiating model GBR0. GradientBoostingRegressor\n",
      "initiating model GBR1. GradientBoostingRegressor\n",
      "initiating model GBR2. GradientBoostingRegressor\n",
      "initiating model GBR3. GradientBoostingRegressor\n",
      "initiating model GBR4. GradientBoostingRegressor\n",
      "initiating model GBR5. GradientBoostingRegressor\n",
      "initiating model GBR6. GradientBoostingRegressor\n",
      "initiating model GBR7. GradientBoostingRegressor\n",
      "initiating model GBR8. GradientBoostingRegressor\n",
      "initiating model GBR9. GradientBoostingRegressor\n",
      "initiating model GBR10. GradientBoostingRegressor\n",
      "initiating model GBR11. GradientBoostingRegressor\n",
      "initiating model GBR12. GradientBoostingRegressor\n",
      "initiating model GBR13. GradientBoostingRegressor\n",
      "initiating model GBR14. GradientBoostingRegressor\n",
      "initiating model GBR15. GradientBoostingRegressor\n",
      "initiating model GBR16. GradientBoostingRegressor\n"
     ]
    }
   ],
   "source": [
    "params = GradientBoostingRegressionDSBaseParamsToMap(max_depth=5, n_estimators=75)\n",
    "gbr = ModelDSBaseWrapper('GBR',X,y,[20,25,30,35,40,45,50,55,60,65,70,75,80,85,90,95,100],0.3,GradientBoostingRegressionDSBaseModel,params,splitter=train_test_split)"
   ]
  },
  {
   "cell_type": "code",
   "execution_count": 34,
   "metadata": {},
   "outputs": [
    {
     "name": "stdout",
     "output_type": "stream",
     "text": [
      "training model GBR0. GradientBoostingRegressor\n",
      "training model GBR1. GradientBoostingRegressor\n",
      "training model GBR2. GradientBoostingRegressor\n",
      "training model GBR3. GradientBoostingRegressor\n",
      "training model GBR4. GradientBoostingRegressor\n",
      "training model GBR5. GradientBoostingRegressor\n",
      "training model GBR6. GradientBoostingRegressor\n",
      "training model GBR7. GradientBoostingRegressor\n",
      "training model GBR8. GradientBoostingRegressor\n",
      "training model GBR9. GradientBoostingRegressor\n",
      "training model GBR10. GradientBoostingRegressor\n",
      "training model GBR11. GradientBoostingRegressor\n",
      "training model GBR12. GradientBoostingRegressor\n",
      "training model GBR13. GradientBoostingRegressor\n",
      "training model GBR14. GradientBoostingRegressor\n",
      "training model GBR15. GradientBoostingRegressor\n",
      "training model GBR16. GradientBoostingRegressor\n"
     ]
    }
   ],
   "source": [
    "gbr.train()"
   ]
  },
  {
   "cell_type": "code",
   "execution_count": 35,
   "metadata": {
    "collapsed": true
   },
   "outputs": [],
   "source": [
    "lc3=gbr.getLearningCurves()"
   ]
  },
  {
   "cell_type": "code",
   "execution_count": 36,
   "metadata": {},
   "outputs": [
    {
     "data": {
      "text/plain": [
       "[<matplotlib.lines.Line2D at 0x1a17b5ba58>,\n",
       " <matplotlib.lines.Line2D at 0x1a17b5bba8>]"
      ]
     },
     "execution_count": 36,
     "metadata": {},
     "output_type": "execute_result"
    },
    {
     "data": {
      "image/png": "[encoded data removed]",
      "text/plain": [
       "<matplotlib.figure.Figure at 0x1a17ae59b0>"
      ]
     },
     "metadata": {},
     "output_type": "display_data"
    }
   ],
   "source": [
    "plt.plot(lc3[0,:],'b',lc3[1,:],'r')"
   ]
  },
  {
   "cell_type": "code",
   "execution_count": 37,
   "metadata": {},
   "outputs": [
    {
     "data": {
      "text/plain": [
       "array([ 0.08111281,  0.2488106 ,  0.10856632,  0.09466826,  0.05376207,\n",
       "        0.04445447,  0.02617662,  0.06702861,  0.25840555,  0.01701469])"
      ]
     },
     "execution_count": 37,
     "metadata": {},
     "output_type": "execute_result"
    }
   ],
   "source": [
    "gbr.model.model.feature_importances_"
   ]
  },
  {
   "cell_type": "code",
   "execution_count": 38,
   "metadata": {},
   "outputs": [
    {
     "data": {
      "text/plain": [
       "0.97724218910040528"
      ]
     },
     "execution_count": 38,
     "metadata": {},
     "output_type": "execute_result"
    }
   ],
   "source": [
    "gbr.getScore()"
   ]
  },
  {
   "cell_type": "code",
   "execution_count": 39,
   "metadata": {},
   "outputs": [
    {
     "name": "stdout",
     "output_type": "stream",
     "text": [
      "saving model: model_persistance/GradientBoostingRegressor_GBR16.sav\n"
     ]
    }
   ],
   "source": [
    "gbr.save()"
   ]
  },
  {
   "cell_type": "code",
   "execution_count": 40,
   "metadata": {
    "collapsed": true
   },
   "outputs": [],
   "source": [
    "gbr.close()"
   ]
  },
  {
   "cell_type": "code",
   "execution_count": 41,
   "metadata": {},
   "outputs": [
    {
     "name": "stdout",
     "output_type": "stream",
     "text": [
      "initiating empty model GBR16. GradientBoostingRegressor\n"
     ]
    }
   ],
   "source": [
    "recoveredGbr = GradientBoostingRegressionDSBaseModel('GBR16',None,None,None,None,None,None)"
   ]
  },
  {
   "cell_type": "code",
   "execution_count": 42,
   "metadata": {},
   "outputs": [
    {
     "name": "stdout",
     "output_type": "stream",
     "text": [
      "loading model: model_persistance/GradientBoostingRegressor_GBR16.sav\n"
     ]
    }
   ],
   "source": [
    "recoveredGbr.load()"
   ]
  },
  {
   "cell_type": "code",
   "execution_count": 43,
   "metadata": {},
   "outputs": [
    {
     "name": "stdout",
     "output_type": "stream",
     "text": [
      "predicting model GBR16. GradientBoostingRegressor\n"
     ]
    },
    {
     "data": {
      "text/plain": [
       "array([ 1714.58127165,  1749.800249  ])"
      ]
     },
     "execution_count": 43,
     "metadata": {},
     "output_type": "execute_result"
    }
   ],
   "source": [
    "recoveredGbr.predict(X[1000:1002,:])"
   ]
  },
  {
   "cell_type": "code",
   "execution_count": 44,
   "metadata": {},
   "outputs": [
    {
     "data": {
      "text/plain": [
       "array([ 1748.,  1797.])"
      ]
     },
     "execution_count": 44,
     "metadata": {},
     "output_type": "execute_result"
    }
   ],
   "source": [
    "y[1000:1002]"
   ]
  },
  {
   "cell_type": "code",
   "execution_count": 45,
   "metadata": {
    "collapsed": true
   },
   "outputs": [],
   "source": [
    "recoveredGbr.close()"
   ]
  },
  {
   "cell_type": "markdown",
   "metadata": {},
   "source": [
    "# DNN Regression"
   ]
  },
  {
   "cell_type": "code",
   "execution_count": 46,
   "metadata": {
    "collapsed": true
   },
   "outputs": [],
   "source": [
    "from DNNRegressionDSBase import DNNRegressionDSBaseModel\n",
    "from DNNRegressionDSBase import DNNRegressionDSBaseParamsToMap"
   ]
  },
  {
   "cell_type": "code",
   "execution_count": 59,
   "metadata": {},
   "outputs": [
    {
     "name": "stdout",
     "output_type": "stream",
     "text": [
      "X size:(6503, 10)\n",
      "y size:(6503,)\n",
      "initiating model DNNR0. DNNRegression\n",
      "initiating model DNNR1. DNNRegression\n",
      "initiating model DNNR2. DNNRegression\n",
      "initiating model DNNR3. DNNRegression\n",
      "initiating model DNNR4. DNNRegression\n",
      "initiating model DNNR5. DNNRegression\n",
      "initiating model DNNR6. DNNRegression\n",
      "initiating model DNNR7. DNNRegression\n",
      "initiating model DNNR8. DNNRegression\n"
     ]
    }
   ],
   "source": [
    "params = DNNRegressionDSBaseParamsToMap(layers=[7,5,3], alpha=6e-2, epochs=10)\n",
    "dnnr = ModelDSBaseWrapper('DNNR',X,y,[20,30,40,50,60,70,80,90,100],0.3,DNNRegressionDSBaseModel,params,splitter=train_test_split)"
   ]
  },
  {
   "cell_type": "code",
   "execution_count": 60,
   "metadata": {},
   "outputs": [
    {
     "name": "stdout",
     "output_type": "stream",
     "text": [
      "training model DNNR0. DNNRegression\n",
      "epoch 0. batch / n_batches: 0 / 7 cost: 0.0849638\n",
      "epoch 1. batch / n_batches: 0 / 7 cost: 0.0437707\n",
      "epoch 2. batch / n_batches: 0 / 7 cost: 0.0319331\n",
      "epoch 3. batch / n_batches: 0 / 7 cost: 0.0389866\n",
      "epoch 4. batch / n_batches: 0 / 7 cost: 0.0266424\n",
      "epoch 5. batch / n_batches: 0 / 7 cost: 0.0247093\n",
      "epoch 6. batch / n_batches: 0 / 7 cost: 0.0221065\n",
      "epoch 7. batch / n_batches: 0 / 7 cost: 0.0136406\n",
      "epoch 8. batch / n_batches: 0 / 7 cost: 0.00676549\n",
      "epoch 9. batch / n_batches: 0 / 7 cost: 0.00574206\n",
      "training model DNNR1. DNNRegression\n",
      "epoch 0. batch / n_batches: 0 / 10 cost: 0.0683895\n",
      "epoch 1. batch / n_batches: 0 / 10 cost: 0.031923\n",
      "epoch 2. batch / n_batches: 0 / 10 cost: 0.0339025\n",
      "epoch 3. batch / n_batches: 0 / 10 cost: 0.031308\n",
      "epoch 4. batch / n_batches: 0 / 10 cost: 0.0326341\n",
      "epoch 5. batch / n_batches: 0 / 10 cost: 0.0315015\n",
      "epoch 6. batch / n_batches: 0 / 10 cost: 0.0323023\n",
      "epoch 7. batch / n_batches: 0 / 10 cost: 0.0317465\n",
      "epoch 8. batch / n_batches: 0 / 10 cost: 0.0320624\n",
      "epoch 9. batch / n_batches: 0 / 10 cost: 0.0319962\n",
      "training model DNNR2. DNNRegression\n",
      "epoch 0. batch / n_batches: 0 / 14 cost: 0.13098\n",
      "epoch 0. batch / n_batches: 10 / 14 cost: 0.0299436\n",
      "epoch 1. batch / n_batches: 0 / 14 cost: 0.0427726\n",
      "epoch 1. batch / n_batches: 10 / 14 cost: 0.0302891\n",
      "epoch 2. batch / n_batches: 0 / 14 cost: 0.0346924\n",
      "epoch 2. batch / n_batches: 10 / 14 cost: 0.026612\n",
      "epoch 3. batch / n_batches: 0 / 14 cost: 0.0269225\n",
      "epoch 3. batch / n_batches: 10 / 14 cost: 0.0144804\n",
      "epoch 4. batch / n_batches: 0 / 14 cost: 0.0134366\n",
      "epoch 4. batch / n_batches: 10 / 14 cost: 0.00687701\n",
      "epoch 5. batch / n_batches: 0 / 14 cost: 0.00760415\n",
      "epoch 5. batch / n_batches: 10 / 14 cost: 0.00410284\n",
      "epoch 6. batch / n_batches: 0 / 14 cost: 0.00494632\n",
      "epoch 6. batch / n_batches: 10 / 14 cost: 0.00293372\n",
      "epoch 7. batch / n_batches: 0 / 14 cost: 0.00339823\n",
      "epoch 7. batch / n_batches: 10 / 14 cost: 0.00212055\n",
      "epoch 8. batch / n_batches: 0 / 14 cost: 0.00253532\n",
      "epoch 8. batch / n_batches: 10 / 14 cost: 0.0017736\n",
      "epoch 9. batch / n_batches: 0 / 14 cost: 0.00199151\n",
      "epoch 9. batch / n_batches: 10 / 14 cost: 0.00154288\n",
      "training model DNNR3. DNNRegression\n",
      "epoch 0. batch / n_batches: 0 / 17 cost: 0.0667704\n",
      "epoch 0. batch / n_batches: 10 / 17 cost: 0.03104\n",
      "epoch 1. batch / n_batches: 0 / 17 cost: 0.0270853\n",
      "epoch 1. batch / n_batches: 10 / 17 cost: 0.0272422\n",
      "epoch 2. batch / n_batches: 0 / 17 cost: 0.0252176\n",
      "epoch 2. batch / n_batches: 10 / 17 cost: 0.0218005\n",
      "epoch 3. batch / n_batches: 0 / 17 cost: 0.0142612\n",
      "epoch 3. batch / n_batches: 10 / 17 cost: 0.00877613\n",
      "epoch 4. batch / n_batches: 0 / 17 cost: 0.00510149\n",
      "epoch 4. batch / n_batches: 10 / 17 cost: 0.00583347\n",
      "epoch 5. batch / n_batches: 0 / 17 cost: 0.00352885\n",
      "epoch 5. batch / n_batches: 10 / 17 cost: 0.00430489\n",
      "epoch 6. batch / n_batches: 0 / 17 cost: 0.00266312\n",
      "epoch 6. batch / n_batches: 10 / 17 cost: 0.00366512\n",
      "epoch 7. batch / n_batches: 0 / 17 cost: 0.00227463\n",
      "epoch 7. batch / n_batches: 10 / 17 cost: 0.00370585\n",
      "epoch 8. batch / n_batches: 0 / 17 cost: 0.00215132\n",
      "epoch 8. batch / n_batches: 10 / 17 cost: 0.00336506\n",
      "epoch 9. batch / n_batches: 0 / 17 cost: 0.00224191\n",
      "epoch 9. batch / n_batches: 10 / 17 cost: 0.00283965\n",
      "training model DNNR4. DNNRegression\n",
      "epoch 0. batch / n_batches: 0 / 21 cost: 0.0321765\n",
      "epoch 0. batch / n_batches: 10 / 21 cost: 0.037272\n",
      "epoch 0. batch / n_batches: 20 / 21 cost: 0.0344291\n",
      "epoch 1. batch / n_batches: 0 / 21 cost: 0.0270993\n",
      "epoch 1. batch / n_batches: 10 / 21 cost: 0.0341492\n",
      "epoch 1. batch / n_batches: 20 / 21 cost: 0.0291654\n",
      "epoch 2. batch / n_batches: 0 / 21 cost: 0.0229017\n",
      "epoch 2. batch / n_batches: 10 / 21 cost: 0.0156697\n",
      "epoch 2. batch / n_batches: 20 / 21 cost: 0.0103503\n",
      "epoch 3. batch / n_batches: 0 / 21 cost: 0.00904475\n",
      "epoch 3. batch / n_batches: 10 / 21 cost: 0.00790467\n",
      "epoch 3. batch / n_batches: 20 / 21 cost: 0.00691925\n",
      "epoch 4. batch / n_batches: 0 / 21 cost: 0.00618584\n",
      "epoch 4. batch / n_batches: 10 / 21 cost: 0.00559234\n",
      "epoch 4. batch / n_batches: 20 / 21 cost: 0.00561066\n",
      "epoch 5. batch / n_batches: 0 / 21 cost: 0.00480102\n",
      "epoch 5. batch / n_batches: 10 / 21 cost: 0.00451452\n",
      "epoch 5. batch / n_batches: 20 / 21 cost: 0.00487019\n",
      "epoch 6. batch / n_batches: 0 / 21 cost: 0.00447764\n",
      "epoch 6. batch / n_batches: 10 / 21 cost: 0.00395374\n",
      "epoch 6. batch / n_batches: 20 / 21 cost: 0.00442169\n",
      "epoch 7. batch / n_batches: 0 / 21 cost: 0.00407205\n",
      "epoch 7. batch / n_batches: 10 / 21 cost: 0.00333523\n",
      "epoch 7. batch / n_batches: 20 / 21 cost: 0.00416893\n",
      "epoch 8. batch / n_batches: 0 / 21 cost: 0.0037144\n",
      "epoch 8. batch / n_batches: 10 / 21 cost: 0.00341085\n",
      "epoch 8. batch / n_batches: 20 / 21 cost: 0.00395553\n",
      "epoch 9. batch / n_batches: 0 / 21 cost: 0.00379194\n",
      "epoch 9. batch / n_batches: 10 / 21 cost: 0.00323386\n",
      "epoch 9. batch / n_batches: 20 / 21 cost: 0.0036943\n",
      "training model DNNR5. DNNRegression\n",
      "epoch 0. batch / n_batches: 0 / 24 cost: 0.0482355\n",
      "epoch 0. batch / n_batches: 10 / 24 cost: 0.0360899\n",
      "epoch 0. batch / n_batches: 20 / 24 cost: 0.0301824\n",
      "epoch 1. batch / n_batches: 0 / 24 cost: 0.023131\n",
      "epoch 1. batch / n_batches: 10 / 24 cost: 0.0246953\n",
      "epoch 1. batch / n_batches: 20 / 24 cost: 0.0226337\n",
      "epoch 2. batch / n_batches: 0 / 24 cost: 0.017456\n",
      "epoch 2. batch / n_batches: 10 / 24 cost: 0.015399\n",
      "epoch 2. batch / n_batches: 20 / 24 cost: 0.00858052\n",
      "epoch 3. batch / n_batches: 0 / 24 cost: 0.00919223\n",
      "epoch 3. batch / n_batches: 10 / 24 cost: 0.00712446\n",
      "epoch 3. batch / n_batches: 20 / 24 cost: 0.00510306\n",
      "epoch 4. batch / n_batches: 0 / 24 cost: 0.00623378\n",
      "epoch 4. batch / n_batches: 10 / 24 cost: 0.00487263\n",
      "epoch 4. batch / n_batches: 20 / 24 cost: 0.00417762\n",
      "epoch 5. batch / n_batches: 0 / 24 cost: 0.00499256\n",
      "epoch 5. batch / n_batches: 10 / 24 cost: 0.0035894\n",
      "epoch 5. batch / n_batches: 20 / 24 cost: 0.00334431\n",
      "epoch 6. batch / n_batches: 0 / 24 cost: 0.00403629\n",
      "epoch 6. batch / n_batches: 10 / 24 cost: 0.00275613\n",
      "epoch 6. batch / n_batches: 20 / 24 cost: 0.00254351\n",
      "epoch 7. batch / n_batches: 0 / 24 cost: 0.00328156\n",
      "epoch 7. batch / n_batches: 10 / 24 cost: 0.00229352\n",
      "epoch 7. batch / n_batches: 20 / 24 cost: 0.00206123\n",
      "epoch 8. batch / n_batches: 0 / 24 cost: 0.00285295\n",
      "epoch 8. batch / n_batches: 10 / 24 cost: 0.00200064\n",
      "epoch 8. batch / n_batches: 20 / 24 cost: 0.00182753\n",
      "epoch 9. batch / n_batches: 0 / 24 cost: 0.0027479\n",
      "epoch 9. batch / n_batches: 10 / 24 cost: 0.0018454\n",
      "epoch 9. batch / n_batches: 20 / 24 cost: 0.00166077\n",
      "training model DNNR6. DNNRegression\n",
      "epoch 0. batch / n_batches: 0 / 28 cost: 0.134277\n",
      "epoch 0. batch / n_batches: 10 / 28 cost: 0.0297694\n",
      "epoch 0. batch / n_batches: 20 / 28 cost: 0.0266718\n",
      "epoch 1. batch / n_batches: 0 / 28 cost: 0.0240982\n",
      "epoch 1. batch / n_batches: 10 / 28 cost: 0.028928\n",
      "epoch 1. batch / n_batches: 20 / 28 cost: 0.0247731\n",
      "epoch 2. batch / n_batches: 0 / 28 cost: 0.0201991\n",
      "epoch 2. batch / n_batches: 10 / 28 cost: 0.0171585\n",
      "epoch 2. batch / n_batches: 20 / 28 cost: 0.0106769\n",
      "epoch 3. batch / n_batches: 0 / 28 cost: 0.00769601\n",
      "epoch 3. batch / n_batches: 10 / 28 cost: 0.00810038\n",
      "epoch 3. batch / n_batches: 20 / 28 cost: 0.00747888\n",
      "epoch 4. batch / n_batches: 0 / 28 cost: 0.0062371\n",
      "epoch 4. batch / n_batches: 10 / 28 cost: 0.00564526\n",
      "epoch 4. batch / n_batches: 20 / 28 cost: 0.00578943\n",
      "epoch 5. batch / n_batches: 0 / 28 cost: 0.00466806\n",
      "epoch 5. batch / n_batches: 10 / 28 cost: 0.00506839\n",
      "epoch 5. batch / n_batches: 20 / 28 cost: 0.0043611\n",
      "epoch 6. batch / n_batches: 0 / 28 cost: 0.00395982\n",
      "epoch 6. batch / n_batches: 10 / 28 cost: 0.00363002\n",
      "epoch 6. batch / n_batches: 20 / 28 cost: 0.00372359\n",
      "epoch 7. batch / n_batches: 0 / 28 cost: 0.00348666\n",
      "epoch 7. batch / n_batches: 10 / 28 cost: 0.00344215\n",
      "epoch 7. batch / n_batches: 20 / 28 cost: 0.0034796\n",
      "epoch 8. batch / n_batches: 0 / 28 cost: 0.00362606\n",
      "epoch 8. batch / n_batches: 10 / 28 cost: 0.00270198\n",
      "epoch 8. batch / n_batches: 20 / 28 cost: 0.00285169\n",
      "epoch 9. batch / n_batches: 0 / 28 cost: 0.00323662\n",
      "epoch 9. batch / n_batches: 10 / 28 cost: 0.00267488\n",
      "epoch 9. batch / n_batches: 20 / 28 cost: 0.00253558\n",
      "training model DNNR7. DNNRegression\n",
      "epoch 0. batch / n_batches: 0 / 32 cost: 0.131824\n",
      "epoch 0. batch / n_batches: 10 / 32 cost: 0.0478598\n",
      "epoch 0. batch / n_batches: 20 / 32 cost: 0.039971\n"
     ]
    },
    {
     "name": "stdout",
     "output_type": "stream",
     "text": [
      "epoch 0. batch / n_batches: 30 / 32 cost: 0.0372461\n",
      "epoch 1. batch / n_batches: 0 / 32 cost: 0.0365481\n",
      "epoch 1. batch / n_batches: 10 / 32 cost: 0.0454798\n",
      "epoch 1. batch / n_batches: 20 / 32 cost: 0.040473\n",
      "epoch 1. batch / n_batches: 30 / 32 cost: 0.0363754\n",
      "epoch 2. batch / n_batches: 0 / 32 cost: 0.0322256\n",
      "epoch 2. batch / n_batches: 10 / 32 cost: 0.032442\n",
      "epoch 2. batch / n_batches: 20 / 32 cost: 0.0168628\n",
      "epoch 2. batch / n_batches: 30 / 32 cost: 0.0123155\n",
      "epoch 3. batch / n_batches: 0 / 32 cost: 0.00710625\n",
      "epoch 3. batch / n_batches: 10 / 32 cost: 0.00965939\n",
      "epoch 3. batch / n_batches: 20 / 32 cost: 0.0085503\n",
      "epoch 3. batch / n_batches: 30 / 32 cost: 0.00472948\n",
      "epoch 4. batch / n_batches: 0 / 32 cost: 0.00362536\n",
      "epoch 4. batch / n_batches: 10 / 32 cost: 0.00512103\n",
      "epoch 4. batch / n_batches: 20 / 32 cost: 0.00525296\n",
      "epoch 4. batch / n_batches: 30 / 32 cost: 0.0030416\n",
      "epoch 5. batch / n_batches: 0 / 32 cost: 0.00297616\n",
      "epoch 5. batch / n_batches: 10 / 32 cost: 0.0044962\n",
      "epoch 5. batch / n_batches: 20 / 32 cost: 0.00438367\n",
      "epoch 5. batch / n_batches: 30 / 32 cost: 0.00300813\n",
      "epoch 6. batch / n_batches: 0 / 32 cost: 0.0021544\n",
      "epoch 6. batch / n_batches: 10 / 32 cost: 0.00342459\n",
      "epoch 6. batch / n_batches: 20 / 32 cost: 0.00355932\n",
      "epoch 6. batch / n_batches: 30 / 32 cost: 0.00264528\n",
      "epoch 7. batch / n_batches: 0 / 32 cost: 0.00195639\n",
      "epoch 7. batch / n_batches: 10 / 32 cost: 0.00299726\n",
      "epoch 7. batch / n_batches: 20 / 32 cost: 0.00325616\n",
      "epoch 7. batch / n_batches: 30 / 32 cost: 0.00250734\n",
      "epoch 8. batch / n_batches: 0 / 32 cost: 0.00199443\n",
      "epoch 8. batch / n_batches: 10 / 32 cost: 0.00287534\n",
      "epoch 8. batch / n_batches: 20 / 32 cost: 0.00305211\n",
      "epoch 8. batch / n_batches: 30 / 32 cost: 0.00229625\n",
      "epoch 9. batch / n_batches: 0 / 32 cost: 0.00206704\n",
      "epoch 9. batch / n_batches: 10 / 32 cost: 0.00268808\n",
      "epoch 9. batch / n_batches: 20 / 32 cost: 0.00269864\n",
      "epoch 9. batch / n_batches: 30 / 32 cost: 0.00199681\n",
      "training model DNNR8. DNNRegression\n",
      "epoch 0. batch / n_batches: 0 / 35 cost: 0.0668058\n",
      "epoch 0. batch / n_batches: 10 / 35 cost: 0.0406146\n",
      "epoch 0. batch / n_batches: 20 / 35 cost: 0.0412388\n",
      "epoch 0. batch / n_batches: 30 / 35 cost: 0.0426098\n",
      "epoch 1. batch / n_batches: 0 / 35 cost: 0.0303871\n",
      "epoch 1. batch / n_batches: 10 / 35 cost: 0.0276288\n",
      "epoch 1. batch / n_batches: 20 / 35 cost: 0.019939\n",
      "epoch 1. batch / n_batches: 30 / 35 cost: 0.0106407\n",
      "epoch 2. batch / n_batches: 0 / 35 cost: 0.011355\n",
      "epoch 2. batch / n_batches: 10 / 35 cost: 0.00660689\n",
      "epoch 2. batch / n_batches: 20 / 35 cost: 0.00804096\n",
      "epoch 2. batch / n_batches: 30 / 35 cost: 0.00699752\n",
      "epoch 3. batch / n_batches: 0 / 35 cost: 0.00596437\n",
      "epoch 3. batch / n_batches: 10 / 35 cost: 0.00415516\n",
      "epoch 3. batch / n_batches: 20 / 35 cost: 0.00473643\n",
      "epoch 3. batch / n_batches: 30 / 35 cost: 0.00442128\n",
      "epoch 4. batch / n_batches: 0 / 35 cost: 0.0045099\n",
      "epoch 4. batch / n_batches: 10 / 35 cost: 0.00291632\n",
      "epoch 4. batch / n_batches: 20 / 35 cost: 0.00339474\n",
      "epoch 4. batch / n_batches: 30 / 35 cost: 0.00322395\n",
      "epoch 5. batch / n_batches: 0 / 35 cost: 0.00373333\n",
      "epoch 5. batch / n_batches: 10 / 35 cost: 0.0025727\n",
      "epoch 5. batch / n_batches: 20 / 35 cost: 0.00304886\n",
      "epoch 5. batch / n_batches: 30 / 35 cost: 0.00264438\n",
      "epoch 6. batch / n_batches: 0 / 35 cost: 0.0027637\n",
      "epoch 6. batch / n_batches: 10 / 35 cost: 0.00212456\n",
      "epoch 6. batch / n_batches: 20 / 35 cost: 0.00202534\n",
      "epoch 6. batch / n_batches: 30 / 35 cost: 0.00204907\n",
      "epoch 7. batch / n_batches: 0 / 35 cost: 0.00192465\n",
      "epoch 7. batch / n_batches: 10 / 35 cost: 0.0012876\n",
      "epoch 7. batch / n_batches: 20 / 35 cost: 0.00184333\n",
      "epoch 7. batch / n_batches: 30 / 35 cost: 0.00164979\n",
      "epoch 8. batch / n_batches: 0 / 35 cost: 0.00143774\n",
      "epoch 8. batch / n_batches: 10 / 35 cost: 0.00132373\n",
      "epoch 8. batch / n_batches: 20 / 35 cost: 0.0012474\n",
      "epoch 8. batch / n_batches: 30 / 35 cost: 0.00145013\n",
      "epoch 9. batch / n_batches: 0 / 35 cost: 0.00154592\n",
      "epoch 9. batch / n_batches: 10 / 35 cost: 0.0011035\n",
      "epoch 9. batch / n_batches: 20 / 35 cost: 0.00110449\n",
      "epoch 9. batch / n_batches: 30 / 35 cost: 0.00138975\n"
     ]
    },
    {
     "data": {
      "image/png": "[encoded data removed]",
      "text/plain": [
       "<matplotlib.figure.Figure at 0x1a2fecba90>"
      ]
     },
     "metadata": {},
     "output_type": "display_data"
    }
   ],
   "source": [
    "dnnr.train()"
   ]
  },
  {
   "cell_type": "code",
   "execution_count": 61,
   "metadata": {
    "collapsed": true
   },
   "outputs": [],
   "source": [
    "lc4=dnnr.getLearningCurves()"
   ]
  },
  {
   "cell_type": "code",
   "execution_count": 62,
   "metadata": {},
   "outputs": [
    {
     "data": {
      "text/plain": [
       "[<matplotlib.lines.Line2D at 0x1a33b3b198>,\n",
       " <matplotlib.lines.Line2D at 0x1a33b3b668>]"
      ]
     },
     "execution_count": 62,
     "metadata": {},
     "output_type": "execute_result"
    },
    {
     "data": {
      "image/png": "[encoded data removed]",
      "text/plain": [
       "<matplotlib.figure.Figure at 0x1a3359fda0>"
      ]
     },
     "metadata": {},
     "output_type": "display_data"
    }
   ],
   "source": [
    "plt.plot(lc4[0,:],'b',lc4[1,:],'r')"
   ]
  },
  {
   "cell_type": "code",
   "execution_count": 63,
   "metadata": {},
   "outputs": [
    {
     "data": {
      "text/plain": [
       "0.96104437"
      ]
     },
     "execution_count": 63,
     "metadata": {},
     "output_type": "execute_result"
    }
   ],
   "source": [
    "dnnr.getScore()"
   ]
  },
  {
   "cell_type": "code",
   "execution_count": 64,
   "metadata": {},
   "outputs": [
    {
     "name": "stdout",
     "output_type": "stream",
     "text": [
      "saving model: model_persistance/DNNRegression_DNNR8.sav\n"
     ]
    }
   ],
   "source": [
    "dnnr.save()"
   ]
  },
  {
   "cell_type": "code",
   "execution_count": 65,
   "metadata": {
    "collapsed": true
   },
   "outputs": [],
   "source": [
    "dnnr.close()"
   ]
  },
  {
   "cell_type": "code",
   "execution_count": 66,
   "metadata": {},
   "outputs": [
    {
     "name": "stdout",
     "output_type": "stream",
     "text": [
      "initiating empty model DNNR0. DNNRegression\n"
     ]
    }
   ],
   "source": [
    "params = DNNRegressionDSBaseParamsToMap(layers=[7,5,3])\n",
    "recoveredDnnr = DNNRegressionDSBaseModel('DNNR0',np.ones([1,10]),np.ones(10),None,params,None,None)"
   ]
  },
  {
   "cell_type": "code",
   "execution_count": 67,
   "metadata": {},
   "outputs": [
    {
     "name": "stdout",
     "output_type": "stream",
     "text": [
      "loading model: model_persistance/DNNRegression_DNNR0.sav\n",
      "INFO:tensorflow:Restoring parameters from model_persistance/DNNRegression_DNNR8.sav\n"
     ]
    }
   ],
   "source": [
    "recoveredDnnr.load()"
   ]
  },
  {
   "cell_type": "code",
   "execution_count": 68,
   "metadata": {},
   "outputs": [
    {
     "name": "stdout",
     "output_type": "stream",
     "text": [
      "predicting model DNNR0. DNNRegression\n"
     ]
    },
    {
     "data": {
      "text/plain": [
       "array([[ 1650.70349121],\n",
       "       [ 1733.75769043]], dtype=float32)"
      ]
     },
     "execution_count": 68,
     "metadata": {},
     "output_type": "execute_result"
    }
   ],
   "source": [
    "recoveredDnnr.predict(X[1000:1002,:])"
   ]
  },
  {
   "cell_type": "code",
   "execution_count": 69,
   "metadata": {},
   "outputs": [
    {
     "data": {
      "text/plain": [
       "array([ 1748.,  1797.])"
      ]
     },
     "execution_count": 69,
     "metadata": {},
     "output_type": "execute_result"
    }
   ],
   "source": [
    "y[1000:1002]"
   ]
  },
  {
   "cell_type": "code",
   "execution_count": 70,
   "metadata": {
    "collapsed": true
   },
   "outputs": [],
   "source": [
    "recoveredDnnr.close()"
   ]
  },
  {
   "cell_type": "markdown",
   "metadata": {
    "collapsed": true
   },
   "source": [
    "# End of Regression Testing! "
   ]
  },
  {
   "cell_type": "code",
   "execution_count": null,
   "metadata": {
    "collapsed": true
   },
   "outputs": [],
   "source": []
  }
 ],
 "metadata": {
  "kernelspec": {
   "display_name": "Python 3",
   "language": "python",
   "name": "python3"
  },
  "language_info": {
   "codemirror_mode": {
    "name": "ipython",
    "version": 3
   },
   "file_extension": ".py",
   "mimetype": "text/x-python",
   "name": "python",
   "nbconvert_exporter": "python",
   "pygments_lexer": "ipython3",
   "version": "3.6.3"
  }
 },
 "nbformat": 4,
 "nbformat_minor": 2
}
