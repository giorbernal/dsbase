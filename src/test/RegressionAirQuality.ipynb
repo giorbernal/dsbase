{
 "cells": [
  {
   "cell_type": "markdown",
   "metadata": {},
   "source": [
    "# Regression: Testing Predictive Models for Air Quality"
   ]
  },
  {
   "cell_type": "code",
   "execution_count": 1,
   "metadata": {
    "collapsed": true
   },
   "outputs": [],
   "source": [
    "import sys\n",
    "import numpy as np\n",
    "import pandas as pd\n",
    "import matplotlib.pyplot as plt\n",
    "%matplotlib inline"
   ]
  },
  {
   "cell_type": "code",
   "execution_count": 2,
   "metadata": {
    "collapsed": true
   },
   "outputs": [],
   "source": [
    "sys.path.append('../main')"
   ]
  },
  {
   "cell_type": "code",
   "execution_count": 3,
   "metadata": {
    "collapsed": true
   },
   "outputs": [],
   "source": [
    "from sklearn.model_selection import train_test_split\n",
    "from ModelDSBase import ModelDSBaseWrapper"
   ]
  },
  {
   "cell_type": "code",
   "execution_count": 4,
   "metadata": {
    "collapsed": true
   },
   "outputs": [],
   "source": [
    "df = pd.read_csv('../../datasets/clean_airQuality.csv')"
   ]
  },
  {
   "cell_type": "code",
   "execution_count": 5,
   "metadata": {
    "collapsed": true
   },
   "outputs": [],
   "source": [
    "X = df.drop(['Unnamed: 0','timestamp','month','seasson','C6H6(GT)','PT08.S4(NO2)'], axis=1).values\n",
    "y = df['PT08.S4(NO2)'].values"
   ]
  },
  {
   "cell_type": "code",
   "execution_count": 6,
   "metadata": {
    "collapsed": true
   },
   "outputs": [],
   "source": [
    "X_train, X_test, y_train, y_test = train_test_split(X, y, test_size=0.33, random_state=42)"
   ]
  },
  {
   "cell_type": "markdown",
   "metadata": {},
   "source": [
    "## Linear Regression"
   ]
  },
  {
   "cell_type": "code",
   "execution_count": 7,
   "metadata": {
    "collapsed": true
   },
   "outputs": [],
   "source": [
    "from LinealRegressionDSBase import LinealRegressionDSBaseModel\n",
    "from LinealRegressionDSBase import LinealRegressionDSBaseParamsToMap"
   ]
  },
  {
   "cell_type": "code",
   "execution_count": 8,
   "metadata": {},
   "outputs": [
    {
     "name": "stdout",
     "output_type": "stream",
     "text": [
      "X_train size:(4357, 10)\n",
      "y_train size:(4357,)\n",
      "X_test size:(2146, 10)\n",
      "y_test size:(2146,)\n",
      "initiating model LR0. LinearRegression\n",
      "initiating model LR1. LinearRegression\n",
      "initiating model LR2. LinearRegression\n",
      "initiating model LR3. LinearRegression\n",
      "initiating model LR4. LinearRegression\n",
      "initiating model LR5. LinearRegression\n",
      "initiating model LR6. LinearRegression\n",
      "initiating model LR7. LinearRegression\n",
      "initiating model LR8. LinearRegression\n",
      "initiating model LR9. LinearRegression\n",
      "initiating model LR10. LinearRegression\n",
      "initiating model LR11. LinearRegression\n",
      "initiating model LR12. LinearRegression\n",
      "initiating model LR13. LinearRegression\n",
      "initiating model LR14. LinearRegression\n",
      "initiating model LR15. LinearRegression\n",
      "initiating model LR16. LinearRegression\n"
     ]
    }
   ],
   "source": [
    "params = LinealRegressionDSBaseParamsToMap()\n",
    "lr = ModelDSBaseWrapper('LR',X_train, y_train, X_test, y_test, [20,25,30,35,40,45,50,55,60,65,70,75,80,85,90,95,100],LinealRegressionDSBaseModel,params)"
   ]
  },
  {
   "cell_type": "code",
   "execution_count": 9,
   "metadata": {},
   "outputs": [
    {
     "name": "stdout",
     "output_type": "stream",
     "text": [
      "training model LR0. LinearRegression\n",
      "training model LR1. LinearRegression\n",
      "training model LR2. LinearRegression\n",
      "training model LR3. LinearRegression\n",
      "training model LR4. LinearRegression\n",
      "training model LR5. LinearRegression\n",
      "training model LR6. LinearRegression\n",
      "training model LR7. LinearRegression\n",
      "training model LR8. LinearRegression\n",
      "training model LR9. LinearRegression\n",
      "training model LR10. LinearRegression\n",
      "training model LR11. LinearRegression\n",
      "training model LR12. LinearRegression\n",
      "training model LR13. LinearRegression\n",
      "training model LR14. LinearRegression\n",
      "training model LR15. LinearRegression\n",
      "training model LR16. LinearRegression\n"
     ]
    }
   ],
   "source": [
    "lr.train()"
   ]
  },
  {
   "cell_type": "code",
   "execution_count": 10,
   "metadata": {
    "collapsed": true
   },
   "outputs": [],
   "source": [
    "lc1 = lr.getLearningCurves()"
   ]
  },
  {
   "cell_type": "code",
   "execution_count": 11,
   "metadata": {},
   "outputs": [
    {
     "data": {
      "text/plain": [
       "[<matplotlib.lines.Line2D at 0x10eb7e978>,\n",
       " <matplotlib.lines.Line2D at 0x10eb7eef0>]"
      ]
     },
     "execution_count": 11,
     "metadata": {},
     "output_type": "execute_result"
    },
    {
     "data": {
      "image/png": "[encoded data removed]",
      "text/plain": [
       "<matplotlib.figure.Figure at 0x10eb4cba8>"
      ]
     },
     "metadata": {},
     "output_type": "display_data"
    }
   ],
   "source": [
    "plt.plot(lc1[0,:],'b',lc1[1,:],'r')"
   ]
  },
  {
   "cell_type": "code",
   "execution_count": 12,
   "metadata": {},
   "outputs": [
    {
     "data": {
      "text/plain": [
       "0.95592539718019542"
      ]
     },
     "execution_count": 12,
     "metadata": {},
     "output_type": "execute_result"
    }
   ],
   "source": [
    "lr.getScore()"
   ]
  },
  {
   "cell_type": "code",
   "execution_count": 13,
   "metadata": {},
   "outputs": [
    {
     "name": "stdout",
     "output_type": "stream",
     "text": [
      "saving model: model_persistance/LinearRegression_LR16.sav\n"
     ]
    }
   ],
   "source": [
    "lr.save()"
   ]
  },
  {
   "cell_type": "code",
   "execution_count": 14,
   "metadata": {
    "collapsed": true
   },
   "outputs": [],
   "source": [
    "lr.close()"
   ]
  },
  {
   "cell_type": "code",
   "execution_count": 16,
   "metadata": {},
   "outputs": [
    {
     "name": "stdout",
     "output_type": "stream",
     "text": [
      "initiating empty model LR16. LinearRegression\n"
     ]
    }
   ],
   "source": [
    "recoveredLrm = LinealRegressionDSBaseModel('LR16',None,None,None,None,None)"
   ]
  },
  {
   "cell_type": "code",
   "execution_count": 17,
   "metadata": {},
   "outputs": [
    {
     "name": "stdout",
     "output_type": "stream",
     "text": [
      "loading model: model_persistance/LinearRegression_LR16.sav\n"
     ]
    }
   ],
   "source": [
    "recoveredLrm.load()"
   ]
  },
  {
   "cell_type": "code",
   "execution_count": 18,
   "metadata": {},
   "outputs": [
    {
     "name": "stdout",
     "output_type": "stream",
     "text": [
      "predicting model LR16. LinearRegression\n"
     ]
    },
    {
     "data": {
      "text/plain": [
       "array([ 1633.68103234,  1700.49043929])"
      ]
     },
     "execution_count": 18,
     "metadata": {},
     "output_type": "execute_result"
    }
   ],
   "source": [
    "recoveredLrm.predict(X[1000:1002,:])"
   ]
  },
  {
   "cell_type": "code",
   "execution_count": 19,
   "metadata": {},
   "outputs": [
    {
     "data": {
      "text/plain": [
       "array([ 1748.,  1797.])"
      ]
     },
     "execution_count": 19,
     "metadata": {},
     "output_type": "execute_result"
    }
   ],
   "source": [
    "y[1000:1002]"
   ]
  },
  {
   "cell_type": "code",
   "execution_count": 20,
   "metadata": {
    "collapsed": true
   },
   "outputs": [],
   "source": [
    "recoveredLrm.close()"
   ]
  },
  {
   "cell_type": "markdown",
   "metadata": {
    "collapsed": true
   },
   "source": [
    "## Randon Forest Regression"
   ]
  },
  {
   "cell_type": "code",
   "execution_count": 21,
   "metadata": {
    "collapsed": true
   },
   "outputs": [],
   "source": [
    "from RandomForestRegressionDSBase import RandomForestRegressionDSBaseModel\n",
    "from RandomForestRegressionDSBase import RandomForestRegressionDSBaseParamsToMap"
   ]
  },
  {
   "cell_type": "code",
   "execution_count": 22,
   "metadata": {},
   "outputs": [
    {
     "name": "stdout",
     "output_type": "stream",
     "text": [
      "X_train size:(4357, 10)\n",
      "y_train size:(4357,)\n",
      "X_test size:(2146, 10)\n",
      "y_test size:(2146,)\n",
      "initiating model RFR0. RandomForestRegressor\n",
      "initiating model RFR1. RandomForestRegressor\n",
      "initiating model RFR2. RandomForestRegressor\n",
      "initiating model RFR3. RandomForestRegressor\n",
      "initiating model RFR4. RandomForestRegressor\n",
      "initiating model RFR5. RandomForestRegressor\n",
      "initiating model RFR6. RandomForestRegressor\n",
      "initiating model RFR7. RandomForestRegressor\n",
      "initiating model RFR8. RandomForestRegressor\n",
      "initiating model RFR9. RandomForestRegressor\n",
      "initiating model RFR10. RandomForestRegressor\n",
      "initiating model RFR11. RandomForestRegressor\n",
      "initiating model RFR12. RandomForestRegressor\n",
      "initiating model RFR13. RandomForestRegressor\n",
      "initiating model RFR14. RandomForestRegressor\n",
      "initiating model RFR15. RandomForestRegressor\n",
      "initiating model RFR16. RandomForestRegressor\n"
     ]
    }
   ],
   "source": [
    "params = RandomForestRegressionDSBaseParamsToMap(max_depth=10, n_estimators=100)\n",
    "rfr = ModelDSBaseWrapper('RFR',X_train,y_train,X_test,y_test,[20,25,30,35,40,45,50,55,60,65,70,75,80,85,90,95,100],RandomForestRegressionDSBaseModel,params)"
   ]
  },
  {
   "cell_type": "code",
   "execution_count": 23,
   "metadata": {},
   "outputs": [
    {
     "name": "stdout",
     "output_type": "stream",
     "text": [
      "training model RFR0. RandomForestRegressor\n",
      "training model RFR1. RandomForestRegressor\n",
      "training model RFR2. RandomForestRegressor\n",
      "training model RFR3. RandomForestRegressor\n",
      "training model RFR4. RandomForestRegressor\n",
      "training model RFR5. RandomForestRegressor\n",
      "training model RFR6. RandomForestRegressor\n",
      "training model RFR7. RandomForestRegressor\n",
      "training model RFR8. RandomForestRegressor\n",
      "training model RFR9. RandomForestRegressor\n",
      "training model RFR10. RandomForestRegressor\n",
      "training model RFR11. RandomForestRegressor\n",
      "training model RFR12. RandomForestRegressor\n",
      "training model RFR13. RandomForestRegressor\n",
      "training model RFR14. RandomForestRegressor\n",
      "training model RFR15. RandomForestRegressor\n",
      "training model RFR16. RandomForestRegressor\n"
     ]
    }
   ],
   "source": [
    "rfr.train()"
   ]
  },
  {
   "cell_type": "code",
   "execution_count": 24,
   "metadata": {
    "collapsed": true
   },
   "outputs": [],
   "source": [
    "lc2 = rfr.getLearningCurves()"
   ]
  },
  {
   "cell_type": "code",
   "execution_count": 25,
   "metadata": {},
   "outputs": [
    {
     "data": {
      "text/plain": [
       "[<matplotlib.lines.Line2D at 0x10ef94f60>,\n",
       " <matplotlib.lines.Line2D at 0x10f00b0f0>]"
      ]
     },
     "execution_count": 25,
     "metadata": {},
     "output_type": "execute_result"
    },
    {
     "data": {
      "image/png": "[encoded data removed]",
      "text/plain": [
       "<matplotlib.figure.Figure at 0x10ef679e8>"
      ]
     },
     "metadata": {},
     "output_type": "display_data"
    }
   ],
   "source": [
    "plt.plot(lc2[0,:],'b',lc2[1,:],'r')"
   ]
  },
  {
   "cell_type": "code",
   "execution_count": 26,
   "metadata": {},
   "outputs": [
    {
     "data": {
      "text/plain": [
       "0.97399186385309511"
      ]
     },
     "execution_count": 26,
     "metadata": {},
     "output_type": "execute_result"
    }
   ],
   "source": [
    "rfr.getScore()"
   ]
  },
  {
   "cell_type": "code",
   "execution_count": 27,
   "metadata": {},
   "outputs": [
    {
     "name": "stdout",
     "output_type": "stream",
     "text": [
      "saving model: model_persistance/RandomForestRegressor_RFR16.sav\n"
     ]
    }
   ],
   "source": [
    "rfr.save()"
   ]
  },
  {
   "cell_type": "code",
   "execution_count": 28,
   "metadata": {
    "collapsed": true
   },
   "outputs": [],
   "source": [
    "rfr.close()"
   ]
  },
  {
   "cell_type": "code",
   "execution_count": 29,
   "metadata": {},
   "outputs": [
    {
     "name": "stdout",
     "output_type": "stream",
     "text": [
      "initiating empty model RFR16. RandomForestRegressor\n"
     ]
    }
   ],
   "source": [
    "recoveredRfm = RandomForestRegressionDSBaseModel('RFR16',None,None,None,None,None)"
   ]
  },
  {
   "cell_type": "code",
   "execution_count": 30,
   "metadata": {},
   "outputs": [
    {
     "name": "stdout",
     "output_type": "stream",
     "text": [
      "loading model: model_persistance/RandomForestRegressor_RFR16.sav\n"
     ]
    }
   ],
   "source": [
    "recoveredRfm.load()"
   ]
  },
  {
   "cell_type": "code",
   "execution_count": 31,
   "metadata": {},
   "outputs": [
    {
     "name": "stdout",
     "output_type": "stream",
     "text": [
      "predicting model RFR16. RandomForestRegressor\n"
     ]
    },
    {
     "data": {
      "text/plain": [
       "array([ 1712.03587224,  1735.67921061])"
      ]
     },
     "execution_count": 31,
     "metadata": {},
     "output_type": "execute_result"
    }
   ],
   "source": [
    "recoveredRfm.predict(X[1000:1002,:])"
   ]
  },
  {
   "cell_type": "code",
   "execution_count": 32,
   "metadata": {},
   "outputs": [
    {
     "data": {
      "text/plain": [
       "array([ 1748.,  1797.])"
      ]
     },
     "execution_count": 32,
     "metadata": {},
     "output_type": "execute_result"
    }
   ],
   "source": [
    "y[1000:1002]"
   ]
  },
  {
   "cell_type": "code",
   "execution_count": 33,
   "metadata": {
    "collapsed": true
   },
   "outputs": [],
   "source": [
    "recoveredRfm.close()"
   ]
  },
  {
   "cell_type": "markdown",
   "metadata": {
    "collapsed": true
   },
   "source": [
    "# Gradient Boosting Regression"
   ]
  },
  {
   "cell_type": "code",
   "execution_count": 34,
   "metadata": {
    "collapsed": true
   },
   "outputs": [],
   "source": [
    "from GradientBoostingRegressionDSBase import GradientBoostingRegressionDSBaseModel\n",
    "from GradientBoostingRegressionDSBase import GradientBoostingRegressionDSBaseParamsToMap"
   ]
  },
  {
   "cell_type": "code",
   "execution_count": 35,
   "metadata": {},
   "outputs": [
    {
     "name": "stdout",
     "output_type": "stream",
     "text": [
      "X_train size:(4357, 10)\n",
      "y_train size:(4357,)\n",
      "X_test size:(2146, 10)\n",
      "y_test size:(2146,)\n",
      "initiating model GBR0. GradientBoostingRegressor\n",
      "initiating model GBR1. GradientBoostingRegressor\n",
      "initiating model GBR2. GradientBoostingRegressor\n",
      "initiating model GBR3. GradientBoostingRegressor\n",
      "initiating model GBR4. GradientBoostingRegressor\n",
      "initiating model GBR5. GradientBoostingRegressor\n",
      "initiating model GBR6. GradientBoostingRegressor\n",
      "initiating model GBR7. GradientBoostingRegressor\n",
      "initiating model GBR8. GradientBoostingRegressor\n",
      "initiating model GBR9. GradientBoostingRegressor\n",
      "initiating model GBR10. GradientBoostingRegressor\n",
      "initiating model GBR11. GradientBoostingRegressor\n",
      "initiating model GBR12. GradientBoostingRegressor\n",
      "initiating model GBR13. GradientBoostingRegressor\n",
      "initiating model GBR14. GradientBoostingRegressor\n",
      "initiating model GBR15. GradientBoostingRegressor\n",
      "initiating model GBR16. GradientBoostingRegressor\n"
     ]
    }
   ],
   "source": [
    "params = GradientBoostingRegressionDSBaseParamsToMap(max_depth=5, n_estimators=75)\n",
    "gbr = ModelDSBaseWrapper('GBR',X_train,y_train,X_test, y_test,[20,25,30,35,40,45,50,55,60,65,70,75,80,85,90,95,100],GradientBoostingRegressionDSBaseModel,params)"
   ]
  },
  {
   "cell_type": "code",
   "execution_count": 36,
   "metadata": {},
   "outputs": [
    {
     "name": "stdout",
     "output_type": "stream",
     "text": [
      "training model GBR0. GradientBoostingRegressor\n",
      "training model GBR1. GradientBoostingRegressor\n",
      "training model GBR2. GradientBoostingRegressor\n",
      "training model GBR3. GradientBoostingRegressor\n",
      "training model GBR4. GradientBoostingRegressor\n",
      "training model GBR5. GradientBoostingRegressor\n",
      "training model GBR6. GradientBoostingRegressor\n",
      "training model GBR7. GradientBoostingRegressor\n",
      "training model GBR8. GradientBoostingRegressor\n",
      "training model GBR9. GradientBoostingRegressor\n",
      "training model GBR10. GradientBoostingRegressor\n",
      "training model GBR11. GradientBoostingRegressor\n",
      "training model GBR12. GradientBoostingRegressor\n",
      "training model GBR13. GradientBoostingRegressor\n",
      "training model GBR14. GradientBoostingRegressor\n",
      "training model GBR15. GradientBoostingRegressor\n",
      "training model GBR16. GradientBoostingRegressor\n"
     ]
    }
   ],
   "source": [
    "gbr.train()"
   ]
  },
  {
   "cell_type": "code",
   "execution_count": 37,
   "metadata": {
    "collapsed": true
   },
   "outputs": [],
   "source": [
    "lc3=gbr.getLearningCurves()"
   ]
  },
  {
   "cell_type": "code",
   "execution_count": 38,
   "metadata": {},
   "outputs": [
    {
     "data": {
      "text/plain": [
       "[<matplotlib.lines.Line2D at 0x1a26cea940>,\n",
       " <matplotlib.lines.Line2D at 0x1a26ceaa90>]"
      ]
     },
     "execution_count": 38,
     "metadata": {},
     "output_type": "execute_result"
    },
    {
     "data": {
      "image/png": "[encoded data removed]",
      "text/plain": [
       "<matplotlib.figure.Figure at 0x1a26c7a860>"
      ]
     },
     "metadata": {},
     "output_type": "display_data"
    }
   ],
   "source": [
    "plt.plot(lc3[0,:],'b',lc3[1,:],'r')"
   ]
  },
  {
   "cell_type": "code",
   "execution_count": 39,
   "metadata": {},
   "outputs": [
    {
     "data": {
      "text/plain": [
       "array([ 0.08642162,  0.23423106,  0.10939947,  0.08870554,  0.05918275,\n",
       "        0.05247207,  0.03068157,  0.05921844,  0.25815014,  0.02153735])"
      ]
     },
     "execution_count": 39,
     "metadata": {},
     "output_type": "execute_result"
    }
   ],
   "source": [
    "gbr.model.model.feature_importances_"
   ]
  },
  {
   "cell_type": "code",
   "execution_count": 40,
   "metadata": {},
   "outputs": [
    {
     "data": {
      "text/plain": [
       "0.97688066497738835"
      ]
     },
     "execution_count": 40,
     "metadata": {},
     "output_type": "execute_result"
    }
   ],
   "source": [
    "gbr.getScore()"
   ]
  },
  {
   "cell_type": "code",
   "execution_count": 41,
   "metadata": {},
   "outputs": [
    {
     "name": "stdout",
     "output_type": "stream",
     "text": [
      "saving model: model_persistance/GradientBoostingRegressor_GBR16.sav\n"
     ]
    }
   ],
   "source": [
    "gbr.save()"
   ]
  },
  {
   "cell_type": "code",
   "execution_count": 42,
   "metadata": {
    "collapsed": true
   },
   "outputs": [],
   "source": [
    "gbr.close()"
   ]
  },
  {
   "cell_type": "code",
   "execution_count": 43,
   "metadata": {},
   "outputs": [
    {
     "name": "stdout",
     "output_type": "stream",
     "text": [
      "initiating empty model GBR16. GradientBoostingRegressor\n"
     ]
    }
   ],
   "source": [
    "recoveredGbr = GradientBoostingRegressionDSBaseModel('GBR16',None,None,None,None,None)"
   ]
  },
  {
   "cell_type": "code",
   "execution_count": 44,
   "metadata": {},
   "outputs": [
    {
     "name": "stdout",
     "output_type": "stream",
     "text": [
      "loading model: model_persistance/GradientBoostingRegressor_GBR16.sav\n"
     ]
    }
   ],
   "source": [
    "recoveredGbr.load()"
   ]
  },
  {
   "cell_type": "code",
   "execution_count": 45,
   "metadata": {},
   "outputs": [
    {
     "name": "stdout",
     "output_type": "stream",
     "text": [
      "predicting model GBR16. GradientBoostingRegressor\n"
     ]
    },
    {
     "data": {
      "text/plain": [
       "array([ 1716.99243145,  1761.30972889])"
      ]
     },
     "execution_count": 45,
     "metadata": {},
     "output_type": "execute_result"
    }
   ],
   "source": [
    "recoveredGbr.predict(X[1000:1002,:])"
   ]
  },
  {
   "cell_type": "code",
   "execution_count": 46,
   "metadata": {},
   "outputs": [
    {
     "data": {
      "text/plain": [
       "array([ 1748.,  1797.])"
      ]
     },
     "execution_count": 46,
     "metadata": {},
     "output_type": "execute_result"
    }
   ],
   "source": [
    "y[1000:1002]"
   ]
  },
  {
   "cell_type": "code",
   "execution_count": 47,
   "metadata": {
    "collapsed": true
   },
   "outputs": [],
   "source": [
    "recoveredGbr.close()"
   ]
  },
  {
   "cell_type": "markdown",
   "metadata": {},
   "source": [
    "# DNN Regression"
   ]
  },
  {
   "cell_type": "code",
   "execution_count": 48,
   "metadata": {
    "collapsed": true
   },
   "outputs": [],
   "source": [
    "from sklearn.preprocessing import MinMaxScaler"
   ]
  },
  {
   "cell_type": "code",
   "execution_count": 49,
   "metadata": {},
   "outputs": [],
   "source": [
    "# Normalizing\n",
    "scalerX=MinMaxScaler()\n",
    "X_s = scalerX.fit_transform(X)\n",
    "scalery=MinMaxScaler()\n",
    "y_s = scalery.fit_transform(y.reshape(-1, 1))\n",
    "\n",
    "X_train, X_test, y_train, y_test = train_test_split(X_s, y_s, test_size=0.33, random_state=42)"
   ]
  },
  {
   "cell_type": "code",
   "execution_count": 50,
   "metadata": {},
   "outputs": [],
   "source": [
    "from DNNRegressionDSBase import DNNRegressionDSBaseModel\n",
    "from DNNRegressionDSBase import DNNRegressionDSBaseParamsToMap"
   ]
  },
  {
   "cell_type": "code",
   "execution_count": 51,
   "metadata": {},
   "outputs": [
    {
     "name": "stdout",
     "output_type": "stream",
     "text": [
      "X_train size:(4357, 10)\n",
      "y_train size:(4357, 1)\n",
      "X_test size:(2146, 10)\n",
      "y_test size:(2146, 1)\n",
      "initiating model DNNR0. DNNRegression\n",
      "initiating model DNNR1. DNNRegression\n",
      "initiating model DNNR2. DNNRegression\n",
      "initiating model DNNR3. DNNRegression\n",
      "initiating model DNNR4. DNNRegression\n",
      "initiating model DNNR5. DNNRegression\n",
      "initiating model DNNR6. DNNRegression\n",
      "initiating model DNNR7. DNNRegression\n",
      "initiating model DNNR8. DNNRegression\n"
     ]
    }
   ],
   "source": [
    "params = DNNRegressionDSBaseParamsToMap(layers=[7,5,3], alpha=6e-2, epochs=10)\n",
    "dnnr = ModelDSBaseWrapper('DNNR',X_train,y_train,X_test,y_test,[20,30,40,50,60,70,80,90,100],DNNRegressionDSBaseModel,params)"
   ]
  },
  {
   "cell_type": "code",
   "execution_count": 52,
   "metadata": {},
   "outputs": [
    {
     "name": "stdout",
     "output_type": "stream",
     "text": [
      "training model DNNR0. DNNRegression\n",
      "epoch 0. batch / n_batches: 0 / 6 cost: 0.155118\n",
      "epoch 1. batch / n_batches: 0 / 6 cost: 0.0798717\n",
      "epoch 2. batch / n_batches: 0 / 6 cost: 0.0383546\n",
      "epoch 3. batch / n_batches: 0 / 6 cost: 0.0440406\n",
      "epoch 4. batch / n_batches: 0 / 6 cost: 0.0375366\n",
      "epoch 5. batch / n_batches: 0 / 6 cost: 0.0402\n",
      "epoch 6. batch / n_batches: 0 / 6 cost: 0.0376691\n",
      "epoch 7. batch / n_batches: 0 / 6 cost: 0.0376922\n",
      "epoch 8. batch / n_batches: 0 / 6 cost: 0.0371971\n",
      "epoch 9. batch / n_batches: 0 / 6 cost: 0.0371509\n",
      "training model DNNR1. DNNRegression\n",
      "epoch 0. batch / n_batches: 0 / 10 cost: 0.248646\n",
      "epoch 1. batch / n_batches: 0 / 10 cost: 0.0472584\n",
      "epoch 2. batch / n_batches: 0 / 10 cost: 0.0438644\n",
      "epoch 3. batch / n_batches: 0 / 10 cost: 0.0405779\n",
      "epoch 4. batch / n_batches: 0 / 10 cost: 0.0387479\n",
      "epoch 5. batch / n_batches: 0 / 10 cost: 0.037766\n",
      "epoch 6. batch / n_batches: 0 / 10 cost: 0.0371239\n",
      "epoch 7. batch / n_batches: 0 / 10 cost: 0.0346977\n",
      "epoch 8. batch / n_batches: 0 / 10 cost: 0.0278187\n",
      "epoch 9. batch / n_batches: 0 / 10 cost: 0.0173578\n",
      "training model DNNR2. DNNRegression\n",
      "epoch 0. batch / n_batches: 0 / 13 cost: 0.0427956\n",
      "epoch 0. batch / n_batches: 10 / 13 cost: 0.047986\n",
      "epoch 1. batch / n_batches: 0 / 13 cost: 0.037694\n",
      "epoch 1. batch / n_batches: 10 / 13 cost: 0.0430765\n",
      "epoch 2. batch / n_batches: 0 / 13 cost: 0.0371559\n",
      "epoch 2. batch / n_batches: 10 / 13 cost: 0.0376968\n",
      "epoch 3. batch / n_batches: 0 / 13 cost: 0.0318594\n",
      "epoch 3. batch / n_batches: 10 / 13 cost: 0.0214977\n",
      "epoch 4. batch / n_batches: 0 / 13 cost: 0.0143271\n",
      "epoch 4. batch / n_batches: 10 / 13 cost: 0.00951811\n",
      "epoch 5. batch / n_batches: 0 / 13 cost: 0.0115054\n",
      "epoch 5. batch / n_batches: 10 / 13 cost: 0.00812267\n",
      "epoch 6. batch / n_batches: 0 / 13 cost: 0.00808431\n",
      "epoch 6. batch / n_batches: 10 / 13 cost: 0.00671313\n",
      "epoch 7. batch / n_batches: 0 / 13 cost: 0.00639327\n",
      "epoch 7. batch / n_batches: 10 / 13 cost: 0.00531474\n",
      "epoch 8. batch / n_batches: 0 / 13 cost: 0.00538888\n",
      "epoch 8. batch / n_batches: 10 / 13 cost: 0.00440115\n",
      "epoch 9. batch / n_batches: 0 / 13 cost: 0.00432035\n",
      "epoch 9. batch / n_batches: 10 / 13 cost: 0.00380118\n",
      "training model DNNR3. DNNRegression\n",
      "epoch 0. batch / n_batches: 0 / 17 cost: 0.053124\n",
      "epoch 0. batch / n_batches: 10 / 17 cost: 0.0535156\n",
      "epoch 1. batch / n_batches: 0 / 17 cost: 0.040355\n",
      "epoch 1. batch / n_batches: 10 / 17 cost: 0.042265\n",
      "epoch 2. batch / n_batches: 0 / 17 cost: 0.0358233\n",
      "epoch 2. batch / n_batches: 10 / 17 cost: 0.0320152\n",
      "epoch 3. batch / n_batches: 0 / 17 cost: 0.0191813\n",
      "epoch 3. batch / n_batches: 10 / 17 cost: 0.0104356\n",
      "epoch 4. batch / n_batches: 0 / 17 cost: 0.010305\n",
      "epoch 4. batch / n_batches: 10 / 17 cost: 0.00878658\n",
      "epoch 5. batch / n_batches: 0 / 17 cost: 0.00702273\n",
      "epoch 5. batch / n_batches: 10 / 17 cost: 0.00544455\n",
      "epoch 6. batch / n_batches: 0 / 17 cost: 0.00436901\n",
      "epoch 6. batch / n_batches: 10 / 17 cost: 0.00378222\n",
      "epoch 7. batch / n_batches: 0 / 17 cost: 0.00345366\n",
      "epoch 7. batch / n_batches: 10 / 17 cost: 0.00326119\n",
      "epoch 8. batch / n_batches: 0 / 17 cost: 0.00298642\n",
      "epoch 8. batch / n_batches: 10 / 17 cost: 0.00292371\n",
      "epoch 9. batch / n_batches: 0 / 17 cost: 0.00257078\n",
      "epoch 9. batch / n_batches: 10 / 17 cost: 0.00274379\n",
      "training model DNNR4. DNNRegression\n",
      "epoch 0. batch / n_batches: 0 / 20 cost: 0.150722\n",
      "epoch 0. batch / n_batches: 10 / 20 cost: 0.0425951\n",
      "epoch 1. batch / n_batches: 0 / 20 cost: 0.0431902\n",
      "epoch 1. batch / n_batches: 10 / 20 cost: 0.0427773\n",
      "epoch 2. batch / n_batches: 0 / 20 cost: 0.0388673\n",
      "epoch 2. batch / n_batches: 10 / 20 cost: 0.0380687\n",
      "epoch 3. batch / n_batches: 0 / 20 cost: 0.0284524\n",
      "epoch 3. batch / n_batches: 10 / 20 cost: 0.0168607\n",
      "epoch 4. batch / n_batches: 0 / 20 cost: 0.0114712\n",
      "epoch 4. batch / n_batches: 10 / 20 cost: 0.00859267\n",
      "epoch 5. batch / n_batches: 0 / 20 cost: 0.00706163\n",
      "epoch 5. batch / n_batches: 10 / 20 cost: 0.0054474\n",
      "epoch 6. batch / n_batches: 0 / 20 cost: 0.00402465\n",
      "epoch 6. batch / n_batches: 10 / 20 cost: 0.0035337\n",
      "epoch 7. batch / n_batches: 0 / 20 cost: 0.00282537\n",
      "epoch 7. batch / n_batches: 10 / 20 cost: 0.00281267\n",
      "epoch 8. batch / n_batches: 0 / 20 cost: 0.0020147\n",
      "epoch 8. batch / n_batches: 10 / 20 cost: 0.00256736\n",
      "epoch 9. batch / n_batches: 0 / 20 cost: 0.00186438\n",
      "epoch 9. batch / n_batches: 10 / 20 cost: 0.00212609\n",
      "training model DNNR5. DNNRegression\n",
      "epoch 0. batch / n_batches: 0 / 23 cost: 0.322689\n",
      "epoch 0. batch / n_batches: 10 / 23 cost: 0.0684747\n",
      "epoch 0. batch / n_batches: 20 / 23 cost: 0.0489511\n",
      "epoch 1. batch / n_batches: 0 / 23 cost: 0.0418352\n",
      "epoch 1. batch / n_batches: 10 / 23 cost: 0.0425746\n",
      "epoch 1. batch / n_batches: 20 / 23 cost: 0.0342184\n",
      "epoch 2. batch / n_batches: 0 / 23 cost: 0.0365549\n",
      "epoch 2. batch / n_batches: 10 / 23 cost: 0.0359418\n",
      "epoch 2. batch / n_batches: 20 / 23 cost: 0.0213798\n",
      "epoch 3. batch / n_batches: 0 / 23 cost: 0.0207383\n",
      "epoch 3. batch / n_batches: 10 / 23 cost: 0.0126807\n",
      "epoch 3. batch / n_batches: 20 / 23 cost: 0.0101315\n",
      "epoch 4. batch / n_batches: 0 / 23 cost: 0.0096476\n",
      "epoch 4. batch / n_batches: 10 / 23 cost: 0.008056\n",
      "epoch 4. batch / n_batches: 20 / 23 cost: 0.00623255\n",
      "epoch 5. batch / n_batches: 0 / 23 cost: 0.00623797\n",
      "epoch 5. batch / n_batches: 10 / 23 cost: 0.0054828\n",
      "epoch 5. batch / n_batches: 20 / 23 cost: 0.00428737\n",
      "epoch 6. batch / n_batches: 0 / 23 cost: 0.00427313\n",
      "epoch 6. batch / n_batches: 10 / 23 cost: 0.00426828\n",
      "epoch 6. batch / n_batches: 20 / 23 cost: 0.00344646\n",
      "epoch 7. batch / n_batches: 0 / 23 cost: 0.0030145\n",
      "epoch 7. batch / n_batches: 10 / 23 cost: 0.00340761\n",
      "epoch 7. batch / n_batches: 20 / 23 cost: 0.00295247\n",
      "epoch 8. batch / n_batches: 0 / 23 cost: 0.00242044\n",
      "epoch 8. batch / n_batches: 10 / 23 cost: 0.0027107\n",
      "epoch 8. batch / n_batches: 20 / 23 cost: 0.00237743\n",
      "epoch 9. batch / n_batches: 0 / 23 cost: 0.00192233\n",
      "epoch 9. batch / n_batches: 10 / 23 cost: 0.00235466\n",
      "epoch 9. batch / n_batches: 20 / 23 cost: 0.00205325\n",
      "training model DNNR6. DNNRegression\n",
      "epoch 0. batch / n_batches: 0 / 27 cost: 0.0415928\n",
      "epoch 0. batch / n_batches: 10 / 27 cost: 0.0464546\n",
      "epoch 0. batch / n_batches: 20 / 27 cost: 0.0332259\n",
      "epoch 1. batch / n_batches: 0 / 27 cost: 0.0365101\n",
      "epoch 1. batch / n_batches: 10 / 27 cost: 0.0350751\n",
      "epoch 1. batch / n_batches: 20 / 27 cost: 0.0157414\n",
      "epoch 2. batch / n_batches: 0 / 27 cost: 0.0118823\n",
      "epoch 2. batch / n_batches: 10 / 27 cost: 0.00839669\n",
      "epoch 2. batch / n_batches: 20 / 27 cost: 0.00733142\n",
      "epoch 3. batch / n_batches: 0 / 27 cost: 0.00673546\n",
      "epoch 3. batch / n_batches: 10 / 27 cost: 0.00528232\n",
      "epoch 3. batch / n_batches: 20 / 27 cost: 0.00477195\n",
      "epoch 4. batch / n_batches: 0 / 27 cost: 0.00390072\n",
      "epoch 4. batch / n_batches: 10 / 27 cost: 0.00382409\n",
      "epoch 4. batch / n_batches: 20 / 27 cost: 0.00372362\n",
      "epoch 5. batch / n_batches: 0 / 27 cost: 0.00305193\n",
      "epoch 5. batch / n_batches: 10 / 27 cost: 0.00337181\n",
      "epoch 5. batch / n_batches: 20 / 27 cost: 0.0030699\n",
      "epoch 6. batch / n_batches: 0 / 27 cost: 0.00276032\n",
      "epoch 6. batch / n_batches: 10 / 27 cost: 0.00311425\n",
      "epoch 6. batch / n_batches: 20 / 27 cost: 0.00269638\n",
      "epoch 7. batch / n_batches: 0 / 27 cost: 0.00215695\n",
      "epoch 7. batch / n_batches: 10 / 27 cost: 0.00258604\n",
      "epoch 7. batch / n_batches: 20 / 27 cost: 0.00216813\n",
      "epoch 8. batch / n_batches: 0 / 27 cost: 0.00180071\n",
      "epoch 8. batch / n_batches: 10 / 27 cost: 0.00201356\n",
      "epoch 8. batch / n_batches: 20 / 27 cost: 0.0026001\n",
      "epoch 9. batch / n_batches: 0 / 27 cost: 0.00165594\n",
      "epoch 9. batch / n_batches: 10 / 27 cost: 0.00197992\n",
      "epoch 9. batch / n_batches: 20 / 27 cost: 0.00192687\n",
      "training model DNNR7. DNNRegression\n",
      "epoch 0. batch / n_batches: 0 / 30 cost: 0.157432\n",
      "epoch 0. batch / n_batches: 10 / 30 cost: 0.0414265\n",
      "epoch 0. batch / n_batches: 20 / 30 cost: 0.0323986\n",
      "epoch 1. batch / n_batches: 0 / 30 cost: 0.0367588\n",
      "epoch 1. batch / n_batches: 10 / 30 cost: 0.0382839\n",
      "epoch 1. batch / n_batches: 20 / 30 cost: 0.0284995\n",
      "epoch 2. batch / n_batches: 0 / 30 cost: 0.023951\n",
      "epoch 2. batch / n_batches: 10 / 30 cost: 0.0140939\n",
      "epoch 2. batch / n_batches: 20 / 30 cost: 0.0102556\n",
      "epoch 3. batch / n_batches: 0 / 30 cost: 0.00810303\n",
      "epoch 3. batch / n_batches: 10 / 30 cost: 0.00737819\n",
      "epoch 3. batch / n_batches: 20 / 30 cost: 0.00589967\n",
      "epoch 4. batch / n_batches: 0 / 30 cost: 0.00464807\n"
     ]
    },
    {
     "name": "stdout",
     "output_type": "stream",
     "text": [
      "epoch 4. batch / n_batches: 10 / 30 cost: 0.00433481\n",
      "epoch 4. batch / n_batches: 20 / 30 cost: 0.00407804\n",
      "epoch 5. batch / n_batches: 0 / 30 cost: 0.00306681\n",
      "epoch 5. batch / n_batches: 10 / 30 cost: 0.00320051\n",
      "epoch 5. batch / n_batches: 20 / 30 cost: 0.00313409\n",
      "epoch 6. batch / n_batches: 0 / 30 cost: 0.00239176\n",
      "epoch 6. batch / n_batches: 10 / 30 cost: 0.00259649\n",
      "epoch 6. batch / n_batches: 20 / 30 cost: 0.00246303\n",
      "epoch 7. batch / n_batches: 0 / 30 cost: 0.00190029\n",
      "epoch 7. batch / n_batches: 10 / 30 cost: 0.00234564\n",
      "epoch 7. batch / n_batches: 20 / 30 cost: 0.00210924\n",
      "epoch 8. batch / n_batches: 0 / 30 cost: 0.00171648\n",
      "epoch 8. batch / n_batches: 10 / 30 cost: 0.00217015\n",
      "epoch 8. batch / n_batches: 20 / 30 cost: 0.00188962\n",
      "epoch 9. batch / n_batches: 0 / 30 cost: 0.00165108\n",
      "epoch 9. batch / n_batches: 10 / 30 cost: 0.00204798\n",
      "epoch 9. batch / n_batches: 20 / 30 cost: 0.00174048\n",
      "training model DNNR8. DNNRegression\n",
      "epoch 0. batch / n_batches: 0 / 34 cost: 0.0801629\n",
      "epoch 0. batch / n_batches: 10 / 34 cost: 0.0488295\n",
      "epoch 0. batch / n_batches: 20 / 34 cost: 0.0353158\n",
      "epoch 0. batch / n_batches: 30 / 34 cost: 0.0356141\n",
      "epoch 1. batch / n_batches: 0 / 34 cost: 0.0378607\n",
      "epoch 1. batch / n_batches: 10 / 34 cost: 0.0401233\n",
      "epoch 1. batch / n_batches: 20 / 34 cost: 0.0302344\n",
      "epoch 1. batch / n_batches: 30 / 34 cost: 0.0238145\n",
      "epoch 2. batch / n_batches: 0 / 34 cost: 0.0194812\n",
      "epoch 2. batch / n_batches: 10 / 34 cost: 0.0104469\n",
      "epoch 2. batch / n_batches: 20 / 34 cost: 0.008899\n",
      "epoch 2. batch / n_batches: 30 / 34 cost: 0.00703476\n",
      "epoch 3. batch / n_batches: 0 / 34 cost: 0.00689619\n",
      "epoch 3. batch / n_batches: 10 / 34 cost: 0.00560182\n",
      "epoch 3. batch / n_batches: 20 / 34 cost: 0.0049138\n",
      "epoch 3. batch / n_batches: 30 / 34 cost: 0.0041819\n",
      "epoch 4. batch / n_batches: 0 / 34 cost: 0.003333\n",
      "epoch 4. batch / n_batches: 10 / 34 cost: 0.00332303\n",
      "epoch 4. batch / n_batches: 20 / 34 cost: 0.00307324\n",
      "epoch 4. batch / n_batches: 30 / 34 cost: 0.00259632\n",
      "epoch 5. batch / n_batches: 0 / 34 cost: 0.0022554\n",
      "epoch 5. batch / n_batches: 10 / 34 cost: 0.00253887\n",
      "epoch 5. batch / n_batches: 20 / 34 cost: 0.00272937\n",
      "epoch 5. batch / n_batches: 30 / 34 cost: 0.00200019\n",
      "epoch 6. batch / n_batches: 0 / 34 cost: 0.00195914\n",
      "epoch 6. batch / n_batches: 10 / 34 cost: 0.00197563\n",
      "epoch 6. batch / n_batches: 20 / 34 cost: 0.00212096\n",
      "epoch 6. batch / n_batches: 30 / 34 cost: 0.00265831\n",
      "epoch 7. batch / n_batches: 0 / 34 cost: 0.00208342\n",
      "epoch 7. batch / n_batches: 10 / 34 cost: 0.00201748\n",
      "epoch 7. batch / n_batches: 20 / 34 cost: 0.00142804\n",
      "epoch 7. batch / n_batches: 30 / 34 cost: 0.00145578\n",
      "epoch 8. batch / n_batches: 0 / 34 cost: 0.00153929\n",
      "epoch 8. batch / n_batches: 10 / 34 cost: 0.00159218\n",
      "epoch 8. batch / n_batches: 20 / 34 cost: 0.00147772\n",
      "epoch 8. batch / n_batches: 30 / 34 cost: 0.00227387\n",
      "epoch 9. batch / n_batches: 0 / 34 cost: 0.00212929\n",
      "epoch 9. batch / n_batches: 10 / 34 cost: 0.00161204\n",
      "epoch 9. batch / n_batches: 20 / 34 cost: 0.00149598\n",
      "epoch 9. batch / n_batches: 30 / 34 cost: 0.00133846\n"
     ]
    },
    {
     "data": {
      "image/png": "[encoded data removed]",
      "text/plain": [
       "<matplotlib.figure.Figure at 0x1a34403470>"
      ]
     },
     "metadata": {},
     "output_type": "display_data"
    }
   ],
   "source": [
    "dnnr.train()"
   ]
  },
  {
   "cell_type": "code",
   "execution_count": 53,
   "metadata": {
    "collapsed": true
   },
   "outputs": [],
   "source": [
    "lc4=dnnr.getLearningCurves()"
   ]
  },
  {
   "cell_type": "code",
   "execution_count": 54,
   "metadata": {},
   "outputs": [
    {
     "data": {
      "text/plain": [
       "[<matplotlib.lines.Line2D at 0x1a4221df98>,\n",
       " <matplotlib.lines.Line2D at 0x1a42229588>]"
      ]
     },
     "execution_count": 54,
     "metadata": {},
     "output_type": "execute_result"
    },
    {
     "data": {
      "image/png": "[encoded data removed]",
      "text/plain": [
       "<matplotlib.figure.Figure at 0x1a42d3ea58>"
      ]
     },
     "metadata": {},
     "output_type": "display_data"
    }
   ],
   "source": [
    "plt.plot(lc4[0,:],'b',lc4[1,:],'r')"
   ]
  },
  {
   "cell_type": "code",
   "execution_count": 55,
   "metadata": {},
   "outputs": [
    {
     "data": {
      "text/plain": [
       "0.96020687"
      ]
     },
     "execution_count": 55,
     "metadata": {},
     "output_type": "execute_result"
    }
   ],
   "source": [
    "dnnr.getScore()"
   ]
  },
  {
   "cell_type": "code",
   "execution_count": 56,
   "metadata": {},
   "outputs": [
    {
     "name": "stdout",
     "output_type": "stream",
     "text": [
      "saving model: model_persistance/DNNRegression_DNNR8.sav\n"
     ]
    }
   ],
   "source": [
    "dnnr.save()"
   ]
  },
  {
   "cell_type": "code",
   "execution_count": 57,
   "metadata": {
    "collapsed": true
   },
   "outputs": [],
   "source": [
    "dnnr.close()"
   ]
  },
  {
   "cell_type": "code",
   "execution_count": 58,
   "metadata": {},
   "outputs": [
    {
     "name": "stdout",
     "output_type": "stream",
     "text": [
      "initiating model DNNR8. DNNRegression\n"
     ]
    }
   ],
   "source": [
    "params = DNNRegressionDSBaseParamsToMap(layers=[7,5,3])\n",
    "recoveredDnnr = DNNRegressionDSBaseModel('DNNR8',np.ones([1,10]),np.ones(10),np.ones([1,10]),np.ones(10),params)"
   ]
  },
  {
   "cell_type": "code",
   "execution_count": 59,
   "metadata": {},
   "outputs": [
    {
     "name": "stdout",
     "output_type": "stream",
     "text": [
      "loading model: model_persistance/DNNRegression_DNNR8.sav\n",
      "INFO:tensorflow:Restoring parameters from model_persistance/DNNRegression_DNNR8.sav\n"
     ]
    }
   ],
   "source": [
    "recoveredDnnr.load()"
   ]
  },
  {
   "cell_type": "code",
   "execution_count": 60,
   "metadata": {},
   "outputs": [
    {
     "name": "stdout",
     "output_type": "stream",
     "text": [
      "predicting model DNNR8. DNNRegression\n"
     ]
    },
    {
     "data": {
      "text/plain": [
       "array([[ 0.60201979],\n",
       "       [ 0.65189648]], dtype=float32)"
      ]
     },
     "execution_count": 60,
     "metadata": {},
     "output_type": "execute_result"
    }
   ],
   "source": [
    "recoveredDnnr.predict(X_s[1000:1002,:])"
   ]
  },
  {
   "cell_type": "code",
   "execution_count": 61,
   "metadata": {},
   "outputs": [
    {
     "data": {
      "text/plain": [
       "array([[ 0.64949037],\n",
       "       [ 0.67723669]])"
      ]
     },
     "execution_count": 61,
     "metadata": {},
     "output_type": "execute_result"
    }
   ],
   "source": [
    "y_s[1000:1002]"
   ]
  },
  {
   "cell_type": "code",
   "execution_count": 62,
   "metadata": {
    "collapsed": true
   },
   "outputs": [],
   "source": [
    "recoveredDnnr.close()"
   ]
  },
  {
   "cell_type": "markdown",
   "metadata": {
    "collapsed": true
   },
   "source": [
    "# End of Regression Testing! "
   ]
  },
  {
   "cell_type": "code",
   "execution_count": null,
   "metadata": {
    "collapsed": true
   },
   "outputs": [],
   "source": []
  }
 ],
 "metadata": {
  "kernelspec": {
   "display_name": "Python 3",
   "language": "python",
   "name": "python3"
  },
  "language_info": {
   "codemirror_mode": {
    "name": "ipython",
    "version": 3
   },
   "file_extension": ".py",
   "mimetype": "text/x-python",
   "name": "python",
   "nbconvert_exporter": "python",
   "pygments_lexer": "ipython3",
   "version": "3.6.3"
  }
 },
 "nbformat": 4,
 "nbformat_minor": 2
}
