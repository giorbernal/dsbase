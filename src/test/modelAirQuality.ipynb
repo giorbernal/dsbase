{
 "cells": [
  {
   "cell_type": "markdown",
   "metadata": {},
   "source": [
    "# Regression: Testing Predictive Models for Air Quality"
   ]
  },
  {
   "cell_type": "code",
   "execution_count": 1,
   "metadata": {
    "collapsed": true
   },
   "outputs": [],
   "source": [
    "import sys\n",
    "import numpy as np\n",
    "import pandas as pd\n",
    "import matplotlib.pyplot as plt\n",
    "%matplotlib inline"
   ]
  },
  {
   "cell_type": "code",
   "execution_count": 2,
   "metadata": {
    "collapsed": true
   },
   "outputs": [],
   "source": [
    "sys.path.append('../main')"
   ]
  },
  {
   "cell_type": "code",
   "execution_count": 3,
   "metadata": {
    "collapsed": true
   },
   "outputs": [],
   "source": [
    "from sklearn.model_selection import train_test_split\n",
    "from ModelDSBase import ModelDSBaseWrapper"
   ]
  },
  {
   "cell_type": "code",
   "execution_count": 4,
   "metadata": {
    "collapsed": true
   },
   "outputs": [],
   "source": [
    "df = pd.read_csv('../../datasets/clean_airQuality.csv')"
   ]
  },
  {
   "cell_type": "code",
   "execution_count": 5,
   "metadata": {
    "collapsed": true
   },
   "outputs": [],
   "source": [
    "X = df.drop(['Unnamed: 0','timestamp','month','seasson','C6H6(GT)','PT08.S4(NO2)'], axis=1).values\n",
    "y = df['PT08.S4(NO2)'].values"
   ]
  },
  {
   "cell_type": "markdown",
   "metadata": {},
   "source": [
    "## Linear Regression"
   ]
  },
  {
   "cell_type": "code",
   "execution_count": 6,
   "metadata": {
    "collapsed": true
   },
   "outputs": [],
   "source": [
    "from LinealRegressionDSBase import LinealRegressionDSBaseModel\n",
    "from LinealRegressionDSBase import LinealRegressionDSBaseParamsToMap"
   ]
  },
  {
   "cell_type": "code",
   "execution_count": 7,
   "metadata": {},
   "outputs": [
    {
     "name": "stdout",
     "output_type": "stream",
     "text": [
      "X size:(6503, 10)\n",
      "y size:(6503,)\n",
      "initiating model LR0. LinearRegression\n",
      "initiating model LR1. LinearRegression\n",
      "initiating model LR2. LinearRegression\n",
      "initiating model LR3. LinearRegression\n",
      "initiating model LR4. LinearRegression\n",
      "initiating model LR5. LinearRegression\n",
      "initiating model LR6. LinearRegression\n",
      "initiating model LR7. LinearRegression\n",
      "initiating model LR8. LinearRegression\n",
      "initiating model LR9. LinearRegression\n",
      "initiating model LR10. LinearRegression\n",
      "initiating model LR11. LinearRegression\n",
      "initiating model LR12. LinearRegression\n",
      "initiating model LR13. LinearRegression\n",
      "initiating model LR14. LinearRegression\n",
      "initiating model LR15. LinearRegression\n",
      "initiating model LR16. LinearRegression\n"
     ]
    }
   ],
   "source": [
    "params = LinealRegressionDSBaseParamsToMap()\n",
    "lr = ModelDSBaseWrapper('LR',X,y,[20,25,30,35,40,45,50,55,60,65,70,75,80,85,90,95,100],0.3,LinealRegressionDSBaseModel,params,splitter=train_test_split)"
   ]
  },
  {
   "cell_type": "code",
   "execution_count": 8,
   "metadata": {},
   "outputs": [
    {
     "name": "stdout",
     "output_type": "stream",
     "text": [
      "training model LR0. LinearRegression\n",
      "training model LR1. LinearRegression\n",
      "training model LR2. LinearRegression\n",
      "training model LR3. LinearRegression\n",
      "training model LR4. LinearRegression\n",
      "training model LR5. LinearRegression\n",
      "training model LR6. LinearRegression\n",
      "training model LR7. LinearRegression\n",
      "training model LR8. LinearRegression\n",
      "training model LR9. LinearRegression\n",
      "training model LR10. LinearRegression\n",
      "training model LR11. LinearRegression\n",
      "training model LR12. LinearRegression\n",
      "training model LR13. LinearRegression\n",
      "training model LR14. LinearRegression\n",
      "training model LR15. LinearRegression\n",
      "training model LR16. LinearRegression\n"
     ]
    }
   ],
   "source": [
    "lr.train()"
   ]
  },
  {
   "cell_type": "code",
   "execution_count": 9,
   "metadata": {
    "collapsed": true
   },
   "outputs": [],
   "source": [
    "lc1 = lr.getLearningCurves()"
   ]
  },
  {
   "cell_type": "code",
   "execution_count": 10,
   "metadata": {},
   "outputs": [
    {
     "data": {
      "text/plain": [
       "[<matplotlib.lines.Line2D at 0x116489be0>,\n",
       " <matplotlib.lines.Line2D at 0x116496198>]"
      ]
     },
     "execution_count": 10,
     "metadata": {},
     "output_type": "execute_result"
    },
    {
     "data": {
      "image/png": "[encoded data removed]",
      "text/plain": [
       "<matplotlib.figure.Figure at 0x1163bb390>"
      ]
     },
     "metadata": {},
     "output_type": "display_data"
    }
   ],
   "source": [
    "plt.plot(lc1[0,:],'b',lc1[1,:],'r')"
   ]
  },
  {
   "cell_type": "code",
   "execution_count": 11,
   "metadata": {},
   "outputs": [
    {
     "data": {
      "text/plain": [
       "0.95571828653804047"
      ]
     },
     "execution_count": 11,
     "metadata": {},
     "output_type": "execute_result"
    }
   ],
   "source": [
    "lr.getScore()"
   ]
  },
  {
   "cell_type": "code",
   "execution_count": 12,
   "metadata": {},
   "outputs": [
    {
     "name": "stdout",
     "output_type": "stream",
     "text": [
      "saving model: model_persistance/LinearRegression_LR16.sav\n"
     ]
    }
   ],
   "source": [
    "lr.save()"
   ]
  },
  {
   "cell_type": "code",
   "execution_count": 13,
   "metadata": {},
   "outputs": [
    {
     "name": "stdout",
     "output_type": "stream",
     "text": [
      "initiating empty model LR16. LinearRegression\n"
     ]
    }
   ],
   "source": [
    "recoveredLrm = LinealRegressionDSBaseModel('LR16',None,None,None,None,None,None)"
   ]
  },
  {
   "cell_type": "code",
   "execution_count": 14,
   "metadata": {},
   "outputs": [
    {
     "name": "stdout",
     "output_type": "stream",
     "text": [
      "loading model: model_persistance/LinearRegression_LR16.sav\n"
     ]
    }
   ],
   "source": [
    "recoveredLrm.load()"
   ]
  },
  {
   "cell_type": "code",
   "execution_count": 15,
   "metadata": {},
   "outputs": [
    {
     "name": "stdout",
     "output_type": "stream",
     "text": [
      "predicting model LR16. LinearRegression\n"
     ]
    },
    {
     "data": {
      "text/plain": [
       "array([ 1634.11951188,  1701.07139373])"
      ]
     },
     "execution_count": 15,
     "metadata": {},
     "output_type": "execute_result"
    }
   ],
   "source": [
    "recoveredLrm.predict(X[1000:1002,:])"
   ]
  },
  {
   "cell_type": "code",
   "execution_count": 16,
   "metadata": {},
   "outputs": [
    {
     "data": {
      "text/plain": [
       "array([ 1748.,  1797.])"
      ]
     },
     "execution_count": 16,
     "metadata": {},
     "output_type": "execute_result"
    }
   ],
   "source": [
    "y[1000:1002]"
   ]
  },
  {
   "cell_type": "markdown",
   "metadata": {
    "collapsed": true
   },
   "source": [
    "## Randon Forest Regression"
   ]
  },
  {
   "cell_type": "code",
   "execution_count": 17,
   "metadata": {
    "collapsed": true
   },
   "outputs": [],
   "source": [
    "from RandomForestRegressionDSBase import RandomForestRegressionDSBaseModel\n",
    "from RandomForestRegressionDSBase import RandomForestRegressionDSBaseParamsToMap"
   ]
  },
  {
   "cell_type": "code",
   "execution_count": 18,
   "metadata": {},
   "outputs": [
    {
     "name": "stdout",
     "output_type": "stream",
     "text": [
      "X size:(6503, 10)\n",
      "y size:(6503,)\n",
      "initiating model RFR0. RandomForestRegressor\n",
      "initiating model RFR1. RandomForestRegressor\n",
      "initiating model RFR2. RandomForestRegressor\n",
      "initiating model RFR3. RandomForestRegressor\n",
      "initiating model RFR4. RandomForestRegressor\n",
      "initiating model RFR5. RandomForestRegressor\n",
      "initiating model RFR6. RandomForestRegressor\n",
      "initiating model RFR7. RandomForestRegressor\n",
      "initiating model RFR8. RandomForestRegressor\n",
      "initiating model RFR9. RandomForestRegressor\n",
      "initiating model RFR10. RandomForestRegressor\n",
      "initiating model RFR11. RandomForestRegressor\n",
      "initiating model RFR12. RandomForestRegressor\n",
      "initiating model RFR13. RandomForestRegressor\n",
      "initiating model RFR14. RandomForestRegressor\n",
      "initiating model RFR15. RandomForestRegressor\n",
      "initiating model RFR16. RandomForestRegressor\n"
     ]
    }
   ],
   "source": [
    "params = RandomForestRegressionDSBaseParamsToMap(max_depth=10, n_estimators=100)\n",
    "rfr = ModelDSBaseWrapper('RFR',X,y,[20,25,30,35,40,45,50,55,60,65,70,75,80,85,90,95,100],0.3,RandomForestRegressionDSBaseModel,params,splitter=train_test_split)"
   ]
  },
  {
   "cell_type": "code",
   "execution_count": 19,
   "metadata": {},
   "outputs": [
    {
     "name": "stdout",
     "output_type": "stream",
     "text": [
      "training model RFR0. RandomForestRegressor\n",
      "training model RFR1. RandomForestRegressor\n",
      "training model RFR2. RandomForestRegressor\n",
      "training model RFR3. RandomForestRegressor\n",
      "training model RFR4. RandomForestRegressor\n",
      "training model RFR5. RandomForestRegressor\n",
      "training model RFR6. RandomForestRegressor\n",
      "training model RFR7. RandomForestRegressor\n",
      "training model RFR8. RandomForestRegressor\n",
      "training model RFR9. RandomForestRegressor\n",
      "training model RFR10. RandomForestRegressor\n",
      "training model RFR11. RandomForestRegressor\n",
      "training model RFR12. RandomForestRegressor\n",
      "training model RFR13. RandomForestRegressor\n",
      "training model RFR14. RandomForestRegressor\n",
      "training model RFR15. RandomForestRegressor\n",
      "training model RFR16. RandomForestRegressor\n"
     ]
    }
   ],
   "source": [
    "rfr.train()"
   ]
  },
  {
   "cell_type": "code",
   "execution_count": 20,
   "metadata": {
    "collapsed": true
   },
   "outputs": [],
   "source": [
    "lc2 = rfr.getLearningCurves()"
   ]
  },
  {
   "cell_type": "code",
   "execution_count": 21,
   "metadata": {},
   "outputs": [
    {
     "data": {
      "text/plain": [
       "[<matplotlib.lines.Line2D at 0x1a23e602b0>,\n",
       " <matplotlib.lines.Line2D at 0x1a23e60400>]"
      ]
     },
     "execution_count": 21,
     "metadata": {},
     "output_type": "execute_result"
    },
    {
     "data": {
      "image/png": "[encoded data removed]",
      "text/plain": [
       "<matplotlib.figure.Figure at 0x1a23545198>"
      ]
     },
     "metadata": {},
     "output_type": "display_data"
    }
   ],
   "source": [
    "plt.plot(lc2[0,:],'b',lc2[1,:],'r')"
   ]
  },
  {
   "cell_type": "code",
   "execution_count": 22,
   "metadata": {},
   "outputs": [
    {
     "data": {
      "text/plain": [
       "0.97407655897126399"
      ]
     },
     "execution_count": 22,
     "metadata": {},
     "output_type": "execute_result"
    }
   ],
   "source": [
    "rfr.getScore()"
   ]
  },
  {
   "cell_type": "code",
   "execution_count": 23,
   "metadata": {},
   "outputs": [
    {
     "name": "stdout",
     "output_type": "stream",
     "text": [
      "saving model: model_persistance/RandomForestRegressor_RFR16.sav\n"
     ]
    }
   ],
   "source": [
    "rfr.save()"
   ]
  },
  {
   "cell_type": "code",
   "execution_count": 24,
   "metadata": {},
   "outputs": [
    {
     "name": "stdout",
     "output_type": "stream",
     "text": [
      "initiating empty model RFR16. RandomForestRegressor\n"
     ]
    }
   ],
   "source": [
    "recoveredRfm = RandomForestRegressionDSBaseModel('RFR16',None,None,None,None,None,None)"
   ]
  },
  {
   "cell_type": "code",
   "execution_count": 25,
   "metadata": {},
   "outputs": [
    {
     "name": "stdout",
     "output_type": "stream",
     "text": [
      "loading model: model_persistance/RandomForestRegressor_RFR16.sav\n"
     ]
    }
   ],
   "source": [
    "recoveredRfm.load()"
   ]
  },
  {
   "cell_type": "code",
   "execution_count": 26,
   "metadata": {},
   "outputs": [
    {
     "name": "stdout",
     "output_type": "stream",
     "text": [
      "predicting model RFR16. RandomForestRegressor\n"
     ]
    },
    {
     "data": {
      "text/plain": [
       "array([ 1719.9393172 ,  1752.69288582])"
      ]
     },
     "execution_count": 26,
     "metadata": {},
     "output_type": "execute_result"
    }
   ],
   "source": [
    "recoveredRfm.predict(X[1000:1002,:])"
   ]
  },
  {
   "cell_type": "code",
   "execution_count": 27,
   "metadata": {},
   "outputs": [
    {
     "data": {
      "text/plain": [
       "array([ 1748.,  1797.])"
      ]
     },
     "execution_count": 27,
     "metadata": {},
     "output_type": "execute_result"
    }
   ],
   "source": [
    "y[1000:1002]"
   ]
  },
  {
   "cell_type": "markdown",
   "metadata": {
    "collapsed": true
   },
   "source": [
    "# Gradient Boosting Regression"
   ]
  },
  {
   "cell_type": "code",
   "execution_count": 28,
   "metadata": {
    "collapsed": true
   },
   "outputs": [],
   "source": [
    "from GradientBoostingRegressionDSBase import GradientBoostingRegressionDSBaseModel\n",
    "from GradientBoostingRegressionDSBase import GradientBoostingRegressionDSBaseParamsToMap"
   ]
  },
  {
   "cell_type": "code",
   "execution_count": 29,
   "metadata": {},
   "outputs": [
    {
     "name": "stdout",
     "output_type": "stream",
     "text": [
      "X size:(6503, 10)\n",
      "y size:(6503,)\n",
      "initiating model GBR0. GradientBoostingRegressor\n",
      "initiating model GBR1. GradientBoostingRegressor\n",
      "initiating model GBR2. GradientBoostingRegressor\n",
      "initiating model GBR3. GradientBoostingRegressor\n",
      "initiating model GBR4. GradientBoostingRegressor\n",
      "initiating model GBR5. GradientBoostingRegressor\n",
      "initiating model GBR6. GradientBoostingRegressor\n",
      "initiating model GBR7. GradientBoostingRegressor\n",
      "initiating model GBR8. GradientBoostingRegressor\n",
      "initiating model GBR9. GradientBoostingRegressor\n",
      "initiating model GBR10. GradientBoostingRegressor\n",
      "initiating model GBR11. GradientBoostingRegressor\n",
      "initiating model GBR12. GradientBoostingRegressor\n",
      "initiating model GBR13. GradientBoostingRegressor\n",
      "initiating model GBR14. GradientBoostingRegressor\n",
      "initiating model GBR15. GradientBoostingRegressor\n",
      "initiating model GBR16. GradientBoostingRegressor\n"
     ]
    }
   ],
   "source": [
    "params = GradientBoostingRegressionDSBaseParamsToMap(max_depth=5, n_estimators=75)\n",
    "gbr = ModelDSBaseWrapper('GBR',X,y,[20,25,30,35,40,45,50,55,60,65,70,75,80,85,90,95,100],0.3,GradientBoostingRegressionDSBaseModel,params,splitter=train_test_split)"
   ]
  },
  {
   "cell_type": "code",
   "execution_count": 30,
   "metadata": {},
   "outputs": [
    {
     "name": "stdout",
     "output_type": "stream",
     "text": [
      "training model GBR0. GradientBoostingRegressor\n",
      "training model GBR1. GradientBoostingRegressor\n",
      "training model GBR2. GradientBoostingRegressor\n",
      "training model GBR3. GradientBoostingRegressor\n",
      "training model GBR4. GradientBoostingRegressor\n",
      "training model GBR5. GradientBoostingRegressor\n",
      "training model GBR6. GradientBoostingRegressor\n",
      "training model GBR7. GradientBoostingRegressor\n",
      "training model GBR8. GradientBoostingRegressor\n",
      "training model GBR9. GradientBoostingRegressor\n",
      "training model GBR10. GradientBoostingRegressor\n",
      "training model GBR11. GradientBoostingRegressor\n",
      "training model GBR12. GradientBoostingRegressor\n",
      "training model GBR13. GradientBoostingRegressor\n",
      "training model GBR14. GradientBoostingRegressor\n",
      "training model GBR15. GradientBoostingRegressor\n",
      "training model GBR16. GradientBoostingRegressor\n"
     ]
    }
   ],
   "source": [
    "gbr.train()"
   ]
  },
  {
   "cell_type": "code",
   "execution_count": 31,
   "metadata": {
    "collapsed": true
   },
   "outputs": [],
   "source": [
    "lc3=gbr.getLearningCurves()"
   ]
  },
  {
   "cell_type": "code",
   "execution_count": 32,
   "metadata": {},
   "outputs": [
    {
     "data": {
      "text/plain": [
       "[<matplotlib.lines.Line2D at 0x1a2443c6d8>,\n",
       " <matplotlib.lines.Line2D at 0x1a2443c828>]"
      ]
     },
     "execution_count": 32,
     "metadata": {},
     "output_type": "execute_result"
    },
    {
     "data": {
      "image/png": "[encoded data removed]",
      "text/plain": [
       "<matplotlib.figure.Figure at 0x1a244035f8>"
      ]
     },
     "metadata": {},
     "output_type": "display_data"
    }
   ],
   "source": [
    "plt.plot(lc3[0,:],'b',lc3[1,:],'r')"
   ]
  },
  {
   "cell_type": "code",
   "execution_count": 33,
   "metadata": {},
   "outputs": [
    {
     "data": {
      "text/plain": [
       "array([ 0.07990404,  0.24873491,  0.10931816,  0.09571997,  0.05424147,\n",
       "        0.04402009,  0.02620186,  0.06684685,  0.25824898,  0.01676366])"
      ]
     },
     "execution_count": 33,
     "metadata": {},
     "output_type": "execute_result"
    }
   ],
   "source": [
    "gbr.model.model.feature_importances_"
   ]
  },
  {
   "cell_type": "code",
   "execution_count": 34,
   "metadata": {},
   "outputs": [
    {
     "data": {
      "text/plain": [
       "0.97729885887370727"
      ]
     },
     "execution_count": 34,
     "metadata": {},
     "output_type": "execute_result"
    }
   ],
   "source": [
    "gbr.getScore()"
   ]
  },
  {
   "cell_type": "code",
   "execution_count": 35,
   "metadata": {},
   "outputs": [
    {
     "name": "stdout",
     "output_type": "stream",
     "text": [
      "saving model: model_persistance/GradientBoostingRegressor_GBR16.sav\n"
     ]
    }
   ],
   "source": [
    "gbr.save()"
   ]
  },
  {
   "cell_type": "code",
   "execution_count": 36,
   "metadata": {},
   "outputs": [
    {
     "name": "stdout",
     "output_type": "stream",
     "text": [
      "initiating empty model GBR16. GradientBoostingRegressor\n"
     ]
    }
   ],
   "source": [
    "recoveredGbr = GradientBoostingRegressionDSBaseModel('GBR16',None,None,None,None,None,None)"
   ]
  },
  {
   "cell_type": "code",
   "execution_count": 37,
   "metadata": {},
   "outputs": [
    {
     "name": "stdout",
     "output_type": "stream",
     "text": [
      "loading model: model_persistance/GradientBoostingRegressor_GBR16.sav\n"
     ]
    }
   ],
   "source": [
    "recoveredGbr.load()"
   ]
  },
  {
   "cell_type": "code",
   "execution_count": 38,
   "metadata": {},
   "outputs": [
    {
     "name": "stdout",
     "output_type": "stream",
     "text": [
      "predicting model GBR16. GradientBoostingRegressor\n"
     ]
    },
    {
     "data": {
      "text/plain": [
       "array([ 1714.58127165,  1749.800249  ])"
      ]
     },
     "execution_count": 38,
     "metadata": {},
     "output_type": "execute_result"
    }
   ],
   "source": [
    "recoveredGbr.predict(X[1000:1002,:])"
   ]
  },
  {
   "cell_type": "code",
   "execution_count": 39,
   "metadata": {},
   "outputs": [
    {
     "data": {
      "text/plain": [
       "array([ 1748.,  1797.])"
      ]
     },
     "execution_count": 39,
     "metadata": {},
     "output_type": "execute_result"
    }
   ],
   "source": [
    "y[1000:1002]"
   ]
  },
  {
   "cell_type": "markdown",
   "metadata": {},
   "source": [
    "# DNN Regression"
   ]
  },
  {
   "cell_type": "code",
   "execution_count": 40,
   "metadata": {
    "collapsed": true
   },
   "outputs": [],
   "source": [
    "from DNNRegressionDSBase import DNNRegressionDSBaseModel\n",
    "from DNNRegressionDSBase import DNNRegressionDSBaseParamsToMap"
   ]
  },
  {
   "cell_type": "code",
   "execution_count": 43,
   "metadata": {},
   "outputs": [
    {
     "name": "stdout",
     "output_type": "stream",
     "text": [
      "X size:(6503, 10)\n",
      "y size:(6503,)\n",
      "initiating model DNNR0. DNNRegression\n",
      "initiating model DNNR1. DNNRegression\n",
      "initiating model DNNR2. DNNRegression\n",
      "initiating model DNNR3. DNNRegression\n",
      "initiating model DNNR4. DNNRegression\n",
      "initiating model DNNR5. DNNRegression\n",
      "initiating model DNNR6. DNNRegression\n",
      "initiating model DNNR7. DNNRegression\n",
      "initiating model DNNR8. DNNRegression\n"
     ]
    }
   ],
   "source": [
    "params = DNNRegressionDSBaseParamsToMap(layers=[7,5,3], alpha=6e-2, epochs=5)\n",
    "dnnr = ModelDSBaseWrapper('DNNR',X,y,[20,30,40,50,60,70,80,90,100],0.3,DNNRegressionDSBaseModel,params,splitter=train_test_split)"
   ]
  },
  {
   "cell_type": "code",
   "execution_count": 44,
   "metadata": {},
   "outputs": [
    {
     "name": "stdout",
     "output_type": "stream",
     "text": [
      "training model DNNR0. DNNRegression\n",
      "epoch 0. batch / n_batches: 0 / 7 cost: 0.0479036\n",
      "epoch 1. batch / n_batches: 0 / 7 cost: 0.0308944\n",
      "epoch 2. batch / n_batches: 0 / 7 cost: 0.0282139\n",
      "epoch 3. batch / n_batches: 0 / 7 cost: 0.0375254\n",
      "epoch 4. batch / n_batches: 0 / 7 cost: 0.0265807\n",
      "training model DNNR1. DNNRegression\n",
      "epoch 0. batch / n_batches: 0 / 10 cost: 0.0970764\n",
      "epoch 1. batch / n_batches: 0 / 10 cost: 0.031998\n",
      "epoch 2. batch / n_batches: 0 / 10 cost: 0.0312537\n",
      "epoch 3. batch / n_batches: 0 / 10 cost: 0.0325819\n",
      "epoch 4. batch / n_batches: 0 / 10 cost: 0.0306492\n",
      "training model DNNR2. DNNRegression\n",
      "epoch 0. batch / n_batches: 0 / 14 cost: 0.147515\n",
      "epoch 0. batch / n_batches: 10 / 14 cost: 0.0311103\n",
      "epoch 1. batch / n_batches: 0 / 14 cost: 0.0451093\n",
      "epoch 1. batch / n_batches: 10 / 14 cost: 0.0309968\n",
      "epoch 2. batch / n_batches: 0 / 14 cost: 0.0325928\n",
      "epoch 2. batch / n_batches: 10 / 14 cost: 0.0258274\n",
      "epoch 3. batch / n_batches: 0 / 14 cost: 0.0273477\n",
      "epoch 3. batch / n_batches: 10 / 14 cost: 0.0162394\n",
      "epoch 4. batch / n_batches: 0 / 14 cost: 0.0153578\n",
      "epoch 4. batch / n_batches: 10 / 14 cost: 0.00725793\n",
      "training model DNNR3. DNNRegression\n",
      "epoch 0. batch / n_batches: 0 / 17 cost: 0.147038\n",
      "epoch 0. batch / n_batches: 10 / 17 cost: 0.0388751\n",
      "epoch 1. batch / n_batches: 0 / 17 cost: 0.0363363\n",
      "epoch 1. batch / n_batches: 10 / 17 cost: 0.0299178\n",
      "epoch 2. batch / n_batches: 0 / 17 cost: 0.0282383\n",
      "epoch 2. batch / n_batches: 10 / 17 cost: 0.0274671\n",
      "epoch 3. batch / n_batches: 0 / 17 cost: 0.0257139\n",
      "epoch 3. batch / n_batches: 10 / 17 cost: 0.024528\n",
      "epoch 4. batch / n_batches: 0 / 17 cost: 0.0201827\n",
      "epoch 4. batch / n_batches: 10 / 17 cost: 0.0151944\n",
      "training model DNNR4. DNNRegression\n",
      "epoch 0. batch / n_batches: 0 / 21 cost: 0.111016\n",
      "epoch 0. batch / n_batches: 10 / 21 cost: 0.0330734\n",
      "epoch 0. batch / n_batches: 20 / 21 cost: 0.0343461\n",
      "epoch 1. batch / n_batches: 0 / 21 cost: 0.0292475\n",
      "epoch 1. batch / n_batches: 10 / 21 cost: 0.0323237\n",
      "epoch 1. batch / n_batches: 20 / 21 cost: 0.0303014\n",
      "epoch 2. batch / n_batches: 0 / 21 cost: 0.024186\n",
      "epoch 2. batch / n_batches: 10 / 21 cost: 0.0202197\n",
      "epoch 2. batch / n_batches: 20 / 21 cost: 0.0127042\n",
      "epoch 3. batch / n_batches: 0 / 21 cost: 0.00977954\n",
      "epoch 3. batch / n_batches: 10 / 21 cost: 0.00852204\n",
      "epoch 3. batch / n_batches: 20 / 21 cost: 0.00828145\n",
      "epoch 4. batch / n_batches: 0 / 21 cost: 0.00765806\n",
      "epoch 4. batch / n_batches: 10 / 21 cost: 0.00639649\n",
      "epoch 4. batch / n_batches: 20 / 21 cost: 0.00646879\n",
      "training model DNNR5. DNNRegression\n",
      "epoch 0. batch / n_batches: 0 / 24 cost: 0.161176\n",
      "epoch 0. batch / n_batches: 10 / 24 cost: 0.0273089\n",
      "epoch 0. batch / n_batches: 20 / 24 cost: 0.0282668\n",
      "epoch 1. batch / n_batches: 0 / 24 cost: 0.0289506\n",
      "epoch 1. batch / n_batches: 10 / 24 cost: 0.0272018\n",
      "epoch 1. batch / n_batches: 20 / 24 cost: 0.0263225\n",
      "epoch 2. batch / n_batches: 0 / 24 cost: 0.0239771\n",
      "epoch 2. batch / n_batches: 10 / 24 cost: 0.025552\n",
      "epoch 2. batch / n_batches: 20 / 24 cost: 0.0224935\n",
      "epoch 3. batch / n_batches: 0 / 24 cost: 0.017932\n",
      "epoch 3. batch / n_batches: 10 / 24 cost: 0.0156769\n",
      "epoch 3. batch / n_batches: 20 / 24 cost: 0.00848685\n",
      "epoch 4. batch / n_batches: 0 / 24 cost: 0.00858459\n",
      "epoch 4. batch / n_batches: 10 / 24 cost: 0.00678661\n",
      "epoch 4. batch / n_batches: 20 / 24 cost: 0.00498397\n",
      "training model DNNR6. DNNRegression\n",
      "epoch 0. batch / n_batches: 0 / 28 cost: 0.157441\n",
      "epoch 0. batch / n_batches: 10 / 28 cost: 0.0290994\n",
      "epoch 0. batch / n_batches: 20 / 28 cost: 0.0268606\n",
      "epoch 1. batch / n_batches: 0 / 28 cost: 0.0238119\n",
      "epoch 1. batch / n_batches: 10 / 28 cost: 0.0276831\n",
      "epoch 1. batch / n_batches: 20 / 28 cost: 0.0238611\n",
      "epoch 2. batch / n_batches: 0 / 28 cost: 0.0194014\n",
      "epoch 2. batch / n_batches: 10 / 28 cost: 0.0156204\n",
      "epoch 2. batch / n_batches: 20 / 28 cost: 0.0102038\n",
      "epoch 3. batch / n_batches: 0 / 28 cost: 0.00775016\n",
      "epoch 3. batch / n_batches: 10 / 28 cost: 0.00800505\n",
      "epoch 3. batch / n_batches: 20 / 28 cost: 0.00733978\n",
      "epoch 4. batch / n_batches: 0 / 28 cost: 0.0062099\n",
      "epoch 4. batch / n_batches: 10 / 28 cost: 0.00566878\n",
      "epoch 4. batch / n_batches: 20 / 28 cost: 0.00607252\n",
      "training model DNNR7. DNNRegression\n",
      "epoch 0. batch / n_batches: 0 / 32 cost: 0.159382\n",
      "epoch 0. batch / n_batches: 10 / 32 cost: 0.047409\n",
      "epoch 0. batch / n_batches: 20 / 32 cost: 0.0446964\n",
      "epoch 0. batch / n_batches: 30 / 32 cost: 0.0424228\n",
      "epoch 1. batch / n_batches: 0 / 32 cost: 0.0355843\n",
      "epoch 1. batch / n_batches: 10 / 32 cost: 0.0434659\n",
      "epoch 1. batch / n_batches: 20 / 32 cost: 0.0384526\n",
      "epoch 1. batch / n_batches: 30 / 32 cost: 0.0344219\n",
      "epoch 2. batch / n_batches: 0 / 32 cost: 0.0303371\n",
      "epoch 2. batch / n_batches: 10 / 32 cost: 0.03038\n",
      "epoch 2. batch / n_batches: 20 / 32 cost: 0.0167075\n",
      "epoch 2. batch / n_batches: 30 / 32 cost: 0.0122716\n",
      "epoch 3. batch / n_batches: 0 / 32 cost: 0.00712414\n",
      "epoch 3. batch / n_batches: 10 / 32 cost: 0.00877162\n",
      "epoch 3. batch / n_batches: 20 / 32 cost: 0.00645273\n",
      "epoch 3. batch / n_batches: 30 / 32 cost: 0.00364743\n",
      "epoch 4. batch / n_batches: 0 / 32 cost: 0.00353919\n",
      "epoch 4. batch / n_batches: 10 / 32 cost: 0.00462469\n",
      "epoch 4. batch / n_batches: 20 / 32 cost: 0.004646\n",
      "epoch 4. batch / n_batches: 30 / 32 cost: 0.00313144\n",
      "training model DNNR8. DNNRegression\n",
      "epoch 0. batch / n_batches: 0 / 35 cost: 0.0899712\n",
      "epoch 0. batch / n_batches: 10 / 35 cost: 0.0337613\n",
      "epoch 0. batch / n_batches: 20 / 35 cost: 0.0362256\n",
      "epoch 0. batch / n_batches: 30 / 35 cost: 0.0407175\n",
      "epoch 1. batch / n_batches: 0 / 35 cost: 0.0322715\n",
      "epoch 1. batch / n_batches: 10 / 35 cost: 0.0293833\n",
      "epoch 1. batch / n_batches: 20 / 35 cost: 0.0205456\n",
      "epoch 1. batch / n_batches: 30 / 35 cost: 0.0116707\n",
      "epoch 2. batch / n_batches: 0 / 35 cost: 0.0112802\n",
      "epoch 2. batch / n_batches: 10 / 35 cost: 0.00688274\n",
      "epoch 2. batch / n_batches: 20 / 35 cost: 0.00781821\n",
      "epoch 2. batch / n_batches: 30 / 35 cost: 0.00640929\n",
      "epoch 3. batch / n_batches: 0 / 35 cost: 0.00530117\n",
      "epoch 3. batch / n_batches: 10 / 35 cost: 0.00476499\n",
      "epoch 3. batch / n_batches: 20 / 35 cost: 0.00344916\n",
      "epoch 3. batch / n_batches: 30 / 35 cost: 0.00297084\n",
      "epoch 4. batch / n_batches: 0 / 35 cost: 0.00298605\n",
      "epoch 4. batch / n_batches: 10 / 35 cost: 0.00264531\n",
      "epoch 4. batch / n_batches: 20 / 35 cost: 0.00237177\n",
      "epoch 4. batch / n_batches: 30 / 35 cost: 0.00212361\n"
     ]
    },
    {
     "data": {
      "image/png": "[encoded data removed]",
      "text/plain": [
       "<matplotlib.figure.Figure at 0x1a358c6390>"
      ]
     },
     "metadata": {},
     "output_type": "display_data"
    }
   ],
   "source": [
    "dnnr.train()"
   ]
  },
  {
   "cell_type": "code",
   "execution_count": 45,
   "metadata": {
    "collapsed": true
   },
   "outputs": [],
   "source": [
    "lc4=dnnr.getLearningCurves()"
   ]
  },
  {
   "cell_type": "code",
   "execution_count": 46,
   "metadata": {},
   "outputs": [
    {
     "data": {
      "text/plain": [
       "array([[ 0.10800481,  0.0741871 ,  0.76434857,  0.59583342,  0.81423235,\n",
       "         0.77726841,  0.80164933,  0.910227  ,  0.9466663 ],\n",
       "       [ 0.08810061,  0.07144105,  0.76807988,  0.60717493,  0.79697829,\n",
       "         0.75937778,  0.79503173,  0.89715475,  0.94704103]], dtype=float32)"
      ]
     },
     "execution_count": 46,
     "metadata": {},
     "output_type": "execute_result"
    }
   ],
   "source": [
    "lc4"
   ]
  },
  {
   "cell_type": "code",
   "execution_count": 47,
   "metadata": {},
   "outputs": [
    {
     "data": {
      "text/plain": [
       "[<matplotlib.lines.Line2D at 0x1a34b1fe80>,\n",
       " <matplotlib.lines.Line2D at 0x1a34b29470>]"
      ]
     },
     "execution_count": 47,
     "metadata": {},
     "output_type": "execute_result"
    },
    {
     "data": {
      "image/png": "[encoded data removed]",
      "text/plain": [
       "<matplotlib.figure.Figure at 0x1a34a0f780>"
      ]
     },
     "metadata": {},
     "output_type": "display_data"
    }
   ],
   "source": [
    "plt.plot(lc4[0,:],'b',lc4[1,:],'r')"
   ]
  },
  {
   "cell_type": "code",
   "execution_count": 48,
   "metadata": {},
   "outputs": [
    {
     "data": {
      "text/plain": [
       "0.94704103"
      ]
     },
     "execution_count": 48,
     "metadata": {},
     "output_type": "execute_result"
    }
   ],
   "source": [
    "dnnr.getScore()"
   ]
  },
  {
   "cell_type": "code",
   "execution_count": 49,
   "metadata": {},
   "outputs": [
    {
     "name": "stdout",
     "output_type": "stream",
     "text": [
      "saving model: model_persistance/DNNRegression_DNNR8.sav\n"
     ]
    }
   ],
   "source": [
    "dnnr.save()"
   ]
  },
  {
   "cell_type": "code",
   "execution_count": 50,
   "metadata": {
    "collapsed": true
   },
   "outputs": [],
   "source": [
    "dnnr.closeSession()"
   ]
  },
  {
   "cell_type": "code",
   "execution_count": 51,
   "metadata": {},
   "outputs": [
    {
     "name": "stdout",
     "output_type": "stream",
     "text": [
      "initiating empty model DNNR0. DNNRegression\n"
     ]
    }
   ],
   "source": [
    "params = DNNRegressionDSBaseParamsToMap(layers=[7,5,3])\n",
    "recoveredDnnr = DNNRegressionDSBaseModel('DNNR0',np.ones([1,10]),np.ones(10),None,params,None,None)"
   ]
  },
  {
   "cell_type": "code",
   "execution_count": 52,
   "metadata": {},
   "outputs": [
    {
     "name": "stdout",
     "output_type": "stream",
     "text": [
      "loading model: model_persistance/DNNRegression_DNNR0.sav\n",
      "INFO:tensorflow:Restoring parameters from model_persistance/DNNRegression_DNNR8.sav\n"
     ]
    }
   ],
   "source": [
    "recoveredDnnr.load()"
   ]
  },
  {
   "cell_type": "code",
   "execution_count": 53,
   "metadata": {},
   "outputs": [
    {
     "name": "stdout",
     "output_type": "stream",
     "text": [
      "predicting model DNNR0. DNNRegression\n"
     ]
    },
    {
     "data": {
      "text/plain": [
       "array([[ 1704.01306152],\n",
       "       [ 1787.66101074]], dtype=float32)"
      ]
     },
     "execution_count": 53,
     "metadata": {},
     "output_type": "execute_result"
    }
   ],
   "source": [
    "recoveredDnnr.predict(X[1000:1002,:])"
   ]
  },
  {
   "cell_type": "code",
   "execution_count": 54,
   "metadata": {},
   "outputs": [
    {
     "data": {
      "text/plain": [
       "array([ 1748.,  1797.])"
      ]
     },
     "execution_count": 54,
     "metadata": {},
     "output_type": "execute_result"
    }
   ],
   "source": [
    "y[1000:1002]"
   ]
  },
  {
   "cell_type": "code",
   "execution_count": 55,
   "metadata": {
    "collapsed": true
   },
   "outputs": [],
   "source": [
    "recoveredDnnr.closeSession()"
   ]
  },
  {
   "cell_type": "markdown",
   "metadata": {
    "collapsed": true
   },
   "source": [
    "# End of Regression Testing! "
   ]
  },
  {
   "cell_type": "code",
   "execution_count": null,
   "metadata": {
    "collapsed": true
   },
   "outputs": [],
   "source": []
  }
 ],
 "metadata": {
  "kernelspec": {
   "display_name": "Python 3",
   "language": "python",
   "name": "python3"
  },
  "language_info": {
   "codemirror_mode": {
    "name": "ipython",
    "version": 3
   },
   "file_extension": ".py",
   "mimetype": "text/x-python",
   "name": "python",
   "nbconvert_exporter": "python",
   "pygments_lexer": "ipython3",
   "version": "3.6.3"
  }
 },
 "nbformat": 4,
 "nbformat_minor": 2
}
