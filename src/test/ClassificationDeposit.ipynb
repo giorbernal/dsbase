{
 "cells": [
  {
   "cell_type": "markdown",
   "metadata": {},
   "source": [
    "# Binary Classification: Deposit Bank - Marketing"
   ]
  },
  {
   "cell_type": "code",
   "execution_count": 1,
   "metadata": {},
   "outputs": [],
   "source": [
    "import sys\n",
    "import numpy as np\n",
    "import pandas as pd\n",
    "import matplotlib.pyplot as plt\n",
    "%matplotlib inline"
   ]
  },
  {
   "cell_type": "code",
   "execution_count": 2,
   "metadata": {},
   "outputs": [],
   "source": [
    "from sklearn.metrics import classification_report\n",
    "from sklearn.metrics import confusion_matrix"
   ]
  },
  {
   "cell_type": "code",
   "execution_count": 3,
   "metadata": {},
   "outputs": [],
   "source": [
    "sys.path.append('../main/')"
   ]
  },
  {
   "cell_type": "code",
   "execution_count": 4,
   "metadata": {},
   "outputs": [],
   "source": [
    "from sklearn.model_selection import train_test_split\n",
    "from ModelDSBase import ModelDSBaseWrapper"
   ]
  },
  {
   "cell_type": "code",
   "execution_count": 5,
   "metadata": {},
   "outputs": [],
   "source": [
    "df = pd.read_csv('../../datasets/deposit_ml.csv')"
   ]
  },
  {
   "cell_type": "code",
   "execution_count": 6,
   "metadata": {},
   "outputs": [],
   "source": [
    "df_r = pd.read_csv('../../datasets/deposit_ml_reduced.csv')"
   ]
  },
  {
   "cell_type": "code",
   "execution_count": 7,
   "metadata": {},
   "outputs": [],
   "source": [
    "X = df.drop(labels='y', axis=1).values\n",
    "y = df['y'].values"
   ]
  },
  {
   "cell_type": "code",
   "execution_count": 8,
   "metadata": {},
   "outputs": [],
   "source": [
    "X_train, X_test, y_train, y_test = train_test_split(X, y, test_size=0.33, random_state=42)"
   ]
  },
  {
   "cell_type": "markdown",
   "metadata": {},
   "source": [
    "\n",
    "## SVM Binary Classifier (It takes too much time, although the results are quite good)"
   ]
  },
  {
   "cell_type": "code",
   "execution_count": null,
   "metadata": {
    "collapsed": true
   },
   "outputs": [],
   "source": [
    "# Reduced dataset\n",
    "X_r = df_r.drop(labels='y', axis=1).values\n",
    "y_r = df_r['y'].values\n",
    "\n",
    "X_train_r, X_test_r, y_train_r, y_test_r = train_test_split(X_r, y_r, test_size=0.33, random_state=42)"
   ]
  },
  {
   "cell_type": "code",
   "execution_count": null,
   "metadata": {
    "collapsed": true
   },
   "outputs": [],
   "source": [
    "from SVMClassificationDSBase import SVMClassificationDSBaseModelParamsToMap\n",
    "from SVMClassificationDSBase import SVMClassificationDSBaseModel"
   ]
  },
  {
   "cell_type": "code",
   "execution_count": null,
   "metadata": {},
   "outputs": [],
   "source": [
    "params = SVMClassificationDSBaseModelParamsToMap()\n",
    "svmc = ModelDSBaseWrapper('SVM',X_train_r,y_train_r,X_test_r,y_test_r,[5,10,15],SVMClassificationDSBaseModel, params)"
   ]
  },
  {
   "cell_type": "code",
   "execution_count": null,
   "metadata": {},
   "outputs": [],
   "source": [
    "svmc.train()"
   ]
  },
  {
   "cell_type": "code",
   "execution_count": null,
   "metadata": {
    "collapsed": true
   },
   "outputs": [],
   "source": [
    "lcsvmc = svmc.getLearningCurves()"
   ]
  },
  {
   "cell_type": "code",
   "execution_count": null,
   "metadata": {},
   "outputs": [],
   "source": [
    "plt.plot(lcsvmc[0,:],'b',lcsvmc[1,:],'r')"
   ]
  },
  {
   "cell_type": "code",
   "execution_count": null,
   "metadata": {},
   "outputs": [],
   "source": [
    "svmc.getScore()"
   ]
  },
  {
   "cell_type": "code",
   "execution_count": null,
   "metadata": {},
   "outputs": [],
   "source": [
    "svmc.save()"
   ]
  },
  {
   "cell_type": "code",
   "execution_count": null,
   "metadata": {
    "collapsed": true
   },
   "outputs": [],
   "source": [
    "svmc.close()"
   ]
  },
  {
   "cell_type": "code",
   "execution_count": null,
   "metadata": {},
   "outputs": [],
   "source": [
    "recoveredSvmc = SVMClassificationDSBaseModel('SVM2',None,None,None,None,None)"
   ]
  },
  {
   "cell_type": "code",
   "execution_count": null,
   "metadata": {},
   "outputs": [],
   "source": [
    "recoveredSvmc.load()"
   ]
  },
  {
   "cell_type": "code",
   "execution_count": null,
   "metadata": {},
   "outputs": [],
   "source": [
    "recoveredSvmc.predict(X_r[510:515,:])"
   ]
  },
  {
   "cell_type": "code",
   "execution_count": null,
   "metadata": {},
   "outputs": [],
   "source": [
    "y_r[510:515]"
   ]
  },
  {
   "cell_type": "code",
   "execution_count": null,
   "metadata": {
    "collapsed": true
   },
   "outputs": [],
   "source": [
    "recoveredSvmc.close()"
   ]
  },
  {
   "cell_type": "markdown",
   "metadata": {
    "collapsed": true
   },
   "source": [
    "## Random Forest Classificator"
   ]
  },
  {
   "cell_type": "code",
   "execution_count": 40,
   "metadata": {},
   "outputs": [],
   "source": [
    "from RandomForestClassificationDSBase import RandomForestClassificationDSBaseModel\n",
    "from RandomForestClassificationDSBase import RandomForestClassificationDSBaseModelParamsToMap"
   ]
  },
  {
   "cell_type": "code",
   "execution_count": 41,
   "metadata": {},
   "outputs": [
    {
     "name": "stdout",
     "output_type": "stream",
     "text": [
      "X_train size:(30291, 52)\n",
      "y_train size:(30291,)\n",
      "X_test size:(14920, 52)\n",
      "y_test size:(14920,)\n",
      "initiating model RF0. RandomForestClassification\n",
      "initiating model RF1. RandomForestClassification\n",
      "initiating model RF2. RandomForestClassification\n",
      "initiating model RF3. RandomForestClassification\n",
      "initiating model RF4. RandomForestClassification\n",
      "initiating model RF5. RandomForestClassification\n",
      "initiating model RF6. RandomForestClassification\n"
     ]
    }
   ],
   "source": [
    "params = RandomForestClassificationDSBaseModelParamsToMap(100,15)\n",
    "rfc = ModelDSBaseWrapper('RF',X_train,y_train,X_test,y_test,[70,75,80,85,90,95,100],RandomForestClassificationDSBaseModel,params)"
   ]
  },
  {
   "cell_type": "code",
   "execution_count": 42,
   "metadata": {},
   "outputs": [
    {
     "name": "stdout",
     "output_type": "stream",
     "text": [
      "training model RF0. RandomForestClassification\n",
      "training model RF1. RandomForestClassification\n",
      "training model RF2. RandomForestClassification\n",
      "training model RF3. RandomForestClassification\n",
      "training model RF4. RandomForestClassification\n",
      "training model RF5. RandomForestClassification\n",
      "training model RF6. RandomForestClassification\n"
     ]
    }
   ],
   "source": [
    "rfc.train()"
   ]
  },
  {
   "cell_type": "code",
   "execution_count": 43,
   "metadata": {},
   "outputs": [],
   "source": [
    "lcrfc = rfc.getLearningCurves()"
   ]
  },
  {
   "cell_type": "code",
   "execution_count": 44,
   "metadata": {},
   "outputs": [
    {
     "data": {
      "text/plain": [
       "[<matplotlib.lines.Line2D at 0x1a37fa50b8>,\n",
       " <matplotlib.lines.Line2D at 0x1a37fa5208>]"
      ]
     },
     "execution_count": 44,
     "metadata": {},
     "output_type": "execute_result"
    },
    {
     "data": {
      "image/png": "[encoded data removed]",
      "text/plain": [
       "<Figure size 432x288 with 1 Axes>"
      ]
     },
     "metadata": {
      "needs_background": "light"
     },
     "output_type": "display_data"
    }
   ],
   "source": [
    "plt.plot(lcrfc[0,:],'b',lcrfc[1,:],'r')"
   ]
  },
  {
   "cell_type": "markdown",
   "metadata": {},
   "source": [
    "Quite Overfitting!!"
   ]
  },
  {
   "cell_type": "code",
   "execution_count": 45,
   "metadata": {},
   "outputs": [
    {
     "data": {
      "text/plain": [
       "0.9113270777479893"
      ]
     },
     "execution_count": 45,
     "metadata": {},
     "output_type": "execute_result"
    }
   ],
   "source": [
    "rfc.getScore()"
   ]
  },
  {
   "cell_type": "code",
   "execution_count": 46,
   "metadata": {},
   "outputs": [
    {
     "name": "stdout",
     "output_type": "stream",
     "text": [
      "saving model: model_persistance/RandomForestClassification_RF6.sav\n"
     ]
    }
   ],
   "source": [
    "rfc.save()"
   ]
  },
  {
   "cell_type": "code",
   "execution_count": 47,
   "metadata": {},
   "outputs": [],
   "source": [
    "rfc.close()"
   ]
  },
  {
   "cell_type": "code",
   "execution_count": 48,
   "metadata": {},
   "outputs": [
    {
     "name": "stdout",
     "output_type": "stream",
     "text": [
      "initiating empty model RF6. RandomForestClassification\n"
     ]
    }
   ],
   "source": [
    "recoveredRfc = RandomForestClassificationDSBaseModel('RF6',None,None,None,None,None)"
   ]
  },
  {
   "cell_type": "code",
   "execution_count": 49,
   "metadata": {},
   "outputs": [
    {
     "name": "stdout",
     "output_type": "stream",
     "text": [
      "loading model: model_persistance/RandomForestClassification_RF6.sav\n"
     ]
    }
   ],
   "source": [
    "recoveredRfc.load()"
   ]
  },
  {
   "cell_type": "code",
   "execution_count": 50,
   "metadata": {},
   "outputs": [
    {
     "name": "stdout",
     "output_type": "stream",
     "text": [
      "predicting model RF6. RandomForestClassification\n"
     ]
    },
    {
     "data": {
      "text/plain": [
       "array([0, 0, 0, 0, 0])"
      ]
     },
     "execution_count": 50,
     "metadata": {},
     "output_type": "execute_result"
    }
   ],
   "source": [
    "recoveredRfc.predict(X[510:515,:])"
   ]
  },
  {
   "cell_type": "code",
   "execution_count": 51,
   "metadata": {},
   "outputs": [
    {
     "data": {
      "text/plain": [
       "array([0, 0, 1, 0, 0])"
      ]
     },
     "execution_count": 51,
     "metadata": {},
     "output_type": "execute_result"
    }
   ],
   "source": [
    "y[510:515]"
   ]
  },
  {
   "cell_type": "code",
   "execution_count": 52,
   "metadata": {},
   "outputs": [
    {
     "name": "stdout",
     "output_type": "stream",
     "text": [
      "predicting model RF6. RandomForestClassification\n",
      "              precision    recall  f1-score   support\n",
      "\n",
      "           0       0.93      0.98      0.95     13175\n",
      "           1       0.70      0.43      0.53      1745\n",
      "\n",
      "    accuracy                           0.91     14920\n",
      "   macro avg       0.81      0.70      0.74     14920\n",
      "weighted avg       0.90      0.91      0.90     14920\n",
      "\n"
     ]
    }
   ],
   "source": [
    "print(classification_report(rfc.model.y_test,rfc.predict(rfc.model.X_test)))"
   ]
  },
  {
   "cell_type": "code",
   "execution_count": 53,
   "metadata": {},
   "outputs": [
    {
     "name": "stdout",
     "output_type": "stream",
     "text": [
      "predicting model RF6. RandomForestClassification\n",
      "[[12850   325]\n",
      " [  998   747]]\n"
     ]
    }
   ],
   "source": [
    "print(confusion_matrix(rfc.model.y_test,rfc.predict(rfc.model.X_test)))"
   ]
  },
  {
   "cell_type": "markdown",
   "metadata": {},
   "source": [
    "## Ada Boosting Classificator"
   ]
  },
  {
   "cell_type": "code",
   "execution_count": 25,
   "metadata": {},
   "outputs": [],
   "source": [
    "from sklearn.preprocessing import MinMaxScaler\n",
    "\n",
    "# Normalizing\n",
    "scalerX=MinMaxScaler()\n",
    "X_s = scalerX.fit_transform(X)\n",
    "scalery=MinMaxScaler()\n",
    "y_s = scalery.fit_transform(y.reshape(-1, 1))\n",
    "\n",
    "X_s_train, X_s_test, y_s_train, y_s_test = train_test_split(X_s, y_s, test_size=0.33, random_state=42)"
   ]
  },
  {
   "cell_type": "code",
   "execution_count": 26,
   "metadata": {},
   "outputs": [],
   "source": [
    "from AdaBoostClassificationDSBase import AdaBoostClassificationDSBaseModelParamsToMap\n",
    "from AdaBoostClassificationDSBase import AdaBoostClassificationDSBaseModel"
   ]
  },
  {
   "cell_type": "code",
   "execution_count": 27,
   "metadata": {},
   "outputs": [
    {
     "name": "stdout",
     "output_type": "stream",
     "text": [
      "X_train size:(30291, 52)\n",
      "y_train size:(30291, 1)\n",
      "X_test size:(14920, 52)\n",
      "y_test size:(14920, 1)\n",
      "initiating model AB0. AdaBoostClassification\n",
      "initiating model AB1. AdaBoostClassification\n",
      "initiating model AB2. AdaBoostClassification\n",
      "initiating model AB3. AdaBoostClassification\n",
      "initiating model AB4. AdaBoostClassification\n",
      "initiating model AB5. AdaBoostClassification\n",
      "initiating model AB6. AdaBoostClassification\n"
     ]
    }
   ],
   "source": [
    "params = AdaBoostClassificationDSBaseModelParamsToMap(100,1.0)\n",
    "abc = ModelDSBaseWrapper('AB',X_s_train,y_s_train,X_s_test,y_s_test,[70,75,80,85,90,95,100],AdaBoostClassificationDSBaseModel,params)"
   ]
  },
  {
   "cell_type": "code",
   "execution_count": 28,
   "metadata": {},
   "outputs": [
    {
     "name": "stdout",
     "output_type": "stream",
     "text": [
      "training model AB0. AdaBoostClassification\n"
     ]
    },
    {
     "name": "stderr",
     "output_type": "stream",
     "text": [
      "/anaconda3/envs/dsbase/lib/python3.6/site-packages/sklearn/utils/validation.py:724: DataConversionWarning: A column-vector y was passed when a 1d array was expected. Please change the shape of y to (n_samples, ), for example using ravel().\n",
      "  y = column_or_1d(y, warn=True)\n"
     ]
    },
    {
     "name": "stdout",
     "output_type": "stream",
     "text": [
      "training model AB1. AdaBoostClassification\n"
     ]
    },
    {
     "name": "stderr",
     "output_type": "stream",
     "text": [
      "/anaconda3/envs/dsbase/lib/python3.6/site-packages/sklearn/utils/validation.py:724: DataConversionWarning: A column-vector y was passed when a 1d array was expected. Please change the shape of y to (n_samples, ), for example using ravel().\n",
      "  y = column_or_1d(y, warn=True)\n"
     ]
    },
    {
     "name": "stdout",
     "output_type": "stream",
     "text": [
      "training model AB2. AdaBoostClassification\n"
     ]
    },
    {
     "name": "stderr",
     "output_type": "stream",
     "text": [
      "/anaconda3/envs/dsbase/lib/python3.6/site-packages/sklearn/utils/validation.py:724: DataConversionWarning: A column-vector y was passed when a 1d array was expected. Please change the shape of y to (n_samples, ), for example using ravel().\n",
      "  y = column_or_1d(y, warn=True)\n"
     ]
    },
    {
     "name": "stdout",
     "output_type": "stream",
     "text": [
      "training model AB3. AdaBoostClassification\n"
     ]
    },
    {
     "name": "stderr",
     "output_type": "stream",
     "text": [
      "/anaconda3/envs/dsbase/lib/python3.6/site-packages/sklearn/utils/validation.py:724: DataConversionWarning: A column-vector y was passed when a 1d array was expected. Please change the shape of y to (n_samples, ), for example using ravel().\n",
      "  y = column_or_1d(y, warn=True)\n"
     ]
    },
    {
     "name": "stdout",
     "output_type": "stream",
     "text": [
      "training model AB4. AdaBoostClassification\n"
     ]
    },
    {
     "name": "stderr",
     "output_type": "stream",
     "text": [
      "/anaconda3/envs/dsbase/lib/python3.6/site-packages/sklearn/utils/validation.py:724: DataConversionWarning: A column-vector y was passed when a 1d array was expected. Please change the shape of y to (n_samples, ), for example using ravel().\n",
      "  y = column_or_1d(y, warn=True)\n"
     ]
    },
    {
     "name": "stdout",
     "output_type": "stream",
     "text": [
      "training model AB5. AdaBoostClassification\n"
     ]
    },
    {
     "name": "stderr",
     "output_type": "stream",
     "text": [
      "/anaconda3/envs/dsbase/lib/python3.6/site-packages/sklearn/utils/validation.py:724: DataConversionWarning: A column-vector y was passed when a 1d array was expected. Please change the shape of y to (n_samples, ), for example using ravel().\n",
      "  y = column_or_1d(y, warn=True)\n"
     ]
    },
    {
     "name": "stdout",
     "output_type": "stream",
     "text": [
      "training model AB6. AdaBoostClassification\n"
     ]
    },
    {
     "name": "stderr",
     "output_type": "stream",
     "text": [
      "/anaconda3/envs/dsbase/lib/python3.6/site-packages/sklearn/utils/validation.py:724: DataConversionWarning: A column-vector y was passed when a 1d array was expected. Please change the shape of y to (n_samples, ), for example using ravel().\n",
      "  y = column_or_1d(y, warn=True)\n"
     ]
    }
   ],
   "source": [
    "abc.train()"
   ]
  },
  {
   "cell_type": "code",
   "execution_count": 29,
   "metadata": {},
   "outputs": [],
   "source": [
    "lcabc = abc.getLearningCurves()"
   ]
  },
  {
   "cell_type": "code",
   "execution_count": 30,
   "metadata": {},
   "outputs": [
    {
     "data": {
      "text/plain": [
       "[<matplotlib.lines.Line2D at 0x1a21ba70f0>,\n",
       " <matplotlib.lines.Line2D at 0x1a21ba7240>]"
      ]
     },
     "execution_count": 30,
     "metadata": {},
     "output_type": "execute_result"
    },
    {
     "data": {
      "image/png": "[encoded data removed]",
      "text/plain": [
       "<Figure size 432x288 with 1 Axes>"
      ]
     },
     "metadata": {
      "needs_background": "light"
     },
     "output_type": "display_data"
    }
   ],
   "source": [
    "plt.plot(lcabc[0,:],'b',lcabc[1,:],'r')"
   ]
  },
  {
   "cell_type": "code",
   "execution_count": 31,
   "metadata": {},
   "outputs": [
    {
     "data": {
      "text/plain": [
       "0.9054289544235925"
      ]
     },
     "execution_count": 31,
     "metadata": {},
     "output_type": "execute_result"
    }
   ],
   "source": [
    "abc.getScore()"
   ]
  },
  {
   "cell_type": "code",
   "execution_count": 32,
   "metadata": {},
   "outputs": [
    {
     "name": "stdout",
     "output_type": "stream",
     "text": [
      "saving model: model_persistance/AdaBoostClassification_AB6.sav\n"
     ]
    }
   ],
   "source": [
    "abc.save()"
   ]
  },
  {
   "cell_type": "code",
   "execution_count": 33,
   "metadata": {},
   "outputs": [],
   "source": [
    "abc.close()"
   ]
  },
  {
   "cell_type": "code",
   "execution_count": 34,
   "metadata": {},
   "outputs": [
    {
     "name": "stdout",
     "output_type": "stream",
     "text": [
      "initiating empty model AB6. AdaBoostClassification\n"
     ]
    }
   ],
   "source": [
    "recoveredAbc = AdaBoostClassificationDSBaseModel('AB6',None,None,None,None,None)"
   ]
  },
  {
   "cell_type": "code",
   "execution_count": 35,
   "metadata": {},
   "outputs": [
    {
     "name": "stdout",
     "output_type": "stream",
     "text": [
      "loading model: model_persistance/AdaBoostClassification_AB6.sav\n"
     ]
    }
   ],
   "source": [
    "recoveredAbc.load()"
   ]
  },
  {
   "cell_type": "code",
   "execution_count": 36,
   "metadata": {},
   "outputs": [
    {
     "name": "stdout",
     "output_type": "stream",
     "text": [
      "predicting model AB6. AdaBoostClassification\n"
     ]
    },
    {
     "data": {
      "text/plain": [
       "array([0., 0., 0., 0., 0.])"
      ]
     },
     "execution_count": 36,
     "metadata": {},
     "output_type": "execute_result"
    }
   ],
   "source": [
    "recoveredAbc.predict(X_s[510:515,:])"
   ]
  },
  {
   "cell_type": "code",
   "execution_count": 37,
   "metadata": {},
   "outputs": [
    {
     "data": {
      "text/plain": [
       "array([0, 0, 1, 0, 0])"
      ]
     },
     "execution_count": 37,
     "metadata": {},
     "output_type": "execute_result"
    }
   ],
   "source": [
    "y[510:515]"
   ]
  },
  {
   "cell_type": "code",
   "execution_count": 38,
   "metadata": {},
   "outputs": [
    {
     "name": "stdout",
     "output_type": "stream",
     "text": [
      "predicting model AB6. AdaBoostClassification\n",
      "              precision    recall  f1-score   support\n",
      "\n",
      "         0.0       0.93      0.97      0.95     13175\n",
      "         1.0       0.65      0.41      0.50      1745\n",
      "\n",
      "    accuracy                           0.91     14920\n",
      "   macro avg       0.79      0.69      0.73     14920\n",
      "weighted avg       0.89      0.91      0.90     14920\n",
      "\n"
     ]
    }
   ],
   "source": [
    "print(classification_report(abc.model.y_test,abc.predict(abc.model.X_test)))"
   ]
  },
  {
   "cell_type": "code",
   "execution_count": 39,
   "metadata": {},
   "outputs": [
    {
     "name": "stdout",
     "output_type": "stream",
     "text": [
      "predicting model AB6. AdaBoostClassification\n",
      "[[12793   382]\n",
      " [ 1029   716]]\n"
     ]
    }
   ],
   "source": [
    "print(confusion_matrix(abc.model.y_test,abc.predict(abc.model.X_test)))"
   ]
  },
  {
   "cell_type": "markdown",
   "metadata": {},
   "source": [
    "# XGradient Boosting Classification  "
   ]
  },
  {
   "cell_type": "code",
   "execution_count": 9,
   "metadata": {},
   "outputs": [],
   "source": [
    "from XGradientBoostingClassificationDSBase import XGradientBoostingClassificationDSBaseModelParamsToMap\n",
    "from XGradientBoostingClassificationDSBase import XGradientBoostingClassificationDSBaseModel"
   ]
  },
  {
   "cell_type": "code",
   "execution_count": 12,
   "metadata": {},
   "outputs": [
    {
     "name": "stdout",
     "output_type": "stream",
     "text": [
      "X_train size:(30291, 52)\n",
      "y_train size:(30291,)\n",
      "X_test size:(14920, 52)\n",
      "y_test size:(14920,)\n",
      "initiating model XGBC0. XGradientBoostingClassification\n",
      "initiating model XGBC1. XGradientBoostingClassification\n",
      "initiating model XGBC2. XGradientBoostingClassification\n",
      "initiating model XGBC3. XGradientBoostingClassification\n",
      "initiating model XGBC4. XGradientBoostingClassification\n",
      "initiating model XGBC5. XGradientBoostingClassification\n",
      "initiating model XGBC6. XGradientBoostingClassification\n"
     ]
    }
   ],
   "source": [
    "params = XGradientBoostingClassificationDSBaseModelParamsToMap()\n",
    "xgbc = ModelDSBaseWrapper('XGBC',X_train,y_train,X_test,y_test,[70,75,80,85,90,95,100],XGradientBoostingClassificationDSBaseModel,params)"
   ]
  },
  {
   "cell_type": "code",
   "execution_count": 13,
   "metadata": {},
   "outputs": [
    {
     "name": "stdout",
     "output_type": "stream",
     "text": [
      "training model XGBC0. XGradientBoostingClassification\n",
      "training model XGBC1. XGradientBoostingClassification\n",
      "training model XGBC2. XGradientBoostingClassification\n",
      "training model XGBC3. XGradientBoostingClassification\n",
      "training model XGBC4. XGradientBoostingClassification\n",
      "training model XGBC5. XGradientBoostingClassification\n",
      "training model XGBC6. XGradientBoostingClassification\n"
     ]
    }
   ],
   "source": [
    "xgbc.train()"
   ]
  },
  {
   "cell_type": "code",
   "execution_count": 14,
   "metadata": {},
   "outputs": [],
   "source": [
    "lcxgbc=xgbc.getLearningCurves()"
   ]
  },
  {
   "cell_type": "code",
   "execution_count": 15,
   "metadata": {},
   "outputs": [
    {
     "data": {
      "text/plain": [
       "[<matplotlib.lines.Line2D at 0x1a1ace0160>,\n",
       " <matplotlib.lines.Line2D at 0x1a1ace02b0>]"
      ]
     },
     "execution_count": 15,
     "metadata": {},
     "output_type": "execute_result"
    },
    {
     "data": {
      "image/png": "[encoded data removed]",
      "text/plain": [
       "<Figure size 432x288 with 1 Axes>"
      ]
     },
     "metadata": {
      "needs_background": "light"
     },
     "output_type": "display_data"
    }
   ],
   "source": [
    "plt.plot(lcxgbc[0,:],'b',lcxgbc[1,:],'r')"
   ]
  },
  {
   "cell_type": "code",
   "execution_count": 16,
   "metadata": {},
   "outputs": [
    {
     "data": {
      "text/plain": [
       "0.9148123324396783"
      ]
     },
     "execution_count": 16,
     "metadata": {},
     "output_type": "execute_result"
    }
   ],
   "source": [
    "xgbc.getScore()"
   ]
  },
  {
   "cell_type": "code",
   "execution_count": 17,
   "metadata": {},
   "outputs": [
    {
     "name": "stdout",
     "output_type": "stream",
     "text": [
      "saving model: model_persistance/XGradientBoostingClassification_XGBC6.sav\n"
     ]
    }
   ],
   "source": [
    "xgbc.save()"
   ]
  },
  {
   "cell_type": "code",
   "execution_count": 18,
   "metadata": {},
   "outputs": [],
   "source": [
    "xgbc.close()"
   ]
  },
  {
   "cell_type": "code",
   "execution_count": 19,
   "metadata": {},
   "outputs": [
    {
     "name": "stdout",
     "output_type": "stream",
     "text": [
      "initiating empty model XGBC6. XGradientBoostingClassification\n"
     ]
    }
   ],
   "source": [
    "recoveredXgbc = XGradientBoostingClassificationDSBaseModel('XGBC6',None,None,None,None,None)"
   ]
  },
  {
   "cell_type": "code",
   "execution_count": 20,
   "metadata": {},
   "outputs": [
    {
     "name": "stdout",
     "output_type": "stream",
     "text": [
      "loading model: model_persistance/XGradientBoostingClassification_XGBC6.sav\n"
     ]
    }
   ],
   "source": [
    "recoveredXgbc.load()"
   ]
  },
  {
   "cell_type": "code",
   "execution_count": 21,
   "metadata": {},
   "outputs": [
    {
     "name": "stdout",
     "output_type": "stream",
     "text": [
      "predicting model XGBC6. XGradientBoostingClassification\n"
     ]
    },
    {
     "data": {
      "text/plain": [
       "array([0, 0, 0, 0, 0])"
      ]
     },
     "execution_count": 21,
     "metadata": {},
     "output_type": "execute_result"
    }
   ],
   "source": [
    "recoveredXgbc.predict(X[510:515,:])"
   ]
  },
  {
   "cell_type": "code",
   "execution_count": 22,
   "metadata": {},
   "outputs": [
    {
     "data": {
      "text/plain": [
       "array([0, 0, 1, 0, 0])"
      ]
     },
     "execution_count": 22,
     "metadata": {},
     "output_type": "execute_result"
    }
   ],
   "source": [
    "y[510:515]"
   ]
  },
  {
   "cell_type": "code",
   "execution_count": 23,
   "metadata": {},
   "outputs": [
    {
     "name": "stdout",
     "output_type": "stream",
     "text": [
      "predicting model XGBC6. XGradientBoostingClassification\n",
      "              precision    recall  f1-score   support\n",
      "\n",
      "           0       0.94      0.96      0.95     13175\n",
      "           1       0.66      0.56      0.61      1745\n",
      "\n",
      "    accuracy                           0.91     14920\n",
      "   macro avg       0.80      0.76      0.78     14920\n",
      "weighted avg       0.91      0.91      0.91     14920\n",
      "\n"
     ]
    }
   ],
   "source": [
    "print(classification_report(xgbc.model.y_test,xgbc.predict(xgbc.model.X_test)))"
   ]
  },
  {
   "cell_type": "code",
   "execution_count": 24,
   "metadata": {},
   "outputs": [
    {
     "name": "stdout",
     "output_type": "stream",
     "text": [
      "predicting model XGBC6. XGradientBoostingClassification\n",
      "[[12672   503]\n",
      " [  768   977]]\n"
     ]
    }
   ],
   "source": [
    "print(confusion_matrix(xgbc.model.y_test,xgbc.predict(xgbc.model.X_test)))"
   ]
  },
  {
   "cell_type": "markdown",
   "metadata": {},
   "source": [
    "## DNN Classification (Keras)"
   ]
  },
  {
   "cell_type": "code",
   "execution_count": null,
   "metadata": {},
   "outputs": [],
   "source": [
    "from DNNClassificationKerasDSBase import DNNClassificationKerasDSBaseParamsToMap\n",
    "from DNNClassificationKerasDSBase import DNNClassificationKerasDSBaseModel"
   ]
  },
  {
   "cell_type": "code",
   "execution_count": null,
   "metadata": {},
   "outputs": [],
   "source": [
    "params = DNNClassificationKerasDSBaseParamsToMap(layers=[40,20,10,5], alpha=1e-2, beta1=0.9, beta2=0.999, epsilon=1e-9, batch_size=64, epochs=150)\n",
    "dnnkc = ModelDSBaseWrapper('DNNKC',X_s_train,y_s_train,X_s_test,y_s_test,[70,75,80,85,90,95,100],DNNClassificationKerasDSBaseModel,params)"
   ]
  },
  {
   "cell_type": "code",
   "execution_count": null,
   "metadata": {},
   "outputs": [],
   "source": [
    "dnnkc.train()"
   ]
  },
  {
   "cell_type": "code",
   "execution_count": null,
   "metadata": {},
   "outputs": [],
   "source": [
    "lcdnnkc=dnnkc.getLearningCurves()"
   ]
  },
  {
   "cell_type": "code",
   "execution_count": null,
   "metadata": {},
   "outputs": [],
   "source": [
    "plt.plot(lcdnnkc[0,:],'b',lcdnnkc[1,:],'r')"
   ]
  },
  {
   "cell_type": "code",
   "execution_count": null,
   "metadata": {},
   "outputs": [],
   "source": [
    "dnnkc.getScore()"
   ]
  },
  {
   "cell_type": "code",
   "execution_count": null,
   "metadata": {
    "collapsed": true
   },
   "outputs": [],
   "source": [
    "dnnkc.save()"
   ]
  },
  {
   "cell_type": "code",
   "execution_count": null,
   "metadata": {
    "collapsed": true
   },
   "outputs": [],
   "source": [
    "dnnkc.close()"
   ]
  },
  {
   "cell_type": "code",
   "execution_count": null,
   "metadata": {},
   "outputs": [],
   "source": [
    "recoveredDnnkc = DNNClassificationKerasDSBaseModel('DNNKC6',None,None,None,None,None)"
   ]
  },
  {
   "cell_type": "code",
   "execution_count": null,
   "metadata": {
    "collapsed": true
   },
   "outputs": [],
   "source": [
    "recoveredDnnkc.load()"
   ]
  },
  {
   "cell_type": "code",
   "execution_count": null,
   "metadata": {},
   "outputs": [],
   "source": [
    "recoveredDnnkc.predict(X_s[510:515,:])"
   ]
  },
  {
   "cell_type": "code",
   "execution_count": null,
   "metadata": {},
   "outputs": [],
   "source": [
    "y_s[510:515]"
   ]
  },
  {
   "cell_type": "code",
   "execution_count": null,
   "metadata": {},
   "outputs": [],
   "source": [
    "print(classification_report(dnnkc.model.y_s_test,dnnkc.predict(dnnkc.model.X_s_test)))"
   ]
  },
  {
   "cell_type": "code",
   "execution_count": null,
   "metadata": {},
   "outputs": [],
   "source": [
    "print(confusion_matrix(dnnkc.model.y_s_test,dnnkc.predict(dnnkc.model.X_s_test)))"
   ]
  },
  {
   "cell_type": "markdown",
   "metadata": {},
   "source": [
    "# End of Evaluation! "
   ]
  },
  {
   "cell_type": "code",
   "execution_count": null,
   "metadata": {
    "collapsed": true
   },
   "outputs": [],
   "source": []
  }
 ],
 "metadata": {
  "kernelspec": {
   "display_name": "Python 3",
   "language": "python",
   "name": "python3"
  },
  "language_info": {
   "codemirror_mode": {
    "name": "ipython",
    "version": 3
   },
   "file_extension": ".py",
   "mimetype": "text/x-python",
   "name": "python",
   "nbconvert_exporter": "python",
   "pygments_lexer": "ipython3",
   "version": "3.6.3"
  }
 },
 "nbformat": 4,
 "nbformat_minor": 2
}
