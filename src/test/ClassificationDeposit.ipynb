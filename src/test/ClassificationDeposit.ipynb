{
 "cells": [
  {
   "cell_type": "markdown",
   "metadata": {},
   "source": [
    "# Binary Classification: Deposit Bank - Marketing"
   ]
  },
  {
   "cell_type": "code",
   "execution_count": 1,
   "metadata": {
    "collapsed": true
   },
   "outputs": [],
   "source": [
    "import sys\n",
    "import numpy as np\n",
    "import pandas as pd\n",
    "import matplotlib.pyplot as plt\n",
    "%matplotlib inline"
   ]
  },
  {
   "cell_type": "code",
   "execution_count": 2,
   "metadata": {
    "collapsed": true
   },
   "outputs": [],
   "source": [
    "from sklearn.metrics import classification_report\n",
    "from sklearn.metrics import confusion_matrix"
   ]
  },
  {
   "cell_type": "code",
   "execution_count": 3,
   "metadata": {
    "collapsed": true
   },
   "outputs": [],
   "source": [
    "sys.path.append('../main/')"
   ]
  },
  {
   "cell_type": "code",
   "execution_count": 4,
   "metadata": {
    "collapsed": true
   },
   "outputs": [],
   "source": [
    "from sklearn.model_selection import train_test_split\n",
    "from ModelDSBase import ModelDSBaseWrapper"
   ]
  },
  {
   "cell_type": "code",
   "execution_count": 5,
   "metadata": {
    "collapsed": true
   },
   "outputs": [],
   "source": [
    "df = pd.read_csv('../../datasets/deposit_ml.csv')"
   ]
  },
  {
   "cell_type": "code",
   "execution_count": 6,
   "metadata": {
    "collapsed": true
   },
   "outputs": [],
   "source": [
    "df_r = pd.read_csv('../../datasets/deposit_ml_reduced.csv')"
   ]
  },
  {
   "cell_type": "code",
   "execution_count": 7,
   "metadata": {
    "collapsed": true
   },
   "outputs": [],
   "source": [
    "X = df.drop(labels='y', axis=1).values\n",
    "y = df['y'].values"
   ]
  },
  {
   "cell_type": "code",
   "execution_count": 8,
   "metadata": {},
   "outputs": [],
   "source": [
    "X_r = df_r.drop(labels='y', axis=1).values\n",
    "y_r = df_r['y'].values"
   ]
  },
  {
   "cell_type": "markdown",
   "metadata": {},
   "source": [
    "## SVM Binary Classifier (It takes too much time, although the results are quite good)"
   ]
  },
  {
   "cell_type": "code",
   "execution_count": null,
   "metadata": {},
   "outputs": [],
   "source": [
    "from SVMBClassificationDSBase import SVMClassificationDSBaseModelParamsToMap\n",
    "from SVMBClassificationDSBase import SVMClassificationDSBaseModel"
   ]
  },
  {
   "cell_type": "code",
   "execution_count": null,
   "metadata": {},
   "outputs": [],
   "source": [
    "params = SVMClassificationDSBaseModelParamsToMap()\n",
    "svmc = ModelDSBaseWrapper('SVM',X_r,y_r,[20,30,90,100],0.3,SVMClassificationDSBaseModel,params,splitter=train_test_split)"
   ]
  },
  {
   "cell_type": "code",
   "execution_count": null,
   "metadata": {},
   "outputs": [],
   "source": [
    "svmc.train()"
   ]
  },
  {
   "cell_type": "code",
   "execution_count": null,
   "metadata": {
    "collapsed": true
   },
   "outputs": [],
   "source": [
    "lcsvmc = svmc.getLearningCurves()"
   ]
  },
  {
   "cell_type": "code",
   "execution_count": null,
   "metadata": {
    "collapsed": true
   },
   "outputs": [],
   "source": [
    "plt.plot(lcsvmc[0,:],'b',lcsvmc[1,:],'r')"
   ]
  },
  {
   "cell_type": "code",
   "execution_count": null,
   "metadata": {
    "collapsed": true
   },
   "outputs": [],
   "source": [
    "svmc.getScore()"
   ]
  },
  {
   "cell_type": "code",
   "execution_count": null,
   "metadata": {
    "collapsed": true
   },
   "outputs": [],
   "source": [
    "svmc.save()"
   ]
  },
  {
   "cell_type": "code",
   "execution_count": null,
   "metadata": {
    "collapsed": true
   },
   "outputs": [],
   "source": [
    "recoveredSvmc = SVMBClassificationDSBaseModel('SVM3',None,None,None,None,None,None)"
   ]
  },
  {
   "cell_type": "code",
   "execution_count": null,
   "metadata": {
    "collapsed": true
   },
   "outputs": [],
   "source": [
    "recoveredSvmc.load()"
   ]
  },
  {
   "cell_type": "code",
   "execution_count": null,
   "metadata": {
    "collapsed": true
   },
   "outputs": [],
   "source": [
    "recoveredSvmc.predict(X[510:515,:])"
   ]
  },
  {
   "cell_type": "code",
   "execution_count": null,
   "metadata": {
    "collapsed": true
   },
   "outputs": [],
   "source": [
    "y[510:515]"
   ]
  },
  {
   "cell_type": "markdown",
   "metadata": {
    "collapsed": true
   },
   "source": [
    "## Random Forest Classificator"
   ]
  },
  {
   "cell_type": "code",
   "execution_count": 9,
   "metadata": {
    "collapsed": true
   },
   "outputs": [],
   "source": [
    "from RandomForestClassificationDSBase import RandomForestClassificationDSBaseModel\n",
    "from RandomForestClassificationDSBase import RandomForestClassificationDSBaseModelParamsToMap"
   ]
  },
  {
   "cell_type": "code",
   "execution_count": 10,
   "metadata": {},
   "outputs": [
    {
     "name": "stdout",
     "output_type": "stream",
     "text": [
      "X size:(45211, 52)\n",
      "y size:(45211,)\n",
      "initiating model RF0. RandomForestClassification\n",
      "initiating model RF1. RandomForestClassification\n",
      "initiating model RF2. RandomForestClassification\n",
      "initiating model RF3. RandomForestClassification\n",
      "initiating model RF4. RandomForestClassification\n",
      "initiating model RF5. RandomForestClassification\n",
      "initiating model RF6. RandomForestClassification\n"
     ]
    }
   ],
   "source": [
    "params = RandomForestClassificationDSBaseModelParamsToMap(100,15)\n",
    "rfc = ModelDSBaseWrapper('RF',X,y,[70,75,80,85,90,95,100],0.3,RandomForestClassificationDSBaseModel,params,splitter=train_test_split)"
   ]
  },
  {
   "cell_type": "code",
   "execution_count": 11,
   "metadata": {},
   "outputs": [
    {
     "name": "stdout",
     "output_type": "stream",
     "text": [
      "training model RF0. RandomForestClassification\n",
      "training model RF1. RandomForestClassification\n",
      "training model RF2. RandomForestClassification\n",
      "training model RF3. RandomForestClassification\n",
      "training model RF4. RandomForestClassification\n",
      "training model RF5. RandomForestClassification\n",
      "training model RF6. RandomForestClassification\n"
     ]
    }
   ],
   "source": [
    "rfc.train()"
   ]
  },
  {
   "cell_type": "code",
   "execution_count": 12,
   "metadata": {
    "collapsed": true
   },
   "outputs": [],
   "source": [
    "lcrfc = rfc.getLearningCurves()"
   ]
  },
  {
   "cell_type": "code",
   "execution_count": 13,
   "metadata": {},
   "outputs": [
    {
     "data": {
      "text/plain": [
       "[<matplotlib.lines.Line2D at 0x1a28e19fd0>,\n",
       " <matplotlib.lines.Line2D at 0x1a28e26518>]"
      ]
     },
     "execution_count": 13,
     "metadata": {},
     "output_type": "execute_result"
    },
    {
     "data": {
      "image/png": "[encoded data removed]",
      "text/plain": [
       "<matplotlib.figure.Figure at 0x1a1a5689e8>"
      ]
     },
     "metadata": {},
     "output_type": "display_data"
    }
   ],
   "source": [
    "plt.plot(lcrfc[0,:],'b',lcrfc[1,:],'r')"
   ]
  },
  {
   "cell_type": "markdown",
   "metadata": {},
   "source": [
    "Quite Overfitting!!"
   ]
  },
  {
   "cell_type": "code",
   "execution_count": 14,
   "metadata": {},
   "outputs": [
    {
     "data": {
      "text/plain": [
       "0.91234149218519611"
      ]
     },
     "execution_count": 14,
     "metadata": {},
     "output_type": "execute_result"
    }
   ],
   "source": [
    "rfc.getScore()"
   ]
  },
  {
   "cell_type": "code",
   "execution_count": 15,
   "metadata": {},
   "outputs": [
    {
     "name": "stdout",
     "output_type": "stream",
     "text": [
      "saving model: model_persistance/RandomForestClassification_RF6.sav\n"
     ]
    }
   ],
   "source": [
    "rfc.save()"
   ]
  },
  {
   "cell_type": "code",
   "execution_count": 16,
   "metadata": {},
   "outputs": [
    {
     "name": "stdout",
     "output_type": "stream",
     "text": [
      "initiating empty model RF6. RandomForestClassification\n"
     ]
    }
   ],
   "source": [
    "recoveredRfc = RandomForestClassificationDSBaseModel('RF6',None,None,None,None,None,None)"
   ]
  },
  {
   "cell_type": "code",
   "execution_count": 17,
   "metadata": {},
   "outputs": [
    {
     "name": "stdout",
     "output_type": "stream",
     "text": [
      "loading model: model_persistance/RandomForestClassification_RF6.sav\n"
     ]
    }
   ],
   "source": [
    "recoveredRfc.load()"
   ]
  },
  {
   "cell_type": "code",
   "execution_count": 18,
   "metadata": {},
   "outputs": [
    {
     "name": "stdout",
     "output_type": "stream",
     "text": [
      "predicting model RF6. RandomForestClassification\n"
     ]
    },
    {
     "data": {
      "text/plain": [
       "array([0, 0, 0, 0, 0])"
      ]
     },
     "execution_count": 18,
     "metadata": {},
     "output_type": "execute_result"
    }
   ],
   "source": [
    "recoveredRfc.predict(X[510:515,:])"
   ]
  },
  {
   "cell_type": "code",
   "execution_count": 19,
   "metadata": {},
   "outputs": [
    {
     "data": {
      "text/plain": [
       "array([0, 0, 1, 0, 0])"
      ]
     },
     "execution_count": 19,
     "metadata": {},
     "output_type": "execute_result"
    }
   ],
   "source": [
    "y[510:515]"
   ]
  },
  {
   "cell_type": "code",
   "execution_count": 20,
   "metadata": {},
   "outputs": [
    {
     "name": "stdout",
     "output_type": "stream",
     "text": [
      "predicting model RF6. RandomForestClassification\n",
      "             precision    recall  f1-score   support\n",
      "\n",
      "          0       0.93      0.98      0.95     11966\n",
      "          1       0.71      0.44      0.54      1598\n",
      "\n",
      "avg / total       0.90      0.91      0.90     13564\n",
      "\n"
     ]
    }
   ],
   "source": [
    "print(classification_report(rfc.model.y_test,rfc.predict(rfc.model.X_test)))"
   ]
  },
  {
   "cell_type": "code",
   "execution_count": 21,
   "metadata": {},
   "outputs": [
    {
     "name": "stdout",
     "output_type": "stream",
     "text": [
      "predicting model RF6. RandomForestClassification\n",
      "[[11676   290]\n",
      " [  899   699]]\n"
     ]
    }
   ],
   "source": [
    "print(confusion_matrix(rfc.model.y_test,rfc.predict(rfc.model.X_test)))"
   ]
  },
  {
   "cell_type": "markdown",
   "metadata": {},
   "source": [
    "## Ada Boosting Classificator"
   ]
  },
  {
   "cell_type": "code",
   "execution_count": 22,
   "metadata": {
    "collapsed": true
   },
   "outputs": [],
   "source": [
    "from AdaBoostClassificationDSBase import AdaBoostClassificationDSBaseModelParamsToMap\n",
    "from AdaBoostClassificationDSBase import AdaBoostClassificationDSBaseModel"
   ]
  },
  {
   "cell_type": "code",
   "execution_count": 23,
   "metadata": {},
   "outputs": [
    {
     "name": "stdout",
     "output_type": "stream",
     "text": [
      "X size:(45211, 52)\n",
      "y size:(45211,)\n",
      "initiating model AB0. AdaBoostClassification\n",
      "initiating model AB1. AdaBoostClassification\n",
      "initiating model AB2. AdaBoostClassification\n",
      "initiating model AB3. AdaBoostClassification\n",
      "initiating model AB4. AdaBoostClassification\n",
      "initiating model AB5. AdaBoostClassification\n",
      "initiating model AB6. AdaBoostClassification\n"
     ]
    }
   ],
   "source": [
    "params = AdaBoostClassificationDSBaseModelParamsToMap(100,1.0)\n",
    "abc = ModelDSBaseWrapper('AB',X,y,[70,75,80,85,90,95,100],0.3,AdaBoostClassificationDSBaseModel,params,splitter=train_test_split)"
   ]
  },
  {
   "cell_type": "code",
   "execution_count": 24,
   "metadata": {},
   "outputs": [
    {
     "name": "stdout",
     "output_type": "stream",
     "text": [
      "training model AB0. AdaBoostClassification\n",
      "training model AB1. AdaBoostClassification\n",
      "training model AB2. AdaBoostClassification\n",
      "training model AB3. AdaBoostClassification\n",
      "training model AB4. AdaBoostClassification\n",
      "training model AB5. AdaBoostClassification\n",
      "training model AB6. AdaBoostClassification\n"
     ]
    }
   ],
   "source": [
    "abc.train()"
   ]
  },
  {
   "cell_type": "code",
   "execution_count": 25,
   "metadata": {
    "collapsed": true
   },
   "outputs": [],
   "source": [
    "lcabc = abc.getLearningCurves()"
   ]
  },
  {
   "cell_type": "code",
   "execution_count": 26,
   "metadata": {},
   "outputs": [
    {
     "data": {
      "text/plain": [
       "[<matplotlib.lines.Line2D at 0x1a274954a8>,\n",
       " <matplotlib.lines.Line2D at 0x1a2748c7b8>]"
      ]
     },
     "execution_count": 26,
     "metadata": {},
     "output_type": "execute_result"
    },
    {
     "data": {
      "image/png": "[encoded data removed]",
      "text/plain": [
       "<matplotlib.figure.Figure at 0x1a2747de10>"
      ]
     },
     "metadata": {},
     "output_type": "display_data"
    }
   ],
   "source": [
    "plt.plot(lcabc[0,:],'b',lcabc[1,:],'r')"
   ]
  },
  {
   "cell_type": "code",
   "execution_count": 27,
   "metadata": {},
   "outputs": [
    {
     "data": {
      "text/plain": [
       "0.90718077263344143"
      ]
     },
     "execution_count": 27,
     "metadata": {},
     "output_type": "execute_result"
    }
   ],
   "source": [
    "abc.getScore()"
   ]
  },
  {
   "cell_type": "code",
   "execution_count": 28,
   "metadata": {},
   "outputs": [
    {
     "name": "stdout",
     "output_type": "stream",
     "text": [
      "saving model: model_persistance/AdaBoostClassification_AB6.sav\n"
     ]
    }
   ],
   "source": [
    "abc.save()"
   ]
  },
  {
   "cell_type": "code",
   "execution_count": 29,
   "metadata": {},
   "outputs": [
    {
     "name": "stdout",
     "output_type": "stream",
     "text": [
      "initiating empty model AB6. AdaBoostClassification\n"
     ]
    }
   ],
   "source": [
    "recoveredAbc = AdaBoostClassificationDSBaseModel('AB6',None,None,None,None,None,None)"
   ]
  },
  {
   "cell_type": "code",
   "execution_count": 30,
   "metadata": {},
   "outputs": [
    {
     "name": "stdout",
     "output_type": "stream",
     "text": [
      "loading model: model_persistance/AdaBoostClassification_AB6.sav\n"
     ]
    }
   ],
   "source": [
    "recoveredAbc.load()"
   ]
  },
  {
   "cell_type": "code",
   "execution_count": 31,
   "metadata": {},
   "outputs": [
    {
     "name": "stdout",
     "output_type": "stream",
     "text": [
      "predicting model AB6. AdaBoostClassification\n"
     ]
    },
    {
     "data": {
      "text/plain": [
       "array([0, 0, 0, 0, 0])"
      ]
     },
     "execution_count": 31,
     "metadata": {},
     "output_type": "execute_result"
    }
   ],
   "source": [
    "recoveredAbc.predict(X[510:515,:])"
   ]
  },
  {
   "cell_type": "code",
   "execution_count": 32,
   "metadata": {},
   "outputs": [
    {
     "data": {
      "text/plain": [
       "array([0, 0, 1, 0, 0])"
      ]
     },
     "execution_count": 32,
     "metadata": {},
     "output_type": "execute_result"
    }
   ],
   "source": [
    "y[510:515]"
   ]
  },
  {
   "cell_type": "code",
   "execution_count": 33,
   "metadata": {},
   "outputs": [
    {
     "name": "stdout",
     "output_type": "stream",
     "text": [
      "predicting model AB6. AdaBoostClassification\n",
      "             precision    recall  f1-score   support\n",
      "\n",
      "          0       0.93      0.97      0.95     11966\n",
      "          1       0.67      0.42      0.52      1598\n",
      "\n",
      "avg / total       0.90      0.91      0.90     13564\n",
      "\n"
     ]
    }
   ],
   "source": [
    "print(classification_report(abc.model.y_test,abc.predict(abc.model.X_test)))"
   ]
  },
  {
   "cell_type": "code",
   "execution_count": 34,
   "metadata": {},
   "outputs": [
    {
     "name": "stdout",
     "output_type": "stream",
     "text": [
      "predicting model AB6. AdaBoostClassification\n",
      "[[11629   337]\n",
      " [  922   676]]\n"
     ]
    }
   ],
   "source": [
    "print(confusion_matrix(abc.model.y_test,abc.predict(abc.model.X_test)))"
   ]
  },
  {
   "cell_type": "markdown",
   "metadata": {},
   "source": [
    "## DNN Classification"
   ]
  },
  {
   "cell_type": "code",
   "execution_count": null,
   "metadata": {
    "collapsed": true
   },
   "outputs": [],
   "source": []
  },
  {
   "cell_type": "markdown",
   "metadata": {},
   "source": [
    "# End of Evaluation! "
   ]
  },
  {
   "cell_type": "code",
   "execution_count": null,
   "metadata": {
    "collapsed": true
   },
   "outputs": [],
   "source": []
  }
 ],
 "metadata": {
  "kernelspec": {
   "display_name": "Python 3",
   "language": "python",
   "name": "python3"
  },
  "language_info": {
   "codemirror_mode": {
    "name": "ipython",
    "version": 3
   },
   "file_extension": ".py",
   "mimetype": "text/x-python",
   "name": "python",
   "nbconvert_exporter": "python",
   "pygments_lexer": "ipython3",
   "version": "3.6.3"
  }
 },
 "nbformat": 4,
 "nbformat_minor": 2
}
