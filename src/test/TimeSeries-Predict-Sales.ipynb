{
 "cells": [
  {
   "cell_type": "code",
   "execution_count": null,
   "metadata": {},
   "outputs": [],
   "source": [
    "import numpy as np\n",
    "import pandas as pd\n",
    "import matplotlib.pyplot as plt\n",
    "import seaborn as sns\n",
    "%matplotlib inline"
   ]
  },
  {
   "cell_type": "markdown",
   "metadata": {},
   "source": [
    "# Data Loading "
   ]
  },
  {
   "cell_type": "code",
   "execution_count": null,
   "metadata": {},
   "outputs": [],
   "source": [
    "sales_df = pd.read_csv('../../datasets/predict-sales/sales_train.csv')\n",
    "items_df = pd.read_csv('../../datasets/predict-sales/items.csv')\n",
    "test_df = pd.read_csv('../../datasets/predict-sales/test.csv')"
   ]
  },
  {
   "cell_type": "code",
   "execution_count": null,
   "metadata": {},
   "outputs": [],
   "source": [
    "sales_df.drop(labels=['date'],inplace=True,axis=1)\n",
    "sales_df = sales_df.reset_index()\n",
    "items_df.drop(labels=['item_name'],inplace=True,axis=1)"
   ]
  },
  {
   "cell_type": "code",
   "execution_count": null,
   "metadata": {},
   "outputs": [],
   "source": [
    "sales_df['ID_pair'] = sales_df[['shop_id','item_id']].apply(lambda x: str(x[0]) + '-' + str(x[1]), axis=1)"
   ]
  },
  {
   "cell_type": "code",
   "execution_count": null,
   "metadata": {},
   "outputs": [],
   "source": [
    "sales_df = sales_df.merge(items_df)"
   ]
  },
  {
   "cell_type": "code",
   "execution_count": null,
   "metadata": {},
   "outputs": [],
   "source": [
    "sales_df.info()"
   ]
  },
  {
   "cell_type": "code",
   "execution_count": null,
   "metadata": {},
   "outputs": [],
   "source": [
    "sales_df.head()"
   ]
  },
  {
   "cell_type": "markdown",
   "metadata": {},
   "source": [
    "# Visualizing Data "
   ]
  },
  {
   "cell_type": "markdown",
   "metadata": {},
   "source": [
    "Let's visualize some data from the test set:"
   ]
  },
  {
   "cell_type": "code",
   "execution_count": null,
   "metadata": {},
   "outputs": [],
   "source": [
    "def drawTimeSerie(df, sample, n):\n",
    "    for i in range(n):\n",
    "        shop_id = sample.iloc[i]['shop_id']\n",
    "        item_id = sample.iloc[i]['item_id']\n",
    "        id_df = df[(df['shop_id'] == shop_id) & (df['item_id'] == item_id)]\n",
    "        id_df_grouped = id_df[['date_block_num','item_cnt_day']].groupby('date_block_num').sum().reset_index()\n",
    "        plt.figure(figsize=[10,n*5])\n",
    "        plt.subplot(n,1,i+1)\n",
    "        plt.plot(id_df_grouped['date_block_num'], id_df_grouped['item_cnt_day'],'*-',)\n",
    "        plt.title(str(shop_id) + '-' + str(item_id))"
   ]
  },
  {
   "cell_type": "code",
   "execution_count": null,
   "metadata": {},
   "outputs": [],
   "source": [
    "n_samples = 10\n",
    "sample = test_df.sample(n=n_samples, axis=0)"
   ]
  },
  {
   "cell_type": "code",
   "execution_count": null,
   "metadata": {},
   "outputs": [],
   "source": [
    "drawTimeSerie(sales_df, sample, n_samples)"
   ]
  },
  {
   "cell_type": "markdown",
   "metadata": {},
   "source": [
    "# Preparing Data with FeatureTools (testing)"
   ]
  },
  {
   "cell_type": "code",
   "execution_count": null,
   "metadata": {},
   "outputs": [],
   "source": [
    "import featuretools as ft"
   ]
  },
  {
   "cell_type": "markdown",
   "metadata": {},
   "source": [
    "Let's evaluate the FT process "
   ]
  },
  {
   "cell_type": "markdown",
   "metadata": {},
   "source": [
    "## Pre-proccesing"
   ]
  },
  {
   "cell_type": "code",
   "execution_count": null,
   "metadata": {},
   "outputs": [],
   "source": [
    "month_id = 9"
   ]
  },
  {
   "cell_type": "code",
   "execution_count": null,
   "metadata": {},
   "outputs": [],
   "source": [
    "sales_month_df = sales_df[sales_df['date_block_num'] == month_id]"
   ]
  },
  {
   "cell_type": "code",
   "execution_count": null,
   "metadata": {},
   "outputs": [],
   "source": [
    "#sales_month_df['ID_pair'] = sales_month_df[['shop_id','item_id']].apply(lambda x: str(x[0]) + '-' + str(x[1]), axis=1)"
   ]
  },
  {
   "cell_type": "code",
   "execution_count": null,
   "metadata": {},
   "outputs": [],
   "source": [
    "#sales_month_df = sales_month_df.merge(items_df)"
   ]
  },
  {
   "cell_type": "code",
   "execution_count": null,
   "metadata": {},
   "outputs": [],
   "source": [
    "sales_month_df.head()"
   ]
  },
  {
   "cell_type": "code",
   "execution_count": null,
   "metadata": {},
   "outputs": [],
   "source": [
    "res_cat_sales = {}"
   ]
  },
  {
   "cell_type": "code",
   "execution_count": null,
   "metadata": {},
   "outputs": [],
   "source": [
    "def getResidualCategorySales(x, sales_slot_df):\n",
    "    i = str(x[0]) + '-' + str(x[1])\n",
    "    try:\n",
    "        return res_cat_sales[i]\n",
    "    except:\n",
    "        res_cat_info = sales_slot_df[(sales_slot_df['shop_id'] == x[0]) &\n",
    "                             (sales_slot_df['item_id'] != x[1]) &\n",
    "                             (sales_slot_df['item_category_id'] != x[2])][['item_price','item_cnt_day']]\n",
    "        count = res_cat_info.count()[0]\n",
    "        mean = res_cat_info.mean()\n",
    "        std = res_cat_info.std()\n",
    "        maxi = res_cat_info.max()\n",
    "        mini = res_cat_info.min()        \n",
    "        skew = res_cat_info.skew()\n",
    "        if (count > 0):\n",
    "            result = (count,mean[0],mean[1],std[0],std[1],maxi[0],maxi[1],mini[0],mini[1],skew[0],skew[1])\n",
    "        else:\n",
    "            result = (0,-1,-1,-1,-1,-1,-1)\n",
    "        res_cat_sales[i] = result\n",
    "        return result"
   ]
  },
  {
   "cell_type": "code",
   "execution_count": null,
   "metadata": {},
   "outputs": [],
   "source": [
    "# Testing function\n",
    "#getResidualCategorySales([54,18394,57])"
   ]
  },
  {
   "cell_type": "code",
   "execution_count": null,
   "metadata": {},
   "outputs": [],
   "source": [
    "sales_month_df['res_cat_sales'] = sales_month_df[['shop_id','item_id','item_category_id']].apply(getResidualCategorySales, args=[sales_month_df], axis=1)"
   ]
  },
  {
   "cell_type": "code",
   "execution_count": null,
   "metadata": {},
   "outputs": [],
   "source": [
    "sales_month_df['res_cat_count'] = sales_month_df['res_cat_sales'].apply(lambda x: x[0])\n",
    "sales_month_df['res_cat_mean_item_price'] = sales_month_df['res_cat_sales'].apply(lambda x: x[1])\n",
    "sales_month_df['res_cat_mean_item_cnt_day'] = sales_month_df['res_cat_sales'].apply(lambda x: x[2])\n",
    "sales_month_df['res_cat_std_item_price'] = sales_month_df['res_cat_sales'].apply(lambda x: x[3])\n",
    "sales_month_df['res_cat_std_item_cnt_day'] = sales_month_df['res_cat_sales'].apply(lambda x: x[4])\n",
    "sales_month_df['res_cat_max_item_price'] = sales_month_df['res_cat_sales'].apply(lambda x: x[3])\n",
    "sales_month_df['res_cat_max_item_cnt_day'] = sales_month_df['res_cat_sales'].apply(lambda x: x[5])\n",
    "sales_month_df['res_cat_min_item_price'] = sales_month_df['res_cat_sales'].apply(lambda x: x[6])\n",
    "sales_month_df['res_cat_min_item_cnt_day'] = sales_month_df['res_cat_sales'].apply(lambda x: x[7])\n",
    "sales_month_df['res_cat_skew_item_price'] = sales_month_df['res_cat_sales'].apply(lambda x: x[8])\n",
    "sales_month_df['res_cat_skew_item_cnt_day'] = sales_month_df['res_cat_sales'].apply(lambda x: x[9])\n",
    "sales_month_df.drop(labels=['res_cat_sales'], inplace=True, axis=1)"
   ]
  },
  {
   "cell_type": "code",
   "execution_count": null,
   "metadata": {},
   "outputs": [],
   "source": [
    "sales_month_df.drop(labels=['shop_id','item_id','item_category_id'], inplace=True, axis=1)"
   ]
  },
  {
   "cell_type": "code",
   "execution_count": null,
   "metadata": {},
   "outputs": [],
   "source": [
    "sales_month_df.head()"
   ]
  },
  {
   "cell_type": "markdown",
   "metadata": {},
   "source": [
    "## EntitySet Processing (Recommended by FeatureTools)"
   ]
  },
  {
   "cell_type": "code",
   "execution_count": null,
   "metadata": {},
   "outputs": [],
   "source": [
    "es = ft.EntitySet(id=\"prediction_sales\")"
   ]
  },
  {
   "cell_type": "code",
   "execution_count": null,
   "metadata": {},
   "outputs": [],
   "source": [
    "es = es.entity_from_dataframe(entity_id='sales',dataframe=sales_month_df, index='index')"
   ]
  },
  {
   "cell_type": "code",
   "execution_count": null,
   "metadata": {},
   "outputs": [],
   "source": [
    "es = es.normalize_entity(base_entity_id='sales',\n",
    "                         new_entity_id='ids',\n",
    "                         index='ID_pair',\n",
    "                         additional_variables=[\"date_block_num\",\n",
    "                                               \"res_cat_count\",\n",
    "                                               \"res_cat_mean_item_price\",\n",
    "                                               \"res_cat_mean_item_cnt_day\",\n",
    "                                               \"res_cat_std_item_price\",\n",
    "                                               \"res_cat_std_item_cnt_day\",\n",
    "                                               \"res_cat_max_item_price\",\n",
    "                                               \"res_cat_max_item_cnt_day\",\n",
    "                                               \"res_cat_min_item_price\",\n",
    "                                               \"res_cat_min_item_cnt_day\",\n",
    "                                               \"res_cat_skew_item_price\",\n",
    "                                               \"res_cat_skew_item_cnt_day\"]\n",
    "                        )"
   ]
  },
  {
   "cell_type": "code",
   "execution_count": null,
   "metadata": {},
   "outputs": [],
   "source": [
    "feature_matrix, feature_defs = ft.dfs(entityset=es, target_entity='ids')"
   ]
  },
  {
   "cell_type": "code",
   "execution_count": null,
   "metadata": {},
   "outputs": [],
   "source": [
    "#feature_matrix.info()"
   ]
  },
  {
   "cell_type": "code",
   "execution_count": null,
   "metadata": {},
   "outputs": [],
   "source": [
    "#feature_matrix.iloc[0]"
   ]
  },
  {
   "cell_type": "markdown",
   "metadata": {},
   "source": [
    "# Generating the DataSet "
   ]
  },
  {
   "cell_type": "code",
   "execution_count": null,
   "metadata": {},
   "outputs": [],
   "source": [
    "slots = sales_df['date_block_num'].nunique()"
   ]
  },
  {
   "cell_type": "code",
   "execution_count": null,
   "metadata": {},
   "outputs": [],
   "source": [
    "def generateFeatures(sales_df, months_feature, month_target):\n",
    "    print('features window:',months_feature,', target:',month_target)\n",
    "    # Step 1: Extract fetures from the previous point\n",
    "    sales_window_df = sales_df[sales_df['date_block_num'].isin(months_feature)]\n",
    "    res_cat_sales = {}\n",
    "    sales_window_df['res_cat_sales'] = sales_window_df[['shop_id','item_id','item_category_id']].apply(getResidualCategorySales, args=[sales_window_df], axis=1)\n",
    "\n",
    "    sales_window_df['res_cat_count'] = sales_window_df['res_cat_sales'].apply(lambda x: x[0])\n",
    "    sales_window_df['res_cat_mean_item_price'] = sales_window_df['res_cat_sales'].apply(lambda x: x[1])\n",
    "    sales_window_df['res_cat_mean_item_cnt_day'] = sales_window_df['res_cat_sales'].apply(lambda x: x[2])\n",
    "    sales_window_df['res_cat_std_item_price'] = sales_window_df['res_cat_sales'].apply(lambda x: x[3])\n",
    "    sales_window_df['res_cat_std_item_cnt_day'] = sales_window_df['res_cat_sales'].apply(lambda x: x[4])\n",
    "    sales_window_df['res_cat_max_item_price'] = sales_window_df['res_cat_sales'].apply(lambda x: x[3])\n",
    "    sales_window_df['res_cat_max_item_cnt_day'] = sales_window_df['res_cat_sales'].apply(lambda x: x[5])\n",
    "    sales_window_df['res_cat_min_item_price'] = sales_window_df['res_cat_sales'].apply(lambda x: x[6])\n",
    "    sales_window_df['res_cat_min_item_cnt_day'] = sales_window_df['res_cat_sales'].apply(lambda x: x[7])\n",
    "    sales_window_df['res_cat_skew_item_price'] = sales_window_df['res_cat_sales'].apply(lambda x: x[8])\n",
    "    sales_window_df['res_cat_skew_item_cnt_day'] = sales_window_df['res_cat_sales'].apply(lambda x: x[9])\n",
    "    sales_window_df.drop(labels=['res_cat_sales'], inplace=True, axis=1)\n",
    "\n",
    "    sales_window_df.drop(labels=['shop_id','item_id','item_category_id'], inplace=True, axis=1)\n",
    "    \n",
    "    es = ft.EntitySet(id=\"prediction_sales\")\n",
    "    es = es.entity_from_dataframe(entity_id='sales',dataframe=sales_window_df, index='index')\n",
    "\n",
    "    es = es.normalize_entity(base_entity_id='sales',\n",
    "                         new_entity_id='ids',\n",
    "                         index='ID_pair',\n",
    "                         additional_variables=[\"date_block_num\",\n",
    "                                               \"res_cat_count\",\n",
    "                                               \"res_cat_mean_item_price\",\n",
    "                                               \"res_cat_mean_item_cnt_day\",\n",
    "                                               \"res_cat_std_item_price\",\n",
    "                                               \"res_cat_std_item_cnt_day\",\n",
    "                                               \"res_cat_max_item_price\",\n",
    "                                               \"res_cat_max_item_cnt_day\",\n",
    "                                               \"res_cat_min_item_price\",\n",
    "                                               \"res_cat_min_item_cnt_day\",\n",
    "                                               \"res_cat_skew_item_price\",\n",
    "                                               \"res_cat_skew_item_cnt_day\"]\n",
    "                        )\n",
    "\n",
    "    feature_matrix, feature_defs = ft.dfs(entityset=es, target_entity='ids')\n",
    "    \n",
    "    # Step 2: Extract target\n",
    "    target = sales_df[sales_df['date_block_num'] == month_target][['ID_pair','item_cnt_day']].groupby('ID_pair').sum()    \n",
    "    target.columns = ['target']\n",
    "    \n",
    "    return pd.concat([feature_matrix, target], axis=1, sort=False)\n",
    "    "
   ]
  },
  {
   "cell_type": "code",
   "execution_count": null,
   "metadata": {},
   "outputs": [],
   "source": [
    "def slidingWindow(sales_df, size, slots):\n",
    "    df_final = pd.DataFrame()\n",
    "    for index in range(size,slots):\n",
    "        features_target = generateFeatures(sales_df, np.arange(index-size,index),index)\n",
    "        # TODO stack dataset\n",
    "        df_final = pd.concat([df_final,features_target], axis=0) \n",
    "    # TODO return completed dataset\n",
    "    return df_final"
   ]
  },
  {
   "cell_type": "markdown",
   "metadata": {},
   "source": [
    "## Dataset Test"
   ]
  },
  {
   "cell_type": "code",
   "execution_count": null,
   "metadata": {},
   "outputs": [],
   "source": [
    "dstest = slidingWindow(sales_df, 1,3)"
   ]
  },
  {
   "cell_type": "code",
   "execution_count": null,
   "metadata": {},
   "outputs": [],
   "source": [
    "dstest\n",
    "#dstest[dstest['MEAN(sales.item_cnt_day)'] == 0]"
   ]
  },
  {
   "cell_type": "markdown",
   "metadata": {},
   "source": [
    "## Dataset 1"
   ]
  },
  {
   "cell_type": "code",
   "execution_count": null,
   "metadata": {},
   "outputs": [],
   "source": [
    "slidingWindow(2,slots)"
   ]
  },
  {
   "cell_type": "markdown",
   "metadata": {},
   "source": [
    "## Dataset 2)"
   ]
  },
  {
   "cell_type": "code",
   "execution_count": null,
   "metadata": {},
   "outputs": [],
   "source": [
    "slidingWindow(3,slots)"
   ]
  },
  {
   "cell_type": "markdown",
   "metadata": {},
   "source": [
    "## Dataset 3"
   ]
  },
  {
   "cell_type": "code",
   "execution_count": null,
   "metadata": {},
   "outputs": [],
   "source": [
    "slidingWindow(4,slots)"
   ]
  },
  {
   "cell_type": "markdown",
   "metadata": {},
   "source": [
    "## Dataset 4"
   ]
  },
  {
   "cell_type": "code",
   "execution_count": null,
   "metadata": {},
   "outputs": [],
   "source": [
    "slidingWindow(5,slots)"
   ]
  },
  {
   "cell_type": "markdown",
   "metadata": {},
   "source": [
    "## Dataset 5"
   ]
  },
  {
   "cell_type": "code",
   "execution_count": null,
   "metadata": {},
   "outputs": [],
   "source": [
    "slidingWindow(6,slots)"
   ]
  },
  {
   "cell_type": "markdown",
   "metadata": {},
   "source": [
    "## Dataset 6"
   ]
  },
  {
   "cell_type": "code",
   "execution_count": null,
   "metadata": {},
   "outputs": [],
   "source": [
    "slidingWindow(7,slots)"
   ]
  },
  {
   "cell_type": "markdown",
   "metadata": {},
   "source": [
    "# End of Case! "
   ]
  },
  {
   "cell_type": "code",
   "execution_count": null,
   "metadata": {},
   "outputs": [],
   "source": []
  }
 ],
 "metadata": {
  "kernelspec": {
   "display_name": "Python 3",
   "language": "python",
   "name": "python3"
  },
  "language_info": {
   "codemirror_mode": {
    "name": "ipython",
    "version": 3
   },
   "file_extension": ".py",
   "mimetype": "text/x-python",
   "name": "python",
   "nbconvert_exporter": "python",
   "pygments_lexer": "ipython3",
   "version": "3.6.3"
  }
 },
 "nbformat": 4,
 "nbformat_minor": 2
}
