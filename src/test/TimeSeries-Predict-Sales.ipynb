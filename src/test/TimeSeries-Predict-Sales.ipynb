{
 "cells": [
  {
   "cell_type": "code",
   "execution_count": 49,
   "metadata": {},
   "outputs": [],
   "source": [
    "import numpy as np\n",
    "import pandas as pd\n",
    "import matplotlib.pyplot as plt\n",
    "import seaborn as sns\n",
    "%matplotlib inline"
   ]
  },
  {
   "cell_type": "markdown",
   "metadata": {},
   "source": [
    "# Data Loading "
   ]
  },
  {
   "cell_type": "code",
   "execution_count": 50,
   "metadata": {},
   "outputs": [],
   "source": [
    "sales_df = pd.read_csv('../../datasets/predict-sales/sales_train.csv')\n",
    "items_df = pd.read_csv('../../datasets/predict-sales/items.csv')\n",
    "test_df = pd.read_csv('../../datasets/predict-sales/test.csv')"
   ]
  },
  {
   "cell_type": "code",
   "execution_count": 51,
   "metadata": {},
   "outputs": [],
   "source": [
    "sales_df.drop(labels=['date'],inplace=True,axis=1)\n",
    "sales_df = sales_df.reset_index()\n",
    "items_df.drop(labels=['item_name'],inplace=True,axis=1)"
   ]
  },
  {
   "cell_type": "code",
   "execution_count": 53,
   "metadata": {},
   "outputs": [],
   "source": [
    "sales_df['ID_pair'] = sales_df[['shop_id','item_id']].apply(lambda x: str(x[0]) + '-' + str(x[1]), axis=1)"
   ]
  },
  {
   "cell_type": "code",
   "execution_count": 57,
   "metadata": {},
   "outputs": [],
   "source": [
    "sales_df = sales_df.merge(items_df)"
   ]
  },
  {
   "cell_type": "code",
   "execution_count": 65,
   "metadata": {},
   "outputs": [
    {
     "name": "stdout",
     "output_type": "stream",
     "text": [
      "<class 'pandas.core.frame.DataFrame'>\n",
      "Int64Index: 2935849 entries, 0 to 2935848\n",
      "Data columns (total 8 columns):\n",
      "index               int64\n",
      "date_block_num      int64\n",
      "shop_id             int64\n",
      "item_id             int64\n",
      "item_price          float64\n",
      "item_cnt_day        float64\n",
      "ID_pair             object\n",
      "item_category_id    int64\n",
      "dtypes: float64(2), int64(5), object(1)\n",
      "memory usage: 201.6+ MB\n"
     ]
    }
   ],
   "source": [
    "sales_df.info()"
   ]
  },
  {
   "cell_type": "code",
   "execution_count": 66,
   "metadata": {},
   "outputs": [
    {
     "data": {
      "text/html": [
       "<div>\n",
       "<style scoped>\n",
       "    .dataframe tbody tr th:only-of-type {\n",
       "        vertical-align: middle;\n",
       "    }\n",
       "\n",
       "    .dataframe tbody tr th {\n",
       "        vertical-align: top;\n",
       "    }\n",
       "\n",
       "    .dataframe thead th {\n",
       "        text-align: right;\n",
       "    }\n",
       "</style>\n",
       "<table border=\"1\" class=\"dataframe\">\n",
       "  <thead>\n",
       "    <tr style=\"text-align: right;\">\n",
       "      <th></th>\n",
       "      <th>index</th>\n",
       "      <th>date_block_num</th>\n",
       "      <th>shop_id</th>\n",
       "      <th>item_id</th>\n",
       "      <th>item_price</th>\n",
       "      <th>item_cnt_day</th>\n",
       "      <th>ID_pair</th>\n",
       "      <th>item_category_id</th>\n",
       "    </tr>\n",
       "  </thead>\n",
       "  <tbody>\n",
       "    <tr>\n",
       "      <th>0</th>\n",
       "      <td>0</td>\n",
       "      <td>0</td>\n",
       "      <td>59</td>\n",
       "      <td>22154</td>\n",
       "      <td>999.0</td>\n",
       "      <td>1.0</td>\n",
       "      <td>59-22154</td>\n",
       "      <td>37</td>\n",
       "    </tr>\n",
       "    <tr>\n",
       "      <th>1</th>\n",
       "      <td>3270</td>\n",
       "      <td>0</td>\n",
       "      <td>24</td>\n",
       "      <td>22154</td>\n",
       "      <td>999.0</td>\n",
       "      <td>1.0</td>\n",
       "      <td>24-22154</td>\n",
       "      <td>37</td>\n",
       "    </tr>\n",
       "    <tr>\n",
       "      <th>2</th>\n",
       "      <td>17081</td>\n",
       "      <td>0</td>\n",
       "      <td>27</td>\n",
       "      <td>22154</td>\n",
       "      <td>999.0</td>\n",
       "      <td>1.0</td>\n",
       "      <td>27-22154</td>\n",
       "      <td>37</td>\n",
       "    </tr>\n",
       "    <tr>\n",
       "      <th>3</th>\n",
       "      <td>25918</td>\n",
       "      <td>0</td>\n",
       "      <td>25</td>\n",
       "      <td>22154</td>\n",
       "      <td>999.0</td>\n",
       "      <td>1.0</td>\n",
       "      <td>25-22154</td>\n",
       "      <td>37</td>\n",
       "    </tr>\n",
       "    <tr>\n",
       "      <th>4</th>\n",
       "      <td>25919</td>\n",
       "      <td>0</td>\n",
       "      <td>25</td>\n",
       "      <td>22154</td>\n",
       "      <td>999.0</td>\n",
       "      <td>1.0</td>\n",
       "      <td>25-22154</td>\n",
       "      <td>37</td>\n",
       "    </tr>\n",
       "  </tbody>\n",
       "</table>\n",
       "</div>"
      ],
      "text/plain": [
       "   index  date_block_num  shop_id  item_id  item_price  item_cnt_day  \\\n",
       "0      0               0       59    22154       999.0           1.0   \n",
       "1   3270               0       24    22154       999.0           1.0   \n",
       "2  17081               0       27    22154       999.0           1.0   \n",
       "3  25918               0       25    22154       999.0           1.0   \n",
       "4  25919               0       25    22154       999.0           1.0   \n",
       "\n",
       "    ID_pair  item_category_id  \n",
       "0  59-22154                37  \n",
       "1  24-22154                37  \n",
       "2  27-22154                37  \n",
       "3  25-22154                37  \n",
       "4  25-22154                37  "
      ]
     },
     "execution_count": 66,
     "metadata": {},
     "output_type": "execute_result"
    }
   ],
   "source": [
    "sales_df.head()"
   ]
  },
  {
   "cell_type": "markdown",
   "metadata": {},
   "source": [
    "# Visualizing Data "
   ]
  },
  {
   "cell_type": "markdown",
   "metadata": {},
   "source": [
    "Let's visualize some data from the test set:"
   ]
  },
  {
   "cell_type": "code",
   "execution_count": null,
   "metadata": {},
   "outputs": [],
   "source": [
    "def drawTimeSerie(df, sample, n):\n",
    "    for i in range(n):\n",
    "        shop_id = sample.iloc[i]['shop_id']\n",
    "        item_id = sample.iloc[i]['item_id']\n",
    "        id_df = df[(df['shop_id'] == shop_id) & (df['item_id'] == item_id)]\n",
    "        id_df_grouped = id_df[['date_block_num','item_cnt_day']].groupby('date_block_num').sum().reset_index()\n",
    "        plt.figure(figsize=[10,n*5])\n",
    "        plt.subplot(n,1,i+1)\n",
    "        plt.plot(id_df_grouped['date_block_num'], id_df_grouped['item_cnt_day'],'*-',)\n",
    "        plt.title(str(shop_id) + '-' + str(item_id))"
   ]
  },
  {
   "cell_type": "code",
   "execution_count": null,
   "metadata": {},
   "outputs": [],
   "source": [
    "n_samples = 10\n",
    "sample = test_df.sample(n=n_samples, axis=0)"
   ]
  },
  {
   "cell_type": "code",
   "execution_count": null,
   "metadata": {},
   "outputs": [],
   "source": [
    "drawTimeSerie(sales_df, sample, n_samples)"
   ]
  },
  {
   "cell_type": "markdown",
   "metadata": {},
   "source": [
    "# Preparing Data with FeatureTools (testing)"
   ]
  },
  {
   "cell_type": "code",
   "execution_count": 6,
   "metadata": {},
   "outputs": [],
   "source": [
    "import featuretools as ft"
   ]
  },
  {
   "cell_type": "markdown",
   "metadata": {},
   "source": [
    "Let's evaluate the FT process "
   ]
  },
  {
   "cell_type": "markdown",
   "metadata": {},
   "source": [
    "## Pre-proccesing"
   ]
  },
  {
   "cell_type": "code",
   "execution_count": 7,
   "metadata": {},
   "outputs": [],
   "source": [
    "month_id = 15"
   ]
  },
  {
   "cell_type": "code",
   "execution_count": 8,
   "metadata": {},
   "outputs": [],
   "source": [
    "sales_month_df = sales_df[sales_df['date_block_num'] == month_id]"
   ]
  },
  {
   "cell_type": "code",
   "execution_count": 9,
   "metadata": {},
   "outputs": [],
   "source": [
    "#sales_month_df['ID_pair'] = sales_month_df[['shop_id','item_id']].apply(lambda x: str(x[0]) + '-' + str(x[1]), axis=1)"
   ]
  },
  {
   "cell_type": "code",
   "execution_count": 10,
   "metadata": {},
   "outputs": [],
   "source": [
    "#sales_month_df = sales_month_df.merge(items_df)"
   ]
  },
  {
   "cell_type": "code",
   "execution_count": 11,
   "metadata": {},
   "outputs": [
    {
     "data": {
      "text/html": [
       "<div>\n",
       "<style scoped>\n",
       "    .dataframe tbody tr th:only-of-type {\n",
       "        vertical-align: middle;\n",
       "    }\n",
       "\n",
       "    .dataframe tbody tr th {\n",
       "        vertical-align: top;\n",
       "    }\n",
       "\n",
       "    .dataframe thead th {\n",
       "        text-align: right;\n",
       "    }\n",
       "</style>\n",
       "<table border=\"1\" class=\"dataframe\">\n",
       "  <thead>\n",
       "    <tr style=\"text-align: right;\">\n",
       "      <th></th>\n",
       "      <th>index</th>\n",
       "      <th>date_block_num</th>\n",
       "      <th>shop_id</th>\n",
       "      <th>item_id</th>\n",
       "      <th>item_price</th>\n",
       "      <th>item_cnt_day</th>\n",
       "      <th>ID_pair</th>\n",
       "      <th>item_category_id</th>\n",
       "    </tr>\n",
       "  </thead>\n",
       "  <tbody>\n",
       "    <tr>\n",
       "      <th>0</th>\n",
       "      <td>1549474</td>\n",
       "      <td>15</td>\n",
       "      <td>54</td>\n",
       "      <td>18394</td>\n",
       "      <td>299.0</td>\n",
       "      <td>1.0</td>\n",
       "      <td>54-18394</td>\n",
       "      <td>57</td>\n",
       "    </tr>\n",
       "    <tr>\n",
       "      <th>1</th>\n",
       "      <td>1549475</td>\n",
       "      <td>15</td>\n",
       "      <td>54</td>\n",
       "      <td>18394</td>\n",
       "      <td>299.0</td>\n",
       "      <td>1.0</td>\n",
       "      <td>54-18394</td>\n",
       "      <td>57</td>\n",
       "    </tr>\n",
       "    <tr>\n",
       "      <th>2</th>\n",
       "      <td>1549482</td>\n",
       "      <td>15</td>\n",
       "      <td>54</td>\n",
       "      <td>18394</td>\n",
       "      <td>299.0</td>\n",
       "      <td>1.0</td>\n",
       "      <td>54-18394</td>\n",
       "      <td>57</td>\n",
       "    </tr>\n",
       "    <tr>\n",
       "      <th>3</th>\n",
       "      <td>1562915</td>\n",
       "      <td>15</td>\n",
       "      <td>57</td>\n",
       "      <td>18394</td>\n",
       "      <td>299.0</td>\n",
       "      <td>1.0</td>\n",
       "      <td>57-18394</td>\n",
       "      <td>57</td>\n",
       "    </tr>\n",
       "    <tr>\n",
       "      <th>4</th>\n",
       "      <td>1564393</td>\n",
       "      <td>15</td>\n",
       "      <td>24</td>\n",
       "      <td>18394</td>\n",
       "      <td>299.0</td>\n",
       "      <td>1.0</td>\n",
       "      <td>24-18394</td>\n",
       "      <td>57</td>\n",
       "    </tr>\n",
       "  </tbody>\n",
       "</table>\n",
       "</div>"
      ],
      "text/plain": [
       "     index  date_block_num  shop_id  item_id  item_price  item_cnt_day  \\\n",
       "0  1549474              15       54    18394       299.0           1.0   \n",
       "1  1549475              15       54    18394       299.0           1.0   \n",
       "2  1549482              15       54    18394       299.0           1.0   \n",
       "3  1562915              15       57    18394       299.0           1.0   \n",
       "4  1564393              15       24    18394       299.0           1.0   \n",
       "\n",
       "    ID_pair  item_category_id  \n",
       "0  54-18394                57  \n",
       "1  54-18394                57  \n",
       "2  54-18394                57  \n",
       "3  57-18394                57  \n",
       "4  24-18394                57  "
      ]
     },
     "execution_count": 11,
     "metadata": {},
     "output_type": "execute_result"
    }
   ],
   "source": [
    "sales_month_df.head()"
   ]
  },
  {
   "cell_type": "code",
   "execution_count": 12,
   "metadata": {},
   "outputs": [],
   "source": [
    "res_cat_sales = {}"
   ]
  },
  {
   "cell_type": "code",
   "execution_count": 13,
   "metadata": {},
   "outputs": [],
   "source": [
    "def getResidualCategorySales(x):\n",
    "    i = str(x[0]) + '-' + str(x[1])\n",
    "    try:\n",
    "        return res_cat_sales[i]\n",
    "    except:\n",
    "        res_cat_info = sales_month_df[(sales_month_df['shop_id'] == x[0]) &\n",
    "                             (sales_month_df['item_id'] != x[1]) &\n",
    "                             (sales_month_df['item_category_id'] != x[2])][['item_price','item_cnt_day']]\n",
    "        count = res_cat_info.count()[0]\n",
    "        mean = res_cat_info.mean()\n",
    "        std = res_cat_info.std()\n",
    "        maxi = res_cat_info.max()\n",
    "        mini = res_cat_info.min()        \n",
    "        skew = res_cat_info.skew()\n",
    "        if (count > 0):\n",
    "            result = (count,mean[0],mean[1],std[0],std[1],maxi[0],maxi[1],mini[0],mini[1],skew[0],skew[1])\n",
    "        else:\n",
    "            result = (0,-1,-1,-1,-1,-1,-1)\n",
    "        res_cat_sales[i] = result\n",
    "        return result"
   ]
  },
  {
   "cell_type": "code",
   "execution_count": 15,
   "metadata": {},
   "outputs": [],
   "source": [
    "# Testing function\n",
    "#getResidualCategorySales([54,18394,57])"
   ]
  },
  {
   "cell_type": "code",
   "execution_count": 16,
   "metadata": {},
   "outputs": [],
   "source": [
    "sales_month_df['res_cat_sales'] = sales_month_df[['shop_id','item_id','item_category_id']].apply(getResidualCategorySales, axis=1)"
   ]
  },
  {
   "cell_type": "code",
   "execution_count": 17,
   "metadata": {},
   "outputs": [],
   "source": [
    "sales_month_df['res_cat_count'] = sales_month_df['res_cat_sales'].apply(lambda x: x[0])\n",
    "sales_month_df['res_cat_mean_item_price'] = sales_month_df['res_cat_sales'].apply(lambda x: x[1])\n",
    "sales_month_df['res_cat_mean_item_cnt_day'] = sales_month_df['res_cat_sales'].apply(lambda x: x[2])\n",
    "sales_month_df['res_cat_std_item_price'] = sales_month_df['res_cat_sales'].apply(lambda x: x[3])\n",
    "sales_month_df['res_cat_std_item_cnt_day'] = sales_month_df['res_cat_sales'].apply(lambda x: x[4])\n",
    "sales_month_df['res_cat_max_item_price'] = sales_month_df['res_cat_sales'].apply(lambda x: x[3])\n",
    "sales_month_df['res_cat_max_item_cnt_day'] = sales_month_df['res_cat_sales'].apply(lambda x: x[5])\n",
    "sales_month_df['res_cat_min_item_price'] = sales_month_df['res_cat_sales'].apply(lambda x: x[6])\n",
    "sales_month_df['res_cat_min_item_cnt_day'] = sales_month_df['res_cat_sales'].apply(lambda x: x[7])\n",
    "sales_month_df['res_cat_skew_item_price'] = sales_month_df['res_cat_sales'].apply(lambda x: x[8])\n",
    "sales_month_df['res_cat_skew_item_cnt_day'] = sales_month_df['res_cat_sales'].apply(lambda x: x[9])\n",
    "sales_month_df.drop(labels=['res_cat_sales'], inplace=True, axis=1)"
   ]
  },
  {
   "cell_type": "code",
   "execution_count": 18,
   "metadata": {},
   "outputs": [],
   "source": [
    "sales_month_df.drop(labels=['shop_id','item_id','item_category_id'], inplace=True, axis=1)"
   ]
  },
  {
   "cell_type": "code",
   "execution_count": 19,
   "metadata": {},
   "outputs": [
    {
     "data": {
      "text/html": [
       "<div>\n",
       "<style scoped>\n",
       "    .dataframe tbody tr th:only-of-type {\n",
       "        vertical-align: middle;\n",
       "    }\n",
       "\n",
       "    .dataframe tbody tr th {\n",
       "        vertical-align: top;\n",
       "    }\n",
       "\n",
       "    .dataframe thead th {\n",
       "        text-align: right;\n",
       "    }\n",
       "</style>\n",
       "<table border=\"1\" class=\"dataframe\">\n",
       "  <thead>\n",
       "    <tr style=\"text-align: right;\">\n",
       "      <th></th>\n",
       "      <th>index</th>\n",
       "      <th>date_block_num</th>\n",
       "      <th>item_price</th>\n",
       "      <th>item_cnt_day</th>\n",
       "      <th>ID_pair</th>\n",
       "      <th>res_cat_count</th>\n",
       "      <th>res_cat_mean_item_price</th>\n",
       "      <th>res_cat_mean_item_cnt_day</th>\n",
       "      <th>res_cat_std_item_price</th>\n",
       "      <th>res_cat_std_item_cnt_day</th>\n",
       "      <th>res_cat_max_item_price</th>\n",
       "      <th>res_cat_max_item_cnt_day</th>\n",
       "      <th>res_cat_min_item_price</th>\n",
       "      <th>res_cat_min_item_cnt_day</th>\n",
       "      <th>res_cat_skew_item_price</th>\n",
       "      <th>res_cat_skew_item_cnt_day</th>\n",
       "    </tr>\n",
       "  </thead>\n",
       "  <tbody>\n",
       "    <tr>\n",
       "      <th>0</th>\n",
       "      <td>1549474</td>\n",
       "      <td>15</td>\n",
       "      <td>299.0</td>\n",
       "      <td>1.0</td>\n",
       "      <td>54-18394</td>\n",
       "      <td>4048</td>\n",
       "      <td>759.170188</td>\n",
       "      <td>1.358696</td>\n",
       "      <td>1337.134210</td>\n",
       "      <td>4.963847</td>\n",
       "      <td>1337.134210</td>\n",
       "      <td>22990.0</td>\n",
       "      <td>300.0</td>\n",
       "      <td>5.0</td>\n",
       "      <td>-1.0</td>\n",
       "      <td>9.849766</td>\n",
       "    </tr>\n",
       "    <tr>\n",
       "      <th>1</th>\n",
       "      <td>1549475</td>\n",
       "      <td>15</td>\n",
       "      <td>299.0</td>\n",
       "      <td>1.0</td>\n",
       "      <td>54-18394</td>\n",
       "      <td>4048</td>\n",
       "      <td>759.170188</td>\n",
       "      <td>1.358696</td>\n",
       "      <td>1337.134210</td>\n",
       "      <td>4.963847</td>\n",
       "      <td>1337.134210</td>\n",
       "      <td>22990.0</td>\n",
       "      <td>300.0</td>\n",
       "      <td>5.0</td>\n",
       "      <td>-1.0</td>\n",
       "      <td>9.849766</td>\n",
       "    </tr>\n",
       "    <tr>\n",
       "      <th>2</th>\n",
       "      <td>1549482</td>\n",
       "      <td>15</td>\n",
       "      <td>299.0</td>\n",
       "      <td>1.0</td>\n",
       "      <td>54-18394</td>\n",
       "      <td>4048</td>\n",
       "      <td>759.170188</td>\n",
       "      <td>1.358696</td>\n",
       "      <td>1337.134210</td>\n",
       "      <td>4.963847</td>\n",
       "      <td>1337.134210</td>\n",
       "      <td>22990.0</td>\n",
       "      <td>300.0</td>\n",
       "      <td>5.0</td>\n",
       "      <td>-1.0</td>\n",
       "      <td>9.849766</td>\n",
       "    </tr>\n",
       "    <tr>\n",
       "      <th>3</th>\n",
       "      <td>1562915</td>\n",
       "      <td>15</td>\n",
       "      <td>299.0</td>\n",
       "      <td>1.0</td>\n",
       "      <td>57-18394</td>\n",
       "      <td>3470</td>\n",
       "      <td>751.792670</td>\n",
       "      <td>1.251009</td>\n",
       "      <td>1703.931685</td>\n",
       "      <td>1.109768</td>\n",
       "      <td>1703.931685</td>\n",
       "      <td>23990.0</td>\n",
       "      <td>21.0</td>\n",
       "      <td>5.0</td>\n",
       "      <td>-1.0</td>\n",
       "      <td>9.666128</td>\n",
       "    </tr>\n",
       "    <tr>\n",
       "      <th>4</th>\n",
       "      <td>1564393</td>\n",
       "      <td>15</td>\n",
       "      <td>299.0</td>\n",
       "      <td>1.0</td>\n",
       "      <td>24-18394</td>\n",
       "      <td>1429</td>\n",
       "      <td>992.354084</td>\n",
       "      <td>1.172848</td>\n",
       "      <td>1806.535835</td>\n",
       "      <td>1.011941</td>\n",
       "      <td>1806.535835</td>\n",
       "      <td>22990.0</td>\n",
       "      <td>31.0</td>\n",
       "      <td>5.0</td>\n",
       "      <td>-1.0</td>\n",
       "      <td>8.068218</td>\n",
       "    </tr>\n",
       "  </tbody>\n",
       "</table>\n",
       "</div>"
      ],
      "text/plain": [
       "     index  date_block_num  item_price  item_cnt_day   ID_pair  res_cat_count  \\\n",
       "0  1549474              15       299.0           1.0  54-18394           4048   \n",
       "1  1549475              15       299.0           1.0  54-18394           4048   \n",
       "2  1549482              15       299.0           1.0  54-18394           4048   \n",
       "3  1562915              15       299.0           1.0  57-18394           3470   \n",
       "4  1564393              15       299.0           1.0  24-18394           1429   \n",
       "\n",
       "   res_cat_mean_item_price  res_cat_mean_item_cnt_day  res_cat_std_item_price  \\\n",
       "0               759.170188                   1.358696             1337.134210   \n",
       "1               759.170188                   1.358696             1337.134210   \n",
       "2               759.170188                   1.358696             1337.134210   \n",
       "3               751.792670                   1.251009             1703.931685   \n",
       "4               992.354084                   1.172848             1806.535835   \n",
       "\n",
       "   res_cat_std_item_cnt_day  res_cat_max_item_price  res_cat_max_item_cnt_day  \\\n",
       "0                  4.963847             1337.134210                   22990.0   \n",
       "1                  4.963847             1337.134210                   22990.0   \n",
       "2                  4.963847             1337.134210                   22990.0   \n",
       "3                  1.109768             1703.931685                   23990.0   \n",
       "4                  1.011941             1806.535835                   22990.0   \n",
       "\n",
       "   res_cat_min_item_price  res_cat_min_item_cnt_day  res_cat_skew_item_price  \\\n",
       "0                   300.0                       5.0                     -1.0   \n",
       "1                   300.0                       5.0                     -1.0   \n",
       "2                   300.0                       5.0                     -1.0   \n",
       "3                    21.0                       5.0                     -1.0   \n",
       "4                    31.0                       5.0                     -1.0   \n",
       "\n",
       "   res_cat_skew_item_cnt_day  \n",
       "0                   9.849766  \n",
       "1                   9.849766  \n",
       "2                   9.849766  \n",
       "3                   9.666128  \n",
       "4                   8.068218  "
      ]
     },
     "execution_count": 19,
     "metadata": {},
     "output_type": "execute_result"
    }
   ],
   "source": [
    "sales_month_df.head()"
   ]
  },
  {
   "cell_type": "markdown",
   "metadata": {},
   "source": [
    "## EntitySet Processing (Recommended by FeatureTools)"
   ]
  },
  {
   "cell_type": "code",
   "execution_count": 20,
   "metadata": {},
   "outputs": [],
   "source": [
    "es = ft.EntitySet(id=\"prediction_sales\")"
   ]
  },
  {
   "cell_type": "code",
   "execution_count": 21,
   "metadata": {},
   "outputs": [],
   "source": [
    "es = es.entity_from_dataframe(entity_id='sales',dataframe=sales_month_df, index='index')"
   ]
  },
  {
   "cell_type": "code",
   "execution_count": 22,
   "metadata": {},
   "outputs": [],
   "source": [
    "es = es.normalize_entity(base_entity_id='sales',\n",
    "                         new_entity_id='ids',\n",
    "                         index='ID_pair',\n",
    "                         additional_variables=[\"date_block_num\",\n",
    "                                               \"res_cat_count\",\n",
    "                                               \"res_cat_mean_item_price\",\n",
    "                                               \"res_cat_mean_item_cnt_day\",\n",
    "                                               \"res_cat_std_item_price\",\n",
    "                                               \"res_cat_std_item_cnt_day\",\n",
    "                                               \"res_cat_max_item_price\",\n",
    "                                               \"res_cat_max_item_cnt_day\",\n",
    "                                               \"res_cat_min_item_price\",\n",
    "                                               \"res_cat_min_item_cnt_day\",\n",
    "                                               \"res_cat_skew_item_price\",\n",
    "                                               \"res_cat_skew_item_cnt_day\"]\n",
    "                        )"
   ]
  },
  {
   "cell_type": "code",
   "execution_count": 23,
   "metadata": {},
   "outputs": [],
   "source": [
    "feature_matrix, feature_defs = ft.dfs(entityset=es, target_entity='ids')"
   ]
  },
  {
   "cell_type": "code",
   "execution_count": 40,
   "metadata": {},
   "outputs": [
    {
     "name": "stdout",
     "output_type": "stream",
     "text": [
      "<class 'pandas.core.frame.DataFrame'>\n",
      "Index: 44740 entries, 10-10089 to 7-9929\n",
      "Data columns (total 25 columns):\n",
      "date_block_num               44740 non-null int64\n",
      "res_cat_count                44740 non-null int64\n",
      "res_cat_mean_item_price      44740 non-null float64\n",
      "res_cat_mean_item_cnt_day    44740 non-null float64\n",
      "res_cat_std_item_price       44740 non-null float64\n",
      "res_cat_std_item_cnt_day     44740 non-null float64\n",
      "res_cat_max_item_price       44740 non-null float64\n",
      "res_cat_max_item_cnt_day     44740 non-null float64\n",
      "res_cat_min_item_price       44740 non-null float64\n",
      "res_cat_min_item_cnt_day     44740 non-null float64\n",
      "res_cat_skew_item_price      44740 non-null float64\n",
      "res_cat_skew_item_cnt_day    44740 non-null float64\n",
      "SUM(sales.item_price)        44740 non-null float64\n",
      "SUM(sales.item_cnt_day)      44740 non-null float64\n",
      "STD(sales.item_price)        13913 non-null float64\n",
      "STD(sales.item_cnt_day)      13913 non-null float64\n",
      "MAX(sales.item_price)        44740 non-null float64\n",
      "MAX(sales.item_cnt_day)      44740 non-null float64\n",
      "SKEW(sales.item_price)       6510 non-null float64\n",
      "SKEW(sales.item_cnt_day)     6510 non-null float64\n",
      "MIN(sales.item_price)        44740 non-null float64\n",
      "MIN(sales.item_cnt_day)      44740 non-null float64\n",
      "MEAN(sales.item_price)       44740 non-null float64\n",
      "MEAN(sales.item_cnt_day)     44740 non-null float64\n",
      "COUNT(sales)                 44740 non-null int64\n",
      "dtypes: float64(22), int64(3)\n",
      "memory usage: 8.9+ MB\n"
     ]
    }
   ],
   "source": [
    "#feature_matrix.info()"
   ]
  },
  {
   "cell_type": "code",
   "execution_count": 41,
   "metadata": {},
   "outputs": [],
   "source": [
    "#feature_matrix.iloc[0]"
   ]
  },
  {
   "cell_type": "markdown",
   "metadata": {},
   "source": [
    "# Generating the DataSet "
   ]
  },
  {
   "cell_type": "code",
   "execution_count": 78,
   "metadata": {},
   "outputs": [],
   "source": [
    "slots = sales_df['date_block_num'].nunique()"
   ]
  },
  {
   "cell_type": "code",
   "execution_count": 110,
   "metadata": {},
   "outputs": [],
   "source": [
    "def generateFeatures(months_feature, month_target):\n",
    "    print('features window:',months_feature,', target:',month_target)\n",
    "    # TODO Extract from the previous point\n",
    "    pass"
   ]
  },
  {
   "cell_type": "code",
   "execution_count": 111,
   "metadata": {},
   "outputs": [],
   "source": [
    "def slidingWindow(size, slots):\n",
    "    for index in range(size,slots):\n",
    "        dataset_block = generateFeatures(np.arange(index-size,index),index)\n",
    "        # TODO stack dataset\n",
    "        # TODO return completed dataset"
   ]
  },
  {
   "cell_type": "markdown",
   "metadata": {},
   "source": [
    "## Dataset 1 (5)"
   ]
  },
  {
   "cell_type": "code",
   "execution_count": 118,
   "metadata": {},
   "outputs": [
    {
     "name": "stdout",
     "output_type": "stream",
     "text": [
      "features window: [0 1 2 3 4] , target: 5\n",
      "features window: [1 2 3 4 5] , target: 6\n",
      "features window: [2 3 4 5 6] , target: 7\n",
      "features window: [3 4 5 6 7] , target: 8\n",
      "features window: [4 5 6 7 8] , target: 9\n",
      "features window: [5 6 7 8 9] , target: 10\n",
      "features window: [ 6  7  8  9 10] , target: 11\n",
      "features window: [ 7  8  9 10 11] , target: 12\n",
      "features window: [ 8  9 10 11 12] , target: 13\n",
      "features window: [ 9 10 11 12 13] , target: 14\n",
      "features window: [10 11 12 13 14] , target: 15\n",
      "features window: [11 12 13 14 15] , target: 16\n",
      "features window: [12 13 14 15 16] , target: 17\n",
      "features window: [13 14 15 16 17] , target: 18\n",
      "features window: [14 15 16 17 18] , target: 19\n",
      "features window: [15 16 17 18 19] , target: 20\n",
      "features window: [16 17 18 19 20] , target: 21\n",
      "features window: [17 18 19 20 21] , target: 22\n",
      "features window: [18 19 20 21 22] , target: 23\n",
      "features window: [19 20 21 22 23] , target: 24\n",
      "features window: [20 21 22 23 24] , target: 25\n",
      "features window: [21 22 23 24 25] , target: 26\n",
      "features window: [22 23 24 25 26] , target: 27\n",
      "features window: [23 24 25 26 27] , target: 28\n",
      "features window: [24 25 26 27 28] , target: 29\n",
      "features window: [25 26 27 28 29] , target: 30\n",
      "features window: [26 27 28 29 30] , target: 31\n",
      "features window: [27 28 29 30 31] , target: 32\n",
      "features window: [28 29 30 31 32] , target: 33\n"
     ]
    }
   ],
   "source": [
    "slidingWindow(5,slots)"
   ]
  },
  {
   "cell_type": "markdown",
   "metadata": {},
   "source": [
    "## Dataset 2 (10)"
   ]
  },
  {
   "cell_type": "code",
   "execution_count": 122,
   "metadata": {},
   "outputs": [
    {
     "name": "stdout",
     "output_type": "stream",
     "text": [
      "features window: [0 1 2 3 4 5 6 7 8 9] , target: 10\n",
      "features window: [ 1  2  3  4  5  6  7  8  9 10] , target: 11\n",
      "features window: [ 2  3  4  5  6  7  8  9 10 11] , target: 12\n",
      "features window: [ 3  4  5  6  7  8  9 10 11 12] , target: 13\n",
      "features window: [ 4  5  6  7  8  9 10 11 12 13] , target: 14\n",
      "features window: [ 5  6  7  8  9 10 11 12 13 14] , target: 15\n",
      "features window: [ 6  7  8  9 10 11 12 13 14 15] , target: 16\n",
      "features window: [ 7  8  9 10 11 12 13 14 15 16] , target: 17\n",
      "features window: [ 8  9 10 11 12 13 14 15 16 17] , target: 18\n",
      "features window: [ 9 10 11 12 13 14 15 16 17 18] , target: 19\n",
      "features window: [10 11 12 13 14 15 16 17 18 19] , target: 20\n",
      "features window: [11 12 13 14 15 16 17 18 19 20] , target: 21\n",
      "features window: [12 13 14 15 16 17 18 19 20 21] , target: 22\n",
      "features window: [13 14 15 16 17 18 19 20 21 22] , target: 23\n",
      "features window: [14 15 16 17 18 19 20 21 22 23] , target: 24\n",
      "features window: [15 16 17 18 19 20 21 22 23 24] , target: 25\n",
      "features window: [16 17 18 19 20 21 22 23 24 25] , target: 26\n",
      "features window: [17 18 19 20 21 22 23 24 25 26] , target: 27\n",
      "features window: [18 19 20 21 22 23 24 25 26 27] , target: 28\n",
      "features window: [19 20 21 22 23 24 25 26 27 28] , target: 29\n",
      "features window: [20 21 22 23 24 25 26 27 28 29] , target: 30\n",
      "features window: [21 22 23 24 25 26 27 28 29 30] , target: 31\n",
      "features window: [22 23 24 25 26 27 28 29 30 31] , target: 32\n",
      "features window: [23 24 25 26 27 28 29 30 31 32] , target: 33\n"
     ]
    }
   ],
   "source": [
    "slidingWindow(10,slots)"
   ]
  },
  {
   "cell_type": "markdown",
   "metadata": {},
   "source": [
    "## Dataset 3 (15)"
   ]
  },
  {
   "cell_type": "code",
   "execution_count": 123,
   "metadata": {},
   "outputs": [
    {
     "name": "stdout",
     "output_type": "stream",
     "text": [
      "features window: [ 0  1  2  3  4  5  6  7  8  9 10 11 12 13 14] , target: 15\n",
      "features window: [ 1  2  3  4  5  6  7  8  9 10 11 12 13 14 15] , target: 16\n",
      "features window: [ 2  3  4  5  6  7  8  9 10 11 12 13 14 15 16] , target: 17\n",
      "features window: [ 3  4  5  6  7  8  9 10 11 12 13 14 15 16 17] , target: 18\n",
      "features window: [ 4  5  6  7  8  9 10 11 12 13 14 15 16 17 18] , target: 19\n",
      "features window: [ 5  6  7  8  9 10 11 12 13 14 15 16 17 18 19] , target: 20\n",
      "features window: [ 6  7  8  9 10 11 12 13 14 15 16 17 18 19 20] , target: 21\n",
      "features window: [ 7  8  9 10 11 12 13 14 15 16 17 18 19 20 21] , target: 22\n",
      "features window: [ 8  9 10 11 12 13 14 15 16 17 18 19 20 21 22] , target: 23\n",
      "features window: [ 9 10 11 12 13 14 15 16 17 18 19 20 21 22 23] , target: 24\n",
      "features window: [10 11 12 13 14 15 16 17 18 19 20 21 22 23 24] , target: 25\n",
      "features window: [11 12 13 14 15 16 17 18 19 20 21 22 23 24 25] , target: 26\n",
      "features window: [12 13 14 15 16 17 18 19 20 21 22 23 24 25 26] , target: 27\n",
      "features window: [13 14 15 16 17 18 19 20 21 22 23 24 25 26 27] , target: 28\n",
      "features window: [14 15 16 17 18 19 20 21 22 23 24 25 26 27 28] , target: 29\n",
      "features window: [15 16 17 18 19 20 21 22 23 24 25 26 27 28 29] , target: 30\n",
      "features window: [16 17 18 19 20 21 22 23 24 25 26 27 28 29 30] , target: 31\n",
      "features window: [17 18 19 20 21 22 23 24 25 26 27 28 29 30 31] , target: 32\n",
      "features window: [18 19 20 21 22 23 24 25 26 27 28 29 30 31 32] , target: 33\n"
     ]
    }
   ],
   "source": [
    "slidingWindow(15,slots)"
   ]
  },
  {
   "cell_type": "markdown",
   "metadata": {},
   "source": [
    "## Dataset 4 (20)"
   ]
  },
  {
   "cell_type": "code",
   "execution_count": 124,
   "metadata": {},
   "outputs": [
    {
     "name": "stdout",
     "output_type": "stream",
     "text": [
      "features window: [ 0  1  2  3  4  5  6  7  8  9 10 11 12 13 14 15 16 17 18 19] , target: 20\n",
      "features window: [ 1  2  3  4  5  6  7  8  9 10 11 12 13 14 15 16 17 18 19 20] , target: 21\n",
      "features window: [ 2  3  4  5  6  7  8  9 10 11 12 13 14 15 16 17 18 19 20 21] , target: 22\n",
      "features window: [ 3  4  5  6  7  8  9 10 11 12 13 14 15 16 17 18 19 20 21 22] , target: 23\n",
      "features window: [ 4  5  6  7  8  9 10 11 12 13 14 15 16 17 18 19 20 21 22 23] , target: 24\n",
      "features window: [ 5  6  7  8  9 10 11 12 13 14 15 16 17 18 19 20 21 22 23 24] , target: 25\n",
      "features window: [ 6  7  8  9 10 11 12 13 14 15 16 17 18 19 20 21 22 23 24 25] , target: 26\n",
      "features window: [ 7  8  9 10 11 12 13 14 15 16 17 18 19 20 21 22 23 24 25 26] , target: 27\n",
      "features window: [ 8  9 10 11 12 13 14 15 16 17 18 19 20 21 22 23 24 25 26 27] , target: 28\n",
      "features window: [ 9 10 11 12 13 14 15 16 17 18 19 20 21 22 23 24 25 26 27 28] , target: 29\n",
      "features window: [10 11 12 13 14 15 16 17 18 19 20 21 22 23 24 25 26 27 28 29] , target: 30\n",
      "features window: [11 12 13 14 15 16 17 18 19 20 21 22 23 24 25 26 27 28 29 30] , target: 31\n",
      "features window: [12 13 14 15 16 17 18 19 20 21 22 23 24 25 26 27 28 29 30 31] , target: 32\n",
      "features window: [13 14 15 16 17 18 19 20 21 22 23 24 25 26 27 28 29 30 31 32] , target: 33\n"
     ]
    }
   ],
   "source": [
    "slidingWindow(20,slots)"
   ]
  },
  {
   "cell_type": "markdown",
   "metadata": {},
   "source": [
    "## Dataset 5 (25)"
   ]
  },
  {
   "cell_type": "code",
   "execution_count": 127,
   "metadata": {},
   "outputs": [
    {
     "name": "stdout",
     "output_type": "stream",
     "text": [
      "features window: [ 0  1  2  3  4  5  6  7  8  9 10 11 12 13 14 15 16 17 18 19 20 21 22 23\n",
      " 24] , target: 25\n",
      "features window: [ 1  2  3  4  5  6  7  8  9 10 11 12 13 14 15 16 17 18 19 20 21 22 23 24\n",
      " 25] , target: 26\n",
      "features window: [ 2  3  4  5  6  7  8  9 10 11 12 13 14 15 16 17 18 19 20 21 22 23 24 25\n",
      " 26] , target: 27\n",
      "features window: [ 3  4  5  6  7  8  9 10 11 12 13 14 15 16 17 18 19 20 21 22 23 24 25 26\n",
      " 27] , target: 28\n",
      "features window: [ 4  5  6  7  8  9 10 11 12 13 14 15 16 17 18 19 20 21 22 23 24 25 26 27\n",
      " 28] , target: 29\n",
      "features window: [ 5  6  7  8  9 10 11 12 13 14 15 16 17 18 19 20 21 22 23 24 25 26 27 28\n",
      " 29] , target: 30\n",
      "features window: [ 6  7  8  9 10 11 12 13 14 15 16 17 18 19 20 21 22 23 24 25 26 27 28 29\n",
      " 30] , target: 31\n",
      "features window: [ 7  8  9 10 11 12 13 14 15 16 17 18 19 20 21 22 23 24 25 26 27 28 29 30\n",
      " 31] , target: 32\n",
      "features window: [ 8  9 10 11 12 13 14 15 16 17 18 19 20 21 22 23 24 25 26 27 28 29 30 31\n",
      " 32] , target: 33\n"
     ]
    }
   ],
   "source": [
    "slidingWindow(25,slots)"
   ]
  },
  {
   "cell_type": "markdown",
   "metadata": {},
   "source": [
    "## Dataset 6 (30) "
   ]
  },
  {
   "cell_type": "code",
   "execution_count": 128,
   "metadata": {},
   "outputs": [
    {
     "name": "stdout",
     "output_type": "stream",
     "text": [
      "features window: [ 0  1  2  3  4  5  6  7  8  9 10 11 12 13 14 15 16 17 18 19 20 21 22 23\n",
      " 24 25 26 27 28 29] , target: 30\n",
      "features window: [ 1  2  3  4  5  6  7  8  9 10 11 12 13 14 15 16 17 18 19 20 21 22 23 24\n",
      " 25 26 27 28 29 30] , target: 31\n",
      "features window: [ 2  3  4  5  6  7  8  9 10 11 12 13 14 15 16 17 18 19 20 21 22 23 24 25\n",
      " 26 27 28 29 30 31] , target: 32\n",
      "features window: [ 3  4  5  6  7  8  9 10 11 12 13 14 15 16 17 18 19 20 21 22 23 24 25 26\n",
      " 27 28 29 30 31 32] , target: 33\n"
     ]
    }
   ],
   "source": [
    "slidingWindow(30,slots)"
   ]
  },
  {
   "cell_type": "markdown",
   "metadata": {},
   "source": [
    "# End of Case! "
   ]
  },
  {
   "cell_type": "code",
   "execution_count": null,
   "metadata": {},
   "outputs": [],
   "source": []
  }
 ],
 "metadata": {
  "kernelspec": {
   "display_name": "Python 3",
   "language": "python",
   "name": "python3"
  },
  "language_info": {
   "codemirror_mode": {
    "name": "ipython",
    "version": 3
   },
   "file_extension": ".py",
   "mimetype": "text/x-python",
   "name": "python",
   "nbconvert_exporter": "python",
   "pygments_lexer": "ipython3",
   "version": "3.6.3"
  }
 },
 "nbformat": 4,
 "nbformat_minor": 2
}
