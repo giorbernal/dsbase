{
 "cells": [
  {
   "cell_type": "code",
   "execution_count": null,
   "metadata": {},
   "outputs": [],
   "source": [
    "import numpy as np\n",
    "import pandas as pd\n",
    "import matplotlib.pyplot as plt\n",
    "import seaborn as sns\n",
    "%matplotlib inline"
   ]
  },
  {
   "cell_type": "markdown",
   "metadata": {},
   "source": [
    "# Data Loading "
   ]
  },
  {
   "cell_type": "code",
   "execution_count": null,
   "metadata": {},
   "outputs": [],
   "source": [
    "sales_df = pd.read_csv('../../datasets/predict-sales/sales_train.csv')\n",
    "items_df = pd.read_csv('../../datasets/predict-sales/items.csv')\n",
    "test_df = pd.read_csv('../../datasets/predict-sales/test.csv')"
   ]
  },
  {
   "cell_type": "code",
   "execution_count": null,
   "metadata": {},
   "outputs": [],
   "source": [
    "sales_df.drop(labels=['date'],inplace=True,axis=1)\n",
    "sales_df = sales_df.reset_index()\n",
    "items_df.drop(labels=['item_name'],inplace=True,axis=1)"
   ]
  },
  {
   "cell_type": "code",
   "execution_count": null,
   "metadata": {},
   "outputs": [],
   "source": [
    "dict_aux = {}"
   ]
  },
  {
   "cell_type": "code",
   "execution_count": null,
   "metadata": {},
   "outputs": [],
   "source": [
    "def setPair(x, d):\n",
    "    i = str(x[0]) + '-' + str(x[1])\n",
    "    try:\n",
    "        return d[i]\n",
    "    except:\n",
    "        result = i\n",
    "        d[i] = result\n",
    "        return result"
   ]
  },
  {
   "cell_type": "code",
   "execution_count": null,
   "metadata": {},
   "outputs": [],
   "source": [
    "sales_df['ID_pair'] = sales_df[['shop_id','item_id']].apply(setPair, args=[dict_aux], axis=1)"
   ]
  },
  {
   "cell_type": "code",
   "execution_count": null,
   "metadata": {},
   "outputs": [],
   "source": [
    "sales_df = sales_df.merge(items_df)"
   ]
  },
  {
   "cell_type": "code",
   "execution_count": null,
   "metadata": {},
   "outputs": [],
   "source": [
    "dict_aux = {}"
   ]
  },
  {
   "cell_type": "code",
   "execution_count": null,
   "metadata": {},
   "outputs": [],
   "source": [
    "sales_df['ID_CAT_pair'] = sales_df[['shop_id','item_category_id']].apply(setPair, args=[dict_aux], axis=1)"
   ]
  },
  {
   "cell_type": "code",
   "execution_count": null,
   "metadata": {},
   "outputs": [],
   "source": [
    "sales_df.info()"
   ]
  },
  {
   "cell_type": "code",
   "execution_count": null,
   "metadata": {},
   "outputs": [],
   "source": [
    "sales_df.head()"
   ]
  },
  {
   "cell_type": "code",
   "execution_count": null,
   "metadata": {},
   "outputs": [],
   "source": [
    "sales_df.to_csv('../../datasets/predict-sales/sales_train_enriched.csv')"
   ]
  },
  {
   "cell_type": "markdown",
   "metadata": {},
   "source": [
    "## Direct Load"
   ]
  },
  {
   "cell_type": "code",
   "execution_count": null,
   "metadata": {},
   "outputs": [],
   "source": [
    "sales_df = pd.read_csv('../../datasets/predict-sales/sales_train_enriched.csv')"
   ]
  },
  {
   "cell_type": "code",
   "execution_count": null,
   "metadata": {},
   "outputs": [],
   "source": [
    "sales_df.drop(labels=['Unnamed: 0'], inplace=True, axis=1)"
   ]
  },
  {
   "cell_type": "code",
   "execution_count": null,
   "metadata": {},
   "outputs": [],
   "source": [
    "sales_df.head()"
   ]
  },
  {
   "cell_type": "markdown",
   "metadata": {},
   "source": [
    "# Visualizing Data "
   ]
  },
  {
   "cell_type": "markdown",
   "metadata": {},
   "source": [
    "Let's visualize some data from the test set:"
   ]
  },
  {
   "cell_type": "code",
   "execution_count": null,
   "metadata": {},
   "outputs": [],
   "source": [
    "def drawTimeSerie(df, sample, n):\n",
    "    for i in range(n):\n",
    "        shop_id = sample.iloc[i]['shop_id']\n",
    "        item_id = sample.iloc[i]['item_id']\n",
    "        id_df = df[(df['shop_id'] == shop_id) & (df['item_id'] == item_id)]\n",
    "        id_df_grouped = id_df[['date_block_num','item_cnt_day']].groupby('date_block_num').sum().reset_index()\n",
    "        plt.figure(figsize=[10,n*5])\n",
    "        plt.subplot(n,1,i+1)\n",
    "        plt.plot(id_df_grouped['date_block_num'], id_df_grouped['item_cnt_day'],'*-',)\n",
    "        plt.title(str(shop_id) + '-' + str(item_id))"
   ]
  },
  {
   "cell_type": "code",
   "execution_count": null,
   "metadata": {},
   "outputs": [],
   "source": [
    "n_samples = 10\n",
    "sample = test_df.sample(n=n_samples, axis=0)"
   ]
  },
  {
   "cell_type": "code",
   "execution_count": null,
   "metadata": {},
   "outputs": [],
   "source": [
    "drawTimeSerie(sales_df, sample, n_samples)"
   ]
  },
  {
   "cell_type": "markdown",
   "metadata": {},
   "source": [
    "# Preparing Data with FeatureTools (testing)"
   ]
  },
  {
   "cell_type": "code",
   "execution_count": null,
   "metadata": {},
   "outputs": [],
   "source": [
    "import featuretools as ft"
   ]
  },
  {
   "cell_type": "markdown",
   "metadata": {},
   "source": [
    "Let's evaluate the FT process "
   ]
  },
  {
   "cell_type": "markdown",
   "metadata": {},
   "source": [
    "## Pre-proccesing"
   ]
  },
  {
   "cell_type": "code",
   "execution_count": null,
   "metadata": {},
   "outputs": [],
   "source": [
    "month_id = 9"
   ]
  },
  {
   "cell_type": "code",
   "execution_count": null,
   "metadata": {},
   "outputs": [],
   "source": [
    "sales_month_df = sales_df[sales_df['date_block_num'] == month_id]"
   ]
  },
  {
   "cell_type": "code",
   "execution_count": null,
   "metadata": {},
   "outputs": [],
   "source": [
    "sales_month_df.head()"
   ]
  },
  {
   "cell_type": "code",
   "execution_count": null,
   "metadata": {},
   "outputs": [],
   "source": [
    "sales_month_df.drop(labels=['shop_id','item_id','item_category_id'], inplace=True, axis=1)"
   ]
  },
  {
   "cell_type": "code",
   "execution_count": null,
   "metadata": {},
   "outputs": [],
   "source": [
    "sales_month_df.head()"
   ]
  },
  {
   "cell_type": "markdown",
   "metadata": {},
   "source": [
    "## EntitySet Processing (Recommended by FeatureTools)"
   ]
  },
  {
   "cell_type": "code",
   "execution_count": null,
   "metadata": {},
   "outputs": [],
   "source": [
    "es = ft.EntitySet(id=\"prediction_sales\")"
   ]
  },
  {
   "cell_type": "code",
   "execution_count": null,
   "metadata": {},
   "outputs": [],
   "source": [
    "es = es.entity_from_dataframe(entity_id='sales',dataframe=sales_month_df, index='index')"
   ]
  },
  {
   "cell_type": "code",
   "execution_count": null,
   "metadata": {},
   "outputs": [],
   "source": [
    "es = es.normalize_entity(base_entity_id='sales',\n",
    "                         new_entity_id='idsCat',\n",
    "                         index='ID_CAT_pair')"
   ]
  },
  {
   "cell_type": "code",
   "execution_count": null,
   "metadata": {},
   "outputs": [],
   "source": [
    "feature_matrix_idsCat, feature_defs_idsCat = ft.dfs(entityset=es, target_entity='idsCat')"
   ]
  },
  {
   "cell_type": "code",
   "execution_count": null,
   "metadata": {},
   "outputs": [],
   "source": [
    "feature_matrix_idsCat.info()"
   ]
  },
  {
   "cell_type": "code",
   "execution_count": null,
   "metadata": {},
   "outputs": [],
   "source": [
    "idsCat = feature_matrix_idsCat.reset_index()"
   ]
  },
  {
   "cell_type": "code",
   "execution_count": null,
   "metadata": {},
   "outputs": [],
   "source": [
    "idsCat_agg = idsCat[['ID_CAT_pair','SUM(sales.item_cnt_day)',\n",
    "                     'MEAN(sales.item_cnt_day)','MEAN(sales.item_price)',\n",
    "                     'STD(sales.item_cnt_day)','STD(sales.item_price)',\n",
    "                     'MAX(sales.item_cnt_day)','MAX(sales.item_price)',\n",
    "                     'MIN(sales.item_cnt_day)','MIN(sales.item_price)',\n",
    "                     'SKEW(sales.item_cnt_day)','SKEW(sales.item_price)'\n",
    "                    ]]"
   ]
  },
  {
   "cell_type": "code",
   "execution_count": null,
   "metadata": {},
   "outputs": [],
   "source": [
    "idsCat_agg.columns = ['ID_CAT_pair','sum_shop_cat_sales',\n",
    "                      'mean_shop_cat_day','mean_shop_cat_item_price',\n",
    "                      'std_shop_cat_day','std_shop_cat_item_price',\n",
    "                      'max_shop_cat_day','max_shop_cat_item_price',\n",
    "                      'min_shop_cat_day','min_shop_cat_item_price',\n",
    "                      'skew_shop_cat_day','skew_shop_cat_item_price',\n",
    "                     ]"
   ]
  },
  {
   "cell_type": "code",
   "execution_count": null,
   "metadata": {},
   "outputs": [],
   "source": [
    "idsCat_agg.head() "
   ]
  },
  {
   "cell_type": "markdown",
   "metadata": {},
   "source": [
    "Re-craete the EntitySet: "
   ]
  },
  {
   "cell_type": "code",
   "execution_count": null,
   "metadata": {},
   "outputs": [],
   "source": [
    "es = ft.EntitySet(id=\"prediction_sales\")"
   ]
  },
  {
   "cell_type": "code",
   "execution_count": null,
   "metadata": {},
   "outputs": [],
   "source": [
    "sales_month_df = sales_month_df.merge(idsCat_agg)"
   ]
  },
  {
   "cell_type": "code",
   "execution_count": null,
   "metadata": {},
   "outputs": [],
   "source": [
    "sales_month_df.drop(labels=['ID_CAT_pair'], inplace=True, axis=1)"
   ]
  },
  {
   "cell_type": "code",
   "execution_count": null,
   "metadata": {},
   "outputs": [],
   "source": [
    "es = es.entity_from_dataframe(entity_id='sales',dataframe=sales_month_df, index='index')"
   ]
  },
  {
   "cell_type": "code",
   "execution_count": null,
   "metadata": {},
   "outputs": [],
   "source": [
    "es = es.normalize_entity(base_entity_id='sales',\n",
    "                         new_entity_id='ids',\n",
    "                         index='ID_pair',\n",
    "                         additional_variables=['date_block_num',\n",
    "                                               'sum_shop_cat_sales',\n",
    "                                               'mean_shop_cat_day',\n",
    "                                               'mean_shop_cat_item_price',\n",
    "                                               'std_shop_cat_day',\n",
    "                                               'std_shop_cat_item_price',\n",
    "                                               'max_shop_cat_day',\n",
    "                                               'max_shop_cat_item_price',\n",
    "                                               'min_shop_cat_day',\n",
    "                                               'min_shop_cat_item_price',\n",
    "                                               'skew_shop_cat_day',\n",
    "                                               'skew_shop_cat_item_price'\n",
    "                                              ]\n",
    "                        )"
   ]
  },
  {
   "cell_type": "code",
   "execution_count": null,
   "metadata": {},
   "outputs": [],
   "source": [
    "feature_matrix_ids, feature_defs_ids = ft.dfs(entityset=es, target_entity='ids')"
   ]
  },
  {
   "cell_type": "code",
   "execution_count": null,
   "metadata": {},
   "outputs": [],
   "source": [
    "feature_matrix_ids.info()"
   ]
  },
  {
   "cell_type": "code",
   "execution_count": null,
   "metadata": {},
   "outputs": [],
   "source": [
    "feature_matrix_ids.head()"
   ]
  },
  {
   "cell_type": "markdown",
   "metadata": {},
   "source": [
    "# Generating the DataSet "
   ]
  },
  {
   "cell_type": "code",
   "execution_count": null,
   "metadata": {},
   "outputs": [],
   "source": [
    "slots = sales_df['date_block_num'].nunique()"
   ]
  },
  {
   "cell_type": "code",
   "execution_count": null,
   "metadata": {},
   "outputs": [],
   "source": [
    "def generateFeatures(sales_df, months_feature, month_target):\n",
    "    print('features window:',months_feature,', target:',month_target)\n",
    "    # Step 1: Extract fetures from the previous point\n",
    "    sales_window_df = sales_df[sales_df['date_block_num'].isin(months_feature)]\n",
    "    sales_window_df.drop(labels=['shop_id','item_id','item_category_id'], inplace=True, axis=1)\n",
    "\n",
    "    es = ft.EntitySet(id=\"prediction_sales\")\n",
    "    es = es.entity_from_dataframe(entity_id='sales',dataframe=sales_window_df, index='index')\n",
    "    es = es.normalize_entity(base_entity_id='sales',\n",
    "                         new_entity_id='idsCat',\n",
    "                         index='ID_CAT_pair')\n",
    "    feature_matrix_idsCat, feature_defs_idsCat = ft.dfs(entityset=es, target_entity='idsCat')\n",
    "    idsCat = feature_matrix_idsCat.reset_index()\n",
    "    idsCat_agg = idsCat[['ID_CAT_pair','SUM(sales.item_cnt_day)',\n",
    "                     'MEAN(sales.item_cnt_day)','MEAN(sales.item_price)',\n",
    "                     'STD(sales.item_cnt_day)','STD(sales.item_price)',\n",
    "                     'MAX(sales.item_cnt_day)','MAX(sales.item_price)',\n",
    "                     'MIN(sales.item_cnt_day)','MIN(sales.item_price)',\n",
    "                     'SKEW(sales.item_cnt_day)','SKEW(sales.item_price)'\n",
    "                    ]]\n",
    "    idsCat_agg.columns = ['ID_CAT_pair','sum_shop_cat_sales',\n",
    "                      'mean_shop_cat_day','mean_shop_cat_item_price',\n",
    "                      'std_shop_cat_day','std_shop_cat_item_price',\n",
    "                      'max_shop_cat_day','max_shop_cat_item_price',\n",
    "                      'min_shop_cat_day','min_shop_cat_item_price',\n",
    "                      'skew_shop_cat_day','skew_shop_cat_item_price',\n",
    "                     ]\n",
    "    \n",
    "    sales_window_df = sales_window_df.merge(idsCat_agg)\n",
    "    sales_window_df.drop(labels=['ID_CAT_pair'], inplace=True, axis=1)\n",
    "    \n",
    "    # Recreating EntitySet\n",
    "    es = ft.EntitySet(id=\"prediction_sales\")\n",
    "    es = es.entity_from_dataframe(entity_id='sales',dataframe=sales_window_df, index='index')\n",
    "    es = es.normalize_entity(base_entity_id='sales',\n",
    "                         new_entity_id='ids',\n",
    "                         index='ID_pair',\n",
    "                         additional_variables=['date_block_num',\n",
    "                                               'sum_shop_cat_sales',\n",
    "                                               'mean_shop_cat_day',\n",
    "                                               'mean_shop_cat_item_price',\n",
    "                                               'std_shop_cat_day',\n",
    "                                               'std_shop_cat_item_price',\n",
    "                                               'max_shop_cat_day',\n",
    "                                               'max_shop_cat_item_price',\n",
    "                                               'min_shop_cat_day',\n",
    "                                               'min_shop_cat_item_price',\n",
    "                                               'skew_shop_cat_day',\n",
    "                                               'skew_shop_cat_item_price'\n",
    "                                              ]\n",
    "                        )\n",
    "    feature_matrix_ids, feature_defs_ids = ft.dfs(entityset=es, target_entity='ids')\n",
    "    \n",
    "    # Step 2: Extract target\n",
    "    target = sales_df[sales_df['date_block_num'] == month_target][['ID_pair','item_cnt_day']].groupby('ID_pair').sum()    \n",
    "    target.columns = ['target']\n",
    "    \n",
    "    return pd.concat([feature_matrix_ids, target], axis=1, sort=False)\n",
    "    "
   ]
  },
  {
   "cell_type": "code",
   "execution_count": null,
   "metadata": {},
   "outputs": [],
   "source": [
    "def slidingWindow(sales_df, size, slots):\n",
    "    df_final = pd.DataFrame()\n",
    "    for index in range(size,slots):\n",
    "        features_target = generateFeatures(sales_df, np.arange(index-size,index),index)\n",
    "        # TODO stack dataset\n",
    "        df_final = pd.concat([df_final,features_target], axis=0) \n",
    "    # TODO return completed dataset\n",
    "    return df_final"
   ]
  },
  {
   "cell_type": "markdown",
   "metadata": {},
   "source": [
    "## Dataset Test"
   ]
  },
  {
   "cell_type": "code",
   "execution_count": null,
   "metadata": {},
   "outputs": [],
   "source": [
    "dstest = slidingWindow(sales_df, 3,4)"
   ]
  },
  {
   "cell_type": "code",
   "execution_count": null,
   "metadata": {},
   "outputs": [],
   "source": [
    "sns.heatmap(~dstest.isna())\n",
    "#dstest[dstest['MEAN(sales.item_cnt_day)'] == 0]"
   ]
  },
  {
   "cell_type": "markdown",
   "metadata": {},
   "source": [
    "## Dataset 1"
   ]
  },
  {
   "cell_type": "code",
   "execution_count": null,
   "metadata": {},
   "outputs": [],
   "source": [
    "slidingWindow(2,slots)"
   ]
  },
  {
   "cell_type": "markdown",
   "metadata": {},
   "source": [
    "## Dataset 2)"
   ]
  },
  {
   "cell_type": "code",
   "execution_count": null,
   "metadata": {},
   "outputs": [],
   "source": [
    "slidingWindow(3,slots)"
   ]
  },
  {
   "cell_type": "markdown",
   "metadata": {},
   "source": [
    "## Dataset 3"
   ]
  },
  {
   "cell_type": "code",
   "execution_count": null,
   "metadata": {},
   "outputs": [],
   "source": [
    "slidingWindow(4,slots)"
   ]
  },
  {
   "cell_type": "markdown",
   "metadata": {},
   "source": [
    "## Dataset 4"
   ]
  },
  {
   "cell_type": "code",
   "execution_count": null,
   "metadata": {},
   "outputs": [],
   "source": [
    "slidingWindow(5,slots)"
   ]
  },
  {
   "cell_type": "markdown",
   "metadata": {},
   "source": [
    "## Dataset 5"
   ]
  },
  {
   "cell_type": "code",
   "execution_count": null,
   "metadata": {},
   "outputs": [],
   "source": [
    "slidingWindow(6,slots)"
   ]
  },
  {
   "cell_type": "markdown",
   "metadata": {},
   "source": [
    "## Dataset 6"
   ]
  },
  {
   "cell_type": "code",
   "execution_count": null,
   "metadata": {},
   "outputs": [],
   "source": [
    "slidingWindow(7,slots)"
   ]
  },
  {
   "cell_type": "markdown",
   "metadata": {},
   "source": [
    "# End of Case! "
   ]
  },
  {
   "cell_type": "code",
   "execution_count": null,
   "metadata": {},
   "outputs": [],
   "source": []
  }
 ],
 "metadata": {
  "kernelspec": {
   "display_name": "Python 3",
   "language": "python",
   "name": "python3"
  },
  "language_info": {
   "codemirror_mode": {
    "name": "ipython",
    "version": 3
   },
   "file_extension": ".py",
   "mimetype": "text/x-python",
   "name": "python",
   "nbconvert_exporter": "python",
   "pygments_lexer": "ipython3",
   "version": "3.6.3"
  }
 },
 "nbformat": 4,
 "nbformat_minor": 2
}
