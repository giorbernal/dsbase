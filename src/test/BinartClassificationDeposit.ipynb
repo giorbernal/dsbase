{
 "cells": [
  {
   "cell_type": "markdown",
   "metadata": {},
   "source": [
    "# Binary Classification: Deposit Bank - Marketing"
   ]
  },
  {
   "cell_type": "code",
   "execution_count": 1,
   "metadata": {
    "collapsed": true
   },
   "outputs": [],
   "source": [
    "import sys\n",
    "import numpy as np\n",
    "import pandas as pd\n",
    "import matplotlib.pyplot as plt\n",
    "%matplotlib inline"
   ]
  },
  {
   "cell_type": "code",
   "execution_count": 2,
   "metadata": {
    "collapsed": true
   },
   "outputs": [],
   "source": [
    "sys.path.append('../main/')"
   ]
  },
  {
   "cell_type": "code",
   "execution_count": 3,
   "metadata": {
    "collapsed": true
   },
   "outputs": [],
   "source": [
    "from sklearn.model_selection import train_test_split\n",
    "from ModelDSBase import ModelDSBaseWrapper"
   ]
  },
  {
   "cell_type": "code",
   "execution_count": 4,
   "metadata": {
    "collapsed": true
   },
   "outputs": [],
   "source": [
    "df = pd.read_csv('../../datasets/deposit_ml.csv')"
   ]
  },
  {
   "cell_type": "code",
   "execution_count": 5,
   "metadata": {
    "collapsed": true
   },
   "outputs": [],
   "source": [
    "X = df.drop(labels='y', axis=1).values\n",
    "y = df['y'].values"
   ]
  },
  {
   "cell_type": "markdown",
   "metadata": {},
   "source": [
    "## SVM Binary Classifier"
   ]
  },
  {
   "cell_type": "code",
   "execution_count": 6,
   "metadata": {
    "collapsed": true
   },
   "outputs": [],
   "source": [
    "from SVMBClassificationDSBase import SVMBClassificationDSBaseModel\n",
    "from SVMBClassificationDSBase import SVMBClassificationDSBaseModelParamsToMap"
   ]
  },
  {
   "cell_type": "code",
   "execution_count": 7,
   "metadata": {},
   "outputs": [
    {
     "name": "stdout",
     "output_type": "stream",
     "text": [
      "X size:(1000, 52)\n",
      "y size:(1000,)\n",
      "initiating model SVM0. SVMBClassification\n",
      "initiating model SVM1. SVMBClassification\n",
      "initiating model SVM2. SVMBClassification\n",
      "initiating model SVM3. SVMBClassification\n",
      "initiating model SVM4. SVMBClassification\n",
      "initiating model SVM5. SVMBClassification\n",
      "initiating model SVM6. SVMBClassification\n",
      "initiating model SVM7. SVMBClassification\n",
      "initiating model SVM8. SVMBClassification\n",
      "initiating model SVM9. SVMBClassification\n",
      "initiating model SVM10. SVMBClassification\n",
      "initiating model SVM11. SVMBClassification\n",
      "initiating model SVM12. SVMBClassification\n",
      "initiating model SVM13. SVMBClassification\n",
      "initiating model SVM14. SVMBClassification\n",
      "initiating model SVM15. SVMBClassification\n",
      "initiating model SVM16. SVMBClassification\n"
     ]
    }
   ],
   "source": [
    "params = SVMBClassificationDSBaseModelParamsToMap()\n",
    "svmc = ModelDSBaseWrapper('SVM',X[0:1000,:],y[0:1000],[20,25,30,35,40,45,50,55,60,65,70,75,80,85,90,95,100],0.3,SVMBClassificationDSBaseModel,params,splitter=train_test_split)"
   ]
  },
  {
   "cell_type": "code",
   "execution_count": 8,
   "metadata": {},
   "outputs": [
    {
     "name": "stdout",
     "output_type": "stream",
     "text": [
      "training model SVM0. SVMBClassification\n",
      "training model SVM1. SVMBClassification\n",
      "training model SVM2. SVMBClassification\n",
      "training model SVM3. SVMBClassification\n",
      "training model SVM4. SVMBClassification\n",
      "training model SVM5. SVMBClassification\n",
      "training model SVM6. SVMBClassification\n",
      "training model SVM7. SVMBClassification\n",
      "training model SVM8. SVMBClassification\n",
      "training model SVM9. SVMBClassification\n",
      "training model SVM10. SVMBClassification\n",
      "training model SVM11. SVMBClassification\n",
      "training model SVM12. SVMBClassification\n",
      "training model SVM13. SVMBClassification\n",
      "training model SVM14. SVMBClassification\n",
      "training model SVM15. SVMBClassification\n",
      "training model SVM16. SVMBClassification\n"
     ]
    }
   ],
   "source": [
    "svmc.train()"
   ]
  },
  {
   "cell_type": "code",
   "execution_count": 10,
   "metadata": {},
   "outputs": [],
   "source": [
    "lcsvmc = svmc.getLearningCurves()"
   ]
  },
  {
   "cell_type": "code",
   "execution_count": 12,
   "metadata": {},
   "outputs": [
    {
     "data": {
      "text/plain": [
       "[<matplotlib.lines.Line2D at 0x1168c0e80>,\n",
       " <matplotlib.lines.Line2D at 0x1168cf438>]"
      ]
     },
     "execution_count": 12,
     "metadata": {},
     "output_type": "execute_result"
    },
    {
     "data": {
      "image/png": "[encoded data removed]",
      "text/plain": [
       "<matplotlib.figure.Figure at 0x116b219b0>"
      ]
     },
     "metadata": {},
     "output_type": "display_data"
    }
   ],
   "source": [
    "plt.plot(lcsvmc[0,:],'b',lcsvmc[1,:],'r')"
   ]
  },
  {
   "cell_type": "code",
   "execution_count": 13,
   "metadata": {},
   "outputs": [
    {
     "data": {
      "text/plain": [
       "0.98666666666666669"
      ]
     },
     "execution_count": 13,
     "metadata": {},
     "output_type": "execute_result"
    }
   ],
   "source": [
    "svmc.getScore()"
   ]
  },
  {
   "cell_type": "code",
   "execution_count": 14,
   "metadata": {},
   "outputs": [
    {
     "name": "stdout",
     "output_type": "stream",
     "text": [
      "saving model: model_persistance/SVMBClassification_SVM16.sav\n"
     ]
    }
   ],
   "source": [
    "svmc.save()"
   ]
  },
  {
   "cell_type": "code",
   "execution_count": 15,
   "metadata": {},
   "outputs": [
    {
     "name": "stdout",
     "output_type": "stream",
     "text": [
      "initiating empty model SVM16. SVMBClassification\n"
     ]
    }
   ],
   "source": [
    "recoveredSvmc = SVMBClassificationDSBaseModel('SVM16',None,None,None,None,None,None)"
   ]
  },
  {
   "cell_type": "code",
   "execution_count": 16,
   "metadata": {},
   "outputs": [
    {
     "name": "stdout",
     "output_type": "stream",
     "text": [
      "loading model: model_persistance/SVMBClassification_SVM16.sav\n"
     ]
    }
   ],
   "source": [
    "recoveredSvmc.load()"
   ]
  },
  {
   "cell_type": "code",
   "execution_count": 17,
   "metadata": {},
   "outputs": [
    {
     "name": "stdout",
     "output_type": "stream",
     "text": [
      "predicting model SVM16. SVMBClassification\n"
     ]
    },
    {
     "data": {
      "text/plain": [
       "array([0, 0])"
      ]
     },
     "execution_count": 17,
     "metadata": {},
     "output_type": "execute_result"
    }
   ],
   "source": [
    "recoveredSvmc.predict(X[100:102,:])"
   ]
  },
  {
   "cell_type": "code",
   "execution_count": 18,
   "metadata": {},
   "outputs": [
    {
     "data": {
      "text/plain": [
       "array([0, 0])"
      ]
     },
     "execution_count": 18,
     "metadata": {},
     "output_type": "execute_result"
    }
   ],
   "source": [
    "y[100:102]"
   ]
  },
  {
   "cell_type": "code",
   "execution_count": null,
   "metadata": {
    "collapsed": true
   },
   "outputs": [],
   "source": []
  }
 ],
 "metadata": {
  "kernelspec": {
   "display_name": "Python 3",
   "language": "python",
   "name": "python3"
  },
  "language_info": {
   "codemirror_mode": {
    "name": "ipython",
    "version": 3
   },
   "file_extension": ".py",
   "mimetype": "text/x-python",
   "name": "python",
   "nbconvert_exporter": "python",
   "pygments_lexer": "ipython3",
   "version": "3.6.3"
  }
 },
 "nbformat": 4,
 "nbformat_minor": 2
}
