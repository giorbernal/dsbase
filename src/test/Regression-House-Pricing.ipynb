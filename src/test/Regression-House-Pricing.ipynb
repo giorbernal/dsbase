{
 "cells": [
  {
   "cell_type": "markdown",
   "metadata": {},
   "source": [
    "# Regression-House-Pricing "
   ]
  },
  {
   "cell_type": "markdown",
   "metadata": {},
   "source": [
    "Let's study regression by using Light Gradient Boosting and different variations of a dataset:"
   ]
  },
  {
   "cell_type": "code",
   "execution_count": null,
   "metadata": {},
   "outputs": [],
   "source": [
    "import pandas as pd\n",
    "import matplotlib.pyplot as plt\n",
    "import sys\n",
    "sys.path.append('../main/')"
   ]
  },
  {
   "cell_type": "code",
   "execution_count": null,
   "metadata": {},
   "outputs": [],
   "source": [
    "from sklearn.model_selection import train_test_split\n",
    "from dsbase.ModelDSBase import ModelDSBaseWrapper"
   ]
  },
  {
   "cell_type": "code",
   "execution_count": null,
   "metadata": {},
   "outputs": [],
   "source": [
    "from dsbase.models.regression.LightGradientBoostingRegressionDSBase import LightGradientBoostingRegressionDSBaseModel\n",
    "from dsbase.models.regression.LightGradientBoostingRegressionDSBase import LightGradientBoostingRegressionDSBaseModelParamsToMap"
   ]
  },
  {
   "cell_type": "code",
   "execution_count": null,
   "metadata": {},
   "outputs": [],
   "source": [
    "dataset_path = '../../datasets/house-pricing'"
   ]
  },
  {
   "cell_type": "code",
   "execution_count": null,
   "metadata": {},
   "outputs": [],
   "source": [
    "df = pd.read_csv(dataset_path + '/tt_null_impute_encode.csv')"
   ]
  },
  {
   "cell_type": "code",
   "execution_count": null,
   "metadata": {},
   "outputs": [],
   "source": [
    "columuns_without_value = []"
   ]
  },
  {
   "cell_type": "code",
   "execution_count": null,
   "metadata": {},
   "outputs": [],
   "source": [
    "df_train = df[df['TT']==1]\n",
    "X = df_train.drop(['Unnamed: 0','TT','SalePrice'], axis=1).drop(columuns_without_value, axis=1).values\n",
    "y = df_train['SalePrice'].values"
   ]
  },
  {
   "cell_type": "code",
   "execution_count": null,
   "metadata": {},
   "outputs": [],
   "source": [
    "X.shape"
   ]
  },
  {
   "cell_type": "markdown",
   "metadata": {},
   "source": [
    "## Simple case"
   ]
  },
  {
   "cell_type": "code",
   "execution_count": null,
   "metadata": {},
   "outputs": [],
   "source": [
    "X_train, X_test, y_train, y_test = train_test_split(X, y, test_size=0.33, random_state=42)"
   ]
  },
  {
   "cell_type": "code",
   "execution_count": null,
   "metadata": {},
   "outputs": [],
   "source": [
    "params = LightGradientBoostingRegressionDSBaseModelParamsToMap(max_depth=31, n_estimators=100, learning_rate=0.1,num_leaves=31, subsample_for_bin=200000, reg_alpha=0, reg_lambda=0)\n",
    "#params = LightGradientBoostingRegressionDSBaseModelParamsToMap(max_depth=20, n_estimators=70, learning_rate=0.1, num_leaves=31, subsample_for_bin=1000000, reg_alpha=100000, reg_lambda=100)\n",
    "lgbr = ModelDSBaseWrapper('LGBR',X_train,y_train,X_test, y_test,[20,25,30,35,40,45,50,55,60,65,70,75,80,85,90,95,100],LightGradientBoostingRegressionDSBaseModel,params)"
   ]
  },
  {
   "cell_type": "code",
   "execution_count": null,
   "metadata": {},
   "outputs": [],
   "source": [
    "lgbr.train()"
   ]
  },
  {
   "cell_type": "markdown",
   "metadata": {},
   "source": [
    "Check importance of variables: "
   ]
  },
  {
   "cell_type": "code",
   "execution_count": null,
   "metadata": {},
   "outputs": [],
   "source": [
    "from dsbase.SearchOptimumParams import getColumnsWithLessValue"
   ]
  },
  {
   "cell_type": "code",
   "execution_count": null,
   "metadata": {},
   "outputs": [],
   "source": [
    "df_train.drop(['Unnamed: 0','TT','SalePrice'], axis=1).columns[lgbr.model.model.feature_importances_.argsort()]"
   ]
  },
  {
   "cell_type": "code",
   "execution_count": null,
   "metadata": {},
   "outputs": [],
   "source": [
    "ser, columuns_without_value = getColumnsWithLessValue(df_train.drop(['Unnamed: 0','TT','SalePrice'], axis=1).columns,\n",
    "                                                 lgbr.model.model.feature_importances_,\n",
    "                                                 9)"
   ]
  },
  {
   "cell_type": "code",
   "execution_count": null,
   "metadata": {},
   "outputs": [],
   "source": [
    "# We could try the model by removing previously this variables with just a few importance in the model\n",
    "columuns_without_value"
   ]
  },
  {
   "cell_type": "markdown",
   "metadata": {},
   "source": [
    "Let's continue with evaluation: "
   ]
  },
  {
   "cell_type": "code",
   "execution_count": null,
   "metadata": {},
   "outputs": [],
   "source": [
    "lclgdbr=lgbr.getLearningCurves()"
   ]
  },
  {
   "cell_type": "code",
   "execution_count": null,
   "metadata": {},
   "outputs": [],
   "source": [
    "plt.plot(lclgdbr[0,:],'b',lclgdbr[1,:],'r')"
   ]
  },
  {
   "cell_type": "code",
   "execution_count": null,
   "metadata": {},
   "outputs": [],
   "source": [
    "lgbr.getScore()"
   ]
  },
  {
   "cell_type": "markdown",
   "metadata": {},
   "source": [
    "# Parameter optimization. Random Search over K-Fold Validation"
   ]
  },
  {
   "cell_type": "code",
   "execution_count": null,
   "metadata": {},
   "outputs": [],
   "source": [
    "from dsbase.SearchOptimumParams import evaluateParams, randomElement, showSearchOptimumHyperParametersReport"
   ]
  },
  {
   "cell_type": "code",
   "execution_count": null,
   "metadata": {},
   "outputs": [],
   "source": [
    "max_depth=[10,20,30,40,50,60,70,80,90,100]\n",
    "n_estimators=[70,80,90,100,110,120,130,140,150]\n",
    "learning_rate=[0.01,0.03,0.1,0.3,1]\n",
    "subsample_for_bin=[75000,100000,150000,200000,500000,1000000,1300000,2000000,2300000]\n",
    "num_leaves=[7,15,31,63,127]\n",
    "reg_alpha=[0,50000,75000,90000,100000,120000]\n",
    "reg_lambda=[0,20,50,100,150,200]"
   ]
  },
  {
   "cell_type": "code",
   "execution_count": null,
   "metadata": {},
   "outputs": [],
   "source": [
    "num_tries = 100"
   ]
  },
  {
   "cell_type": "code",
   "execution_count": null,
   "metadata": {},
   "outputs": [],
   "source": [
    "params = []\n",
    "for i in range(num_tries):\n",
    "    p = LightGradientBoostingRegressionDSBaseModelParamsToMap(max_depth=randomElement(max_depth),\n",
    "                                                                   n_estimators=randomElement(n_estimators),\n",
    "                                                                   learning_rate=randomElement(learning_rate),\n",
    "                                                                   subsample_for_bin=randomElement(subsample_for_bin),\n",
    "                                                                   reg_alpha=randomElement(reg_alpha),\n",
    "                                                                   reg_lambda=randomElement(reg_lambda))\n",
    "    params.append(p)"
   ]
  },
  {
   "cell_type": "code",
   "execution_count": null,
   "metadata": {},
   "outputs": [],
   "source": [
    "tries = evaluateParams(X, y, 5, LightGradientBoostingRegressionDSBaseModel, 'LGBR', params, num_tries)"
   ]
  },
  {
   "cell_type": "code",
   "execution_count": null,
   "metadata": {},
   "outputs": [],
   "source": [
    "showSearchOptimumHyperParametersReport(tries)"
   ]
  },
  {
   "cell_type": "code",
   "execution_count": null,
   "metadata": {},
   "outputs": [],
   "source": [
    "optimum_index = 52"
   ]
  },
  {
   "cell_type": "code",
   "execution_count": null,
   "metadata": {},
   "outputs": [],
   "source": [
    "params[optimum_index]"
   ]
  },
  {
   "cell_type": "code",
   "execution_count": null,
   "metadata": {},
   "outputs": [],
   "source": [
    "model = tries[optimum_index][2]\n",
    "model.save()"
   ]
  },
  {
   "cell_type": "code",
   "execution_count": null,
   "metadata": {},
   "outputs": [],
   "source": [
    "# Some best cases so far:\n",
    "{'n_estimators': 70,\n",
    " 'max_depth': 20,\n",
    " 'learning_rate': 0.1,\n",
    " 'objetive': 'regression',\n",
    " 'n_jobs': 1,\n",
    " 'num_leaves': 31,\n",
    " 'reg_alpha': 100000,\n",
    " 'reg_lambda': 100,\n",
    " 'subsample_for_bin': 1000000\n",
    "},\n",
    "{'n_estimators': 130,\n",
    " 'max_depth': 10,\n",
    " 'learning_rate': 0.1,\n",
    " 'objetive': 'regression',\n",
    " 'n_jobs': 1,\n",
    " 'num_leaves': 31,\n",
    " 'reg_alpha': 75000,\n",
    " 'reg_lambda': 200,\n",
    " 'subsample_for_bin': 1000000\n",
    "},\n",
    "{'n_estimators': 130,\n",
    " 'max_depth': 70,\n",
    " 'learning_rate': 0.1,\n",
    " 'objetive': 'regression',\n",
    " 'n_jobs': 1,\n",
    " 'num_leaves': 31,\n",
    " 'reg_alpha': 100000,\n",
    " 'reg_lambda': 200,\n",
    " 'subsample_for_bin': 1300000}"
   ]
  },
  {
   "cell_type": "markdown",
   "metadata": {},
   "source": [
    "# Evaluating with test dataset "
   ]
  },
  {
   "cell_type": "code",
   "execution_count": 1,
   "metadata": {},
   "outputs": [],
   "source": [
    "# TODO"
   ]
  },
  {
   "cell_type": "markdown",
   "metadata": {},
   "source": [
    "# End of Modeling! "
   ]
  },
  {
   "cell_type": "code",
   "execution_count": null,
   "metadata": {},
   "outputs": [],
   "source": []
  }
 ],
 "metadata": {
  "kernelspec": {
   "display_name": "Python 3",
   "language": "python",
   "name": "python3"
  },
  "language_info": {
   "codemirror_mode": {
    "name": "ipython",
    "version": 3
   },
   "file_extension": ".py",
   "mimetype": "text/x-python",
   "name": "python",
   "nbconvert_exporter": "python",
   "pygments_lexer": "ipython3",
   "version": "3.6.3"
  }
 },
 "nbformat": 4,
 "nbformat_minor": 2
}
