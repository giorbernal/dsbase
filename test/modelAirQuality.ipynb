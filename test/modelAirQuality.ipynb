{
 "cells": [
  {
   "cell_type": "markdown",
   "metadata": {},
   "source": [
    "# Regression: Testing Predictive Models for Air Quality"
   ]
  },
  {
   "cell_type": "code",
   "execution_count": 1,
   "metadata": {
    "collapsed": true
   },
   "outputs": [],
   "source": [
    "import sys\n",
    "import numpy as np\n",
    "import pandas as pd\n",
    "import matplotlib.pyplot as plt\n",
    "%matplotlib inline"
   ]
  },
  {
   "cell_type": "code",
   "execution_count": 2,
   "metadata": {
    "collapsed": true
   },
   "outputs": [],
   "source": [
    "sys.path.append('../lib')"
   ]
  },
  {
   "cell_type": "code",
   "execution_count": 3,
   "metadata": {
    "collapsed": true
   },
   "outputs": [],
   "source": [
    "from sklearn.model_selection import train_test_split\n",
    "from LearningCurvesDSBase import LearningCurvesDSBaseWrapper"
   ]
  },
  {
   "cell_type": "code",
   "execution_count": 4,
   "metadata": {
    "collapsed": true
   },
   "outputs": [],
   "source": [
    "df = pd.read_csv('datasets/clean_airQuality.csv')"
   ]
  },
  {
   "cell_type": "code",
   "execution_count": 5,
   "metadata": {
    "collapsed": true
   },
   "outputs": [],
   "source": [
    "X = df.drop(['Unnamed: 0','timestamp','month','seasson','C6H6(GT)','PT08.S4(NO2)'], axis=1).values\n",
    "y = df['PT08.S4(NO2)'].values"
   ]
  },
  {
   "cell_type": "markdown",
   "metadata": {},
   "source": [
    "## Linear Regression"
   ]
  },
  {
   "cell_type": "code",
   "execution_count": 6,
   "metadata": {
    "collapsed": true
   },
   "outputs": [],
   "source": [
    "from LinealRegressionDSBase import LinealRegressionDSBaseModel\n",
    "from LinealRegressionDSBase import LinealRegressionDSBaseParamsToMap"
   ]
  },
  {
   "cell_type": "code",
   "execution_count": 7,
   "metadata": {},
   "outputs": [
    {
     "name": "stdout",
     "output_type": "stream",
     "text": [
      "X size:(7381, 9)\n",
      "y size:(7381,)\n",
      "initiating model 0. LinearRegression\n",
      "initiating model 1. LinearRegression\n",
      "initiating model 2. LinearRegression\n",
      "initiating model 3. LinearRegression\n",
      "initiating model 4. LinearRegression\n",
      "initiating model 5. LinearRegression\n",
      "initiating model 6. LinearRegression\n",
      "initiating model 7. LinearRegression\n",
      "initiating model 8. LinearRegression\n",
      "initiating model 9. LinearRegression\n",
      "initiating model 10. LinearRegression\n",
      "initiating model 11. LinearRegression\n",
      "initiating model 12. LinearRegression\n",
      "initiating model 13. LinearRegression\n",
      "initiating model 14. LinearRegression\n",
      "initiating model 15. LinearRegression\n",
      "initiating model 16. LinearRegression\n"
     ]
    }
   ],
   "source": [
    "params = LinealRegressionDSBaseParamsToMap()\n",
    "lcForlr = LearningCurvesDSBaseWrapper(X,y,[20,25,30,35,40,45,50,55,60,65,70,75,80,85,90,95,100],0.3,LinealRegressionDSBaseModel,params,splitter=train_test_split)"
   ]
  },
  {
   "cell_type": "code",
   "execution_count": 8,
   "metadata": {},
   "outputs": [
    {
     "name": "stdout",
     "output_type": "stream",
     "text": [
      "training model 0. LinearRegression\n",
      "training model 1. LinearRegression\n",
      "training model 2. LinearRegression\n",
      "training model 3. LinearRegression\n",
      "training model 4. LinearRegression\n",
      "training model 5. LinearRegression\n",
      "training model 6. LinearRegression\n",
      "training model 7. LinearRegression\n",
      "training model 8. LinearRegression\n",
      "training model 9. LinearRegression\n",
      "training model 10. LinearRegression\n",
      "training model 11. LinearRegression\n",
      "training model 12. LinearRegression\n",
      "training model 13. LinearRegression\n",
      "training model 14. LinearRegression\n",
      "training model 15. LinearRegression\n",
      "training model 16. LinearRegression\n"
     ]
    }
   ],
   "source": [
    "lcForlr.train()"
   ]
  },
  {
   "cell_type": "code",
   "execution_count": 9,
   "metadata": {
    "collapsed": true
   },
   "outputs": [],
   "source": [
    "lc1 = lcForlr.getLearningCurves()"
   ]
  },
  {
   "cell_type": "code",
   "execution_count": 10,
   "metadata": {},
   "outputs": [
    {
     "data": {
      "text/plain": [
       "[<matplotlib.lines.Line2D at 0x108372748>,\n",
       " <matplotlib.lines.Line2D at 0x108372be0>]"
      ]
     },
     "execution_count": 10,
     "metadata": {},
     "output_type": "execute_result"
    },
    {
     "data": {
      "image/png": "[encoded data removed]",
      "text/plain": [
       "<matplotlib.figure.Figure at 0x10685a320>"
      ]
     },
     "metadata": {},
     "output_type": "display_data"
    }
   ],
   "source": [
    "plt.plot(lc1[0,:],'b',lc1[1,:],'r')"
   ]
  },
  {
   "cell_type": "code",
   "execution_count": 11,
   "metadata": {},
   "outputs": [
    {
     "data": {
      "text/plain": [
       "0.94593095125632831"
      ]
     },
     "execution_count": 11,
     "metadata": {},
     "output_type": "execute_result"
    }
   ],
   "source": [
    "lcForlr.getScore()"
   ]
  },
  {
   "cell_type": "markdown",
   "metadata": {
    "collapsed": true
   },
   "source": [
    "## Randon Forest Regression"
   ]
  },
  {
   "cell_type": "code",
   "execution_count": 12,
   "metadata": {
    "collapsed": true
   },
   "outputs": [],
   "source": [
    "from RandomForestRegressionDSBase import RandomForestRegressionDSBaseModel\n",
    "from RandomForestRegressionDSBase import RandomForestRegressionDSBaseParamsToMap"
   ]
  },
  {
   "cell_type": "code",
   "execution_count": 13,
   "metadata": {},
   "outputs": [
    {
     "name": "stdout",
     "output_type": "stream",
     "text": [
      "X size:(7381, 9)\n",
      "y size:(7381,)\n",
      "initiating model 0. RandomForestRegressor\n",
      "initiating model 1. RandomForestRegressor\n",
      "initiating model 2. RandomForestRegressor\n",
      "initiating model 3. RandomForestRegressor\n",
      "initiating model 4. RandomForestRegressor\n",
      "initiating model 5. RandomForestRegressor\n",
      "initiating model 6. RandomForestRegressor\n",
      "initiating model 7. RandomForestRegressor\n",
      "initiating model 8. RandomForestRegressor\n",
      "initiating model 9. RandomForestRegressor\n",
      "initiating model 10. RandomForestRegressor\n",
      "initiating model 11. RandomForestRegressor\n",
      "initiating model 12. RandomForestRegressor\n",
      "initiating model 13. RandomForestRegressor\n",
      "initiating model 14. RandomForestRegressor\n",
      "initiating model 15. RandomForestRegressor\n",
      "initiating model 16. RandomForestRegressor\n"
     ]
    }
   ],
   "source": [
    "params = RandomForestRegressionDSBaseParamsToMap(max_depth=10, n_estimators=100)\n",
    "lcForRfr = LearningCurvesDSBaseWrapper(X,y,[20,25,30,35,40,45,50,55,60,65,70,75,80,85,90,95,100],0.3,RandomForestRegressionDSBaseModel,params,splitter=train_test_split)"
   ]
  },
  {
   "cell_type": "code",
   "execution_count": 14,
   "metadata": {},
   "outputs": [
    {
     "name": "stdout",
     "output_type": "stream",
     "text": [
      "training model 0. RandomForestRegressor\n",
      "training model 1. RandomForestRegressor\n",
      "training model 2. RandomForestRegressor\n",
      "training model 3. RandomForestRegressor\n",
      "training model 4. RandomForestRegressor\n",
      "training model 5. RandomForestRegressor\n",
      "training model 6. RandomForestRegressor\n",
      "training model 7. RandomForestRegressor\n",
      "training model 8. RandomForestRegressor\n",
      "training model 9. RandomForestRegressor\n",
      "training model 10. RandomForestRegressor\n",
      "training model 11. RandomForestRegressor\n",
      "training model 12. RandomForestRegressor\n",
      "training model 13. RandomForestRegressor\n",
      "training model 14. RandomForestRegressor\n",
      "training model 15. RandomForestRegressor\n",
      "training model 16. RandomForestRegressor\n"
     ]
    }
   ],
   "source": [
    "lcForRfr.train()"
   ]
  },
  {
   "cell_type": "code",
   "execution_count": 15,
   "metadata": {
    "collapsed": true
   },
   "outputs": [],
   "source": [
    "lc2 = lcForRfr.getLearningCurves()"
   ]
  },
  {
   "cell_type": "code",
   "execution_count": 16,
   "metadata": {},
   "outputs": [
    {
     "data": {
      "text/plain": [
       "[<matplotlib.lines.Line2D at 0x1a190ee3c8>,\n",
       " <matplotlib.lines.Line2D at 0x1a190ee518>]"
      ]
     },
     "execution_count": 16,
     "metadata": {},
     "output_type": "execute_result"
    },
    {
     "data": {
      "image/png": "[encoded data removed]",
      "text/plain": [
       "<matplotlib.figure.Figure at 0x1a190be278>"
      ]
     },
     "metadata": {},
     "output_type": "display_data"
    }
   ],
   "source": [
    "plt.plot(lc2[0,:],'b',lc2[1,:],'r')"
   ]
  },
  {
   "cell_type": "code",
   "execution_count": 17,
   "metadata": {},
   "outputs": [
    {
     "data": {
      "text/plain": [
       "0.97829712477955266"
      ]
     },
     "execution_count": 17,
     "metadata": {},
     "output_type": "execute_result"
    }
   ],
   "source": [
    "lcForRfr.getScore()"
   ]
  },
  {
   "cell_type": "markdown",
   "metadata": {
    "collapsed": true
   },
   "source": [
    "# Gradient Boosting Regression"
   ]
  },
  {
   "cell_type": "code",
   "execution_count": 18,
   "metadata": {
    "collapsed": true
   },
   "outputs": [],
   "source": [
    "from GradientBoostingRegressionDSBase import GradientBoostingRegressionDSBaseModel\n",
    "from GradientBoostingRegressionDSBase import GradientBoostingRegressionDSBaseParamsToMap"
   ]
  },
  {
   "cell_type": "code",
   "execution_count": 19,
   "metadata": {},
   "outputs": [
    {
     "name": "stdout",
     "output_type": "stream",
     "text": [
      "X size:(7381, 9)\n",
      "y size:(7381,)\n",
      "initiating model 0. GradientBoostingRegressor\n",
      "initiating model 1. GradientBoostingRegressor\n",
      "initiating model 2. GradientBoostingRegressor\n",
      "initiating model 3. GradientBoostingRegressor\n",
      "initiating model 4. GradientBoostingRegressor\n",
      "initiating model 5. GradientBoostingRegressor\n",
      "initiating model 6. GradientBoostingRegressor\n",
      "initiating model 7. GradientBoostingRegressor\n",
      "initiating model 8. GradientBoostingRegressor\n",
      "initiating model 9. GradientBoostingRegressor\n",
      "initiating model 10. GradientBoostingRegressor\n",
      "initiating model 11. GradientBoostingRegressor\n",
      "initiating model 12. GradientBoostingRegressor\n",
      "initiating model 13. GradientBoostingRegressor\n",
      "initiating model 14. GradientBoostingRegressor\n",
      "initiating model 15. GradientBoostingRegressor\n",
      "initiating model 16. GradientBoostingRegressor\n"
     ]
    }
   ],
   "source": [
    "params = GradientBoostingRegressionDSBaseParamsToMap(max_depth=5, n_estimators=75)\n",
    "lcForGbr = LearningCurvesDSBaseWrapper(X,y,[20,25,30,35,40,45,50,55,60,65,70,75,80,85,90,95,100],0.3,GradientBoostingRegressionDSBaseModel,params,splitter=train_test_split)"
   ]
  },
  {
   "cell_type": "code",
   "execution_count": 20,
   "metadata": {},
   "outputs": [
    {
     "name": "stdout",
     "output_type": "stream",
     "text": [
      "training model 0. GradientBoostingRegressor\n",
      "training model 1. GradientBoostingRegressor\n",
      "training model 2. GradientBoostingRegressor\n",
      "training model 3. GradientBoostingRegressor\n",
      "training model 4. GradientBoostingRegressor\n",
      "training model 5. GradientBoostingRegressor\n",
      "training model 6. GradientBoostingRegressor\n",
      "training model 7. GradientBoostingRegressor\n",
      "training model 8. GradientBoostingRegressor\n",
      "training model 9. GradientBoostingRegressor\n",
      "training model 10. GradientBoostingRegressor\n",
      "training model 11. GradientBoostingRegressor\n",
      "training model 12. GradientBoostingRegressor\n",
      "training model 13. GradientBoostingRegressor\n",
      "training model 14. GradientBoostingRegressor\n",
      "training model 15. GradientBoostingRegressor\n",
      "training model 16. GradientBoostingRegressor\n"
     ]
    }
   ],
   "source": [
    "lcForGbr.train()"
   ]
  },
  {
   "cell_type": "code",
   "execution_count": 21,
   "metadata": {
    "collapsed": true
   },
   "outputs": [],
   "source": [
    "lc3=lcForGbr.getLearningCurves()"
   ]
  },
  {
   "cell_type": "code",
   "execution_count": 22,
   "metadata": {},
   "outputs": [
    {
     "data": {
      "text/plain": [
       "[<matplotlib.lines.Line2D at 0x1a1967af98>,\n",
       " <matplotlib.lines.Line2D at 0x1a196864a8>]"
      ]
     },
     "execution_count": 22,
     "metadata": {},
     "output_type": "execute_result"
    },
    {
     "data": {
      "image/png": "[encoded data removed]",
      "text/plain": [
       "<matplotlib.figure.Figure at 0x1a19644b00>"
      ]
     },
     "metadata": {},
     "output_type": "display_data"
    }
   ],
   "source": [
    "plt.plot(lc3[0,:],'b',lc3[1,:],'r')"
   ]
  },
  {
   "cell_type": "code",
   "execution_count": 23,
   "metadata": {},
   "outputs": [
    {
     "data": {
      "text/plain": [
       "array([ 0.07193733,  0.29327344,  0.113791  ,  0.09911958,  0.05133192,\n",
       "        0.0525015 ,  0.04627516,  0.06706103,  0.20470904])"
      ]
     },
     "execution_count": 23,
     "metadata": {},
     "output_type": "execute_result"
    }
   ],
   "source": [
    "lcForGbr.model.model.feature_importances_"
   ]
  },
  {
   "cell_type": "code",
   "execution_count": 24,
   "metadata": {},
   "outputs": [
    {
     "data": {
      "text/plain": [
       "0.97811467021916076"
      ]
     },
     "execution_count": 24,
     "metadata": {},
     "output_type": "execute_result"
    }
   ],
   "source": [
    "lcForGbr.getScore()"
   ]
  },
  {
   "cell_type": "markdown",
   "metadata": {},
   "source": [
    "# DNN Regression"
   ]
  },
  {
   "cell_type": "code",
   "execution_count": 25,
   "metadata": {
    "collapsed": true
   },
   "outputs": [],
   "source": [
    "import tensorflow as tf\n",
    "from DNNRegressionDSBase import DNNRegressionDSBaseModel\n",
    "from DNNRegressionDSBase import DNNRegressionDSBaseParamsToMap"
   ]
  },
  {
   "cell_type": "code",
   "execution_count": 38,
   "metadata": {},
   "outputs": [
    {
     "name": "stdout",
     "output_type": "stream",
     "text": [
      "X size:(7381, 9)\n",
      "y size:(7381,)\n",
      "initiating model 0. DNNRegression\n",
      "initiating model 1. DNNRegression\n"
     ]
    }
   ],
   "source": [
    "params = DNNRegressionDSBaseParamsToMap(layers=[7,5,3], alpha=1e-1, epochs=5)\n",
    "lcForDnnr = LearningCurvesDSBaseWrapper(X,y,[75,100],0.3,DNNRegressionDSBaseModel,params,splitter=train_test_split)\n",
    "sess = tf.Session()\n",
    "for model in lcForDnnr.models:\n",
    "    model.setSession(sess)"
   ]
  },
  {
   "cell_type": "code",
   "execution_count": 39,
   "metadata": {},
   "outputs": [
    {
     "name": "stdout",
     "output_type": "stream",
     "text": [
      "training model 0. DNNRegression\n",
      "epoch 0. batch / n_batches: 0 / 30 cost: 0.0258915\n",
      "epoch 0. batch / n_batches: 10 / 30 cost: 0.031245\n",
      "epoch 0. batch / n_batches: 20 / 30 cost: 0.0221166\n",
      "epoch 1. batch / n_batches: 0 / 30 cost: 0.0210158\n",
      "epoch 1. batch / n_batches: 10 / 30 cost: 0.0211299\n",
      "epoch 1. batch / n_batches: 20 / 30 cost: 0.0193412\n",
      "epoch 2. batch / n_batches: 0 / 30 cost: 0.0114834\n",
      "epoch 2. batch / n_batches: 10 / 30 cost: 0.00757336\n",
      "epoch 2. batch / n_batches: 20 / 30 cost: 0.00589198\n",
      "epoch 3. batch / n_batches: 0 / 30 cost: 0.0055718\n",
      "epoch 3. batch / n_batches: 10 / 30 cost: 0.00378234\n",
      "epoch 3. batch / n_batches: 20 / 30 cost: 0.00319926\n",
      "epoch 4. batch / n_batches: 0 / 30 cost: 0.00346864\n",
      "epoch 4. batch / n_batches: 10 / 30 cost: 0.00232503\n",
      "epoch 4. batch / n_batches: 20 / 30 cost: 0.00238318\n",
      "training model 1. DNNRegression\n",
      "epoch 0. batch / n_batches: 0 / 40 cost: 0.027057\n",
      "epoch 0. batch / n_batches: 10 / 40 cost: 0.0306088\n",
      "epoch 0. batch / n_batches: 20 / 40 cost: 0.0253882\n",
      "epoch 0. batch / n_batches: 30 / 40 cost: 0.0267433\n",
      "epoch 1. batch / n_batches: 0 / 40 cost: 0.016348\n",
      "epoch 1. batch / n_batches: 10 / 40 cost: 0.0107189\n",
      "epoch 1. batch / n_batches: 20 / 40 cost: 0.00853238\n",
      "epoch 1. batch / n_batches: 30 / 40 cost: 0.0066996\n",
      "epoch 2. batch / n_batches: 0 / 40 cost: 0.00454793\n",
      "epoch 2. batch / n_batches: 10 / 40 cost: 0.00388981\n",
      "epoch 2. batch / n_batches: 20 / 40 cost: 0.00412619\n",
      "epoch 2. batch / n_batches: 30 / 40 cost: 0.00344046\n",
      "epoch 3. batch / n_batches: 0 / 40 cost: 0.00226162\n",
      "epoch 3. batch / n_batches: 10 / 40 cost: 0.00264683\n",
      "epoch 3. batch / n_batches: 20 / 40 cost: 0.00266658\n",
      "epoch 3. batch / n_batches: 30 / 40 cost: 0.00211052\n",
      "epoch 4. batch / n_batches: 0 / 40 cost: 0.0017658\n",
      "epoch 4. batch / n_batches: 10 / 40 cost: 0.00186939\n",
      "epoch 4. batch / n_batches: 20 / 40 cost: 0.00194\n",
      "epoch 4. batch / n_batches: 30 / 40 cost: 0.00199979\n"
     ]
    },
    {
     "data": {
      "image/png": "[encoded data removed]",
      "text/plain": [
       "<matplotlib.figure.Figure at 0x1a2a3a7e80>"
      ]
     },
     "metadata": {},
     "output_type": "display_data"
    }
   ],
   "source": [
    "lcForDnnr.train()"
   ]
  },
  {
   "cell_type": "code",
   "execution_count": 40,
   "metadata": {},
   "outputs": [],
   "source": [
    "lc4=lcForDnnr.getLearningCurves()"
   ]
  },
  {
   "cell_type": "code",
   "execution_count": 41,
   "metadata": {},
   "outputs": [
    {
     "data": {
      "text/plain": [
       "[<matplotlib.lines.Line2D at 0x1a2c0a9860>,\n",
       " <matplotlib.lines.Line2D at 0x1a2c0a9d30>]"
      ]
     },
     "execution_count": 41,
     "metadata": {},
     "output_type": "execute_result"
    },
    {
     "data": {
      "image/png": "[encoded data removed]",
      "text/plain": [
       "<matplotlib.figure.Figure at 0x1a2c43d438>"
      ]
     },
     "metadata": {},
     "output_type": "display_data"
    }
   ],
   "source": [
    "plt.plot(lc4[0,:],'b',lc4[1,:],'r')"
   ]
  },
  {
   "cell_type": "code",
   "execution_count": 42,
   "metadata": {},
   "outputs": [
    {
     "data": {
      "text/plain": [
       "0.92925489"
      ]
     },
     "execution_count": 42,
     "metadata": {},
     "output_type": "execute_result"
    }
   ],
   "source": [
    "lcForDnnr.getScore()"
   ]
  },
  {
   "cell_type": "code",
   "execution_count": 43,
   "metadata": {
    "collapsed": true
   },
   "outputs": [],
   "source": [
    "sess.close()"
   ]
  },
  {
   "cell_type": "code",
   "execution_count": null,
   "metadata": {
    "collapsed": true
   },
   "outputs": [],
   "source": []
  }
 ],
 "metadata": {
  "kernelspec": {
   "display_name": "Python 3",
   "language": "python",
   "name": "python3"
  },
  "language_info": {
   "codemirror_mode": {
    "name": "ipython",
    "version": 3
   },
   "file_extension": ".py",
   "mimetype": "text/x-python",
   "name": "python",
   "nbconvert_exporter": "python",
   "pygments_lexer": "ipython3",
   "version": "3.6.3"
  }
 },
 "nbformat": 4,
 "nbformat_minor": 2
}
