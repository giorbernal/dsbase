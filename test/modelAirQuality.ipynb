{
 "cells": [
  {
   "cell_type": "markdown",
   "metadata": {},
   "source": [
    "# Testing Predictive Models for Air Quality"
   ]
  },
  {
   "cell_type": "code",
   "execution_count": 1,
   "metadata": {
    "collapsed": true
   },
   "outputs": [],
   "source": [
    "import sys\n",
    "import numpy as np\n",
    "import pandas as pd\n",
    "import matplotlib.pyplot as plt\n",
    "%matplotlib inline"
   ]
  },
  {
   "cell_type": "code",
   "execution_count": 2,
   "metadata": {
    "collapsed": true
   },
   "outputs": [],
   "source": [
    "sys.path.append('../lib')"
   ]
  },
  {
   "cell_type": "code",
   "execution_count": 3,
   "metadata": {
    "collapsed": true
   },
   "outputs": [],
   "source": [
    "from sklearn.model_selection import train_test_split\n",
    "from LearningCurvesDSBase import LearningCurvesDSBaseWrapper"
   ]
  },
  {
   "cell_type": "code",
   "execution_count": 4,
   "metadata": {
    "collapsed": true
   },
   "outputs": [],
   "source": [
    "df = pd.read_csv('datasets/clean_airQuality.csv')"
   ]
  },
  {
   "cell_type": "code",
   "execution_count": 5,
   "metadata": {
    "collapsed": true
   },
   "outputs": [],
   "source": [
    "X = df.drop(['Unnamed: 0','timestamp','month','seasson','C6H6(GT)'], axis=1).values\n",
    "y = df['C6H6(GT)'].values"
   ]
  },
  {
   "cell_type": "markdown",
   "metadata": {},
   "source": [
    "## Linear Regression"
   ]
  },
  {
   "cell_type": "code",
   "execution_count": 6,
   "metadata": {
    "collapsed": true
   },
   "outputs": [],
   "source": [
    "from LinealRegressionDSBase import LinealRegressionDSBaseModel\n",
    "from LinealRegressionDSBase import LinealRegressionDSBaseParamsToMap"
   ]
  },
  {
   "cell_type": "code",
   "execution_count": 7,
   "metadata": {},
   "outputs": [
    {
     "name": "stdout",
     "output_type": "stream",
     "text": [
      "X size:(7381, 10)\n",
      "y size:(7381,)\n",
      "initiating model 0. LinearRegression\n",
      "initiating model 1. LinearRegression\n",
      "initiating model 2. LinearRegression\n",
      "initiating model 3. LinearRegression\n",
      "initiating model 4. LinearRegression\n",
      "initiating model 5. LinearRegression\n",
      "initiating model 6. LinearRegression\n",
      "initiating model 7. LinearRegression\n",
      "initiating model 8. LinearRegression\n",
      "initiating model 9. LinearRegression\n",
      "initiating model 10. LinearRegression\n",
      "initiating model 11. LinearRegression\n",
      "initiating model 12. LinearRegression\n",
      "initiating model 13. LinearRegression\n",
      "initiating model 14. LinearRegression\n",
      "initiating model 15. LinearRegression\n",
      "initiating model 16. LinearRegression\n"
     ]
    }
   ],
   "source": [
    "params = LinealRegressionDSBaseParamsToMap()\n",
    "lcForlr = LearningCurvesDSBaseWrapper(X,y,[20,25,30,35,40,45,50,55,60,65,70,75,80,85,90,95,100],0.3,LinealRegressionDSBaseModel,params,splitter=train_test_split)"
   ]
  },
  {
   "cell_type": "code",
   "execution_count": 8,
   "metadata": {},
   "outputs": [
    {
     "name": "stdout",
     "output_type": "stream",
     "text": [
      "training model 0. LinearRegression\n",
      "training model 1. LinearRegression\n",
      "training model 2. LinearRegression\n",
      "training model 3. LinearRegression\n",
      "training model 4. LinearRegression\n",
      "training model 5. LinearRegression\n",
      "training model 6. LinearRegression\n",
      "training model 7. LinearRegression\n",
      "training model 8. LinearRegression\n",
      "training model 9. LinearRegression\n",
      "training model 10. LinearRegression\n",
      "training model 11. LinearRegression\n",
      "training model 12. LinearRegression\n",
      "training model 13. LinearRegression\n",
      "training model 14. LinearRegression\n",
      "training model 15. LinearRegression\n",
      "training model 16. LinearRegression\n"
     ]
    }
   ],
   "source": [
    "lcForlr.train()"
   ]
  },
  {
   "cell_type": "code",
   "execution_count": 9,
   "metadata": {},
   "outputs": [],
   "source": [
    "lc1 = lcForlr.getLearningCurves()"
   ]
  },
  {
   "cell_type": "code",
   "execution_count": 10,
   "metadata": {},
   "outputs": [
    {
     "data": {
      "text/plain": [
       "[<matplotlib.lines.Line2D at 0x10fe75668>,\n",
       " <matplotlib.lines.Line2D at 0x10fe75b00>]"
      ]
     },
     "execution_count": 10,
     "metadata": {},
     "output_type": "execute_result"
    },
    {
     "data": {
      "image/png": "[encoded data removed]",
      "text/plain": [
       "<matplotlib.figure.Figure at 0x1a13915f28>"
      ]
     },
     "metadata": {},
     "output_type": "display_data"
    }
   ],
   "source": [
    "plt.plot(lc1[0,:],'b',lc1[1,:],'r')"
   ]
  },
  {
   "cell_type": "code",
   "execution_count": 11,
   "metadata": {},
   "outputs": [
    {
     "data": {
      "text/plain": [
       "0.97856289964482701"
      ]
     },
     "execution_count": 11,
     "metadata": {},
     "output_type": "execute_result"
    }
   ],
   "source": [
    "lcForlr.getScore()"
   ]
  },
  {
   "cell_type": "markdown",
   "metadata": {
    "collapsed": true
   },
   "source": [
    "## Randon Forest Regression"
   ]
  },
  {
   "cell_type": "code",
   "execution_count": 12,
   "metadata": {
    "collapsed": true
   },
   "outputs": [],
   "source": [
    "from RandomForestRegressionDSBase import RandomForestRegressionDSBaseModel\n",
    "from RandomForestRegressionDSBase import RandomForestRegressionDSBaseParamsToMap"
   ]
  },
  {
   "cell_type": "code",
   "execution_count": 13,
   "metadata": {},
   "outputs": [
    {
     "name": "stdout",
     "output_type": "stream",
     "text": [
      "X size:(7381, 10)\n",
      "y size:(7381,)\n",
      "initiating model 0. RandomForestRegressor\n",
      "initiating model 1. RandomForestRegressor\n",
      "initiating model 2. RandomForestRegressor\n",
      "initiating model 3. RandomForestRegressor\n",
      "initiating model 4. RandomForestRegressor\n",
      "initiating model 5. RandomForestRegressor\n",
      "initiating model 6. RandomForestRegressor\n",
      "initiating model 7. RandomForestRegressor\n",
      "initiating model 8. RandomForestRegressor\n",
      "initiating model 9. RandomForestRegressor\n",
      "initiating model 10. RandomForestRegressor\n",
      "initiating model 11. RandomForestRegressor\n",
      "initiating model 12. RandomForestRegressor\n",
      "initiating model 13. RandomForestRegressor\n",
      "initiating model 14. RandomForestRegressor\n",
      "initiating model 15. RandomForestRegressor\n",
      "initiating model 16. RandomForestRegressor\n"
     ]
    }
   ],
   "source": [
    "params = RandomForestRegressionDSBaseParamsToMap(max_depth=10, n_estimators=100)\n",
    "lcForRfr = LearningCurvesDSBaseWrapper(X,y,[20,25,30,35,40,45,50,55,60,65,70,75,80,85,90,95,100],0.3,RandomForestRegressionDSBaseModel,params,splitter=train_test_split)"
   ]
  },
  {
   "cell_type": "code",
   "execution_count": 14,
   "metadata": {},
   "outputs": [
    {
     "name": "stdout",
     "output_type": "stream",
     "text": [
      "training model 0. RandomForestRegressor\n",
      "training model 1. RandomForestRegressor\n",
      "training model 2. RandomForestRegressor\n",
      "training model 3. RandomForestRegressor\n",
      "training model 4. RandomForestRegressor\n",
      "training model 5. RandomForestRegressor\n",
      "training model 6. RandomForestRegressor\n",
      "training model 7. RandomForestRegressor\n",
      "training model 8. RandomForestRegressor\n",
      "training model 9. RandomForestRegressor\n",
      "training model 10. RandomForestRegressor\n",
      "training model 11. RandomForestRegressor\n",
      "training model 12. RandomForestRegressor\n",
      "training model 13. RandomForestRegressor\n",
      "training model 14. RandomForestRegressor\n",
      "training model 15. RandomForestRegressor\n",
      "training model 16. RandomForestRegressor\n"
     ]
    }
   ],
   "source": [
    "lcForRfr.train()"
   ]
  },
  {
   "cell_type": "code",
   "execution_count": 15,
   "metadata": {
    "collapsed": true
   },
   "outputs": [],
   "source": [
    "lc2 = lcForRfr.getLearningCurves()"
   ]
  },
  {
   "cell_type": "code",
   "execution_count": 16,
   "metadata": {},
   "outputs": [
    {
     "data": {
      "text/plain": [
       "[<matplotlib.lines.Line2D at 0x1a20db5ac8>,\n",
       " <matplotlib.lines.Line2D at 0x1a20db5c18>]"
      ]
     },
     "execution_count": 16,
     "metadata": {},
     "output_type": "execute_result"
    },
    {
     "data": {
      "image/png": "[encoded data removed]",
      "text/plain": [
       "<matplotlib.figure.Figure at 0x1a20d8d6d8>"
      ]
     },
     "metadata": {},
     "output_type": "display_data"
    }
   ],
   "source": [
    "plt.plot(lc2[0,:],'b',lc2[1,:],'r')"
   ]
  },
  {
   "cell_type": "code",
   "execution_count": 17,
   "metadata": {},
   "outputs": [
    {
     "data": {
      "text/plain": [
       "0.99995397765392091"
      ]
     },
     "execution_count": 17,
     "metadata": {},
     "output_type": "execute_result"
    }
   ],
   "source": [
    "lcForRfr.getScore()"
   ]
  },
  {
   "cell_type": "markdown",
   "metadata": {
    "collapsed": true
   },
   "source": [
    "# Gradient Boosting Regression"
   ]
  },
  {
   "cell_type": "code",
   "execution_count": 18,
   "metadata": {
    "collapsed": true
   },
   "outputs": [],
   "source": [
    "from GradientBoostingRegressionDSBase import GradientBoostingRegressionDSBaseModel\n",
    "from GradientBoostingRegressionDSBase import GradientBoostingRegressionDSBaseParamsToMap"
   ]
  },
  {
   "cell_type": "code",
   "execution_count": 19,
   "metadata": {},
   "outputs": [
    {
     "name": "stdout",
     "output_type": "stream",
     "text": [
      "X size:(7381, 10)\n",
      "y size:(7381,)\n",
      "initiating model 0. GradientBoostingRegressor\n",
      "initiating model 1. GradientBoostingRegressor\n",
      "initiating model 2. GradientBoostingRegressor\n",
      "initiating model 3. GradientBoostingRegressor\n",
      "initiating model 4. GradientBoostingRegressor\n",
      "initiating model 5. GradientBoostingRegressor\n",
      "initiating model 6. GradientBoostingRegressor\n",
      "initiating model 7. GradientBoostingRegressor\n",
      "initiating model 8. GradientBoostingRegressor\n",
      "initiating model 9. GradientBoostingRegressor\n",
      "initiating model 10. GradientBoostingRegressor\n",
      "initiating model 11. GradientBoostingRegressor\n",
      "initiating model 12. GradientBoostingRegressor\n",
      "initiating model 13. GradientBoostingRegressor\n",
      "initiating model 14. GradientBoostingRegressor\n",
      "initiating model 15. GradientBoostingRegressor\n",
      "initiating model 16. GradientBoostingRegressor\n"
     ]
    }
   ],
   "source": [
    "params = GradientBoostingRegressionDSBaseParamsToMap(max_depth=10, n_estimators=100)\n",
    "lcForGbr = LearningCurvesDSBaseWrapper(X,y,[20,25,30,35,40,45,50,55,60,65,70,75,80,85,90,95,100],0.3,GradientBoostingRegressionDSBaseModel,params,splitter=train_test_split)"
   ]
  },
  {
   "cell_type": "code",
   "execution_count": 20,
   "metadata": {},
   "outputs": [
    {
     "name": "stdout",
     "output_type": "stream",
     "text": [
      "training model 0. GradientBoostingRegressor\n",
      "training model 1. GradientBoostingRegressor\n",
      "training model 2. GradientBoostingRegressor\n",
      "training model 3. GradientBoostingRegressor\n",
      "training model 4. GradientBoostingRegressor\n",
      "training model 5. GradientBoostingRegressor\n",
      "training model 6. GradientBoostingRegressor\n",
      "training model 7. GradientBoostingRegressor\n",
      "training model 8. GradientBoostingRegressor\n",
      "training model 9. GradientBoostingRegressor\n",
      "training model 10. GradientBoostingRegressor\n",
      "training model 11. GradientBoostingRegressor\n",
      "training model 12. GradientBoostingRegressor\n",
      "training model 13. GradientBoostingRegressor\n",
      "training model 14. GradientBoostingRegressor\n",
      "training model 15. GradientBoostingRegressor\n",
      "training model 16. GradientBoostingRegressor\n"
     ]
    }
   ],
   "source": [
    "lcForGbr.train()"
   ]
  },
  {
   "cell_type": "code",
   "execution_count": 21,
   "metadata": {
    "collapsed": true
   },
   "outputs": [],
   "source": [
    "lc3=lcForGbr.getLearningCurves()"
   ]
  },
  {
   "cell_type": "code",
   "execution_count": 22,
   "metadata": {},
   "outputs": [
    {
     "data": {
      "text/plain": [
       "[<matplotlib.lines.Line2D at 0x1a213d65f8>,\n",
       " <matplotlib.lines.Line2D at 0x1a213d6ac8>]"
      ]
     },
     "execution_count": 22,
     "metadata": {},
     "output_type": "execute_result"
    },
    {
     "data": {
      "image/png": "[encoded data removed]",
      "text/plain": [
       "<matplotlib.figure.Figure at 0x1a21393f98>"
      ]
     },
     "metadata": {},
     "output_type": "display_data"
    }
   ],
   "source": [
    "plt.plot(lc3[0,:],'b',lc3[1,:],'r')"
   ]
  },
  {
   "cell_type": "code",
   "execution_count": 23,
   "metadata": {},
   "outputs": [
    {
     "data": {
      "text/plain": [
       "array([  1.73192191e-03,   9.88524572e-01,   1.20547068e-03,\n",
       "         1.23907502e-03,   9.28672466e-04,   9.22103422e-04,\n",
       "         1.32044859e-03,   7.67915050e-04,   1.88521672e-03,\n",
       "         1.47460414e-03])"
      ]
     },
     "execution_count": 23,
     "metadata": {},
     "output_type": "execute_result"
    }
   ],
   "source": [
    "lcForGbr.model.model.feature_importances_"
   ]
  },
  {
   "cell_type": "code",
   "execution_count": 24,
   "metadata": {},
   "outputs": [
    {
     "data": {
      "text/plain": [
       "0.99994823015192935"
      ]
     },
     "execution_count": 24,
     "metadata": {},
     "output_type": "execute_result"
    }
   ],
   "source": [
    "lcForGbr.getScore()"
   ]
  },
  {
   "cell_type": "code",
   "execution_count": null,
   "metadata": {
    "collapsed": true
   },
   "outputs": [],
   "source": []
  }
 ],
 "metadata": {
  "kernelspec": {
   "display_name": "Python 3",
   "language": "python",
   "name": "python3"
  },
  "language_info": {
   "codemirror_mode": {
    "name": "ipython",
    "version": 3
   },
   "file_extension": ".py",
   "mimetype": "text/x-python",
   "name": "python",
   "nbconvert_exporter": "python",
   "pygments_lexer": "ipython3",
   "version": "3.6.3"
  }
 },
 "nbformat": 4,
 "nbformat_minor": 2
}
