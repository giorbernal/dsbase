{
 "cells": [
  {
   "cell_type": "markdown",
   "metadata": {},
   "source": [
    "# Regression: Testing Predictive Models for Air Quality"
   ]
  },
  {
   "cell_type": "code",
   "execution_count": 1,
   "metadata": {
    "collapsed": true
   },
   "outputs": [],
   "source": [
    "import sys\n",
    "import numpy as np\n",
    "import pandas as pd\n",
    "import matplotlib.pyplot as plt\n",
    "%matplotlib inline"
   ]
  },
  {
   "cell_type": "code",
   "execution_count": 2,
   "metadata": {
    "collapsed": true
   },
   "outputs": [],
   "source": [
    "sys.path.append('../lib')"
   ]
  },
  {
   "cell_type": "code",
   "execution_count": 3,
   "metadata": {
    "collapsed": true
   },
   "outputs": [],
   "source": [
    "from sklearn.model_selection import train_test_split\n",
    "from LearningCurvesDSBase import LearningCurvesDSBaseWrapper"
   ]
  },
  {
   "cell_type": "code",
   "execution_count": 4,
   "metadata": {
    "collapsed": true
   },
   "outputs": [],
   "source": [
    "df = pd.read_csv('datasets/clean_airQuality.csv')"
   ]
  },
  {
   "cell_type": "code",
   "execution_count": 5,
   "metadata": {
    "collapsed": true
   },
   "outputs": [],
   "source": [
    "X = df.drop(['Unnamed: 0','timestamp','month','seasson','C6H6(GT)','PT08.S4(NO2)'], axis=1).values\n",
    "y = df['PT08.S4(NO2)'].values"
   ]
  },
  {
   "cell_type": "markdown",
   "metadata": {},
   "source": [
    "## Linear Regression"
   ]
  },
  {
   "cell_type": "code",
   "execution_count": 6,
   "metadata": {},
   "outputs": [],
   "source": [
    "from LinealRegressionDSBase import LinealRegressionDSBaseModel\n",
    "from LinealRegressionDSBase import LinealRegressionDSBaseParamsToMap"
   ]
  },
  {
   "cell_type": "code",
   "execution_count": 7,
   "metadata": {},
   "outputs": [
    {
     "name": "stdout",
     "output_type": "stream",
     "text": [
      "X size:(7381, 9)\n",
      "y size:(7381,)\n",
      "initiating model 0. LinearRegression\n",
      "initiating model 1. LinearRegression\n",
      "initiating model 2. LinearRegression\n",
      "initiating model 3. LinearRegression\n",
      "initiating model 4. LinearRegression\n",
      "initiating model 5. LinearRegression\n",
      "initiating model 6. LinearRegression\n",
      "initiating model 7. LinearRegression\n",
      "initiating model 8. LinearRegression\n",
      "initiating model 9. LinearRegression\n",
      "initiating model 10. LinearRegression\n",
      "initiating model 11. LinearRegression\n",
      "initiating model 12. LinearRegression\n",
      "initiating model 13. LinearRegression\n",
      "initiating model 14. LinearRegression\n",
      "initiating model 15. LinearRegression\n",
      "initiating model 16. LinearRegression\n"
     ]
    }
   ],
   "source": [
    "params = LinealRegressionDSBaseParamsToMap()\n",
    "lcForlr = LearningCurvesDSBaseWrapper(X,y,[20,25,30,35,40,45,50,55,60,65,70,75,80,85,90,95,100],0.3,LinealRegressionDSBaseModel,params,splitter=train_test_split)"
   ]
  },
  {
   "cell_type": "code",
   "execution_count": 8,
   "metadata": {},
   "outputs": [
    {
     "name": "stdout",
     "output_type": "stream",
     "text": [
      "training model 0. LinearRegression\n",
      "training model 1. LinearRegression\n",
      "training model 2. LinearRegression\n",
      "training model 3. LinearRegression\n",
      "training model 4. LinearRegression\n",
      "training model 5. LinearRegression\n",
      "training model 6. LinearRegression\n",
      "training model 7. LinearRegression\n",
      "training model 8. LinearRegression\n",
      "training model 9. LinearRegression\n",
      "training model 10. LinearRegression\n",
      "training model 11. LinearRegression\n",
      "training model 12. LinearRegression\n",
      "training model 13. LinearRegression\n",
      "training model 14. LinearRegression\n",
      "training model 15. LinearRegression\n",
      "training model 16. LinearRegression\n"
     ]
    }
   ],
   "source": [
    "lcForlr.train()"
   ]
  },
  {
   "cell_type": "code",
   "execution_count": 9,
   "metadata": {},
   "outputs": [],
   "source": [
    "lc1 = lcForlr.getLearningCurves()"
   ]
  },
  {
   "cell_type": "code",
   "execution_count": 10,
   "metadata": {},
   "outputs": [
    {
     "data": {
      "text/plain": [
       "[<matplotlib.lines.Line2D at 0x110872828>,\n",
       " <matplotlib.lines.Line2D at 0x110872978>]"
      ]
     },
     "execution_count": 10,
     "metadata": {},
     "output_type": "execute_result"
    },
    {
     "data": {
      "image/png": "[encoded data removed]",
      "text/plain": [
       "<matplotlib.figure.Figure at 0x1a14d510f0>"
      ]
     },
     "metadata": {},
     "output_type": "display_data"
    }
   ],
   "source": [
    "plt.plot(lc1[0,:],'b',lc1[1,:],'r')"
   ]
  },
  {
   "cell_type": "code",
   "execution_count": 11,
   "metadata": {},
   "outputs": [
    {
     "data": {
      "text/plain": [
       "0.94593095125632831"
      ]
     },
     "execution_count": 11,
     "metadata": {},
     "output_type": "execute_result"
    }
   ],
   "source": [
    "lcForlr.getScore()"
   ]
  },
  {
   "cell_type": "code",
   "execution_count": 12,
   "metadata": {},
   "outputs": [
    {
     "name": "stdout",
     "output_type": "stream",
     "text": [
      "saving model: model_persistance/LinearRegression_16.sav\n"
     ]
    }
   ],
   "source": [
    "lcForlr.save()"
   ]
  },
  {
   "cell_type": "code",
   "execution_count": 13,
   "metadata": {},
   "outputs": [
    {
     "name": "stdout",
     "output_type": "stream",
     "text": [
      "initiating empty model 16. LinearRegression\n"
     ]
    }
   ],
   "source": [
    "recoveredLrm = LinealRegressionDSBaseModel(16,None,None,None,None,None,None)"
   ]
  },
  {
   "cell_type": "code",
   "execution_count": 14,
   "metadata": {},
   "outputs": [
    {
     "name": "stdout",
     "output_type": "stream",
     "text": [
      "loading model: model_persistance/LinearRegression_16.sav\n"
     ]
    }
   ],
   "source": [
    "recoveredLrm.load()"
   ]
  },
  {
   "cell_type": "code",
   "execution_count": 15,
   "metadata": {},
   "outputs": [
    {
     "name": "stdout",
     "output_type": "stream",
     "text": [
      "predicting model 16. LinearRegression\n"
     ]
    },
    {
     "data": {
      "text/plain": [
       "array([ 2041.845249  ,  2239.13259594])"
      ]
     },
     "execution_count": 15,
     "metadata": {},
     "output_type": "execute_result"
    }
   ],
   "source": [
    "recoveredLrm.predict(X[1000:1002,:])"
   ]
  },
  {
   "cell_type": "code",
   "execution_count": 16,
   "metadata": {},
   "outputs": [
    {
     "data": {
      "text/plain": [
       "array([ 2193.,  2400.])"
      ]
     },
     "execution_count": 16,
     "metadata": {},
     "output_type": "execute_result"
    }
   ],
   "source": [
    "y[1000:1002]"
   ]
  },
  {
   "cell_type": "markdown",
   "metadata": {
    "collapsed": true
   },
   "source": [
    "## Randon Forest Regression"
   ]
  },
  {
   "cell_type": "code",
   "execution_count": 17,
   "metadata": {
    "collapsed": true
   },
   "outputs": [],
   "source": [
    "from RandomForestRegressionDSBase import RandomForestRegressionDSBaseModel\n",
    "from RandomForestRegressionDSBase import RandomForestRegressionDSBaseParamsToMap"
   ]
  },
  {
   "cell_type": "code",
   "execution_count": 18,
   "metadata": {},
   "outputs": [
    {
     "name": "stdout",
     "output_type": "stream",
     "text": [
      "X size:(7381, 9)\n",
      "y size:(7381,)\n",
      "initiating model 0. RandomForestRegressor\n",
      "initiating model 1. RandomForestRegressor\n",
      "initiating model 2. RandomForestRegressor\n",
      "initiating model 3. RandomForestRegressor\n",
      "initiating model 4. RandomForestRegressor\n",
      "initiating model 5. RandomForestRegressor\n",
      "initiating model 6. RandomForestRegressor\n",
      "initiating model 7. RandomForestRegressor\n",
      "initiating model 8. RandomForestRegressor\n",
      "initiating model 9. RandomForestRegressor\n",
      "initiating model 10. RandomForestRegressor\n",
      "initiating model 11. RandomForestRegressor\n",
      "initiating model 12. RandomForestRegressor\n",
      "initiating model 13. RandomForestRegressor\n",
      "initiating model 14. RandomForestRegressor\n",
      "initiating model 15. RandomForestRegressor\n",
      "initiating model 16. RandomForestRegressor\n"
     ]
    }
   ],
   "source": [
    "params = RandomForestRegressionDSBaseParamsToMap(max_depth=10, n_estimators=100)\n",
    "lcForRfr = LearningCurvesDSBaseWrapper(X,y,[20,25,30,35,40,45,50,55,60,65,70,75,80,85,90,95,100],0.3,RandomForestRegressionDSBaseModel,params,splitter=train_test_split)"
   ]
  },
  {
   "cell_type": "code",
   "execution_count": 19,
   "metadata": {},
   "outputs": [
    {
     "name": "stdout",
     "output_type": "stream",
     "text": [
      "training model 0. RandomForestRegressor\n",
      "training model 1. RandomForestRegressor\n",
      "training model 2. RandomForestRegressor\n",
      "training model 3. RandomForestRegressor\n",
      "training model 4. RandomForestRegressor\n",
      "training model 5. RandomForestRegressor\n",
      "training model 6. RandomForestRegressor\n",
      "training model 7. RandomForestRegressor\n",
      "training model 8. RandomForestRegressor\n",
      "training model 9. RandomForestRegressor\n",
      "training model 10. RandomForestRegressor\n",
      "training model 11. RandomForestRegressor\n",
      "training model 12. RandomForestRegressor\n",
      "training model 13. RandomForestRegressor\n",
      "training model 14. RandomForestRegressor\n",
      "training model 15. RandomForestRegressor\n",
      "training model 16. RandomForestRegressor\n"
     ]
    }
   ],
   "source": [
    "lcForRfr.train()"
   ]
  },
  {
   "cell_type": "code",
   "execution_count": 20,
   "metadata": {
    "collapsed": true
   },
   "outputs": [],
   "source": [
    "lc2 = lcForRfr.getLearningCurves()"
   ]
  },
  {
   "cell_type": "code",
   "execution_count": 21,
   "metadata": {},
   "outputs": [
    {
     "data": {
      "text/plain": [
       "[<matplotlib.lines.Line2D at 0x1a219514e0>,\n",
       " <matplotlib.lines.Line2D at 0x1a21951630>]"
      ]
     },
     "execution_count": 21,
     "metadata": {},
     "output_type": "execute_result"
    },
    {
     "data": {
      "image/png": "[encoded data removed]",
      "text/plain": [
       "<matplotlib.figure.Figure at 0x1a218f32b0>"
      ]
     },
     "metadata": {},
     "output_type": "display_data"
    }
   ],
   "source": [
    "plt.plot(lc2[0,:],'b',lc2[1,:],'r')"
   ]
  },
  {
   "cell_type": "code",
   "execution_count": 22,
   "metadata": {},
   "outputs": [
    {
     "data": {
      "text/plain": [
       "0.97855406500266084"
      ]
     },
     "execution_count": 22,
     "metadata": {},
     "output_type": "execute_result"
    }
   ],
   "source": [
    "lcForRfr.getScore()"
   ]
  },
  {
   "cell_type": "markdown",
   "metadata": {
    "collapsed": true
   },
   "source": [
    "# Gradient Boosting Regression"
   ]
  },
  {
   "cell_type": "code",
   "execution_count": 23,
   "metadata": {
    "collapsed": true
   },
   "outputs": [],
   "source": [
    "from GradientBoostingRegressionDSBase import GradientBoostingRegressionDSBaseModel\n",
    "from GradientBoostingRegressionDSBase import GradientBoostingRegressionDSBaseParamsToMap"
   ]
  },
  {
   "cell_type": "code",
   "execution_count": 24,
   "metadata": {},
   "outputs": [
    {
     "name": "stdout",
     "output_type": "stream",
     "text": [
      "X size:(7381, 9)\n",
      "y size:(7381,)\n",
      "initiating model 0. GradientBoostingRegressor\n",
      "initiating model 1. GradientBoostingRegressor\n",
      "initiating model 2. GradientBoostingRegressor\n",
      "initiating model 3. GradientBoostingRegressor\n",
      "initiating model 4. GradientBoostingRegressor\n",
      "initiating model 5. GradientBoostingRegressor\n",
      "initiating model 6. GradientBoostingRegressor\n",
      "initiating model 7. GradientBoostingRegressor\n",
      "initiating model 8. GradientBoostingRegressor\n",
      "initiating model 9. GradientBoostingRegressor\n",
      "initiating model 10. GradientBoostingRegressor\n",
      "initiating model 11. GradientBoostingRegressor\n",
      "initiating model 12. GradientBoostingRegressor\n",
      "initiating model 13. GradientBoostingRegressor\n",
      "initiating model 14. GradientBoostingRegressor\n",
      "initiating model 15. GradientBoostingRegressor\n",
      "initiating model 16. GradientBoostingRegressor\n"
     ]
    }
   ],
   "source": [
    "params = GradientBoostingRegressionDSBaseParamsToMap(max_depth=5, n_estimators=75)\n",
    "lcForGbr = LearningCurvesDSBaseWrapper(X,y,[20,25,30,35,40,45,50,55,60,65,70,75,80,85,90,95,100],0.3,GradientBoostingRegressionDSBaseModel,params,splitter=train_test_split)"
   ]
  },
  {
   "cell_type": "code",
   "execution_count": 25,
   "metadata": {},
   "outputs": [
    {
     "name": "stdout",
     "output_type": "stream",
     "text": [
      "training model 0. GradientBoostingRegressor\n",
      "training model 1. GradientBoostingRegressor\n",
      "training model 2. GradientBoostingRegressor\n",
      "training model 3. GradientBoostingRegressor\n",
      "training model 4. GradientBoostingRegressor\n",
      "training model 5. GradientBoostingRegressor\n",
      "training model 6. GradientBoostingRegressor\n",
      "training model 7. GradientBoostingRegressor\n",
      "training model 8. GradientBoostingRegressor\n",
      "training model 9. GradientBoostingRegressor\n",
      "training model 10. GradientBoostingRegressor\n",
      "training model 11. GradientBoostingRegressor\n",
      "training model 12. GradientBoostingRegressor\n",
      "training model 13. GradientBoostingRegressor\n",
      "training model 14. GradientBoostingRegressor\n",
      "training model 15. GradientBoostingRegressor\n",
      "training model 16. GradientBoostingRegressor\n"
     ]
    }
   ],
   "source": [
    "lcForGbr.train()"
   ]
  },
  {
   "cell_type": "code",
   "execution_count": 26,
   "metadata": {
    "collapsed": true
   },
   "outputs": [],
   "source": [
    "lc3=lcForGbr.getLearningCurves()"
   ]
  },
  {
   "cell_type": "code",
   "execution_count": 27,
   "metadata": {},
   "outputs": [
    {
     "data": {
      "text/plain": [
       "[<matplotlib.lines.Line2D at 0x1a21ee5438>,\n",
       " <matplotlib.lines.Line2D at 0x1a21ee5908>]"
      ]
     },
     "execution_count": 27,
     "metadata": {},
     "output_type": "execute_result"
    },
    {
     "data": {
      "image/png": "[encoded data removed]",
      "text/plain": [
       "<matplotlib.figure.Figure at 0x1a21e68fd0>"
      ]
     },
     "metadata": {},
     "output_type": "display_data"
    }
   ],
   "source": [
    "plt.plot(lc3[0,:],'b',lc3[1,:],'r')"
   ]
  },
  {
   "cell_type": "code",
   "execution_count": 28,
   "metadata": {},
   "outputs": [
    {
     "data": {
      "text/plain": [
       "array([ 0.07364242,  0.29317462,  0.11394097,  0.10004995,  0.05101748,\n",
       "        0.05170337,  0.04555049,  0.06684448,  0.20407622])"
      ]
     },
     "execution_count": 28,
     "metadata": {},
     "output_type": "execute_result"
    }
   ],
   "source": [
    "lcForGbr.model.model.feature_importances_"
   ]
  },
  {
   "cell_type": "code",
   "execution_count": 29,
   "metadata": {},
   "outputs": [
    {
     "data": {
      "text/plain": [
       "0.97809526967275295"
      ]
     },
     "execution_count": 29,
     "metadata": {},
     "output_type": "execute_result"
    }
   ],
   "source": [
    "lcForGbr.getScore()"
   ]
  },
  {
   "cell_type": "markdown",
   "metadata": {},
   "source": [
    "# DNN Regression"
   ]
  },
  {
   "cell_type": "code",
   "execution_count": 30,
   "metadata": {
    "collapsed": true
   },
   "outputs": [],
   "source": [
    "import tensorflow as tf\n",
    "from DNNRegressionDSBase import DNNRegressionDSBaseModel\n",
    "from DNNRegressionDSBase import DNNRegressionDSBaseParamsToMap"
   ]
  },
  {
   "cell_type": "code",
   "execution_count": 31,
   "metadata": {},
   "outputs": [
    {
     "name": "stdout",
     "output_type": "stream",
     "text": [
      "X size:(7381, 9)\n",
      "y size:(7381,)\n",
      "initiating model 0. DNNRegression\n",
      "initiating model 1. DNNRegression\n"
     ]
    }
   ],
   "source": [
    "params = DNNRegressionDSBaseParamsToMap(layers=[7,5,3], alpha=1e-1, epochs=5)\n",
    "lcForDnnr = LearningCurvesDSBaseWrapper(X,y,[75,100],0.3,DNNRegressionDSBaseModel,params,splitter=train_test_split)\n",
    "sess = tf.Session()\n",
    "for model in lcForDnnr.models:\n",
    "    model.setSession(sess)"
   ]
  },
  {
   "cell_type": "code",
   "execution_count": 32,
   "metadata": {},
   "outputs": [
    {
     "name": "stdout",
     "output_type": "stream",
     "text": [
      "training model 0. DNNRegression\n",
      "epoch 0. batch / n_batches: 0 / 30 cost: 0.0353607\n",
      "epoch 0. batch / n_batches: 10 / 30 cost: 0.027508\n",
      "epoch 0. batch / n_batches: 20 / 30 cost: 0.0219243\n",
      "epoch 1. batch / n_batches: 0 / 30 cost: 0.0173757\n",
      "epoch 1. batch / n_batches: 10 / 30 cost: 0.00891277\n",
      "epoch 1. batch / n_batches: 20 / 30 cost: 0.00726308\n",
      "epoch 2. batch / n_batches: 0 / 30 cost: 0.00597173\n",
      "epoch 2. batch / n_batches: 10 / 30 cost: 0.00465175\n",
      "epoch 2. batch / n_batches: 20 / 30 cost: 0.00425438\n",
      "epoch 3. batch / n_batches: 0 / 30 cost: 0.00388043\n",
      "epoch 3. batch / n_batches: 10 / 30 cost: 0.00331274\n",
      "epoch 3. batch / n_batches: 20 / 30 cost: 0.00325854\n",
      "epoch 4. batch / n_batches: 0 / 30 cost: 0.00325225\n",
      "epoch 4. batch / n_batches: 10 / 30 cost: 0.00228611\n",
      "epoch 4. batch / n_batches: 20 / 30 cost: 0.00304483\n",
      "training model 1. DNNRegression\n",
      "epoch 0. batch / n_batches: 0 / 40 cost: 0.0641373\n",
      "epoch 0. batch / n_batches: 10 / 40 cost: 0.0331598\n",
      "epoch 0. batch / n_batches: 20 / 40 cost: 0.0273089\n",
      "epoch 0. batch / n_batches: 30 / 40 cost: 0.0293911\n",
      "epoch 1. batch / n_batches: 0 / 40 cost: 0.0205872\n",
      "epoch 1. batch / n_batches: 10 / 40 cost: 0.021714\n",
      "epoch 1. batch / n_batches: 20 / 40 cost: 0.0131093\n",
      "epoch 1. batch / n_batches: 30 / 40 cost: 0.00873072\n",
      "epoch 2. batch / n_batches: 0 / 40 cost: 0.00623746\n",
      "epoch 2. batch / n_batches: 10 / 40 cost: 0.00625604\n",
      "epoch 2. batch / n_batches: 20 / 40 cost: 0.0052446\n",
      "epoch 2. batch / n_batches: 30 / 40 cost: 0.00388774\n",
      "epoch 3. batch / n_batches: 0 / 40 cost: 0.00221196\n",
      "epoch 3. batch / n_batches: 10 / 40 cost: 0.00300195\n",
      "epoch 3. batch / n_batches: 20 / 40 cost: 0.00318179\n",
      "epoch 3. batch / n_batches: 30 / 40 cost: 0.00228953\n",
      "epoch 4. batch / n_batches: 0 / 40 cost: 0.00146292\n",
      "epoch 4. batch / n_batches: 10 / 40 cost: 0.00168656\n",
      "epoch 4. batch / n_batches: 20 / 40 cost: 0.00157438\n",
      "epoch 4. batch / n_batches: 30 / 40 cost: 0.00159976\n"
     ]
    },
    {
     "data": {
      "image/png": "[encoded data removed]",
      "text/plain": [
       "<matplotlib.figure.Figure at 0x1a2deb0c88>"
      ]
     },
     "metadata": {},
     "output_type": "display_data"
    }
   ],
   "source": [
    "lcForDnnr.train()"
   ]
  },
  {
   "cell_type": "code",
   "execution_count": 33,
   "metadata": {
    "collapsed": true
   },
   "outputs": [],
   "source": [
    "lc4=lcForDnnr.getLearningCurves()"
   ]
  },
  {
   "cell_type": "code",
   "execution_count": 34,
   "metadata": {},
   "outputs": [
    {
     "data": {
      "text/plain": [
       "[<matplotlib.lines.Line2D at 0x1a2e9b1a58>,\n",
       " <matplotlib.lines.Line2D at 0x1a2e9bd080>]"
      ]
     },
     "execution_count": 34,
     "metadata": {},
     "output_type": "execute_result"
    },
    {
     "data": {
      "image/png": "[encoded data removed]",
      "text/plain": [
       "<matplotlib.figure.Figure at 0x1a2f8116d8>"
      ]
     },
     "metadata": {},
     "output_type": "display_data"
    }
   ],
   "source": [
    "plt.plot(lc4[0,:],'b',lc4[1,:],'r')"
   ]
  },
  {
   "cell_type": "code",
   "execution_count": 35,
   "metadata": {},
   "outputs": [
    {
     "data": {
      "text/plain": [
       "0.94811529"
      ]
     },
     "execution_count": 35,
     "metadata": {},
     "output_type": "execute_result"
    }
   ],
   "source": [
    "lcForDnnr.getScore()"
   ]
  },
  {
   "cell_type": "code",
   "execution_count": 36,
   "metadata": {
    "collapsed": true
   },
   "outputs": [],
   "source": [
    "sess.close()"
   ]
  },
  {
   "cell_type": "code",
   "execution_count": null,
   "metadata": {},
   "outputs": [],
   "source": []
  }
 ],
 "metadata": {
  "kernelspec": {
   "display_name": "Python 3",
   "language": "python",
   "name": "python3"
  },
  "language_info": {
   "codemirror_mode": {
    "name": "ipython",
    "version": 3
   },
   "file_extension": ".py",
   "mimetype": "text/x-python",
   "name": "python",
   "nbconvert_exporter": "python",
   "pygments_lexer": "ipython3",
   "version": "3.6.3"
  }
 },
 "nbformat": 4,
 "nbformat_minor": 2
}
