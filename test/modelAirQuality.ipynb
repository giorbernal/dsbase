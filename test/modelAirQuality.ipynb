{
 "cells": [
  {
   "cell_type": "markdown",
   "metadata": {},
   "source": [
    "# Regression: Testing Predictive Models for Air Quality"
   ]
  },
  {
   "cell_type": "code",
   "execution_count": 1,
   "metadata": {
    "collapsed": true
   },
   "outputs": [],
   "source": [
    "import sys\n",
    "import numpy as np\n",
    "import pandas as pd\n",
    "import matplotlib.pyplot as plt\n",
    "%matplotlib inline"
   ]
  },
  {
   "cell_type": "code",
   "execution_count": 2,
   "metadata": {
    "collapsed": true
   },
   "outputs": [],
   "source": [
    "sys.path.append('../lib')"
   ]
  },
  {
   "cell_type": "code",
   "execution_count": 3,
   "metadata": {
    "collapsed": true
   },
   "outputs": [],
   "source": [
    "from sklearn.model_selection import train_test_split\n",
    "from ModelDSBase import ModelDSBaseWrapper"
   ]
  },
  {
   "cell_type": "code",
   "execution_count": 4,
   "metadata": {
    "collapsed": true
   },
   "outputs": [],
   "source": [
    "df = pd.read_csv('datasets/clean_airQuality.csv')"
   ]
  },
  {
   "cell_type": "code",
   "execution_count": 5,
   "metadata": {
    "collapsed": true
   },
   "outputs": [],
   "source": [
    "X = df.drop(['Unnamed: 0','timestamp','month','seasson','C6H6(GT)','PT08.S4(NO2)'], axis=1).values\n",
    "y = df['PT08.S4(NO2)'].values"
   ]
  },
  {
   "cell_type": "markdown",
   "metadata": {},
   "source": [
    "## Linear Regression"
   ]
  },
  {
   "cell_type": "code",
   "execution_count": 6,
   "metadata": {
    "collapsed": true
   },
   "outputs": [],
   "source": [
    "from LinealRegressionDSBase import LinealRegressionDSBaseModel\n",
    "from LinealRegressionDSBase import LinealRegressionDSBaseParamsToMap"
   ]
  },
  {
   "cell_type": "code",
   "execution_count": 7,
   "metadata": {},
   "outputs": [
    {
     "name": "stdout",
     "output_type": "stream",
     "text": [
      "X size:(7381, 9)\n",
      "y size:(7381,)\n",
      "initiating model LR0. LinearRegression\n",
      "initiating model LR1. LinearRegression\n",
      "initiating model LR2. LinearRegression\n",
      "initiating model LR3. LinearRegression\n",
      "initiating model LR4. LinearRegression\n",
      "initiating model LR5. LinearRegression\n",
      "initiating model LR6. LinearRegression\n",
      "initiating model LR7. LinearRegression\n",
      "initiating model LR8. LinearRegression\n",
      "initiating model LR9. LinearRegression\n",
      "initiating model LR10. LinearRegression\n",
      "initiating model LR11. LinearRegression\n",
      "initiating model LR12. LinearRegression\n",
      "initiating model LR13. LinearRegression\n",
      "initiating model LR14. LinearRegression\n",
      "initiating model LR15. LinearRegression\n",
      "initiating model LR16. LinearRegression\n"
     ]
    }
   ],
   "source": [
    "params = LinealRegressionDSBaseParamsToMap()\n",
    "lr = ModelDSBaseWrapper('LR',X,y,[20,25,30,35,40,45,50,55,60,65,70,75,80,85,90,95,100],0.3,LinealRegressionDSBaseModel,params,splitter=train_test_split)"
   ]
  },
  {
   "cell_type": "code",
   "execution_count": 8,
   "metadata": {},
   "outputs": [
    {
     "name": "stdout",
     "output_type": "stream",
     "text": [
      "training model LR0. LinearRegression\n",
      "training model LR1. LinearRegression\n",
      "training model LR2. LinearRegression\n",
      "training model LR3. LinearRegression\n",
      "training model LR4. LinearRegression\n",
      "training model LR5. LinearRegression\n",
      "training model LR6. LinearRegression\n",
      "training model LR7. LinearRegression\n",
      "training model LR8. LinearRegression\n",
      "training model LR9. LinearRegression\n",
      "training model LR10. LinearRegression\n",
      "training model LR11. LinearRegression\n",
      "training model LR12. LinearRegression\n",
      "training model LR13. LinearRegression\n",
      "training model LR14. LinearRegression\n",
      "training model LR15. LinearRegression\n",
      "training model LR16. LinearRegression\n"
     ]
    }
   ],
   "source": [
    "lr.train()"
   ]
  },
  {
   "cell_type": "code",
   "execution_count": 9,
   "metadata": {
    "collapsed": true
   },
   "outputs": [],
   "source": [
    "lc1 = lr.getLearningCurves()"
   ]
  },
  {
   "cell_type": "code",
   "execution_count": 10,
   "metadata": {},
   "outputs": [
    {
     "data": {
      "text/plain": [
       "[<matplotlib.lines.Line2D at 0x10ec1e128>,\n",
       " <matplotlib.lines.Line2D at 0x10ec1e5c0>]"
      ]
     },
     "execution_count": 10,
     "metadata": {},
     "output_type": "execute_result"
    },
    {
     "data": {
      "image/png": "[encoded data removed]",
      "text/plain": [
       "<matplotlib.figure.Figure at 0x1a200de4a8>"
      ]
     },
     "metadata": {},
     "output_type": "display_data"
    }
   ],
   "source": [
    "plt.plot(lc1[0,:],'b',lc1[1,:],'r')"
   ]
  },
  {
   "cell_type": "code",
   "execution_count": 11,
   "metadata": {},
   "outputs": [
    {
     "data": {
      "text/plain": [
       "0.94593095125632831"
      ]
     },
     "execution_count": 11,
     "metadata": {},
     "output_type": "execute_result"
    }
   ],
   "source": [
    "lr.getScore()"
   ]
  },
  {
   "cell_type": "code",
   "execution_count": 12,
   "metadata": {},
   "outputs": [
    {
     "name": "stdout",
     "output_type": "stream",
     "text": [
      "saving model: model_persistance/LinearRegression_LR16.sav\n"
     ]
    }
   ],
   "source": [
    "lr.save()"
   ]
  },
  {
   "cell_type": "code",
   "execution_count": 13,
   "metadata": {},
   "outputs": [
    {
     "name": "stdout",
     "output_type": "stream",
     "text": [
      "initiating empty model LR16. LinearRegression\n"
     ]
    }
   ],
   "source": [
    "recoveredLrm = LinealRegressionDSBaseModel('LR16',None,None,None,None,None,None)"
   ]
  },
  {
   "cell_type": "code",
   "execution_count": 14,
   "metadata": {},
   "outputs": [
    {
     "name": "stdout",
     "output_type": "stream",
     "text": [
      "loading model: model_persistance/LinearRegression_LR16.sav\n"
     ]
    }
   ],
   "source": [
    "recoveredLrm.load()"
   ]
  },
  {
   "cell_type": "code",
   "execution_count": 15,
   "metadata": {},
   "outputs": [
    {
     "name": "stdout",
     "output_type": "stream",
     "text": [
      "predicting model LR16. LinearRegression\n"
     ]
    },
    {
     "data": {
      "text/plain": [
       "array([ 2041.845249  ,  2239.13259594])"
      ]
     },
     "execution_count": 15,
     "metadata": {},
     "output_type": "execute_result"
    }
   ],
   "source": [
    "recoveredLrm.predict(X[1000:1002,:])"
   ]
  },
  {
   "cell_type": "code",
   "execution_count": 16,
   "metadata": {},
   "outputs": [
    {
     "data": {
      "text/plain": [
       "array([ 2193.,  2400.])"
      ]
     },
     "execution_count": 16,
     "metadata": {},
     "output_type": "execute_result"
    }
   ],
   "source": [
    "y[1000:1002]"
   ]
  },
  {
   "cell_type": "markdown",
   "metadata": {
    "collapsed": true
   },
   "source": [
    "## Randon Forest Regression"
   ]
  },
  {
   "cell_type": "code",
   "execution_count": 17,
   "metadata": {
    "collapsed": true
   },
   "outputs": [],
   "source": [
    "from RandomForestRegressionDSBase import RandomForestRegressionDSBaseModel\n",
    "from RandomForestRegressionDSBase import RandomForestRegressionDSBaseParamsToMap"
   ]
  },
  {
   "cell_type": "code",
   "execution_count": 18,
   "metadata": {},
   "outputs": [
    {
     "name": "stdout",
     "output_type": "stream",
     "text": [
      "X size:(7381, 9)\n",
      "y size:(7381,)\n",
      "initiating model RFR0. RandomForestRegressor\n",
      "initiating model RFR1. RandomForestRegressor\n",
      "initiating model RFR2. RandomForestRegressor\n",
      "initiating model RFR3. RandomForestRegressor\n",
      "initiating model RFR4. RandomForestRegressor\n",
      "initiating model RFR5. RandomForestRegressor\n",
      "initiating model RFR6. RandomForestRegressor\n",
      "initiating model RFR7. RandomForestRegressor\n",
      "initiating model RFR8. RandomForestRegressor\n",
      "initiating model RFR9. RandomForestRegressor\n",
      "initiating model RFR10. RandomForestRegressor\n",
      "initiating model RFR11. RandomForestRegressor\n",
      "initiating model RFR12. RandomForestRegressor\n",
      "initiating model RFR13. RandomForestRegressor\n",
      "initiating model RFR14. RandomForestRegressor\n",
      "initiating model RFR15. RandomForestRegressor\n",
      "initiating model RFR16. RandomForestRegressor\n"
     ]
    }
   ],
   "source": [
    "params = RandomForestRegressionDSBaseParamsToMap(max_depth=10, n_estimators=100)\n",
    "rfr = ModelDSBaseWrapper('RFR',X,y,[20,25,30,35,40,45,50,55,60,65,70,75,80,85,90,95,100],0.3,RandomForestRegressionDSBaseModel,params,splitter=train_test_split)"
   ]
  },
  {
   "cell_type": "code",
   "execution_count": 19,
   "metadata": {},
   "outputs": [
    {
     "name": "stdout",
     "output_type": "stream",
     "text": [
      "training model RFR0. RandomForestRegressor\n",
      "training model RFR1. RandomForestRegressor\n",
      "training model RFR2. RandomForestRegressor\n",
      "training model RFR3. RandomForestRegressor\n",
      "training model RFR4. RandomForestRegressor\n",
      "training model RFR5. RandomForestRegressor\n",
      "training model RFR6. RandomForestRegressor\n",
      "training model RFR7. RandomForestRegressor\n",
      "training model RFR8. RandomForestRegressor\n",
      "training model RFR9. RandomForestRegressor\n",
      "training model RFR10. RandomForestRegressor\n",
      "training model RFR11. RandomForestRegressor\n",
      "training model RFR12. RandomForestRegressor\n",
      "training model RFR13. RandomForestRegressor\n",
      "training model RFR14. RandomForestRegressor\n",
      "training model RFR15. RandomForestRegressor\n",
      "training model RFR16. RandomForestRegressor\n"
     ]
    }
   ],
   "source": [
    "rfr.train()"
   ]
  },
  {
   "cell_type": "code",
   "execution_count": 20,
   "metadata": {},
   "outputs": [],
   "source": [
    "lc2 = rfr.getLearningCurves()"
   ]
  },
  {
   "cell_type": "code",
   "execution_count": 21,
   "metadata": {},
   "outputs": [
    {
     "data": {
      "text/plain": [
       "[<matplotlib.lines.Line2D at 0x1a2cb21a90>,\n",
       " <matplotlib.lines.Line2D at 0x1a2cb21be0>]"
      ]
     },
     "execution_count": 21,
     "metadata": {},
     "output_type": "execute_result"
    },
    {
     "data": {
      "image/png": "[encoded data removed]",
      "text/plain": [
       "<matplotlib.figure.Figure at 0x1a2caf8588>"
      ]
     },
     "metadata": {},
     "output_type": "display_data"
    }
   ],
   "source": [
    "plt.plot(lc2[0,:],'b',lc2[1,:],'r')"
   ]
  },
  {
   "cell_type": "code",
   "execution_count": 22,
   "metadata": {},
   "outputs": [
    {
     "data": {
      "text/plain": [
       "0.97804633690457954"
      ]
     },
     "execution_count": 22,
     "metadata": {},
     "output_type": "execute_result"
    }
   ],
   "source": [
    "rfr.getScore()"
   ]
  },
  {
   "cell_type": "code",
   "execution_count": 23,
   "metadata": {},
   "outputs": [
    {
     "name": "stdout",
     "output_type": "stream",
     "text": [
      "saving model: model_persistance/RandomForestRegressor_RFR16.sav\n"
     ]
    }
   ],
   "source": [
    "rfr.save()"
   ]
  },
  {
   "cell_type": "code",
   "execution_count": 24,
   "metadata": {},
   "outputs": [
    {
     "name": "stdout",
     "output_type": "stream",
     "text": [
      "initiating empty model RFR16. RandomForestRegressor\n"
     ]
    }
   ],
   "source": [
    "recoveredRfm = RandomForestRegressionDSBaseModel('RFR16',None,None,None,None,None,None)"
   ]
  },
  {
   "cell_type": "code",
   "execution_count": 25,
   "metadata": {},
   "outputs": [
    {
     "name": "stdout",
     "output_type": "stream",
     "text": [
      "loading model: model_persistance/RandomForestRegressor_RFR16.sav\n"
     ]
    }
   ],
   "source": [
    "recoveredRfm.load()"
   ]
  },
  {
   "cell_type": "code",
   "execution_count": 26,
   "metadata": {},
   "outputs": [
    {
     "name": "stdout",
     "output_type": "stream",
     "text": [
      "predicting model RFR16. RandomForestRegressor\n"
     ]
    },
    {
     "data": {
      "text/plain": [
       "array([ 2112.4598009 ,  2339.14913469])"
      ]
     },
     "execution_count": 26,
     "metadata": {},
     "output_type": "execute_result"
    }
   ],
   "source": [
    "recoveredRfm.predict(X[1000:1002,:])"
   ]
  },
  {
   "cell_type": "code",
   "execution_count": 27,
   "metadata": {},
   "outputs": [
    {
     "data": {
      "text/plain": [
       "array([ 2193.,  2400.])"
      ]
     },
     "execution_count": 27,
     "metadata": {},
     "output_type": "execute_result"
    }
   ],
   "source": [
    "y[1000:1002]"
   ]
  },
  {
   "cell_type": "markdown",
   "metadata": {
    "collapsed": true
   },
   "source": [
    "# Gradient Boosting Regression"
   ]
  },
  {
   "cell_type": "code",
   "execution_count": 28,
   "metadata": {
    "collapsed": true
   },
   "outputs": [],
   "source": [
    "from GradientBoostingRegressionDSBase import GradientBoostingRegressionDSBaseModel\n",
    "from GradientBoostingRegressionDSBase import GradientBoostingRegressionDSBaseParamsToMap"
   ]
  },
  {
   "cell_type": "code",
   "execution_count": 29,
   "metadata": {},
   "outputs": [
    {
     "name": "stdout",
     "output_type": "stream",
     "text": [
      "X size:(7381, 9)\n",
      "y size:(7381,)\n",
      "initiating model GBR0. RandomForestRegressor\n",
      "initiating model GBR1. RandomForestRegressor\n",
      "initiating model GBR2. RandomForestRegressor\n",
      "initiating model GBR3. RandomForestRegressor\n",
      "initiating model GBR4. RandomForestRegressor\n",
      "initiating model GBR5. RandomForestRegressor\n",
      "initiating model GBR6. RandomForestRegressor\n",
      "initiating model GBR7. RandomForestRegressor\n",
      "initiating model GBR8. RandomForestRegressor\n",
      "initiating model GBR9. RandomForestRegressor\n",
      "initiating model GBR10. RandomForestRegressor\n",
      "initiating model GBR11. RandomForestRegressor\n",
      "initiating model GBR12. RandomForestRegressor\n",
      "initiating model GBR13. RandomForestRegressor\n",
      "initiating model GBR14. RandomForestRegressor\n",
      "initiating model GBR15. RandomForestRegressor\n",
      "initiating model GBR16. RandomForestRegressor\n"
     ]
    }
   ],
   "source": [
    "params = GradientBoostingRegressionDSBaseParamsToMap(max_depth=5, n_estimators=75)\n",
    "gbr = ModelDSBaseWrapper('GBR',X,y,[20,25,30,35,40,45,50,55,60,65,70,75,80,85,90,95,100],0.3,GradientBoostingRegressionDSBaseModel,params,splitter=train_test_split)"
   ]
  },
  {
   "cell_type": "code",
   "execution_count": 30,
   "metadata": {},
   "outputs": [
    {
     "name": "stdout",
     "output_type": "stream",
     "text": [
      "training model GBR0. RandomForestRegressor\n",
      "training model GBR1. RandomForestRegressor\n",
      "training model GBR2. RandomForestRegressor\n",
      "training model GBR3. RandomForestRegressor\n",
      "training model GBR4. RandomForestRegressor\n",
      "training model GBR5. RandomForestRegressor\n",
      "training model GBR6. RandomForestRegressor\n",
      "training model GBR7. RandomForestRegressor\n",
      "training model GBR8. RandomForestRegressor\n",
      "training model GBR9. RandomForestRegressor\n",
      "training model GBR10. RandomForestRegressor\n",
      "training model GBR11. RandomForestRegressor\n",
      "training model GBR12. RandomForestRegressor\n",
      "training model GBR13. RandomForestRegressor\n",
      "training model GBR14. RandomForestRegressor\n",
      "training model GBR15. RandomForestRegressor\n",
      "training model GBR16. RandomForestRegressor\n"
     ]
    }
   ],
   "source": [
    "gbr.train()"
   ]
  },
  {
   "cell_type": "code",
   "execution_count": 31,
   "metadata": {
    "collapsed": true
   },
   "outputs": [],
   "source": [
    "lc3=gbr.getLearningCurves()"
   ]
  },
  {
   "cell_type": "code",
   "execution_count": 32,
   "metadata": {},
   "outputs": [
    {
     "data": {
      "text/plain": [
       "[<matplotlib.lines.Line2D at 0x1a2d520ef0>,\n",
       " <matplotlib.lines.Line2D at 0x1a2d4f6080>]"
      ]
     },
     "execution_count": 32,
     "metadata": {},
     "output_type": "execute_result"
    },
    {
     "data": {
      "image/png": "[encoded data removed]",
      "text/plain": [
       "<matplotlib.figure.Figure at 0x1a2d4efda0>"
      ]
     },
     "metadata": {},
     "output_type": "display_data"
    }
   ],
   "source": [
    "plt.plot(lc3[0,:],'b',lc3[1,:],'r')"
   ]
  },
  {
   "cell_type": "code",
   "execution_count": 33,
   "metadata": {},
   "outputs": [
    {
     "data": {
      "text/plain": [
       "array([ 0.07333877,  0.29307287,  0.11442447,  0.09820177,  0.05153252,\n",
       "        0.05113631,  0.04695157,  0.06634059,  0.20500113])"
      ]
     },
     "execution_count": 33,
     "metadata": {},
     "output_type": "execute_result"
    }
   ],
   "source": [
    "gbr.model.model.feature_importances_"
   ]
  },
  {
   "cell_type": "code",
   "execution_count": 34,
   "metadata": {},
   "outputs": [
    {
     "data": {
      "text/plain": [
       "0.97820740818057383"
      ]
     },
     "execution_count": 34,
     "metadata": {},
     "output_type": "execute_result"
    }
   ],
   "source": [
    "gbr.getScore()"
   ]
  },
  {
   "cell_type": "code",
   "execution_count": 35,
   "metadata": {},
   "outputs": [
    {
     "name": "stdout",
     "output_type": "stream",
     "text": [
      "saving model: model_persistance/RandomForestRegressor_GBR16.sav\n"
     ]
    }
   ],
   "source": [
    "gbr.save()"
   ]
  },
  {
   "cell_type": "code",
   "execution_count": 36,
   "metadata": {},
   "outputs": [
    {
     "name": "stdout",
     "output_type": "stream",
     "text": [
      "initiating empty model GBR16. RandomForestRegressor\n"
     ]
    }
   ],
   "source": [
    "recoveredGbr = RandomForestRegressionDSBaseModel('GBR16',None,None,None,None,None,None)"
   ]
  },
  {
   "cell_type": "code",
   "execution_count": 37,
   "metadata": {},
   "outputs": [
    {
     "name": "stdout",
     "output_type": "stream",
     "text": [
      "loading model: model_persistance/RandomForestRegressor_GBR16.sav\n"
     ]
    }
   ],
   "source": [
    "recoveredGbr.load()"
   ]
  },
  {
   "cell_type": "code",
   "execution_count": 38,
   "metadata": {},
   "outputs": [
    {
     "name": "stdout",
     "output_type": "stream",
     "text": [
      "predicting model GBR16. RandomForestRegressor\n"
     ]
    },
    {
     "data": {
      "text/plain": [
       "array([ 2119.04947513,  2317.44126945])"
      ]
     },
     "execution_count": 38,
     "metadata": {},
     "output_type": "execute_result"
    }
   ],
   "source": [
    "recoveredGbr.predict(X[1000:1002,:])"
   ]
  },
  {
   "cell_type": "code",
   "execution_count": 39,
   "metadata": {},
   "outputs": [
    {
     "data": {
      "text/plain": [
       "array([ 2193.,  2400.])"
      ]
     },
     "execution_count": 39,
     "metadata": {},
     "output_type": "execute_result"
    }
   ],
   "source": [
    "y[1000:1002]"
   ]
  },
  {
   "cell_type": "markdown",
   "metadata": {},
   "source": [
    "# DNN Regression"
   ]
  },
  {
   "cell_type": "code",
   "execution_count": 40,
   "metadata": {
    "collapsed": true
   },
   "outputs": [],
   "source": [
    "from DNNRegressionDSBase import DNNRegressionDSBaseModel\n",
    "from DNNRegressionDSBase import DNNRegressionDSBaseParamsToMap"
   ]
  },
  {
   "cell_type": "code",
   "execution_count": 41,
   "metadata": {},
   "outputs": [
    {
     "name": "stdout",
     "output_type": "stream",
     "text": [
      "X size:(7381, 9)\n",
      "y size:(7381,)\n",
      "initiating model DNNR0. DNNRegression\n",
      "initiating model DNNR1. DNNRegression\n",
      "initiating model DNNR2. DNNRegression\n"
     ]
    }
   ],
   "source": [
    "params = DNNRegressionDSBaseParamsToMap(layers=[7,5,3], alpha=1e-1, epochs=5)\n",
    "dnnr = ModelDSBaseWrapper('DNNR',X,y,[50,75,100],0.3,DNNRegressionDSBaseModel,params,splitter=train_test_split)\n",
    "dnnr.startSession()"
   ]
  },
  {
   "cell_type": "code",
   "execution_count": 42,
   "metadata": {},
   "outputs": [
    {
     "name": "stdout",
     "output_type": "stream",
     "text": [
      "training model DNNR0. DNNRegression\n",
      "epoch 0. batch / n_batches: 0 / 20 cost: 0.0305983\n",
      "epoch 0. batch / n_batches: 10 / 20 cost: 0.0289334\n",
      "epoch 1. batch / n_batches: 0 / 20 cost: 0.0235224\n",
      "epoch 1. batch / n_batches: 10 / 20 cost: 0.0209519\n",
      "epoch 2. batch / n_batches: 0 / 20 cost: 0.0101988\n",
      "epoch 2. batch / n_batches: 10 / 20 cost: 0.00549606\n",
      "epoch 3. batch / n_batches: 0 / 20 cost: 0.00576004\n",
      "epoch 3. batch / n_batches: 10 / 20 cost: 0.00441706\n",
      "epoch 4. batch / n_batches: 0 / 20 cost: 0.00384069\n",
      "epoch 4. batch / n_batches: 10 / 20 cost: 0.00297341\n",
      "training model DNNR1. DNNRegression\n",
      "epoch 0. batch / n_batches: 0 / 30 cost: 0.154045\n",
      "epoch 0. batch / n_batches: 10 / 30 cost: 0.0219695\n",
      "epoch 0. batch / n_batches: 20 / 30 cost: 0.0219041\n",
      "epoch 1. batch / n_batches: 0 / 30 cost: 0.0235994\n",
      "epoch 1. batch / n_batches: 10 / 30 cost: 0.0221038\n",
      "epoch 1. batch / n_batches: 20 / 30 cost: 0.021548\n",
      "epoch 2. batch / n_batches: 0 / 30 cost: 0.0211893\n",
      "epoch 2. batch / n_batches: 10 / 30 cost: 0.0218756\n",
      "epoch 2. batch / n_batches: 20 / 30 cost: 0.0211996\n",
      "epoch 3. batch / n_batches: 0 / 30 cost: 0.0213411\n",
      "epoch 3. batch / n_batches: 10 / 30 cost: 0.0217851\n",
      "epoch 3. batch / n_batches: 20 / 30 cost: 0.0212237\n",
      "epoch 4. batch / n_batches: 0 / 30 cost: 0.0212478\n",
      "epoch 4. batch / n_batches: 10 / 30 cost: 0.0217584\n",
      "epoch 4. batch / n_batches: 20 / 30 cost: 0.0211625\n",
      "training model DNNR2. DNNRegression\n",
      "epoch 0. batch / n_batches: 0 / 40 cost: 0.0242307\n",
      "epoch 0. batch / n_batches: 10 / 40 cost: 0.0288808\n",
      "epoch 0. batch / n_batches: 20 / 40 cost: 0.0249752\n",
      "epoch 0. batch / n_batches: 30 / 40 cost: 0.0282273\n",
      "epoch 1. batch / n_batches: 0 / 40 cost: 0.0124592\n",
      "epoch 1. batch / n_batches: 10 / 40 cost: 0.0078576\n",
      "epoch 1. batch / n_batches: 20 / 40 cost: 0.00844335\n",
      "epoch 1. batch / n_batches: 30 / 40 cost: 0.00657771\n",
      "epoch 2. batch / n_batches: 0 / 40 cost: 0.00473006\n",
      "epoch 2. batch / n_batches: 10 / 40 cost: 0.00450809\n",
      "epoch 2. batch / n_batches: 20 / 40 cost: 0.00397632\n",
      "epoch 2. batch / n_batches: 30 / 40 cost: 0.00322404\n",
      "epoch 3. batch / n_batches: 0 / 40 cost: 0.00246846\n",
      "epoch 3. batch / n_batches: 10 / 40 cost: 0.00290714\n",
      "epoch 3. batch / n_batches: 20 / 40 cost: 0.00368286\n",
      "epoch 3. batch / n_batches: 30 / 40 cost: 0.00322457\n",
      "epoch 4. batch / n_batches: 0 / 40 cost: 0.00228192\n",
      "epoch 4. batch / n_batches: 10 / 40 cost: 0.00266062\n",
      "epoch 4. batch / n_batches: 20 / 40 cost: 0.00290031\n",
      "epoch 4. batch / n_batches: 30 / 40 cost: 0.00272409\n"
     ]
    },
    {
     "data": {
      "image/png": "[encoded data removed]",
      "text/plain": [
       "<matplotlib.figure.Figure at 0x1a2e5149e8>"
      ]
     },
     "metadata": {},
     "output_type": "display_data"
    }
   ],
   "source": [
    "dnnr.train()"
   ]
  },
  {
   "cell_type": "code",
   "execution_count": 43,
   "metadata": {
    "collapsed": true
   },
   "outputs": [],
   "source": [
    "lc4=dnnr.getLearningCurves()"
   ]
  },
  {
   "cell_type": "code",
   "execution_count": 44,
   "metadata": {},
   "outputs": [
    {
     "data": {
      "text/plain": [
       "[<matplotlib.lines.Line2D at 0x1a30efc6d8>,\n",
       " <matplotlib.lines.Line2D at 0x1a30efcba8>]"
      ]
     },
     "execution_count": 44,
     "metadata": {},
     "output_type": "execute_result"
    },
    {
     "data": {
      "image/png": "[encoded data removed]",
      "text/plain": [
       "<matplotlib.figure.Figure at 0x1a30d10ba8>"
      ]
     },
     "metadata": {},
     "output_type": "display_data"
    }
   ],
   "source": [
    "plt.plot(lc4[0,:],'b',lc4[1,:],'r')"
   ]
  },
  {
   "cell_type": "code",
   "execution_count": 45,
   "metadata": {},
   "outputs": [
    {
     "data": {
      "text/plain": [
       "0.92758679"
      ]
     },
     "execution_count": 45,
     "metadata": {},
     "output_type": "execute_result"
    }
   ],
   "source": [
    "dnnr.getScore()"
   ]
  },
  {
   "cell_type": "code",
   "execution_count": 46,
   "metadata": {
    "collapsed": true
   },
   "outputs": [],
   "source": [
    "dnnr.closeSession()"
   ]
  },
  {
   "cell_type": "code",
   "execution_count": null,
   "metadata": {
    "collapsed": true
   },
   "outputs": [],
   "source": []
  }
 ],
 "metadata": {
  "kernelspec": {
   "display_name": "Python 3",
   "language": "python",
   "name": "python3"
  },
  "language_info": {
   "codemirror_mode": {
    "name": "ipython",
    "version": 3
   },
   "file_extension": ".py",
   "mimetype": "text/x-python",
   "name": "python",
   "nbconvert_exporter": "python",
   "pygments_lexer": "ipython3",
   "version": "3.6.3"
  }
 },
 "nbformat": 4,
 "nbformat_minor": 2
}
