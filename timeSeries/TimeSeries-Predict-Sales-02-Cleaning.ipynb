{
 "cells": [
  {
   "cell_type": "code",
   "execution_count": null,
   "metadata": {},
   "outputs": [],
   "source": [
    "import numpy as np\n",
    "import pandas as pd\n",
    "import matplotlib.pyplot as plt\n",
    "import seaborn as sns\n",
    "%matplotlib inline"
   ]
  },
  {
   "cell_type": "code",
   "execution_count": null,
   "metadata": {},
   "outputs": [],
   "source": [
    "import math\n",
    "import gc"
   ]
  },
  {
   "cell_type": "markdown",
   "metadata": {},
   "source": [
    "# Data Cleaning"
   ]
  },
  {
   "cell_type": "code",
   "execution_count": null,
   "metadata": {},
   "outputs": [],
   "source": [
    "def cleanDataset(df):\n",
    "    # Removing targets without evidence\n",
    "    df_cleaned = df[~(df['SUM(sales.item_cnt_day)'].isna() & df['sum_shop_cat_sales'].isna())]\n",
    "    \n",
    "    # Imputing features (na when there is not data for the item but theres is for the category)\n",
    "    df_cleaned['isThereItem'] = df_cleaned[['SUM(sales.item_cnt_day)','COUNT(sales)']].apply(lambda x: 0 if (math.isnan(x[0]) & math.isnan(x[1])) else 1, axis=1)\n",
    "    df_cleaned['SUM(sales.item_cnt_day)_imputed'] = df_cleaned['SUM(sales.item_cnt_day)'].apply(lambda x: 0 if (math.isnan(x)) else x)\n",
    "    df_cleaned['SUM(sales.item_price)_imputed'] = df_cleaned['SUM(sales.item_price)'].apply(lambda x: 0 if (math.isnan(x)) else x)\n",
    "    df_cleaned['MAX(sales.item_cnt_day)_imputed'] = df_cleaned['MAX(sales.item_cnt_day)'].apply(lambda x: 0 if (math.isnan(x)) else x)\n",
    "    df_cleaned['MAX(sales.item_price)_imputed'] = df_cleaned['MAX(sales.item_price)'].apply(lambda x: 0 if (math.isnan(x)) else x)\n",
    "    df_cleaned['MIN(sales.item_cnt_day)_imputed'] = df_cleaned['MIN(sales.item_cnt_day)'].apply(lambda x: 0 if (math.isnan(x)) else x)\n",
    "    df_cleaned['MIN(sales.item_price)_imputed'] = df_cleaned['MIN(sales.item_price)'].apply(lambda x: 0 if (math.isnan(x)) else x)\n",
    "    df_cleaned['MEAN(sales.item_cnt_day)_imputed'] = df_cleaned['MEAN(sales.item_cnt_day)'].apply(lambda x: 0 if (math.isnan(x)) else x)\n",
    "    df_cleaned['MEAN(sales.item_price)_imputed'] = df_cleaned['MEAN(sales.item_price)'].apply(lambda x: 0 if (math.isnan(x)) else x)\n",
    "    df_cleaned['COUNT(sales)_imputed'] = df_cleaned['COUNT(sales)'].apply(lambda x: 0 if (math.isnan(x)) else x)\n",
    "    \n",
    "    # Imputing features (na in case of unity)\n",
    "    df_cleaned['onlyOneItem'] = df_cleaned[['SUM(sales.item_cnt_day)','STD(sales.item_cnt_day)']].apply(lambda x: 1 if (~math.isnan(x[0]) & math.isnan(x[1])) else 0, axis=1)\n",
    "    df_cleaned['STD(sales.item_cnt_day)_imputed'] = df_cleaned['STD(sales.item_cnt_day)'].apply(lambda x: 0 if (math.isnan(x)) else x)\n",
    "    df_cleaned['STD(sales.item_price)_imputed'] = df_cleaned['STD(sales.item_price)'].apply(lambda x: 0 if (math.isnan(x)) else x)\n",
    "    df_cleaned['SKEW(sales.item_cnt_day)_imputed'] = df_cleaned['SKEW(sales.item_cnt_day)'].apply(lambda x: 0 if (math.isnan(x)) else x)\n",
    "    df_cleaned['SKEW(sales.item_price)_imputed'] = df_cleaned['SKEW(sales.item_cnt_day)'].apply(lambda x: 0 if (math.isnan(x)) else x)\n",
    "    df_cleaned['onlyOneCat'] = df_cleaned[['mean_shop_cat_day','skew_shop_cat_day']].apply(lambda x: 1 if (~math.isnan(x[0]) & math.isnan(x[1])) else 0, axis=1)\n",
    "    df_cleaned['std_shop_cat_day_imputed'] = df_cleaned['std_shop_cat_day'].apply(lambda x: 0 if (math.isnan(x)) else x)\n",
    "    df_cleaned['std_shop_cat_item_price_imputed'] = df_cleaned['std_shop_cat_item_price'].apply(lambda x: 0 if (math.isnan(x)) else x)\n",
    "    df_cleaned['skew_shop_cat_day_imputed'] = df_cleaned['skew_shop_cat_day'].apply(lambda x: 0 if (math.isnan(x)) else x)\n",
    "    df_cleaned['skew_shop_cat_item_price_imputed'] = df_cleaned['skew_shop_cat_item_price'].apply(lambda x: 0 if (math.isnan(x)) else x)\n",
    "\n",
    "    # remove old variables\n",
    "    df_cleaned.drop(labels=['SUM(sales.item_cnt_day)','SUM(sales.item_price)',\n",
    "                            'MAX(sales.item_cnt_day)','MAX(sales.item_price)',\n",
    "                            'MIN(sales.item_cnt_day)','MIN(sales.item_price)',\n",
    "                            'MEAN(sales.item_cnt_day)','MEAN(sales.item_price)',\n",
    "                            'COUNT(sales)'\n",
    "                           ], inplace=True, axis=1)  \n",
    "    df_cleaned.drop(labels=['STD(sales.item_cnt_day)','STD(sales.item_price)',\n",
    "                            'SKEW(sales.item_cnt_day)','SKEW(sales.item_price)',\n",
    "                            'std_shop_cat_day','std_shop_cat_item_price',\n",
    "                            'skew_shop_cat_day','skew_shop_cat_item_price'\n",
    "                           ], inplace=True, axis=1)\n",
    "    \n",
    "    # imputing target\n",
    "    df_cleaned['target_imputed'] = df_cleaned['total_sales'].apply(lambda x: 0 if (math.isnan(x)) else x)\n",
    "    df_cleaned.drop(labels=['total_sales'], inplace=True, axis=1)\n",
    "    \n",
    "    return df_cleaned"
   ]
  },
  {
   "cell_type": "markdown",
   "metadata": {},
   "source": [
    "## Loop for cleaning every fold"
   ]
  },
  {
   "cell_type": "code",
   "execution_count": null,
   "metadata": {},
   "outputs": [],
   "source": [
    "files_path = '../datasets/predict-sales/'"
   ]
  },
  {
   "cell_type": "code",
   "execution_count": null,
   "metadata": {},
   "outputs": [],
   "source": [
    "files_suffixes = ['1A','1B','2A','2B','3A','3B','4A','4B','5A','5B','6A','6B']"
   ]
  },
  {
   "cell_type": "code",
   "execution_count": null,
   "metadata": {},
   "outputs": [],
   "source": [
    "for suffix in files_suffixes:\n",
    "    print('processing dataset ending by',suffix)\n",
    "    df = pd.read_csv(files_path + 'dataset' + suffix + '.csv')\n",
    "    gc.collect()\n",
    "    df_cleaned = cleanDataset(df)\n",
    "    gc.collect()\n",
    "    df_cleaned.to_csv(files_path + 'dataset' + suffix + '_cleaned.csv')"
   ]
  },
  {
   "cell_type": "markdown",
   "metadata": {},
   "source": [
    "# End of Cleaning! "
   ]
  },
  {
   "cell_type": "code",
   "execution_count": null,
   "metadata": {},
   "outputs": [],
   "source": []
  }
 ],
 "metadata": {
  "kernelspec": {
   "display_name": "Python 3",
   "language": "python",
   "name": "python3"
  },
  "language_info": {
   "codemirror_mode": {
    "name": "ipython",
    "version": 3
   },
   "file_extension": ".py",
   "mimetype": "text/x-python",
   "name": "python",
   "nbconvert_exporter": "python",
   "pygments_lexer": "ipython3",
   "version": "3.6.3"
  }
 },
 "nbformat": 4,
 "nbformat_minor": 2
}
