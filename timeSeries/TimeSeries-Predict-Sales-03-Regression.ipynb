{
 "cells": [
  {
   "cell_type": "code",
   "execution_count": null,
   "metadata": {},
   "outputs": [],
   "source": [
    "import numpy as np\n",
    "import pandas as pd\n",
    "import matplotlib.pyplot as plt\n",
    "import seaborn as sns\n",
    "%matplotlib inline"
   ]
  },
  {
   "cell_type": "code",
   "execution_count": null,
   "metadata": {},
   "outputs": [],
   "source": [
    "import math\n",
    "import gc"
   ]
  },
  {
   "cell_type": "code",
   "execution_count": null,
   "metadata": {},
   "outputs": [],
   "source": [
    "import sys\n",
    "sys.path.append('../src/main')"
   ]
  },
  {
   "cell_type": "code",
   "execution_count": null,
   "metadata": {},
   "outputs": [],
   "source": [
    "from sklearn.model_selection import train_test_split\n",
    "from dsbase.ModelDSBase import ModelDSBaseWrapper"
   ]
  },
  {
   "cell_type": "code",
   "execution_count": null,
   "metadata": {},
   "outputs": [],
   "source": [
    "from dsbase.models.regression.LightGradientBoostingRegressionDSBase import LightGradientBoostingRegressionDSBaseModel\n",
    "from dsbase.models.regression.LightGradientBoostingRegressionDSBase import LightGradientBoostingRegressionDSBaseModelParamsToMap"
   ]
  },
  {
   "cell_type": "markdown",
   "metadata": {},
   "source": [
    "# Ensembling - Stacking"
   ]
  },
  {
   "cell_type": "markdown",
   "metadata": {},
   "source": [
    "## Phase 1 (LightGB for each 1/2 dataset)"
   ]
  },
  {
   "cell_type": "code",
   "execution_count": null,
   "metadata": {},
   "outputs": [],
   "source": [
    "def getXy(databaseName):\n",
    "    df = pd.read_csv('../datasets/predict-sales/' + databaseName + '_cleaned.csv')\n",
    "    df.drop(['Unnamed: 0','Unnamed: 0.1','slot'], inplace=True, axis=1)\n",
    "    df.set_index(keys='ID_pair',inplace=True)\n",
    "    \n",
    "    X = df.drop(labels=['target_imputed'], axis=1).values\n",
    "    y = df['target_imputed'].values\n",
    "    \n",
    "    X_train, X_test, y_train, y_test = train_test_split(X, y, test_size=0.33, random_state=42)\n",
    "    return X_train, X_test, y_train, y_test"
   ]
  },
  {
   "cell_type": "code",
   "execution_count": null,
   "metadata": {},
   "outputs": [],
   "source": [
    "# params: [reg_alpha, reg_lambda]\n",
    "def processModel(X_train, X_test, y_train, y_test, modelName, params, perc=[100]):\n",
    "    print('generating model',modelName,'...')\n",
    "\n",
    "    params = LightGradientBoostingRegressionDSBaseModelParamsToMap(max_depth=31, n_estimators=100, learning_rate=0.1,num_leaves=31, subsample_for_bin=200000, reg_alpha=params[0], reg_lambda=params[1])\n",
    "    lgbr = ModelDSBaseWrapper(modelName,X_train,y_train,X_test, y_test,perc,LightGradientBoostingRegressionDSBaseModel,params)\n",
    "    lgbr.train()\n",
    "    lclgdbr=lgbr.getLearningCurves()\n",
    "    \n",
    "    overfitting_rate = lclgdbr[1,-1]/lclgdbr[0,-1]\n",
    "    score = lgbr.getScore()\n",
    "    print('Score for',modelName,lgbr.getScore(),'(',overfitting_rate,')')\n",
    "    return lgbr, overfitting_rate, score, lclgdbr"
   ]
  },
  {
   "cell_type": "markdown",
   "metadata": {},
   "source": [
    "Let's calculate the models: "
   ]
  },
  {
   "cell_type": "code",
   "execution_count": null,
   "metadata": {},
   "outputs": [],
   "source": [
    "# Completed Set\n",
    "dataset = ['dataset1A','dataset2A','dataset3A','dataset4A','dataset5A','dataset6A']\n",
    "model = ['model1A','model2A','model3A','model4A','model5A','model6A']\n",
    "params = [[3000,25],[2500,25],[2000,15],[1000,15],[100,10],[0,10]]\n",
    "#scores = [0.7114320203335709 ( 0.9036347645739408 ), 0.7017113534310703 ( 0.8691804015123732 ), 0.6440095888038557 ( 0.8363979013208283 )\n",
    "#          0.5942881438165505 ( 0.7507641992157429 ), 0.5763562599461289 ( 0.8655557217963179 ), 0.5480502465067804 ( 0.9972860257205527 )]\n",
    "perc = [100]\n",
    "\n",
    "# Searching params Set\n",
    "#dataset = ['dataset4A']\n",
    "#model = ['model4A']\n",
    "#params = [[5000,50]]\n",
    "#perc=[20,60,100]"
   ]
  },
  {
   "cell_type": "code",
   "execution_count": null,
   "metadata": {},
   "outputs": [],
   "source": [
    "models = []\n",
    "ofrs = []\n",
    "scores = []\n",
    "lcs = []\n",
    "for d, m, p in zip (dataset,model,params):\n",
    "    X_train, X_test, y_train, y_test = getXy(d)\n",
    "    model, ofr, score,lc = processModel(X_train, X_test, y_train, y_test,m,p,perc)\n",
    "    gc.collect()\n",
    "    models.append(model)\n",
    "    ofrs.append(ofr)\n",
    "    scores.append(score)\n",
    "    lcs.append(lc)"
   ]
  },
  {
   "cell_type": "code",
   "execution_count": null,
   "metadata": {},
   "outputs": [],
   "source": [
    "#plt.plot(lc[0,:],'b',lc[1,:],'r')"
   ]
  },
  {
   "cell_type": "markdown",
   "metadata": {},
   "source": [
    "Let's store them: "
   ]
  },
  {
   "cell_type": "code",
   "execution_count": null,
   "metadata": {},
   "outputs": [],
   "source": [
    "for m in models:\n",
    "    m.save()"
   ]
  },
  {
   "cell_type": "markdown",
   "metadata": {},
   "source": [
    "## Phase 2 (NN for the 1/2 processed dataset)"
   ]
  },
  {
   "cell_type": "markdown",
   "metadata": {},
   "source": [
    "### Generating 2º dataset processing datasetXB in the previous models"
   ]
  },
  {
   "cell_type": "code",
   "execution_count": null,
   "metadata": {},
   "outputs": [],
   "source": [
    "def getPreStackingDataset(dataset, model):\n",
    "    df = pd.read_csv('../datasets/predict-sales/' + dataset + 'B_cleaned.csv')\n",
    "    df.drop(['Unnamed: 0','Unnamed: 0.1'], inplace=True, axis=1)\n",
    "    df.set_index(keys=['ID_pair'], inplace=True)\n",
    "\n",
    "    X = df.drop(labels=['target_imputed'], axis=1).values\n",
    "\n",
    "    model = LightGradientBoostingRegressionDSBaseModel(model + '0')\n",
    "    model.load()\n",
    "    y_pred = model.predict(X)\n",
    "\n",
    "    df_pred = pd.DataFrame(data=y_pred,columns=['target_predicted'])\n",
    "    df_pre_stacking = pd.concat(objs=[df.reset_index(),df_pred], axis=1)\n",
    "    df_pre_stacking_filtered = df_pre_stacking.set_index(keys=['ID_pair','slot'])[['target_imputed','target_predicted']]\n",
    "    return df_pre_stacking_filtered"
   ]
  },
  {
   "cell_type": "code",
   "execution_count": null,
   "metadata": {},
   "outputs": [],
   "source": [
    "# Selecting the ID_pair to evaluate in the dataset\n",
    "df = pd.read_csv('../datasets/predict-sales/dataset1B_cleaned.csv')\n",
    "ids = df['ID_pair'].unique()"
   ]
  },
  {
   "cell_type": "code",
   "execution_count": null,
   "metadata": {},
   "outputs": [],
   "source": [
    "df1 = getPreStackingDataset('dataset1','model1A')"
   ]
  },
  {
   "cell_type": "code",
   "execution_count": null,
   "metadata": {},
   "outputs": [],
   "source": [
    "df2 = getPreStackingDataset('dataset2','model2A')"
   ]
  },
  {
   "cell_type": "code",
   "execution_count": null,
   "metadata": {},
   "outputs": [],
   "source": [
    "df3 = getPreStackingDataset('dataset3','model3A')"
   ]
  },
  {
   "cell_type": "code",
   "execution_count": null,
   "metadata": {},
   "outputs": [],
   "source": [
    "df4 = getPreStackingDataset('dataset4','model4A')"
   ]
  },
  {
   "cell_type": "code",
   "execution_count": null,
   "metadata": {},
   "outputs": [],
   "source": [
    "df5 = getPreStackingDataset('dataset5','model5A')"
   ]
  },
  {
   "cell_type": "code",
   "execution_count": null,
   "metadata": {},
   "outputs": [],
   "source": [
    "df6 = getPreStackingDataset('dataset6','model6A')"
   ]
  },
  {
   "cell_type": "markdown",
   "metadata": {},
   "source": [
    "Now, let's calculate the real stacking dataset:"
   ]
  },
  {
   "cell_type": "code",
   "execution_count": null,
   "metadata": {},
   "outputs": [],
   "source": [
    "slots = np.arange(2,33)"
   ]
  },
  {
   "cell_type": "code",
   "execution_count": null,
   "metadata": {},
   "outputs": [],
   "source": [
    "for i in ids:\n",
    "    for slot in slots:\n",
    "        print(i,'-',slot)"
   ]
  },
  {
   "cell_type": "markdown",
   "metadata": {},
   "source": [
    "### Training dataset "
   ]
  },
  {
   "cell_type": "markdown",
   "metadata": {},
   "source": [
    "# End of Case! "
   ]
  },
  {
   "cell_type": "code",
   "execution_count": null,
   "metadata": {},
   "outputs": [],
   "source": []
  }
 ],
 "metadata": {
  "kernelspec": {
   "display_name": "Python 3",
   "language": "python",
   "name": "python3"
  },
  "language_info": {
   "codemirror_mode": {
    "name": "ipython",
    "version": 3
   },
   "file_extension": ".py",
   "mimetype": "text/x-python",
   "name": "python",
   "nbconvert_exporter": "python",
   "pygments_lexer": "ipython3",
   "version": "3.6.3"
  }
 },
 "nbformat": 4,
 "nbformat_minor": 2
}
