{
 "cells": [
  {
   "cell_type": "code",
   "execution_count": 105,
   "metadata": {},
   "outputs": [],
   "source": [
    "import numpy as np\n",
    "import pandas as pd\n",
    "import matplotlib.pyplot as plt\n",
    "import seaborn as sns\n",
    "%matplotlib inline"
   ]
  },
  {
   "cell_type": "code",
   "execution_count": 106,
   "metadata": {},
   "outputs": [
    {
     "name": "stderr",
     "output_type": "stream",
     "text": [
      "/anaconda3/envs/dsbase/lib/python3.6/site-packages/sklearn/externals/joblib/__init__.py:15: DeprecationWarning: sklearn.externals.joblib is deprecated in 0.21 and will be removed in 0.23. Please import this functionality directly from joblib, which can be installed with: pip install joblib. If this warning is raised when loading pickled models, you may need to re-serialize those models with scikit-learn 0.21+.\n",
      "  warnings.warn(msg, category=DeprecationWarning)\n"
     ]
    }
   ],
   "source": [
    "from sklearn.preprocessing import MinMaxScaler\n",
    "from sklearn.externals import joblib"
   ]
  },
  {
   "cell_type": "code",
   "execution_count": 107,
   "metadata": {},
   "outputs": [],
   "source": [
    "import sys\n",
    "sys.path.append('../src/main')"
   ]
  },
  {
   "cell_type": "code",
   "execution_count": 108,
   "metadata": {},
   "outputs": [
    {
     "name": "stderr",
     "output_type": "stream",
     "text": [
      "/anaconda3/envs/dsbase/lib/python3.6/site-packages/lightgbm/__init__.py:46: UserWarning: Starting from version 2.2.1, the library file in distribution wheels for macOS is built by the Apple Clang (Xcode_9.4.1) compiler.\n",
      "This means that in case of installing LightGBM from PyPI via the ``pip install lightgbm`` command, you don't need to install the gcc compiler anymore.\n",
      "Instead of that, you need to install the OpenMP library, which is required for running LightGBM on the system with the Apple Clang compiler.\n",
      "You can install the OpenMP library by the following command: ``brew install libomp``.\n",
      "  \"You can install the OpenMP library by the following command: ``brew install libomp``.\", UserWarning)\n"
     ]
    }
   ],
   "source": [
    "from dsbase.models.regression.LightGradientBoostingRegressionDSBase import LightGradientBoostingRegressionDSBaseModel"
   ]
  },
  {
   "cell_type": "markdown",
   "metadata": {},
   "source": [
    "# Test Data Loading "
   ]
  },
  {
   "cell_type": "code",
   "execution_count": 3,
   "metadata": {},
   "outputs": [],
   "source": [
    "test_df = pd.read_csv('../datasets/predict-sales/test.csv')\n",
    "items_df = pd.read_csv('../datasets/predict-sales/items.csv')"
   ]
  },
  {
   "cell_type": "code",
   "execution_count": 4,
   "metadata": {},
   "outputs": [],
   "source": [
    "items_df.drop(labels=['item_name'], inplace=True, axis=1)"
   ]
  },
  {
   "cell_type": "code",
   "execution_count": 5,
   "metadata": {},
   "outputs": [],
   "source": [
    "test_df_enriched = test_df.merge(right=items_df, on='item_id', how='left')"
   ]
  },
  {
   "cell_type": "code",
   "execution_count": 6,
   "metadata": {},
   "outputs": [],
   "source": [
    "def concatAttr(x):\n",
    "    return (str(x[0]) + '-' + str(x[1]))"
   ]
  },
  {
   "cell_type": "code",
   "execution_count": 7,
   "metadata": {},
   "outputs": [],
   "source": [
    "test_df_enriched['ID_pair'] = test_df_enriched[['shop_id','item_id']].apply(concatAttr, axis=1)\n",
    "test_df_enriched['ID_CAT_pair'] = test_df_enriched[['shop_id','item_category_id']].apply(concatAttr, axis=1)"
   ]
  },
  {
   "cell_type": "code",
   "execution_count": 8,
   "metadata": {},
   "outputs": [
    {
     "data": {
      "text/html": [
       "<div>\n",
       "<style scoped>\n",
       "    .dataframe tbody tr th:only-of-type {\n",
       "        vertical-align: middle;\n",
       "    }\n",
       "\n",
       "    .dataframe tbody tr th {\n",
       "        vertical-align: top;\n",
       "    }\n",
       "\n",
       "    .dataframe thead th {\n",
       "        text-align: right;\n",
       "    }\n",
       "</style>\n",
       "<table border=\"1\" class=\"dataframe\">\n",
       "  <thead>\n",
       "    <tr style=\"text-align: right;\">\n",
       "      <th></th>\n",
       "      <th>ID</th>\n",
       "      <th>shop_id</th>\n",
       "      <th>item_id</th>\n",
       "      <th>item_category_id</th>\n",
       "      <th>ID_pair</th>\n",
       "      <th>ID_CAT_pair</th>\n",
       "    </tr>\n",
       "  </thead>\n",
       "  <tbody>\n",
       "    <tr>\n",
       "      <th>0</th>\n",
       "      <td>0</td>\n",
       "      <td>5</td>\n",
       "      <td>5037</td>\n",
       "      <td>19</td>\n",
       "      <td>5-5037</td>\n",
       "      <td>5-19</td>\n",
       "    </tr>\n",
       "    <tr>\n",
       "      <th>1</th>\n",
       "      <td>1</td>\n",
       "      <td>5</td>\n",
       "      <td>5320</td>\n",
       "      <td>55</td>\n",
       "      <td>5-5320</td>\n",
       "      <td>5-55</td>\n",
       "    </tr>\n",
       "    <tr>\n",
       "      <th>2</th>\n",
       "      <td>2</td>\n",
       "      <td>5</td>\n",
       "      <td>5233</td>\n",
       "      <td>19</td>\n",
       "      <td>5-5233</td>\n",
       "      <td>5-19</td>\n",
       "    </tr>\n",
       "    <tr>\n",
       "      <th>3</th>\n",
       "      <td>3</td>\n",
       "      <td>5</td>\n",
       "      <td>5232</td>\n",
       "      <td>23</td>\n",
       "      <td>5-5232</td>\n",
       "      <td>5-23</td>\n",
       "    </tr>\n",
       "    <tr>\n",
       "      <th>4</th>\n",
       "      <td>4</td>\n",
       "      <td>5</td>\n",
       "      <td>5268</td>\n",
       "      <td>20</td>\n",
       "      <td>5-5268</td>\n",
       "      <td>5-20</td>\n",
       "    </tr>\n",
       "  </tbody>\n",
       "</table>\n",
       "</div>"
      ],
      "text/plain": [
       "   ID  shop_id  item_id  item_category_id ID_pair ID_CAT_pair\n",
       "0   0        5     5037                19  5-5037        5-19\n",
       "1   1        5     5320                55  5-5320        5-55\n",
       "2   2        5     5233                19  5-5233        5-19\n",
       "3   3        5     5232                23  5-5232        5-23\n",
       "4   4        5     5268                20  5-5268        5-20"
      ]
     },
     "execution_count": 8,
     "metadata": {},
     "output_type": "execute_result"
    }
   ],
   "source": [
    "test_df_enriched.head()"
   ]
  },
  {
   "cell_type": "markdown",
   "metadata": {},
   "source": [
    "# Sales Direct Load"
   ]
  },
  {
   "cell_type": "code",
   "execution_count": 9,
   "metadata": {},
   "outputs": [],
   "source": [
    "sales_df = pd.read_csv('../datasets/predict-sales/sales_train_enriched.csv')"
   ]
  },
  {
   "cell_type": "code",
   "execution_count": 10,
   "metadata": {},
   "outputs": [],
   "source": [
    "sales_df.drop(labels=['Unnamed: 0'], inplace=True, axis=1)"
   ]
  },
  {
   "cell_type": "code",
   "execution_count": 11,
   "metadata": {},
   "outputs": [
    {
     "data": {
      "text/html": [
       "<div>\n",
       "<style scoped>\n",
       "    .dataframe tbody tr th:only-of-type {\n",
       "        vertical-align: middle;\n",
       "    }\n",
       "\n",
       "    .dataframe tbody tr th {\n",
       "        vertical-align: top;\n",
       "    }\n",
       "\n",
       "    .dataframe thead th {\n",
       "        text-align: right;\n",
       "    }\n",
       "</style>\n",
       "<table border=\"1\" class=\"dataframe\">\n",
       "  <thead>\n",
       "    <tr style=\"text-align: right;\">\n",
       "      <th></th>\n",
       "      <th>index</th>\n",
       "      <th>date_block_num</th>\n",
       "      <th>shop_id</th>\n",
       "      <th>item_id</th>\n",
       "      <th>item_price</th>\n",
       "      <th>item_cnt_day</th>\n",
       "      <th>ID_pair</th>\n",
       "      <th>item_category_id</th>\n",
       "      <th>ID_CAT_pair</th>\n",
       "    </tr>\n",
       "  </thead>\n",
       "  <tbody>\n",
       "    <tr>\n",
       "      <th>0</th>\n",
       "      <td>0</td>\n",
       "      <td>0</td>\n",
       "      <td>59</td>\n",
       "      <td>22154</td>\n",
       "      <td>999.0</td>\n",
       "      <td>1.0</td>\n",
       "      <td>59-22154</td>\n",
       "      <td>37</td>\n",
       "      <td>59-37</td>\n",
       "    </tr>\n",
       "    <tr>\n",
       "      <th>1</th>\n",
       "      <td>3270</td>\n",
       "      <td>0</td>\n",
       "      <td>24</td>\n",
       "      <td>22154</td>\n",
       "      <td>999.0</td>\n",
       "      <td>1.0</td>\n",
       "      <td>24-22154</td>\n",
       "      <td>37</td>\n",
       "      <td>24-37</td>\n",
       "    </tr>\n",
       "    <tr>\n",
       "      <th>2</th>\n",
       "      <td>17081</td>\n",
       "      <td>0</td>\n",
       "      <td>27</td>\n",
       "      <td>22154</td>\n",
       "      <td>999.0</td>\n",
       "      <td>1.0</td>\n",
       "      <td>27-22154</td>\n",
       "      <td>37</td>\n",
       "      <td>27-37</td>\n",
       "    </tr>\n",
       "    <tr>\n",
       "      <th>3</th>\n",
       "      <td>25918</td>\n",
       "      <td>0</td>\n",
       "      <td>25</td>\n",
       "      <td>22154</td>\n",
       "      <td>999.0</td>\n",
       "      <td>1.0</td>\n",
       "      <td>25-22154</td>\n",
       "      <td>37</td>\n",
       "      <td>25-37</td>\n",
       "    </tr>\n",
       "    <tr>\n",
       "      <th>4</th>\n",
       "      <td>25919</td>\n",
       "      <td>0</td>\n",
       "      <td>25</td>\n",
       "      <td>22154</td>\n",
       "      <td>999.0</td>\n",
       "      <td>1.0</td>\n",
       "      <td>25-22154</td>\n",
       "      <td>37</td>\n",
       "      <td>25-37</td>\n",
       "    </tr>\n",
       "  </tbody>\n",
       "</table>\n",
       "</div>"
      ],
      "text/plain": [
       "   index  date_block_num  shop_id  item_id  item_price  item_cnt_day  \\\n",
       "0      0               0       59    22154       999.0           1.0   \n",
       "1   3270               0       24    22154       999.0           1.0   \n",
       "2  17081               0       27    22154       999.0           1.0   \n",
       "3  25918               0       25    22154       999.0           1.0   \n",
       "4  25919               0       25    22154       999.0           1.0   \n",
       "\n",
       "    ID_pair  item_category_id ID_CAT_pair  \n",
       "0  59-22154                37       59-37  \n",
       "1  24-22154                37       24-37  \n",
       "2  27-22154                37       27-37  \n",
       "3  25-22154                37       25-37  \n",
       "4  25-22154                37       25-37  "
      ]
     },
     "execution_count": 11,
     "metadata": {},
     "output_type": "execute_result"
    }
   ],
   "source": [
    "sales_df.head()"
   ]
  },
  {
   "cell_type": "markdown",
   "metadata": {},
   "source": [
    "\n",
    "# Preparing Data with FeatureTools (evaluation)"
   ]
  },
  {
   "cell_type": "code",
   "execution_count": 12,
   "metadata": {},
   "outputs": [],
   "source": [
    "import featuretools as ft"
   ]
  },
  {
   "cell_type": "markdown",
   "metadata": {},
   "source": [
    "Let's evaluate the FT process "
   ]
  },
  {
   "cell_type": "code",
   "execution_count": 13,
   "metadata": {},
   "outputs": [],
   "source": [
    "months = [30,31,32]"
   ]
  },
  {
   "cell_type": "code",
   "execution_count": 14,
   "metadata": {},
   "outputs": [],
   "source": [
    "sales_months_df = sales_df[sales_df['date_block_num'].isin(months)]"
   ]
  },
  {
   "cell_type": "code",
   "execution_count": 15,
   "metadata": {},
   "outputs": [],
   "source": [
    "sales_months_df.drop(labels=['date_block_num','item_id','shop_id','item_category_id'], inplace=True, axis=1)"
   ]
  },
  {
   "cell_type": "code",
   "execution_count": 16,
   "metadata": {},
   "outputs": [
    {
     "data": {
      "text/html": [
       "<div>\n",
       "<style scoped>\n",
       "    .dataframe tbody tr th:only-of-type {\n",
       "        vertical-align: middle;\n",
       "    }\n",
       "\n",
       "    .dataframe tbody tr th {\n",
       "        vertical-align: top;\n",
       "    }\n",
       "\n",
       "    .dataframe thead th {\n",
       "        text-align: right;\n",
       "    }\n",
       "</style>\n",
       "<table border=\"1\" class=\"dataframe\">\n",
       "  <thead>\n",
       "    <tr style=\"text-align: right;\">\n",
       "      <th></th>\n",
       "      <th>index</th>\n",
       "      <th>item_price</th>\n",
       "      <th>item_cnt_day</th>\n",
       "      <th>ID_pair</th>\n",
       "      <th>ID_CAT_pair</th>\n",
       "    </tr>\n",
       "  </thead>\n",
       "  <tbody>\n",
       "    <tr>\n",
       "      <th>36</th>\n",
       "      <td>2721275</td>\n",
       "      <td>299.0</td>\n",
       "      <td>1.0</td>\n",
       "      <td>6-22154</td>\n",
       "      <td>6-37</td>\n",
       "    </tr>\n",
       "    <tr>\n",
       "      <th>37</th>\n",
       "      <td>2736888</td>\n",
       "      <td>299.0</td>\n",
       "      <td>1.0</td>\n",
       "      <td>42-22154</td>\n",
       "      <td>42-37</td>\n",
       "    </tr>\n",
       "    <tr>\n",
       "      <th>38</th>\n",
       "      <td>2736905</td>\n",
       "      <td>299.0</td>\n",
       "      <td>1.0</td>\n",
       "      <td>42-22154</td>\n",
       "      <td>42-37</td>\n",
       "    </tr>\n",
       "    <tr>\n",
       "      <th>39</th>\n",
       "      <td>2745357</td>\n",
       "      <td>299.0</td>\n",
       "      <td>1.0</td>\n",
       "      <td>57-22154</td>\n",
       "      <td>57-37</td>\n",
       "    </tr>\n",
       "    <tr>\n",
       "      <th>40</th>\n",
       "      <td>2767578</td>\n",
       "      <td>299.0</td>\n",
       "      <td>1.0</td>\n",
       "      <td>35-22154</td>\n",
       "      <td>35-37</td>\n",
       "    </tr>\n",
       "  </tbody>\n",
       "</table>\n",
       "</div>"
      ],
      "text/plain": [
       "      index  item_price  item_cnt_day   ID_pair ID_CAT_pair\n",
       "36  2721275       299.0           1.0   6-22154        6-37\n",
       "37  2736888       299.0           1.0  42-22154       42-37\n",
       "38  2736905       299.0           1.0  42-22154       42-37\n",
       "39  2745357       299.0           1.0  57-22154       57-37\n",
       "40  2767578       299.0           1.0  35-22154       35-37"
      ]
     },
     "execution_count": 16,
     "metadata": {},
     "output_type": "execute_result"
    }
   ],
   "source": [
    "sales_months_df.head()"
   ]
  },
  {
   "cell_type": "markdown",
   "metadata": {},
   "source": [
    "## EntitySet Processing (Recommended by FeatureTools)"
   ]
  },
  {
   "cell_type": "markdown",
   "metadata": {},
   "source": [
    "We will calculate 3 tables that we must join later:"
   ]
  },
  {
   "cell_type": "markdown",
   "metadata": {},
   "source": [
    "### Categories Aggregation "
   ]
  },
  {
   "cell_type": "code",
   "execution_count": 17,
   "metadata": {},
   "outputs": [],
   "source": [
    "def getCatAgg(sales_months_df):\n",
    "    es = ft.EntitySet(id=\"prediction_sales\")\n",
    "    es = es.entity_from_dataframe(entity_id='sales',dataframe=sales_months_df, index='index')\n",
    "    es = es.normalize_entity(base_entity_id='sales',\n",
    "                         new_entity_id='idsCat',\n",
    "                         index='ID_CAT_pair')\n",
    "    feature_matrix_idsCat, feature_defs_idsCat = ft.dfs(entityset=es, target_entity='idsCat')\n",
    "    idsCat = feature_matrix_idsCat.reset_index()\n",
    "    idsCat_agg = idsCat[['ID_CAT_pair','SUM(sales.item_cnt_day)',\n",
    "                     'MEAN(sales.item_cnt_day)','MEAN(sales.item_price)',\n",
    "                     'STD(sales.item_cnt_day)','STD(sales.item_price)',\n",
    "                     'MAX(sales.item_cnt_day)','MAX(sales.item_price)',\n",
    "                     'MIN(sales.item_cnt_day)','MIN(sales.item_price)',\n",
    "                     'SKEW(sales.item_cnt_day)','SKEW(sales.item_price)'\n",
    "                    ]]\n",
    "    idsCat_agg.columns = ['ID_CAT_pair','sum_shop_cat_sales',\n",
    "                      'mean_shop_cat_day','mean_shop_cat_item_price',\n",
    "                      'std_shop_cat_day','std_shop_cat_item_price',\n",
    "                      'max_shop_cat_day','max_shop_cat_item_price',\n",
    "                      'min_shop_cat_day','min_shop_cat_item_price',\n",
    "                      'skew_shop_cat_day','skew_shop_cat_item_price',\n",
    "                     ]\n",
    "    return idsCat_agg"
   ]
  },
  {
   "cell_type": "code",
   "execution_count": 18,
   "metadata": {},
   "outputs": [],
   "source": [
    "idsCat = getCatAgg(sales_months_df)"
   ]
  },
  {
   "cell_type": "code",
   "execution_count": 19,
   "metadata": {},
   "outputs": [
    {
     "data": {
      "text/html": [
       "<div>\n",
       "<style scoped>\n",
       "    .dataframe tbody tr th:only-of-type {\n",
       "        vertical-align: middle;\n",
       "    }\n",
       "\n",
       "    .dataframe tbody tr th {\n",
       "        vertical-align: top;\n",
       "    }\n",
       "\n",
       "    .dataframe thead th {\n",
       "        text-align: right;\n",
       "    }\n",
       "</style>\n",
       "<table border=\"1\" class=\"dataframe\">\n",
       "  <thead>\n",
       "    <tr style=\"text-align: right;\">\n",
       "      <th></th>\n",
       "      <th>ID_CAT_pair</th>\n",
       "      <th>sum_shop_cat_sales</th>\n",
       "      <th>mean_shop_cat_day</th>\n",
       "      <th>mean_shop_cat_item_price</th>\n",
       "      <th>std_shop_cat_day</th>\n",
       "      <th>std_shop_cat_item_price</th>\n",
       "      <th>max_shop_cat_day</th>\n",
       "      <th>max_shop_cat_item_price</th>\n",
       "      <th>min_shop_cat_day</th>\n",
       "      <th>min_shop_cat_item_price</th>\n",
       "      <th>skew_shop_cat_day</th>\n",
       "      <th>skew_shop_cat_item_price</th>\n",
       "    </tr>\n",
       "  </thead>\n",
       "  <tbody>\n",
       "    <tr>\n",
       "      <th>0</th>\n",
       "      <td>10-12</td>\n",
       "      <td>3.0</td>\n",
       "      <td>1.000000</td>\n",
       "      <td>26864.690000</td>\n",
       "      <td>0.000000</td>\n",
       "      <td>2730.841343</td>\n",
       "      <td>1.0</td>\n",
       "      <td>29665.00</td>\n",
       "      <td>1.0</td>\n",
       "      <td>24209.07</td>\n",
       "      <td>0.000000</td>\n",
       "      <td>0.237757</td>\n",
       "    </tr>\n",
       "    <tr>\n",
       "      <th>1</th>\n",
       "      <td>10-15</td>\n",
       "      <td>6.0</td>\n",
       "      <td>1.000000</td>\n",
       "      <td>6249.801667</td>\n",
       "      <td>0.000000</td>\n",
       "      <td>3881.008534</td>\n",
       "      <td>1.0</td>\n",
       "      <td>12433.44</td>\n",
       "      <td>1.0</td>\n",
       "      <td>1762.67</td>\n",
       "      <td>0.000000</td>\n",
       "      <td>0.682262</td>\n",
       "    </tr>\n",
       "    <tr>\n",
       "      <th>2</th>\n",
       "      <td>10-19</td>\n",
       "      <td>83.0</td>\n",
       "      <td>1.077922</td>\n",
       "      <td>1250.331169</td>\n",
       "      <td>0.480302</td>\n",
       "      <td>780.123847</td>\n",
       "      <td>5.0</td>\n",
       "      <td>3066.34</td>\n",
       "      <td>1.0</td>\n",
       "      <td>25.89</td>\n",
       "      <td>7.542533</td>\n",
       "      <td>0.757169</td>\n",
       "    </tr>\n",
       "    <tr>\n",
       "      <th>3</th>\n",
       "      <td>10-2</td>\n",
       "      <td>4.0</td>\n",
       "      <td>1.000000</td>\n",
       "      <td>2026.675000</td>\n",
       "      <td>0.000000</td>\n",
       "      <td>496.668334</td>\n",
       "      <td>1.0</td>\n",
       "      <td>2396.65</td>\n",
       "      <td>1.0</td>\n",
       "      <td>1322.00</td>\n",
       "      <td>0.000000</td>\n",
       "      <td>-1.439296</td>\n",
       "    </tr>\n",
       "    <tr>\n",
       "      <th>4</th>\n",
       "      <td>10-20</td>\n",
       "      <td>131.0</td>\n",
       "      <td>1.297030</td>\n",
       "      <td>2536.979901</td>\n",
       "      <td>0.964827</td>\n",
       "      <td>1106.198396</td>\n",
       "      <td>9.0</td>\n",
       "      <td>8058.02</td>\n",
       "      <td>1.0</td>\n",
       "      <td>26.93</td>\n",
       "      <td>5.774914</td>\n",
       "      <td>1.317792</td>\n",
       "    </tr>\n",
       "  </tbody>\n",
       "</table>\n",
       "</div>"
      ],
      "text/plain": [
       "  ID_CAT_pair  sum_shop_cat_sales  mean_shop_cat_day  \\\n",
       "0       10-12                 3.0           1.000000   \n",
       "1       10-15                 6.0           1.000000   \n",
       "2       10-19                83.0           1.077922   \n",
       "3        10-2                 4.0           1.000000   \n",
       "4       10-20               131.0           1.297030   \n",
       "\n",
       "   mean_shop_cat_item_price  std_shop_cat_day  std_shop_cat_item_price  \\\n",
       "0              26864.690000          0.000000              2730.841343   \n",
       "1               6249.801667          0.000000              3881.008534   \n",
       "2               1250.331169          0.480302               780.123847   \n",
       "3               2026.675000          0.000000               496.668334   \n",
       "4               2536.979901          0.964827              1106.198396   \n",
       "\n",
       "   max_shop_cat_day  max_shop_cat_item_price  min_shop_cat_day  \\\n",
       "0               1.0                 29665.00               1.0   \n",
       "1               1.0                 12433.44               1.0   \n",
       "2               5.0                  3066.34               1.0   \n",
       "3               1.0                  2396.65               1.0   \n",
       "4               9.0                  8058.02               1.0   \n",
       "\n",
       "   min_shop_cat_item_price  skew_shop_cat_day  skew_shop_cat_item_price  \n",
       "0                 24209.07           0.000000                  0.237757  \n",
       "1                  1762.67           0.000000                  0.682262  \n",
       "2                    25.89           7.542533                  0.757169  \n",
       "3                  1322.00           0.000000                 -1.439296  \n",
       "4                    26.93           5.774914                  1.317792  "
      ]
     },
     "execution_count": 19,
     "metadata": {},
     "output_type": "execute_result"
    }
   ],
   "source": [
    "idsCat.head()"
   ]
  },
  {
   "cell_type": "code",
   "execution_count": 20,
   "metadata": {},
   "outputs": [
    {
     "data": {
      "text/plain": [
       "(1977, 12)"
      ]
     },
     "execution_count": 20,
     "metadata": {},
     "output_type": "execute_result"
    }
   ],
   "source": [
    "idsCat.shape"
   ]
  },
  {
   "cell_type": "code",
   "execution_count": 21,
   "metadata": {},
   "outputs": [
    {
     "data": {
      "text/plain": [
       "1977"
      ]
     },
     "execution_count": 21,
     "metadata": {},
     "output_type": "execute_result"
    }
   ],
   "source": [
    "idsCat['ID_CAT_pair'].nunique()"
   ]
  },
  {
   "cell_type": "markdown",
   "metadata": {},
   "source": [
    "### Item Aggregation"
   ]
  },
  {
   "cell_type": "code",
   "execution_count": 22,
   "metadata": {},
   "outputs": [],
   "source": [
    "def getItemAgg(sales_months_df):\n",
    "    es = ft.EntitySet(id=\"prediction_sales\")\n",
    "    es = es.entity_from_dataframe(entity_id='sales',dataframe=sales_months_df, index='index')\n",
    "    es = es.normalize_entity(base_entity_id='sales',\n",
    "                         new_entity_id='ids',\n",
    "                         index='ID_pair',\n",
    "                         additional_variables=['ID_CAT_pair'])\n",
    "    feature_matrix_ids, feature_defs_ids = ft.dfs(entityset=es, target_entity='ids')\n",
    "    ids = feature_matrix_ids.reset_index()\n",
    "    return ids"
   ]
  },
  {
   "cell_type": "code",
   "execution_count": 23,
   "metadata": {},
   "outputs": [],
   "source": [
    "ids = getItemAgg(sales_months_df)"
   ]
  },
  {
   "cell_type": "code",
   "execution_count": 24,
   "metadata": {},
   "outputs": [
    {
     "data": {
      "text/html": [
       "<div>\n",
       "<style scoped>\n",
       "    .dataframe tbody tr th:only-of-type {\n",
       "        vertical-align: middle;\n",
       "    }\n",
       "\n",
       "    .dataframe tbody tr th {\n",
       "        vertical-align: top;\n",
       "    }\n",
       "\n",
       "    .dataframe thead th {\n",
       "        text-align: right;\n",
       "    }\n",
       "</style>\n",
       "<table border=\"1\" class=\"dataframe\">\n",
       "  <thead>\n",
       "    <tr style=\"text-align: right;\">\n",
       "      <th></th>\n",
       "      <th>ID_pair</th>\n",
       "      <th>ID_CAT_pair</th>\n",
       "      <th>SUM(sales.item_price)</th>\n",
       "      <th>SUM(sales.item_cnt_day)</th>\n",
       "      <th>STD(sales.item_price)</th>\n",
       "      <th>STD(sales.item_cnt_day)</th>\n",
       "      <th>MAX(sales.item_price)</th>\n",
       "      <th>MAX(sales.item_cnt_day)</th>\n",
       "      <th>SKEW(sales.item_price)</th>\n",
       "      <th>SKEW(sales.item_cnt_day)</th>\n",
       "      <th>MIN(sales.item_price)</th>\n",
       "      <th>MIN(sales.item_cnt_day)</th>\n",
       "      <th>MEAN(sales.item_price)</th>\n",
       "      <th>MEAN(sales.item_cnt_day)</th>\n",
       "      <th>COUNT(sales)</th>\n",
       "    </tr>\n",
       "  </thead>\n",
       "  <tbody>\n",
       "    <tr>\n",
       "      <th>0</th>\n",
       "      <td>10-10042</td>\n",
       "      <td>10-40</td>\n",
       "      <td>315.00</td>\n",
       "      <td>1.0</td>\n",
       "      <td>NaN</td>\n",
       "      <td>NaN</td>\n",
       "      <td>315.0</td>\n",
       "      <td>1.0</td>\n",
       "      <td>NaN</td>\n",
       "      <td>NaN</td>\n",
       "      <td>315.00</td>\n",
       "      <td>1.0</td>\n",
       "      <td>315.000</td>\n",
       "      <td>1.0</td>\n",
       "      <td>1</td>\n",
       "    </tr>\n",
       "    <tr>\n",
       "      <th>1</th>\n",
       "      <td>10-10115</td>\n",
       "      <td>10-40</td>\n",
       "      <td>295.00</td>\n",
       "      <td>1.0</td>\n",
       "      <td>NaN</td>\n",
       "      <td>NaN</td>\n",
       "      <td>295.0</td>\n",
       "      <td>1.0</td>\n",
       "      <td>NaN</td>\n",
       "      <td>NaN</td>\n",
       "      <td>295.00</td>\n",
       "      <td>1.0</td>\n",
       "      <td>295.000</td>\n",
       "      <td>1.0</td>\n",
       "      <td>1</td>\n",
       "    </tr>\n",
       "    <tr>\n",
       "      <th>2</th>\n",
       "      <td>10-10131</td>\n",
       "      <td>10-55</td>\n",
       "      <td>279.37</td>\n",
       "      <td>2.0</td>\n",
       "      <td>7.516545</td>\n",
       "      <td>0.0</td>\n",
       "      <td>145.0</td>\n",
       "      <td>1.0</td>\n",
       "      <td>NaN</td>\n",
       "      <td>NaN</td>\n",
       "      <td>134.37</td>\n",
       "      <td>1.0</td>\n",
       "      <td>139.685</td>\n",
       "      <td>1.0</td>\n",
       "      <td>2</td>\n",
       "    </tr>\n",
       "    <tr>\n",
       "      <th>3</th>\n",
       "      <td>10-10132</td>\n",
       "      <td>10-55</td>\n",
       "      <td>145.00</td>\n",
       "      <td>1.0</td>\n",
       "      <td>NaN</td>\n",
       "      <td>NaN</td>\n",
       "      <td>145.0</td>\n",
       "      <td>1.0</td>\n",
       "      <td>NaN</td>\n",
       "      <td>NaN</td>\n",
       "      <td>145.00</td>\n",
       "      <td>1.0</td>\n",
       "      <td>145.000</td>\n",
       "      <td>1.0</td>\n",
       "      <td>1</td>\n",
       "    </tr>\n",
       "    <tr>\n",
       "      <th>4</th>\n",
       "      <td>10-10158</td>\n",
       "      <td>10-55</td>\n",
       "      <td>265.00</td>\n",
       "      <td>1.0</td>\n",
       "      <td>NaN</td>\n",
       "      <td>NaN</td>\n",
       "      <td>265.0</td>\n",
       "      <td>1.0</td>\n",
       "      <td>NaN</td>\n",
       "      <td>NaN</td>\n",
       "      <td>265.00</td>\n",
       "      <td>1.0</td>\n",
       "      <td>265.000</td>\n",
       "      <td>1.0</td>\n",
       "      <td>1</td>\n",
       "    </tr>\n",
       "  </tbody>\n",
       "</table>\n",
       "</div>"
      ],
      "text/plain": [
       "    ID_pair ID_CAT_pair  SUM(sales.item_price)  SUM(sales.item_cnt_day)  \\\n",
       "0  10-10042       10-40                 315.00                      1.0   \n",
       "1  10-10115       10-40                 295.00                      1.0   \n",
       "2  10-10131       10-55                 279.37                      2.0   \n",
       "3  10-10132       10-55                 145.00                      1.0   \n",
       "4  10-10158       10-55                 265.00                      1.0   \n",
       "\n",
       "   STD(sales.item_price)  STD(sales.item_cnt_day)  MAX(sales.item_price)  \\\n",
       "0                    NaN                      NaN                  315.0   \n",
       "1                    NaN                      NaN                  295.0   \n",
       "2               7.516545                      0.0                  145.0   \n",
       "3                    NaN                      NaN                  145.0   \n",
       "4                    NaN                      NaN                  265.0   \n",
       "\n",
       "   MAX(sales.item_cnt_day)  SKEW(sales.item_price)  SKEW(sales.item_cnt_day)  \\\n",
       "0                      1.0                     NaN                       NaN   \n",
       "1                      1.0                     NaN                       NaN   \n",
       "2                      1.0                     NaN                       NaN   \n",
       "3                      1.0                     NaN                       NaN   \n",
       "4                      1.0                     NaN                       NaN   \n",
       "\n",
       "   MIN(sales.item_price)  MIN(sales.item_cnt_day)  MEAN(sales.item_price)  \\\n",
       "0                 315.00                      1.0                 315.000   \n",
       "1                 295.00                      1.0                 295.000   \n",
       "2                 134.37                      1.0                 139.685   \n",
       "3                 145.00                      1.0                 145.000   \n",
       "4                 265.00                      1.0                 265.000   \n",
       "\n",
       "   MEAN(sales.item_cnt_day)  COUNT(sales)  \n",
       "0                       1.0             1  \n",
       "1                       1.0             1  \n",
       "2                       1.0             2  \n",
       "3                       1.0             1  \n",
       "4                       1.0             1  "
      ]
     },
     "execution_count": 24,
     "metadata": {},
     "output_type": "execute_result"
    }
   ],
   "source": [
    "ids.head()"
   ]
  },
  {
   "cell_type": "code",
   "execution_count": 25,
   "metadata": {},
   "outputs": [
    {
     "data": {
      "text/plain": [
       "(65588, 15)"
      ]
     },
     "execution_count": 25,
     "metadata": {},
     "output_type": "execute_result"
    }
   ],
   "source": [
    "ids.shape"
   ]
  },
  {
   "cell_type": "code",
   "execution_count": 26,
   "metadata": {},
   "outputs": [
    {
     "data": {
      "text/plain": [
       "65588"
      ]
     },
     "execution_count": 26,
     "metadata": {},
     "output_type": "execute_result"
    }
   ],
   "source": [
    "ids['ID_pair'].nunique()"
   ]
  },
  {
   "cell_type": "markdown",
   "metadata": {},
   "source": [
    "### Join of the 3 previous tables  for evaluation"
   ]
  },
  {
   "cell_type": "code",
   "execution_count": 64,
   "metadata": {},
   "outputs": [],
   "source": [
    "def joinEvaluationThreeParts(test, ids, idsCat):\n",
    "    df = test.merge(right=ids,on='ID_pair',how='left')\n",
    "    \n",
    "    # Adapting ID_CAT_pair\n",
    "    df.drop(labels=['ID_CAT_pair_y'], inplace=True, axis=1)\n",
    "    columns = np.array(df.columns)\n",
    "    columns[5]='ID_CAT_pair'\n",
    "    df.columns = columns\n",
    "    \n",
    "    df_completed = df.merge(right=idsCat,on='ID_CAT_pair',how='left')\n",
    "    \n",
    "    df_completed_sorted = df_completed[['ID_pair','SUM(sales.item_price)','SUM(sales.item_cnt_day)','STD(sales.item_price)','STD(sales.item_cnt_day)','MAX(sales.item_price)','MAX(sales.item_cnt_day)','SKEW(sales.item_price)','SKEW(sales.item_cnt_day)','MIN(sales.item_price)','MIN(sales.item_cnt_day)','MEAN(sales.item_price)','MEAN(sales.item_cnt_day)','COUNT(sales)','sum_shop_cat_sales','mean_shop_cat_day','mean_shop_cat_item_price','std_shop_cat_day','std_shop_cat_item_price','max_shop_cat_day','max_shop_cat_item_price','min_shop_cat_day','min_shop_cat_item_price','skew_shop_cat_day','skew_shop_cat_item_price','ID_CAT_pair']]\n",
    "    df_completed_sorted.drop(labels=['ID_CAT_pair'], inplace=True, axis=1)\n",
    "    return df_completed_sorted"
   ]
  },
  {
   "cell_type": "code",
   "execution_count": 72,
   "metadata": {},
   "outputs": [],
   "source": [
    "joinTest = joinEvaluationThreeParts(test_df_enriched, ids, idsCat)"
   ]
  },
  {
   "cell_type": "code",
   "execution_count": 73,
   "metadata": {},
   "outputs": [
    {
     "data": {
      "text/html": [
       "<div>\n",
       "<style scoped>\n",
       "    .dataframe tbody tr th:only-of-type {\n",
       "        vertical-align: middle;\n",
       "    }\n",
       "\n",
       "    .dataframe tbody tr th {\n",
       "        vertical-align: top;\n",
       "    }\n",
       "\n",
       "    .dataframe thead th {\n",
       "        text-align: right;\n",
       "    }\n",
       "</style>\n",
       "<table border=\"1\" class=\"dataframe\">\n",
       "  <thead>\n",
       "    <tr style=\"text-align: right;\">\n",
       "      <th></th>\n",
       "      <th>ID_pair</th>\n",
       "      <th>SUM(sales.item_price)</th>\n",
       "      <th>SUM(sales.item_cnt_day)</th>\n",
       "      <th>STD(sales.item_price)</th>\n",
       "      <th>STD(sales.item_cnt_day)</th>\n",
       "      <th>MAX(sales.item_price)</th>\n",
       "      <th>MAX(sales.item_cnt_day)</th>\n",
       "      <th>SKEW(sales.item_price)</th>\n",
       "      <th>SKEW(sales.item_cnt_day)</th>\n",
       "      <th>MIN(sales.item_price)</th>\n",
       "      <th>...</th>\n",
       "      <th>mean_shop_cat_day</th>\n",
       "      <th>mean_shop_cat_item_price</th>\n",
       "      <th>std_shop_cat_day</th>\n",
       "      <th>std_shop_cat_item_price</th>\n",
       "      <th>max_shop_cat_day</th>\n",
       "      <th>max_shop_cat_item_price</th>\n",
       "      <th>min_shop_cat_day</th>\n",
       "      <th>min_shop_cat_item_price</th>\n",
       "      <th>skew_shop_cat_day</th>\n",
       "      <th>skew_shop_cat_item_price</th>\n",
       "    </tr>\n",
       "  </thead>\n",
       "  <tbody>\n",
       "    <tr>\n",
       "      <th>0</th>\n",
       "      <td>5-5037</td>\n",
       "      <td>5246.0</td>\n",
       "      <td>5.0</td>\n",
       "      <td>410.609395</td>\n",
       "      <td>0.0</td>\n",
       "      <td>1499.0</td>\n",
       "      <td>1.0</td>\n",
       "      <td>0.608579</td>\n",
       "      <td>0.0</td>\n",
       "      <td>749.0</td>\n",
       "      <td>...</td>\n",
       "      <td>1.095070</td>\n",
       "      <td>1305.676862</td>\n",
       "      <td>0.539706</td>\n",
       "      <td>712.697606</td>\n",
       "      <td>9.0</td>\n",
       "      <td>3999.0</td>\n",
       "      <td>1.0</td>\n",
       "      <td>248.0</td>\n",
       "      <td>11.618093</td>\n",
       "      <td>1.239153</td>\n",
       "    </tr>\n",
       "    <tr>\n",
       "      <th>1</th>\n",
       "      <td>5-5320</td>\n",
       "      <td>NaN</td>\n",
       "      <td>NaN</td>\n",
       "      <td>NaN</td>\n",
       "      <td>NaN</td>\n",
       "      <td>NaN</td>\n",
       "      <td>NaN</td>\n",
       "      <td>NaN</td>\n",
       "      <td>NaN</td>\n",
       "      <td>NaN</td>\n",
       "      <td>...</td>\n",
       "      <td>1.002941</td>\n",
       "      <td>299.982353</td>\n",
       "      <td>0.054233</td>\n",
       "      <td>100.243331</td>\n",
       "      <td>2.0</td>\n",
       "      <td>749.0</td>\n",
       "      <td>1.0</td>\n",
       "      <td>28.0</td>\n",
       "      <td>18.439089</td>\n",
       "      <td>1.326220</td>\n",
       "    </tr>\n",
       "    <tr>\n",
       "      <th>2</th>\n",
       "      <td>5-5233</td>\n",
       "      <td>3596.0</td>\n",
       "      <td>4.0</td>\n",
       "      <td>346.410162</td>\n",
       "      <td>0.0</td>\n",
       "      <td>1199.0</td>\n",
       "      <td>1.0</td>\n",
       "      <td>0.000000</td>\n",
       "      <td>0.0</td>\n",
       "      <td>599.0</td>\n",
       "      <td>...</td>\n",
       "      <td>1.095070</td>\n",
       "      <td>1305.676862</td>\n",
       "      <td>0.539706</td>\n",
       "      <td>712.697606</td>\n",
       "      <td>9.0</td>\n",
       "      <td>3999.0</td>\n",
       "      <td>1.0</td>\n",
       "      <td>248.0</td>\n",
       "      <td>11.618093</td>\n",
       "      <td>1.239153</td>\n",
       "    </tr>\n",
       "    <tr>\n",
       "      <th>3</th>\n",
       "      <td>5-5232</td>\n",
       "      <td>599.0</td>\n",
       "      <td>1.0</td>\n",
       "      <td>NaN</td>\n",
       "      <td>NaN</td>\n",
       "      <td>599.0</td>\n",
       "      <td>1.0</td>\n",
       "      <td>NaN</td>\n",
       "      <td>NaN</td>\n",
       "      <td>599.0</td>\n",
       "      <td>...</td>\n",
       "      <td>1.089385</td>\n",
       "      <td>1326.955559</td>\n",
       "      <td>0.427758</td>\n",
       "      <td>723.512939</td>\n",
       "      <td>5.0</td>\n",
       "      <td>3999.0</td>\n",
       "      <td>1.0</td>\n",
       "      <td>298.0</td>\n",
       "      <td>6.615576</td>\n",
       "      <td>1.291817</td>\n",
       "    </tr>\n",
       "    <tr>\n",
       "      <th>4</th>\n",
       "      <td>5-5268</td>\n",
       "      <td>NaN</td>\n",
       "      <td>NaN</td>\n",
       "      <td>NaN</td>\n",
       "      <td>NaN</td>\n",
       "      <td>NaN</td>\n",
       "      <td>NaN</td>\n",
       "      <td>NaN</td>\n",
       "      <td>NaN</td>\n",
       "      <td>NaN</td>\n",
       "      <td>...</td>\n",
       "      <td>1.210000</td>\n",
       "      <td>2511.301725</td>\n",
       "      <td>1.114500</td>\n",
       "      <td>1372.620776</td>\n",
       "      <td>14.0</td>\n",
       "      <td>9999.0</td>\n",
       "      <td>-1.0</td>\n",
       "      <td>299.0</td>\n",
       "      <td>8.684221</td>\n",
       "      <td>1.110642</td>\n",
       "    </tr>\n",
       "  </tbody>\n",
       "</table>\n",
       "<p>5 rows × 25 columns</p>\n",
       "</div>"
      ],
      "text/plain": [
       "  ID_pair  SUM(sales.item_price)  SUM(sales.item_cnt_day)  \\\n",
       "0  5-5037                 5246.0                      5.0   \n",
       "1  5-5320                    NaN                      NaN   \n",
       "2  5-5233                 3596.0                      4.0   \n",
       "3  5-5232                  599.0                      1.0   \n",
       "4  5-5268                    NaN                      NaN   \n",
       "\n",
       "   STD(sales.item_price)  STD(sales.item_cnt_day)  MAX(sales.item_price)  \\\n",
       "0             410.609395                      0.0                 1499.0   \n",
       "1                    NaN                      NaN                    NaN   \n",
       "2             346.410162                      0.0                 1199.0   \n",
       "3                    NaN                      NaN                  599.0   \n",
       "4                    NaN                      NaN                    NaN   \n",
       "\n",
       "   MAX(sales.item_cnt_day)  SKEW(sales.item_price)  SKEW(sales.item_cnt_day)  \\\n",
       "0                      1.0                0.608579                       0.0   \n",
       "1                      NaN                     NaN                       NaN   \n",
       "2                      1.0                0.000000                       0.0   \n",
       "3                      1.0                     NaN                       NaN   \n",
       "4                      NaN                     NaN                       NaN   \n",
       "\n",
       "   MIN(sales.item_price)  ...  mean_shop_cat_day  mean_shop_cat_item_price  \\\n",
       "0                  749.0  ...           1.095070               1305.676862   \n",
       "1                    NaN  ...           1.002941                299.982353   \n",
       "2                  599.0  ...           1.095070               1305.676862   \n",
       "3                  599.0  ...           1.089385               1326.955559   \n",
       "4                    NaN  ...           1.210000               2511.301725   \n",
       "\n",
       "   std_shop_cat_day  std_shop_cat_item_price  max_shop_cat_day  \\\n",
       "0          0.539706               712.697606               9.0   \n",
       "1          0.054233               100.243331               2.0   \n",
       "2          0.539706               712.697606               9.0   \n",
       "3          0.427758               723.512939               5.0   \n",
       "4          1.114500              1372.620776              14.0   \n",
       "\n",
       "   max_shop_cat_item_price  min_shop_cat_day  min_shop_cat_item_price  \\\n",
       "0                   3999.0               1.0                    248.0   \n",
       "1                    749.0               1.0                     28.0   \n",
       "2                   3999.0               1.0                    248.0   \n",
       "3                   3999.0               1.0                    298.0   \n",
       "4                   9999.0              -1.0                    299.0   \n",
       "\n",
       "   skew_shop_cat_day  skew_shop_cat_item_price  \n",
       "0          11.618093                  1.239153  \n",
       "1          18.439089                  1.326220  \n",
       "2          11.618093                  1.239153  \n",
       "3           6.615576                  1.291817  \n",
       "4           8.684221                  1.110642  \n",
       "\n",
       "[5 rows x 25 columns]"
      ]
     },
     "execution_count": 73,
     "metadata": {},
     "output_type": "execute_result"
    }
   ],
   "source": [
    "joinTest.head()"
   ]
  },
  {
   "cell_type": "markdown",
   "metadata": {},
   "source": [
    "# Generating the DataSet "
   ]
  },
  {
   "cell_type": "code",
   "execution_count": 77,
   "metadata": {},
   "outputs": [],
   "source": [
    "slots = sales_df['date_block_num'].nunique()"
   ]
  },
  {
   "cell_type": "code",
   "execution_count": 80,
   "metadata": {},
   "outputs": [],
   "source": [
    "slot_seq = np.arange(1,slots)"
   ]
  },
  {
   "cell_type": "code",
   "execution_count": 76,
   "metadata": {},
   "outputs": [],
   "source": [
    "def generateFeaturesForEvaluation(sales_df, months_feature, test_df):\n",
    "    print('evaluation features window:',months_feature)\n",
    "    sales_months_df = sales_df[sales_df['date_block_num'].isin(months_feature)]\n",
    "    sales_months_df.drop(labels=['date_block_num','shop_id','item_id','item_category_id'], inplace=True, axis=1)\n",
    "    \n",
    "    idsCat = getCatAgg(sales_months_df)\n",
    "    ids = getItemAgg(sales_months_df)\n",
    "    \n",
    "    joined = joinEvaluationThreeParts(test_df, ids, idsCat)\n",
    "    \n",
    "    # Insert the slot component for correlation purposes\n",
    "    joined['slot'] = joined['COUNT(sales)'].apply(lambda x: months_feature[-1])\n",
    "    return joined"
   ]
  },
  {
   "cell_type": "markdown",
   "metadata": {},
   "source": [
    "# Ensemble/Stacking Evaluation Processing"
   ]
  },
  {
   "cell_type": "markdown",
   "metadata": {},
   "source": [
    "### Dataset Test"
   ]
  },
  {
   "cell_type": "code",
   "execution_count": 85,
   "metadata": {},
   "outputs": [
    {
     "name": "stdout",
     "output_type": "stream",
     "text": [
      "evaluation features window: [31 32 33]\n"
     ]
    }
   ],
   "source": [
    "dstest = generateFeaturesForEvaluation(sales_df, slot_seq[-3:], test_df_enriched)"
   ]
  },
  {
   "cell_type": "code",
   "execution_count": 86,
   "metadata": {},
   "outputs": [
    {
     "data": {
      "text/plain": [
       "<matplotlib.axes._subplots.AxesSubplot at 0x1a1b3b3e48>"
      ]
     },
     "execution_count": 86,
     "metadata": {},
     "output_type": "execute_result"
    },
    {
     "data": {
      "image/png": "[encoded data removed]",
      "text/plain": [
       "<Figure size 432x288 with 2 Axes>"
      ]
     },
     "metadata": {
      "needs_background": "light"
     },
     "output_type": "display_data"
    }
   ],
   "source": [
    "sns.heatmap(~dstest.isna())"
   ]
  },
  {
   "cell_type": "markdown",
   "metadata": {},
   "source": [
    "## Ensemble Processing"
   ]
  },
  {
   "cell_type": "code",
   "execution_count": 88,
   "metadata": {},
   "outputs": [],
   "source": [
    "windows = [3,6,12,18,25,32]"
   ]
  },
  {
   "cell_type": "code",
   "execution_count": 96,
   "metadata": {},
   "outputs": [],
   "source": [
    "def processFold(i):\n",
    "    months = slot_seq[-windows[i-1]:]\n",
    "    fold_df = generateFeaturesForEvaluation(sales_df, months, test_df_enriched)\n",
    "    \n",
    "    #sns.heatmap(~fold_df.isna())\n",
    "    # TODO cleaning and imputing data\n",
    "    \n",
    "    # TODO Prediction in model fold[index]\n",
    "        \n",
    "    return "
   ]
  },
  {
   "cell_type": "markdown",
   "metadata": {},
   "source": [
    "### Fold 1"
   ]
  },
  {
   "cell_type": "code",
   "execution_count": 97,
   "metadata": {},
   "outputs": [
    {
     "name": "stdout",
     "output_type": "stream",
     "text": [
      "evaluation features window: [31 32 33]\n"
     ]
    },
    {
     "data": {
      "image/png": "[encoded data removed]",
      "text/plain": [
       "<Figure size 432x288 with 2 Axes>"
      ]
     },
     "metadata": {
      "needs_background": "light"
     },
     "output_type": "display_data"
    }
   ],
   "source": [
    "result1 = processFold(1)"
   ]
  },
  {
   "cell_type": "markdown",
   "metadata": {},
   "source": [
    "### Fold 2"
   ]
  },
  {
   "cell_type": "code",
   "execution_count": 98,
   "metadata": {},
   "outputs": [
    {
     "name": "stdout",
     "output_type": "stream",
     "text": [
      "evaluation features window: [28 29 30 31 32 33]\n"
     ]
    },
    {
     "data": {
      "image/png": "[encoded data removed]",
      "text/plain": [
       "<Figure size 432x288 with 2 Axes>"
      ]
     },
     "metadata": {
      "needs_background": "light"
     },
     "output_type": "display_data"
    }
   ],
   "source": [
    "result2 = processFold(2)"
   ]
  },
  {
   "cell_type": "markdown",
   "metadata": {},
   "source": [
    "### Fold 3"
   ]
  },
  {
   "cell_type": "code",
   "execution_count": 99,
   "metadata": {},
   "outputs": [
    {
     "name": "stdout",
     "output_type": "stream",
     "text": [
      "evaluation features window: [22 23 24 25 26 27 28 29 30 31 32 33]\n"
     ]
    },
    {
     "data": {
      "image/png": "[encoded data removed]",
      "text/plain": [
       "<Figure size 432x288 with 2 Axes>"
      ]
     },
     "metadata": {
      "needs_background": "light"
     },
     "output_type": "display_data"
    }
   ],
   "source": [
    "result3 = processFold(3)"
   ]
  },
  {
   "cell_type": "markdown",
   "metadata": {},
   "source": [
    "### Fold 4"
   ]
  },
  {
   "cell_type": "code",
   "execution_count": 100,
   "metadata": {},
   "outputs": [
    {
     "name": "stdout",
     "output_type": "stream",
     "text": [
      "evaluation features window: [16 17 18 19 20 21 22 23 24 25 26 27 28 29 30 31 32 33]\n"
     ]
    },
    {
     "data": {
      "image/png": "[encoded data removed]",
      "text/plain": [
       "<Figure size 432x288 with 2 Axes>"
      ]
     },
     "metadata": {
      "needs_background": "light"
     },
     "output_type": "display_data"
    }
   ],
   "source": [
    "result4 = processFold(4)"
   ]
  },
  {
   "cell_type": "markdown",
   "metadata": {},
   "source": [
    "### Fold 5"
   ]
  },
  {
   "cell_type": "code",
   "execution_count": 101,
   "metadata": {},
   "outputs": [
    {
     "name": "stdout",
     "output_type": "stream",
     "text": [
      "evaluation features window: [ 9 10 11 12 13 14 15 16 17 18 19 20 21 22 23 24 25 26 27 28 29 30 31 32\n",
      " 33]\n"
     ]
    },
    {
     "data": {
      "image/png": "[encoded data removed]",
      "text/plain": [
       "<Figure size 432x288 with 2 Axes>"
      ]
     },
     "metadata": {
      "needs_background": "light"
     },
     "output_type": "display_data"
    }
   ],
   "source": [
    "result5 = processFold(5)"
   ]
  },
  {
   "cell_type": "markdown",
   "metadata": {},
   "source": [
    "### Fold 6"
   ]
  },
  {
   "cell_type": "code",
   "execution_count": 102,
   "metadata": {},
   "outputs": [
    {
     "name": "stdout",
     "output_type": "stream",
     "text": [
      "evaluation features window: [ 2  3  4  5  6  7  8  9 10 11 12 13 14 15 16 17 18 19 20 21 22 23 24 25\n",
      " 26 27 28 29 30 31 32 33]\n"
     ]
    },
    {
     "data": {
      "image/png": "[encoded data removed]",
      "text/plain": [
       "<Figure size 432x288 with 2 Axes>"
      ]
     },
     "metadata": {
      "needs_background": "light"
     },
     "output_type": "display_data"
    }
   ],
   "source": [
    "result6 = processFold(6)"
   ]
  },
  {
   "cell_type": "markdown",
   "metadata": {},
   "source": [
    "## Stacking Dataset "
   ]
  },
  {
   "cell_type": "code",
   "execution_count": null,
   "metadata": {},
   "outputs": [],
   "source": [
    "# TODO"
   ]
  },
  {
   "cell_type": "markdown",
   "metadata": {},
   "source": [
    "# End of Case! "
   ]
  },
  {
   "cell_type": "code",
   "execution_count": null,
   "metadata": {},
   "outputs": [],
   "source": []
  }
 ],
 "metadata": {
  "kernelspec": {
   "display_name": "Python 3",
   "language": "python",
   "name": "python3"
  },
  "language_info": {
   "codemirror_mode": {
    "name": "ipython",
    "version": 3
   },
   "file_extension": ".py",
   "mimetype": "text/x-python",
   "name": "python",
   "nbconvert_exporter": "python",
   "pygments_lexer": "ipython3",
   "version": "3.6.3"
  }
 },
 "nbformat": 4,
 "nbformat_minor": 2
}
